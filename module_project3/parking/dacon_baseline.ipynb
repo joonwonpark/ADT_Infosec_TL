{
 "cells": [
  {
   "cell_type": "code",
   "execution_count": 1,
   "id": "22aa6ee0-2e86-45d7-a6ae-51bcf7a989eb",
   "metadata": {},
   "outputs": [],
   "source": [
    "import pandas as pd\n",
    "import numpy as np\n",
    "from sklearn.ensemble import RandomForestRegressor\n",
    "from tqdm import tqdm\n",
    "import warnings\n",
    "\n",
    "warnings.filterwarnings(action='ignore')"
   ]
  },
  {
   "cell_type": "code",
   "execution_count": 2,
   "id": "f58491ab-2123-4f83-8d60-4d41db5362cd",
   "metadata": {},
   "outputs": [],
   "source": [
    "train = pd.read_csv('./data/train.csv')\n",
    "test = pd.read_csv('./data/test.csv')\n",
    "age_gender_info = pd.read_csv('./data/age_gender_info.csv')\n",
    "submission = pd.read_csv('./data/sample_submission.csv')"
   ]
  },
  {
   "cell_type": "markdown",
   "id": "3d1d516c-7dbc-4e1d-a3d3-1fc7a5a8ba8d",
   "metadata": {},
   "source": [
    "## 컬럼명 변경"
   ]
  },
  {
   "cell_type": "code",
   "execution_count": 3,
   "id": "518f956e-6fa9-43b9-9d44-97f3e8569800",
   "metadata": {},
   "outputs": [],
   "source": [
    "train.columns = ['단지코드', '총세대수', '임대건물구분', '지역', '공급유형', '전용면적', '전용면적별세대수', '공가수', '신분',\n",
    "                 '임대보증금', '임대료', '지하철', '버스', '단지내주차면수', '등록차량수']\n",
    "\n",
    "test.columns = ['단지코드', '총세대수', '임대건물구분', '지역', '공급유형', '전용면적', '전용면적별세대수', '공가수', '신분',\n",
    "                '임대보증금', '임대료', '지하철', '버스', '단지내주차면수']"
   ]
  },
  {
   "cell_type": "markdown",
   "id": "2327f006-e7df-4377-902e-b7922872fcb5",
   "metadata": {},
   "source": [
    "## 지역명 숫자로 매핑"
   ]
  },
  {
   "cell_type": "code",
   "execution_count": 4,
   "id": "bd0a8e8e-e8ea-4d53-80e1-2b59544fc894",
   "metadata": {},
   "outputs": [],
   "source": [
    "local_map = {}\n",
    "for i, loc in enumerate(train['지역'].unique()):\n",
    "    local_map[loc] = i"
   ]
  },
  {
   "cell_type": "code",
   "execution_count": 5,
   "id": "9c76de05-4292-4efe-bd48-6c0d14c7e513",
   "metadata": {},
   "outputs": [],
   "source": [
    "train['지역'] = train['지역'].map(local_map)\n",
    "test['지역'] = test['지역'].map(local_map)"
   ]
  },
  {
   "cell_type": "code",
   "execution_count": 6,
   "id": "fabed6bf-a736-44ea-bcdc-f295ee421273",
   "metadata": {},
   "outputs": [],
   "source": [
    "train['전용면적'] = train['전용면적']//5*5\n",
    "test['전용면적'] = test['전용면적']//5*5"
   ]
  },
  {
   "cell_type": "markdown",
   "id": "daae8273-19f8-4de2-8f50-7bac71ef9b30",
   "metadata": {},
   "source": [
    "## 전용면적을 5의 배수로 변경"
   ]
  },
  {
   "cell_type": "code",
   "execution_count": 7,
   "id": "f3b31780-4781-473a-a74f-fffeea427244",
   "metadata": {},
   "outputs": [],
   "source": [
    "idx = train[train['전용면적'] > 100].index\n",
    "train.loc[idx, '전용면적'] = 100\n",
    "idx = test[test['전용면적'] > 100].index\n",
    "test.loc[idx, '전용면적'] = 100\n",
    "\n",
    "idx = train[train['전용면적'] < 15].index\n",
    "train.loc[idx, '전용면적'] = 15\n",
    "idx = test[test['전용면적'] < 15].index\n",
    "test.loc[idx, '전용면적'] = 15"
   ]
  },
  {
   "cell_type": "markdown",
   "id": "eef126da-67b5-49ba-9aec-d994969c1374",
   "metadata": {},
   "source": [
    "## 단지별 데이터 1차원으로 취합"
   ]
  },
  {
   "cell_type": "code",
   "execution_count": 8,
   "id": "c9a81c96-6a12-42b7-b430-f7a69fa43d11",
   "metadata": {},
   "outputs": [],
   "source": [
    "columns = ['단지코드', '총세대수', '공가수', '지역', '단지내주차면수', '지하철', '버스']\n",
    "target = '등록차량수'\n",
    "area_columns = []\n",
    "for area in train['전용면적'].unique():\n",
    "    area_columns.append(f'면적_{area}')"
   ]
  },
  {
   "cell_type": "code",
   "execution_count": 9,
   "id": "9fdf7edf-4615-4b31-9728-312eee0f4ea9",
   "metadata": {},
   "outputs": [],
   "source": [
    "new_train = pd.DataFrame()\n",
    "new_test = pd.DataFrame()"
   ]
  },
  {
   "cell_type": "code",
   "execution_count": 10,
   "id": "226a3821-794f-4a72-81df-f3a497d23640",
   "metadata": {},
   "outputs": [
    {
     "name": "stderr",
     "output_type": "stream",
     "text": [
      "423it [00:06, 62.78it/s]\n",
      "150it [00:02, 65.68it/s]\n"
     ]
    }
   ],
   "source": [
    "for i, code in tqdm(enumerate(train['단지코드'].unique())):\n",
    "    temp = train[train['단지코드']==code]\n",
    "    temp.index = range(temp.shape[0])\n",
    "    for col in columns:\n",
    "        new_train.loc[i, col] = temp.loc[0, col]\n",
    "    \n",
    "    for col in area_columns:\n",
    "        area = float(col.split('_')[-1])\n",
    "        new_train.loc[i, col] = temp[temp['전용면적']==area]['전용면적별세대수'].sum()\n",
    "    \n",
    "    new_train.loc[i, '등록차량수'] = temp.loc[0, '등록차량수']\n",
    "    \n",
    "for i, code in tqdm(enumerate(test['단지코드'].unique())):\n",
    "    temp = test[test['단지코드']==code]\n",
    "    temp.index = range(temp.shape[0])\n",
    "    for col in columns:\n",
    "        new_test.loc[i, col] = temp.loc[0, col]\n",
    "    \n",
    "    for col in area_columns:\n",
    "        area = float(col.split('_')[-1])\n",
    "        new_test.loc[i, col] = temp[temp['전용면적']==area]['전용면적별세대수'].sum()"
   ]
  },
  {
   "cell_type": "code",
   "execution_count": 11,
   "id": "4cbad923-06f3-4511-9d59-5be40e23ee76",
   "metadata": {},
   "outputs": [
    {
     "data": {
      "text/html": [
       "<div>\n",
       "<style scoped>\n",
       "    .dataframe tbody tr th:only-of-type {\n",
       "        vertical-align: middle;\n",
       "    }\n",
       "\n",
       "    .dataframe tbody tr th {\n",
       "        vertical-align: top;\n",
       "    }\n",
       "\n",
       "    .dataframe thead th {\n",
       "        text-align: right;\n",
       "    }\n",
       "</style>\n",
       "<table border=\"1\" class=\"dataframe\">\n",
       "  <thead>\n",
       "    <tr style=\"text-align: right;\">\n",
       "      <th></th>\n",
       "      <th>단지코드</th>\n",
       "      <th>총세대수</th>\n",
       "      <th>공가수</th>\n",
       "      <th>지역</th>\n",
       "      <th>단지내주차면수</th>\n",
       "      <th>지하철</th>\n",
       "      <th>버스</th>\n",
       "      <th>면적_35.0</th>\n",
       "      <th>면적_50.0</th>\n",
       "      <th>면적_55.0</th>\n",
       "      <th>...</th>\n",
       "      <th>면적_25.0</th>\n",
       "      <th>면적_70.0</th>\n",
       "      <th>면적_15.0</th>\n",
       "      <th>면적_20.0</th>\n",
       "      <th>면적_100.0</th>\n",
       "      <th>면적_60.0</th>\n",
       "      <th>면적_75.0</th>\n",
       "      <th>면적_80.0</th>\n",
       "      <th>면적_65.0</th>\n",
       "      <th>등록차량수</th>\n",
       "    </tr>\n",
       "  </thead>\n",
       "  <tbody>\n",
       "    <tr>\n",
       "      <th>0</th>\n",
       "      <td>C2483</td>\n",
       "      <td>900.0</td>\n",
       "      <td>38.0</td>\n",
       "      <td>0.0</td>\n",
       "      <td>1425.0</td>\n",
       "      <td>0.0</td>\n",
       "      <td>3.0</td>\n",
       "      <td>149.0</td>\n",
       "      <td>665.0</td>\n",
       "      <td>86.0</td>\n",
       "      <td>...</td>\n",
       "      <td>0.0</td>\n",
       "      <td>0.0</td>\n",
       "      <td>0.0</td>\n",
       "      <td>0.0</td>\n",
       "      <td>0.0</td>\n",
       "      <td>0.0</td>\n",
       "      <td>0.0</td>\n",
       "      <td>0.0</td>\n",
       "      <td>0.0</td>\n",
       "      <td>1015.0</td>\n",
       "    </tr>\n",
       "    <tr>\n",
       "      <th>1</th>\n",
       "      <td>C2515</td>\n",
       "      <td>545.0</td>\n",
       "      <td>17.0</td>\n",
       "      <td>1.0</td>\n",
       "      <td>624.0</td>\n",
       "      <td>0.0</td>\n",
       "      <td>3.0</td>\n",
       "      <td>80.0</td>\n",
       "      <td>132.0</td>\n",
       "      <td>0.0</td>\n",
       "      <td>...</td>\n",
       "      <td>0.0</td>\n",
       "      <td>0.0</td>\n",
       "      <td>0.0</td>\n",
       "      <td>0.0</td>\n",
       "      <td>0.0</td>\n",
       "      <td>0.0</td>\n",
       "      <td>0.0</td>\n",
       "      <td>0.0</td>\n",
       "      <td>0.0</td>\n",
       "      <td>205.0</td>\n",
       "    </tr>\n",
       "    <tr>\n",
       "      <th>2</th>\n",
       "      <td>C1407</td>\n",
       "      <td>1216.0</td>\n",
       "      <td>13.0</td>\n",
       "      <td>2.0</td>\n",
       "      <td>1285.0</td>\n",
       "      <td>1.0</td>\n",
       "      <td>1.0</td>\n",
       "      <td>0.0</td>\n",
       "      <td>124.0</td>\n",
       "      <td>0.0</td>\n",
       "      <td>...</td>\n",
       "      <td>0.0</td>\n",
       "      <td>0.0</td>\n",
       "      <td>0.0</td>\n",
       "      <td>0.0</td>\n",
       "      <td>0.0</td>\n",
       "      <td>0.0</td>\n",
       "      <td>0.0</td>\n",
       "      <td>0.0</td>\n",
       "      <td>0.0</td>\n",
       "      <td>1064.0</td>\n",
       "    </tr>\n",
       "    <tr>\n",
       "      <th>3</th>\n",
       "      <td>C1945</td>\n",
       "      <td>755.0</td>\n",
       "      <td>6.0</td>\n",
       "      <td>3.0</td>\n",
       "      <td>734.0</td>\n",
       "      <td>1.0</td>\n",
       "      <td>3.0</td>\n",
       "      <td>240.0</td>\n",
       "      <td>303.0</td>\n",
       "      <td>212.0</td>\n",
       "      <td>...</td>\n",
       "      <td>0.0</td>\n",
       "      <td>0.0</td>\n",
       "      <td>0.0</td>\n",
       "      <td>0.0</td>\n",
       "      <td>0.0</td>\n",
       "      <td>0.0</td>\n",
       "      <td>0.0</td>\n",
       "      <td>0.0</td>\n",
       "      <td>0.0</td>\n",
       "      <td>730.0</td>\n",
       "    </tr>\n",
       "    <tr>\n",
       "      <th>4</th>\n",
       "      <td>C1470</td>\n",
       "      <td>696.0</td>\n",
       "      <td>14.0</td>\n",
       "      <td>4.0</td>\n",
       "      <td>645.0</td>\n",
       "      <td>0.0</td>\n",
       "      <td>2.0</td>\n",
       "      <td>254.0</td>\n",
       "      <td>246.0</td>\n",
       "      <td>0.0</td>\n",
       "      <td>...</td>\n",
       "      <td>0.0</td>\n",
       "      <td>0.0</td>\n",
       "      <td>0.0</td>\n",
       "      <td>0.0</td>\n",
       "      <td>0.0</td>\n",
       "      <td>0.0</td>\n",
       "      <td>0.0</td>\n",
       "      <td>0.0</td>\n",
       "      <td>0.0</td>\n",
       "      <td>553.0</td>\n",
       "    </tr>\n",
       "    <tr>\n",
       "      <th>...</th>\n",
       "      <td>...</td>\n",
       "      <td>...</td>\n",
       "      <td>...</td>\n",
       "      <td>...</td>\n",
       "      <td>...</td>\n",
       "      <td>...</td>\n",
       "      <td>...</td>\n",
       "      <td>...</td>\n",
       "      <td>...</td>\n",
       "      <td>...</td>\n",
       "      <td>...</td>\n",
       "      <td>...</td>\n",
       "      <td>...</td>\n",
       "      <td>...</td>\n",
       "      <td>...</td>\n",
       "      <td>...</td>\n",
       "      <td>...</td>\n",
       "      <td>...</td>\n",
       "      <td>...</td>\n",
       "      <td>...</td>\n",
       "      <td>...</td>\n",
       "    </tr>\n",
       "    <tr>\n",
       "      <th>418</th>\n",
       "      <td>C2586</td>\n",
       "      <td>90.0</td>\n",
       "      <td>7.0</td>\n",
       "      <td>9.0</td>\n",
       "      <td>66.0</td>\n",
       "      <td>0.0</td>\n",
       "      <td>3.0</td>\n",
       "      <td>36.0</td>\n",
       "      <td>0.0</td>\n",
       "      <td>0.0</td>\n",
       "      <td>...</td>\n",
       "      <td>42.0</td>\n",
       "      <td>0.0</td>\n",
       "      <td>12.0</td>\n",
       "      <td>0.0</td>\n",
       "      <td>0.0</td>\n",
       "      <td>0.0</td>\n",
       "      <td>0.0</td>\n",
       "      <td>0.0</td>\n",
       "      <td>0.0</td>\n",
       "      <td>57.0</td>\n",
       "    </tr>\n",
       "    <tr>\n",
       "      <th>419</th>\n",
       "      <td>C2035</td>\n",
       "      <td>492.0</td>\n",
       "      <td>24.0</td>\n",
       "      <td>5.0</td>\n",
       "      <td>521.0</td>\n",
       "      <td>0.0</td>\n",
       "      <td>1.0</td>\n",
       "      <td>156.0</td>\n",
       "      <td>0.0</td>\n",
       "      <td>0.0</td>\n",
       "      <td>...</td>\n",
       "      <td>156.0</td>\n",
       "      <td>0.0</td>\n",
       "      <td>0.0</td>\n",
       "      <td>0.0</td>\n",
       "      <td>0.0</td>\n",
       "      <td>0.0</td>\n",
       "      <td>0.0</td>\n",
       "      <td>0.0</td>\n",
       "      <td>0.0</td>\n",
       "      <td>246.0</td>\n",
       "    </tr>\n",
       "    <tr>\n",
       "      <th>420</th>\n",
       "      <td>C2020</td>\n",
       "      <td>40.0</td>\n",
       "      <td>7.0</td>\n",
       "      <td>8.0</td>\n",
       "      <td>25.0</td>\n",
       "      <td>1.0</td>\n",
       "      <td>2.0</td>\n",
       "      <td>15.0</td>\n",
       "      <td>0.0</td>\n",
       "      <td>0.0</td>\n",
       "      <td>...</td>\n",
       "      <td>5.0</td>\n",
       "      <td>0.0</td>\n",
       "      <td>20.0</td>\n",
       "      <td>0.0</td>\n",
       "      <td>0.0</td>\n",
       "      <td>0.0</td>\n",
       "      <td>0.0</td>\n",
       "      <td>0.0</td>\n",
       "      <td>0.0</td>\n",
       "      <td>19.0</td>\n",
       "    </tr>\n",
       "    <tr>\n",
       "      <th>421</th>\n",
       "      <td>C2437</td>\n",
       "      <td>90.0</td>\n",
       "      <td>12.0</td>\n",
       "      <td>11.0</td>\n",
       "      <td>30.0</td>\n",
       "      <td>0.0</td>\n",
       "      <td>1.0</td>\n",
       "      <td>0.0</td>\n",
       "      <td>0.0</td>\n",
       "      <td>0.0</td>\n",
       "      <td>...</td>\n",
       "      <td>0.0</td>\n",
       "      <td>0.0</td>\n",
       "      <td>0.0</td>\n",
       "      <td>90.0</td>\n",
       "      <td>0.0</td>\n",
       "      <td>0.0</td>\n",
       "      <td>0.0</td>\n",
       "      <td>0.0</td>\n",
       "      <td>0.0</td>\n",
       "      <td>16.0</td>\n",
       "    </tr>\n",
       "    <tr>\n",
       "      <th>422</th>\n",
       "      <td>C2532</td>\n",
       "      <td>239.0</td>\n",
       "      <td>7.0</td>\n",
       "      <td>5.0</td>\n",
       "      <td>166.0</td>\n",
       "      <td>0.0</td>\n",
       "      <td>1.0</td>\n",
       "      <td>0.0</td>\n",
       "      <td>201.0</td>\n",
       "      <td>0.0</td>\n",
       "      <td>...</td>\n",
       "      <td>0.0</td>\n",
       "      <td>0.0</td>\n",
       "      <td>0.0</td>\n",
       "      <td>0.0</td>\n",
       "      <td>0.0</td>\n",
       "      <td>0.0</td>\n",
       "      <td>0.0</td>\n",
       "      <td>0.0</td>\n",
       "      <td>0.0</td>\n",
       "      <td>146.0</td>\n",
       "    </tr>\n",
       "  </tbody>\n",
       "</table>\n",
       "<p>423 rows × 23 columns</p>\n",
       "</div>"
      ],
      "text/plain": [
       "      단지코드    총세대수   공가수    지역  단지내주차면수  지하철   버스  면적_35.0  면적_50.0  면적_55.0  \\\n",
       "0    C2483   900.0  38.0   0.0   1425.0  0.0  3.0    149.0    665.0     86.0   \n",
       "1    C2515   545.0  17.0   1.0    624.0  0.0  3.0     80.0    132.0      0.0   \n",
       "2    C1407  1216.0  13.0   2.0   1285.0  1.0  1.0      0.0    124.0      0.0   \n",
       "3    C1945   755.0   6.0   3.0    734.0  1.0  3.0    240.0    303.0    212.0   \n",
       "4    C1470   696.0  14.0   4.0    645.0  0.0  2.0    254.0    246.0      0.0   \n",
       "..     ...     ...   ...   ...      ...  ...  ...      ...      ...      ...   \n",
       "418  C2586    90.0   7.0   9.0     66.0  0.0  3.0     36.0      0.0      0.0   \n",
       "419  C2035   492.0  24.0   5.0    521.0  0.0  1.0    156.0      0.0      0.0   \n",
       "420  C2020    40.0   7.0   8.0     25.0  1.0  2.0     15.0      0.0      0.0   \n",
       "421  C2437    90.0  12.0  11.0     30.0  0.0  1.0      0.0      0.0      0.0   \n",
       "422  C2532   239.0   7.0   5.0    166.0  0.0  1.0      0.0    201.0      0.0   \n",
       "\n",
       "     ...  면적_25.0  면적_70.0  면적_15.0  면적_20.0  면적_100.0  면적_60.0  면적_75.0  \\\n",
       "0    ...      0.0      0.0      0.0      0.0       0.0      0.0      0.0   \n",
       "1    ...      0.0      0.0      0.0      0.0       0.0      0.0      0.0   \n",
       "2    ...      0.0      0.0      0.0      0.0       0.0      0.0      0.0   \n",
       "3    ...      0.0      0.0      0.0      0.0       0.0      0.0      0.0   \n",
       "4    ...      0.0      0.0      0.0      0.0       0.0      0.0      0.0   \n",
       "..   ...      ...      ...      ...      ...       ...      ...      ...   \n",
       "418  ...     42.0      0.0     12.0      0.0       0.0      0.0      0.0   \n",
       "419  ...    156.0      0.0      0.0      0.0       0.0      0.0      0.0   \n",
       "420  ...      5.0      0.0     20.0      0.0       0.0      0.0      0.0   \n",
       "421  ...      0.0      0.0      0.0     90.0       0.0      0.0      0.0   \n",
       "422  ...      0.0      0.0      0.0      0.0       0.0      0.0      0.0   \n",
       "\n",
       "     면적_80.0  면적_65.0   등록차량수  \n",
       "0        0.0      0.0  1015.0  \n",
       "1        0.0      0.0   205.0  \n",
       "2        0.0      0.0  1064.0  \n",
       "3        0.0      0.0   730.0  \n",
       "4        0.0      0.0   553.0  \n",
       "..       ...      ...     ...  \n",
       "418      0.0      0.0    57.0  \n",
       "419      0.0      0.0   246.0  \n",
       "420      0.0      0.0    19.0  \n",
       "421      0.0      0.0    16.0  \n",
       "422      0.0      0.0   146.0  \n",
       "\n",
       "[423 rows x 23 columns]"
      ]
     },
     "execution_count": 11,
     "metadata": {},
     "output_type": "execute_result"
    }
   ],
   "source": [
    "new_train"
   ]
  },
  {
   "cell_type": "markdown",
   "id": "b588de54-0b95-4176-9d4b-00d172274c2d",
   "metadata": {},
   "source": [
    "## 결측치 처리"
   ]
  },
  {
   "cell_type": "code",
   "execution_count": 12,
   "id": "4979b0af-d754-4736-9331-7b8d2270af36",
   "metadata": {},
   "outputs": [],
   "source": [
    "new_train = new_train.fillna(-1)\n",
    "new_test = new_test.fillna(-1)"
   ]
  },
  {
   "cell_type": "markdown",
   "id": "ab620917-7f03-4f51-a996-80c79aa2ce31",
   "metadata": {},
   "source": [
    "## 학습"
   ]
  },
  {
   "cell_type": "code",
   "execution_count": 13,
   "id": "f09ffc1e-0075-4eeb-a7fe-7138bc424296",
   "metadata": {},
   "outputs": [],
   "source": [
    "x_train = new_train.iloc[:, 1:-1]\n",
    "y_train = new_train.iloc[:,-1]\n",
    "x_test = new_test.iloc[:,1:]"
   ]
  },
  {
   "cell_type": "code",
   "execution_count": 14,
   "id": "6d1b58a2-200d-4fc0-a8fb-c8d42106c923",
   "metadata": {},
   "outputs": [],
   "source": [
    "model = RandomForestRegressor(n_jobs=-1, random_state=42)"
   ]
  },
  {
   "cell_type": "code",
   "execution_count": 15,
   "id": "cd8edf16-cc34-4512-bacc-e6ed3cc23abd",
   "metadata": {},
   "outputs": [
    {
     "data": {
      "text/plain": [
       "RandomForestRegressor(n_jobs=-1, random_state=42)"
      ]
     },
     "execution_count": 15,
     "metadata": {},
     "output_type": "execute_result"
    }
   ],
   "source": [
    "model.fit(x_train, y_train)"
   ]
  },
  {
   "cell_type": "markdown",
   "id": "16aff7a3-66da-475f-b821-d8b0586838c4",
   "metadata": {},
   "source": [
    "## 추론 및 제출"
   ]
  },
  {
   "cell_type": "code",
   "execution_count": 16,
   "id": "01c635e4-aca0-402e-b8a5-72893418cb61",
   "metadata": {},
   "outputs": [],
   "source": [
    "pred = model.predict(x_test)"
   ]
  },
  {
   "cell_type": "code",
   "execution_count": 17,
   "id": "4196790d-ff7e-4125-8cca-6484bcc52d59",
   "metadata": {},
   "outputs": [],
   "source": [
    "submission['num'] = pred"
   ]
  },
  {
   "cell_type": "code",
   "execution_count": 18,
   "id": "6d3e3c6a-f808-4deb-b00a-657b9c8a0ea0",
   "metadata": {},
   "outputs": [],
   "source": [
    "submission.to_csv('baseline.csv', index=False)"
   ]
  },
  {
   "cell_type": "markdown",
   "id": "c8204f28-3397-48bd-9cff-b8f912ac72d3",
   "metadata": {},
   "source": [
    "![image.png](data:image/png;base64,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)"
   ]
  },
  {
   "cell_type": "code",
   "execution_count": 21,
   "id": "bf393594-71e7-43f7-b808-15153f19ad5e",
   "metadata": {},
   "outputs": [],
   "source": [
    "from sklearn.metrics import mean_squared_error, mean_absolute_error"
   ]
  },
  {
   "cell_type": "code",
   "execution_count": 22,
   "id": "cf4082bc-5e42-44eb-8b79-ee103243523d",
   "metadata": {},
   "outputs": [],
   "source": [
    "pred = model.predict(x_train)"
   ]
  },
  {
   "cell_type": "code",
   "execution_count": 23,
   "id": "df190cbe-9e63-4b9f-88f7-1cd3b5a049da",
   "metadata": {},
   "outputs": [
    {
     "data": {
      "text/plain": [
       "47.79430260047281"
      ]
     },
     "execution_count": 23,
     "metadata": {},
     "output_type": "execute_result"
    }
   ],
   "source": [
    "mean_absolute_error(y_train, pred)"
   ]
  },
  {
   "cell_type": "code",
   "execution_count": null,
   "id": "121e2642-dae0-4571-91af-d6539767d5bb",
   "metadata": {},
   "outputs": [],
   "source": []
  }
 ],
 "metadata": {
  "kernelspec": {
   "display_name": "Python 3",
   "language": "python",
   "name": "python3"
  },
  "language_info": {
   "codemirror_mode": {
    "name": "ipython",
    "version": 3
   },
   "file_extension": ".py",
   "mimetype": "text/x-python",
   "name": "python",
   "nbconvert_exporter": "python",
   "pygments_lexer": "ipython3",
   "version": "3.6.13"
  }
 },
 "nbformat": 4,
 "nbformat_minor": 5
}
