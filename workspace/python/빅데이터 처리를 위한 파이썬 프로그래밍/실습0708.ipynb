{
 "cells": [
  {
   "cell_type": "code",
   "execution_count": 1,
   "id": "47bd4c88-85b0-4bb6-ad71-25450a52b6eb",
   "metadata": {},
   "outputs": [
    {
     "name": "stdout",
     "output_type": "stream",
     "text": [
      "0번째 반복문입니다.\n"
     ]
    },
    {
     "name": "stdin",
     "output_type": "stream",
     "text": [
      ">종료하시겠습니까?(y):  n\n"
     ]
    },
    {
     "name": "stdout",
     "output_type": "stream",
     "text": [
      "1번째 반복문입니다.\n"
     ]
    },
    {
     "name": "stdin",
     "output_type": "stream",
     "text": [
      ">종료하시겠습니까?(y):  n\n"
     ]
    },
    {
     "name": "stdout",
     "output_type": "stream",
     "text": [
      "2번째 반복문입니다.\n"
     ]
    },
    {
     "name": "stdin",
     "output_type": "stream",
     "text": [
      ">종료하시겠습니까?(y):  y\n"
     ]
    },
    {
     "name": "stdout",
     "output_type": "stream",
     "text": [
      "반복을 종료합니다.\n"
     ]
    }
   ],
   "source": [
    "i= 0\n",
    "\n",
    "while True:\n",
    "    print(\"{}번째 반복문입니다.\".format(i))\n",
    "    i += 1\n",
    "    \n",
    "    input_text = input(\">종료하시겠습니까?(y): \")\n",
    "    if input_text in [\"y\", \"Y\"]:\n",
    "        print(\"반복을 종료합니다.\")\n",
    "        break"
   ]
  },
  {
   "cell_type": "code",
   "execution_count": 2,
   "id": "345dcb4a-cc57-49a5-ae05-d9b7f1b8b151",
   "metadata": {},
   "outputs": [
    {
     "name": "stdout",
     "output_type": "stream",
     "text": [
      "15\n",
      "20\n",
      "25\n"
     ]
    }
   ],
   "source": [
    "numbers = [5, 15, 6, 20, 7, 25]\n",
    "\n",
    "for number in numbers:\n",
    "    if number < 10:\n",
    "        continue\n",
    "    print(number)"
   ]
  },
  {
   "cell_type": "markdown",
   "id": "bcbd0f7a-774f-40e5-be68-bc4f81bb8b0c",
   "metadata": {},
   "source": [
    "확인문제 : 강의자료 252~253페이지"
   ]
  },
  {
   "cell_type": "code",
   "execution_count": 3,
   "id": "3a00ec88-2df8-422f-8dba-a332720d4fa1",
   "metadata": {},
   "outputs": [
    {
     "data": {
      "text/plain": [
       "{'name': '기사', 'hp': 200, 'mp': 30, 'level': 5}"
      ]
     },
     "execution_count": 3,
     "metadata": {},
     "output_type": "execute_result"
    }
   ],
   "source": [
    "key_list = [\"name\", \"hp\", \"mp\", \"level\"]\n",
    "value_list = [\"기사\", 200, 30, 5]\n",
    "character = {}\n",
    "\n",
    "for key, value in zip(key_list, value_list):\n",
    "    character[key] = value\n",
    "    \n",
    "character"
   ]
  },
  {
   "cell_type": "code",
   "execution_count": 9,
   "id": "337fcbcf-9e93-48d0-9a17-578e6b661595",
   "metadata": {},
   "outputs": [
    {
     "name": "stdout",
     "output_type": "stream",
     "text": [
      "141를 더할 때 10000을 넘으며 그때의 값은 10011입니다.\n"
     ]
    }
   ],
   "source": [
    "limit = 10000\n",
    "i = 1\n",
    "sum_value = 0\n",
    "\n",
    "while True :\n",
    "    sum_value += i\n",
    "    \n",
    "    if sum_value > limit:\n",
    "        break\n",
    "    \n",
    "    i += 1\n",
    "    \n",
    "print(f\"{i}를 더할 때 {limit}을 넘으며 그때의 값은 {sum_value}입니다.\")"
   ]
  },
  {
   "cell_type": "markdown",
   "id": "87463f98-bd1c-43c4-aea6-6c87201dd20f",
   "metadata": {},
   "source": [
    "함수 선언 실습 : 강의자료 262페이지"
   ]
  },
  {
   "cell_type": "code",
   "execution_count": 5,
   "id": "7732b5a1-3d9b-462c-af2f-45139eca9341",
   "metadata": {},
   "outputs": [
    {
     "name": "stdout",
     "output_type": "stream",
     "text": [
      "안녕하세요\n",
      "안녕하세요\n",
      "안녕하세요\n",
      "안녕하세요\n",
      "안녕하세요\n"
     ]
    }
   ],
   "source": [
    "def print_n_times(value, n):\n",
    "    for i in range(n):\n",
    "        print(value)\n",
    "        \n",
    "print_n_times(\"안녕하세요\", 5)"
   ]
  },
  {
   "cell_type": "markdown",
   "id": "251c39ec-ab60-4ef1-a6c9-9fd3e0415d6d",
   "metadata": {},
   "source": [
    "가변매개변수 실습:강의자료 266페이지"
   ]
  },
  {
   "cell_type": "code",
   "execution_count": 6,
   "id": "a670e184-3ca0-48bc-98ba-89f2b9bb0ee8",
   "metadata": {},
   "outputs": [
    {
     "name": "stdout",
     "output_type": "stream",
     "text": [
      "안녕하세요\n",
      "즐거운\n",
      "파이썬 프로그래밍\n",
      "\n",
      "안녕하세요\n",
      "즐거운\n",
      "파이썬 프로그래밍\n",
      "\n",
      "안녕하세요\n",
      "즐거운\n",
      "파이썬 프로그래밍\n",
      "\n"
     ]
    }
   ],
   "source": [
    "def print_n_times(n, *values):\n",
    "    for i in range(n):\n",
    "        for value in values:\n",
    "            print(value)\n",
    "            \n",
    "        print()\n",
    "        \n",
    "print_n_times(3, \"안녕하세요\", \"즐거운\", \"파이썬 프로그래밍\")"
   ]
  },
  {
   "cell_type": "markdown",
   "id": "bbf7399e-137f-43d1-96b8-801c815d388c",
   "metadata": {},
   "source": [
    "기본 매개변수 실습: 강의자료 267페이지"
   ]
  },
  {
   "cell_type": "code",
   "execution_count": 7,
   "id": "05d4aa05-e7dc-4fe1-8ae7-2ea8cc813280",
   "metadata": {},
   "outputs": [
    {
     "name": "stdout",
     "output_type": "stream",
     "text": [
      "안녕하세요\n",
      "안녕하세요\n"
     ]
    }
   ],
   "source": [
    "def print_n_times(value, n = 2):\n",
    "    for i in range(n):\n",
    "        print(value)\n",
    "        \n",
    "print_n_times(\"안녕하세요\")"
   ]
  },
  {
   "cell_type": "markdown",
   "id": "9ec48704-2599-4704-90cf-d73125af9227",
   "metadata": {},
   "source": [
    "가변매개변수와 키워드 매개변수 실습 : 강의자료 273페이지"
   ]
  },
  {
   "cell_type": "code",
   "execution_count": 8,
   "id": "de52c0e2-4d59-4bc8-835c-d0e2fca4c946",
   "metadata": {},
   "outputs": [
    {
     "name": "stdout",
     "output_type": "stream",
     "text": [
      "안녕하세요\n",
      "즐거운\n",
      "파이썬 프로그래밍\n",
      "\n",
      "안녕하세요\n",
      "즐거운\n",
      "파이썬 프로그래밍\n",
      "\n",
      "안녕하세요\n",
      "즐거운\n",
      "파이썬 프로그래밍\n",
      "\n"
     ]
    }
   ],
   "source": [
    "def print_n_times(*values, n = 2):\n",
    "    for i in range(n):\n",
    "        for value in values:\n",
    "            print(value)\n",
    "            \n",
    "        print()\n",
    "        \n",
    "print_n_times(\"안녕하세요\", \"즐거운\", \"파이썬 프로그래밍\", n = 3)"
   ]
  }
 ],
 "metadata": {
  "kernelspec": {
   "display_name": "Python 3",
   "language": "python",
   "name": "python3"
  },
  "language_info": {
   "codemirror_mode": {
    "name": "ipython",
    "version": 3
   },
   "file_extension": ".py",
   "mimetype": "text/x-python",
   "name": "python",
   "nbconvert_exporter": "python",
   "pygments_lexer": "ipython3",
   "version": "3.6.13"
  }
 },
 "nbformat": 4,
 "nbformat_minor": 5
}
