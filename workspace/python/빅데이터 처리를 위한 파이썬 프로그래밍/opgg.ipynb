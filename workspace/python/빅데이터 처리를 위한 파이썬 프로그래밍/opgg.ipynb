{
 "cells": [
  {
   "cell_type": "code",
   "execution_count": 1,
   "id": "b3f7cf8f-e633-43ef-8086-99678a6fc256",
   "metadata": {},
   "outputs": [],
   "source": [
    "import requests\n",
    "from bs4 import BeautifulSoup"
   ]
  },
  {
   "cell_type": "code",
   "execution_count": 2,
   "id": "fef98bea-7e96-42e1-9125-8598434ba540",
   "metadata": {},
   "outputs": [],
   "source": [
    "url = \"https://www.op.gg/champion/statistics\"\n",
    "\n",
    "response = requests.get(url)\n",
    "soup = BeautifulSoup(response.content, \"html.parser\")"
   ]
  },
  {
   "cell_type": "code",
   "execution_count": 4,
   "id": "868e6d8e-7947-4c1e-bb81-6ab9d262baa3",
   "metadata": {},
   "outputs": [],
   "source": [
    "garen = soup.find(\"div\", {\"data-champion-name\" : \"garen\"})"
   ]
  },
  {
   "cell_type": "code",
   "execution_count": 5,
   "id": "b40c7659-86cb-4dad-a252-6f1df4ac701e",
   "metadata": {},
   "outputs": [
    {
     "data": {
      "text/plain": [
       "'/champion/garen/statistics'"
      ]
     },
     "execution_count": 5,
     "metadata": {},
     "output_type": "execute_result"
    }
   ],
   "source": [
    "garen.find(\"a\").attrs[\"href\"]"
   ]
  },
  {
   "cell_type": "code",
   "execution_count": 12,
   "id": "5d642f30-5677-462e-849b-e772677cef05",
   "metadata": {},
   "outputs": [],
   "source": [
    "new_url = \"https://op.gg\" + garen.find(\"a\").attrs[\"href\"]"
   ]
  },
  {
   "cell_type": "code",
   "execution_count": 13,
   "id": "b72b6010-d265-47d0-8712-bab42225ca4e",
   "metadata": {},
   "outputs": [
    {
     "data": {
      "text/plain": [
       "'https://op.gg/champion/garen/statistics/top'"
      ]
     },
     "execution_count": 13,
     "metadata": {},
     "output_type": "execute_result"
    }
   ],
   "source": [
    "new_url + \"/top\""
   ]
  },
  {
   "cell_type": "code",
   "execution_count": null,
   "id": "bb7fcd3c-4d6b-4d28-acd7-dcd56babcb69",
   "metadata": {},
   "outputs": [],
   "source": [
    "https://www.op.gg/champion/garen/statistics/top"
   ]
  },
  {
   "cell_type": "code",
   "execution_count": 1,
   "id": "4a96df3f-1ec0-4920-a00d-2a5ea6579eaa",
   "metadata": {},
   "outputs": [],
   "source": [
    "x = {10:'hello'}"
   ]
  },
  {
   "cell_type": "code",
   "execution_count": 2,
   "id": "a4cb47c4-0e00-4c9d-a173-b5ab284b1937",
   "metadata": {},
   "outputs": [
    {
     "data": {
      "text/plain": [
       "'hello'"
      ]
     },
     "execution_count": 2,
     "metadata": {},
     "output_type": "execute_result"
    }
   ],
   "source": [
    "x[10]"
   ]
  },
  {
   "cell_type": "code",
   "execution_count": null,
   "id": "6d6d4ef5-4f97-4847-8e31-e8e1c2e4bfd9",
   "metadata": {},
   "outputs": [],
   "source": []
  }
 ],
 "metadata": {
  "kernelspec": {
   "display_name": "Python 3",
   "language": "python",
   "name": "python3"
  },
  "language_info": {
   "codemirror_mode": {
    "name": "ipython",
    "version": 3
   },
   "file_extension": ".py",
   "mimetype": "text/x-python",
   "name": "python",
   "nbconvert_exporter": "python",
   "pygments_lexer": "ipython3",
   "version": "3.6.13"
  }
 },
 "nbformat": 4,
 "nbformat_minor": 5
}
