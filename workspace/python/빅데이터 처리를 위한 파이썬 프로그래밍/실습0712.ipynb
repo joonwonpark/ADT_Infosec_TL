{
 "cells": [
  {
   "cell_type": "code",
   "execution_count": null,
   "id": "46ab792c-1019-41ce-8844-0195523a47c1",
   "metadata": {},
   "outputs": [],
   "source": [
    "# BeatifulSoup 설치: 강의자료 355페이지\n",
    "!pip install bs4"
   ]
  },
  {
   "cell_type": "code",
   "execution_count": 1,
   "id": "4a03e891-e493-487c-bf6e-8bc47644fd8b",
   "metadata": {},
   "outputs": [],
   "source": [
    "# HTML 스크래핑 실습 1 : 강의자료 360~362 페이지\n",
    "from bs4 import BeautifulSoup\n",
    "\n",
    "html ='''\n",
    "<html>\n",
    "    <body>\n",
    "        <h1>스크레이핑이란?</h1>\n",
    "        <p>웹 페이지를 분석하는 것</p>\n",
    "        <p>원하는 부분을 추출하는 것</p>\n",
    "    </body>\n",
    "</html>\n",
    "'''\n",
    "\n",
    "soup = BeautifulSoup(html, \"html.parser\")"
   ]
  },
  {
   "cell_type": "code",
   "execution_count": 2,
   "id": "c29a7ae2-2d7e-46ff-889a-e66d8a94b7f9",
   "metadata": {},
   "outputs": [
    {
     "data": {
      "text/plain": [
       "\n",
       "<html>\n",
       "<body>\n",
       "<h1>스크레이핑이란?</h1>\n",
       "<p>웹 페이지를 분석하는 것</p>\n",
       "<p>원하는 부분을 추출하는 것</p>\n",
       "</body>\n",
       "</html>"
      ]
     },
     "execution_count": 2,
     "metadata": {},
     "output_type": "execute_result"
    }
   ],
   "source": [
    "soup = BeautifulSoup(html, \"html.parser\")\n",
    "soup"
   ]
  },
  {
   "cell_type": "code",
   "execution_count": 3,
   "id": "437761ac-8c31-4407-bf79-25e28418417b",
   "metadata": {},
   "outputs": [
    {
     "data": {
      "text/plain": [
       "<body>\n",
       "<h1>스크레이핑이란?</h1>\n",
       "<p>웹 페이지를 분석하는 것</p>\n",
       "<p>원하는 부분을 추출하는 것</p>\n",
       "</body>"
      ]
     },
     "execution_count": 3,
     "metadata": {},
     "output_type": "execute_result"
    }
   ],
   "source": [
    "soup.html.body"
   ]
  },
  {
   "cell_type": "code",
   "execution_count": 4,
   "id": "bc16a79b-0812-4446-99a3-2571bd4f32b4",
   "metadata": {},
   "outputs": [
    {
     "data": {
      "text/plain": [
       "<h1>스크레이핑이란?</h1>"
      ]
     },
     "execution_count": 4,
     "metadata": {},
     "output_type": "execute_result"
    }
   ],
   "source": [
    "h1 = soup.html.body.h1\n",
    "h1"
   ]
  },
  {
   "cell_type": "code",
   "execution_count": 7,
   "id": "381aa34c-c3cb-45d1-a5a2-65a34b71ba32",
   "metadata": {},
   "outputs": [
    {
     "data": {
      "text/plain": [
       "<p>웹 페이지를 분석하는 것</p>"
      ]
     },
     "execution_count": 7,
     "metadata": {},
     "output_type": "execute_result"
    }
   ],
   "source": [
    "p1 = soup.html.body.p\n",
    "p1"
   ]
  },
  {
   "cell_type": "code",
   "execution_count": 9,
   "id": "8df94289-1c4d-457b-b317-daacb8131d5e",
   "metadata": {},
   "outputs": [
    {
     "data": {
      "text/plain": [
       "<p>원하는 부분을 추출하는 것</p>"
      ]
     },
     "execution_count": 9,
     "metadata": {},
     "output_type": "execute_result"
    }
   ],
   "source": [
    "p2 = p1.next_sibling.next_sibling\n",
    "p2"
   ]
  },
  {
   "cell_type": "code",
   "execution_count": 10,
   "id": "20073148-2763-4053-a5af-f305ffc8c9a2",
   "metadata": {},
   "outputs": [],
   "source": [
    "# id 로 스크래핑 : 강의자료 365페이지 오른쪽 코드\n",
    "from bs4 import BeautifulSoup\n",
    "html = '''\n",
    "<html>\n",
    "    <body>\n",
    "        <h1 id = \"title1\">스크레이핑이란?</h1>\n",
    "        <p id = \"body1\">웹 페이지를 분석하는 것</p>\n",
    "        <p>원하는 부분을 추출하는것</p>\n",
    "        <h1 id = \"title2\">우리가 추가한 문서</h1>\n",
    "        <p id = \"body2\">잘 해보자구요</p>\n",
    "        <p>끝까지 가는 거야~^^</p>\n",
    "    </body>\n",
    "</html>'''"
   ]
  },
  {
   "cell_type": "code",
   "execution_count": 11,
   "id": "c7633161-2286-4efa-b5f3-9fcb17712398",
   "metadata": {},
   "outputs": [],
   "source": [
    "soup = BeautifulSoup(html, \"html.parser\")"
   ]
  },
  {
   "cell_type": "code",
   "execution_count": 12,
   "id": "4786e18d-f129-4149-9390-50d6ba9f877a",
   "metadata": {},
   "outputs": [
    {
     "data": {
      "text/plain": [
       "<h1 id=\"title2\">우리가 추가한 문서</h1>"
      ]
     },
     "execution_count": 12,
     "metadata": {},
     "output_type": "execute_result"
    }
   ],
   "source": [
    "title = soup.find(id = \"title2\")\n",
    "title"
   ]
  },
  {
   "cell_type": "code",
   "execution_count": 13,
   "id": "d4081414-6b52-42aa-b977-0c5a2feb6370",
   "metadata": {},
   "outputs": [
    {
     "data": {
      "text/plain": [
       "<p id=\"body2\">잘 해보자구요</p>"
      ]
     },
     "execution_count": 13,
     "metadata": {},
     "output_type": "execute_result"
    }
   ],
   "source": [
    "body = soup.find(id = \"body2\")\n",
    "body"
   ]
  },
  {
   "cell_type": "code",
   "execution_count": 14,
   "id": "6aca6ffd-5069-4b79-acab-fa85b2857ce9",
   "metadata": {},
   "outputs": [
    {
     "name": "stdout",
     "output_type": "stream",
     "text": [
      "#title =  우리가 추가한 문서\n",
      "body =  잘 해보자구요\n"
     ]
    }
   ],
   "source": [
    "print(\"#title = \", title.string)\n",
    "print(\"body = \", body.string)"
   ]
  },
  {
   "cell_type": "code",
   "execution_count": 15,
   "id": "064237f0-0bf2-41eb-b42b-1132390d7e62",
   "metadata": {},
   "outputs": [],
   "source": [
    "# 태그 검색 : 강의자료 367~368페이지\n",
    "html = \"\"\"\n",
    "<html>\n",
    "    <body>\n",
    "        <ul class=\"greet\">\n",
    "            <li>hello</li>\n",
    "            <li>bye</li>\n",
    "            <li>welcome</li>\n",
    "        </ul>\n",
    "        <ul class=\"reply\">\n",
    "            <li>ok</li>\n",
    "            <li>no</li>\n",
    "            <li>sure</li>\n",
    "        </ul>\n",
    "        <div>\n",
    "            <ul>\n",
    "                <li>open</li>\n",
    "                <li>close</li>\n",
    "            </ul>\n",
    "        <div>\n",
    "    </body>\n",
    "</html>           \n",
    "\"\"\""
   ]
  },
  {
   "cell_type": "code",
   "execution_count": 16,
   "id": "7650833c-e4ec-46fd-998f-527f10ef968a",
   "metadata": {},
   "outputs": [],
   "source": [
    "soup = BeautifulSoup(html, \"html.parser\")"
   ]
  },
  {
   "cell_type": "code",
   "execution_count": 17,
   "id": "c5e5bc34-4365-4751-91ca-e1e81cad8c6f",
   "metadata": {},
   "outputs": [
    {
     "data": {
      "text/plain": [
       "<div>\n",
       "<ul>\n",
       "<li>open</li>\n",
       "<li>close</li>\n",
       "</ul>\n",
       "<div>\n",
       "</div></div>"
      ]
     },
     "execution_count": 17,
     "metadata": {},
     "output_type": "execute_result"
    }
   ],
   "source": [
    "soup.find(\"div\")"
   ]
  },
  {
   "cell_type": "code",
   "execution_count": 19,
   "id": "7cc46b5e-30ca-48ea-9b49-e5d080669b20",
   "metadata": {},
   "outputs": [
    {
     "data": {
      "text/plain": [
       "<ul class=\"greet\">\n",
       "<li>hello</li>\n",
       "<li>bye</li>\n",
       "<li>welcome</li>\n",
       "</ul>"
      ]
     },
     "execution_count": 19,
     "metadata": {},
     "output_type": "execute_result"
    }
   ],
   "source": [
    "ul = soup.find(\"ul\")\n",
    "ul"
   ]
  },
  {
   "cell_type": "code",
   "execution_count": 43,
   "id": "38af4e6f-7915-44c2-b3f3-912ceddb6157",
   "metadata": {},
   "outputs": [
    {
     "name": "stdout",
     "output_type": "stream",
     "text": [
      "hello\n",
      "bye\n",
      "welcome\n"
     ]
    }
   ],
   "source": [
    "print(ul.text.strip())"
   ]
  },
  {
   "cell_type": "code",
   "execution_count": 23,
   "id": "b74304a0-b57a-4d0d-be00-ecd49afc9436",
   "metadata": {},
   "outputs": [],
   "source": [
    "# 클래스 속성과 findAll() 함수: 강의자료 372페이지 왼쪽 코드 작성후 오른쪽 코드 작성\n",
    "soup = BeautifulSoup(html, \"html.parser\")"
   ]
  },
  {
   "cell_type": "code",
   "execution_count": 24,
   "id": "f203ad59-6952-436b-8898-831d807b9999",
   "metadata": {},
   "outputs": [
    {
     "name": "stdout",
     "output_type": "stream",
     "text": [
      "ok\n",
      "no\n",
      "sure\n"
     ]
    }
   ],
   "source": [
    "ul_reply = soup.find(\"ul\", {\"class\" : \"reply\"})\n",
    "li_list = ul_reply.find_all(\"li\")\n",
    "\n",
    "for item in li_list:\n",
    "    print(item.text)"
   ]
  }
 ],
 "metadata": {
  "kernelspec": {
   "display_name": "Python 3",
   "language": "python",
   "name": "python3"
  },
  "language_info": {
   "codemirror_mode": {
    "name": "ipython",
    "version": 3
   },
   "file_extension": ".py",
   "mimetype": "text/x-python",
   "name": "python",
   "nbconvert_exporter": "python",
   "pygments_lexer": "ipython3",
   "version": "3.6.13"
  }
 },
 "nbformat": 4,
 "nbformat_minor": 5
}
