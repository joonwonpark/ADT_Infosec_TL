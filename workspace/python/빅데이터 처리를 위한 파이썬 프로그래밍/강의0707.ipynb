{
 "cells": [
  {
   "cell_type": "markdown",
   "metadata": {
    "id": "dut3qk3nYfpE"
   },
   "source": [
    "# 강의자료 159페이지"
   ]
  },
  {
   "cell_type": "code",
   "execution_count": 1,
   "metadata": {
    "executionInfo": {
     "elapsed": 2,
     "status": "ok",
     "timestamp": 1625618075064,
     "user": {
      "displayName": "권혜윤",
      "photoUrl": "",
      "userId": "13599692245962426984"
     },
     "user_tz": -540
    },
    "id": "gv20w839X-x9"
   },
   "outputs": [],
   "source": [
    "number = 5"
   ]
  },
  {
   "cell_type": "code",
   "execution_count": 2,
   "metadata": {
    "colab": {
     "base_uri": "https://localhost:8080/"
    },
    "executionInfo": {
     "elapsed": 283,
     "status": "ok",
     "timestamp": 1625618308953,
     "user": {
      "displayName": "권혜윤",
      "photoUrl": "",
      "userId": "13599692245962426984"
     },
     "user_tz": -540
    },
    "id": "00fyifK7YyXf",
    "outputId": "ac59eddc-7ce3-4b78-bbe3-053b394ee18b"
   },
   "outputs": [
    {
     "name": "stdout",
     "output_type": "stream",
     "text": [
      "홀수\n"
     ]
    }
   ],
   "source": [
    "if number % 2 == 0:\n",
    "    print(\"짝수\")\n",
    "else:\n",
    "    print(\"홀수\")"
   ]
  },
  {
   "cell_type": "markdown",
   "metadata": {
    "id": "6g0Tpeviazg3"
   },
   "source": [
    "# 강의자료 161 페이지"
   ]
  },
  {
   "cell_type": "code",
   "execution_count": 3,
   "metadata": {
    "executionInfo": {
     "elapsed": 268,
     "status": "ok",
     "timestamp": 1625618619729,
     "user": {
      "displayName": "권혜윤",
      "photoUrl": "",
      "userId": "13599692245962426984"
     },
     "user_tz": -540
    },
    "id": "bn--FSQ9Ztyq"
   },
   "outputs": [],
   "source": [
    "month = 7"
   ]
  },
  {
   "cell_type": "code",
   "execution_count": 4,
   "metadata": {
    "colab": {
     "base_uri": "https://localhost:8080/"
    },
    "executionInfo": {
     "elapsed": 282,
     "status": "ok",
     "timestamp": 1625618840088,
     "user": {
      "displayName": "권혜윤",
      "photoUrl": "",
      "userId": "13599692245962426984"
     },
     "user_tz": -540
    },
    "id": "yqMBfXzra5rF",
    "outputId": "7226c62d-9e26-44aa-e0bd-e3d296273c05"
   },
   "outputs": [
    {
     "name": "stdout",
     "output_type": "stream",
     "text": [
      "여름\n"
     ]
    }
   ],
   "source": [
    "if 3 <= month <=5 :\n",
    "  print(\"봄\")\n",
    "elif 6 <= month <= 8:\n",
    "  print(\"여름\")\n",
    "elif 9 <= month <= 11:\n",
    "  print(\"가을\")\n",
    "else:\n",
    "  print(\"겨울\")"
   ]
  },
  {
   "cell_type": "markdown",
   "metadata": {
    "id": "yND5PksddRgs"
   },
   "source": [
    "# 강의자료 165 페이지"
   ]
  },
  {
   "cell_type": "code",
   "execution_count": 5,
   "metadata": {
    "executionInfo": {
     "elapsed": 282,
     "status": "ok",
     "timestamp": 1625619297590,
     "user": {
      "displayName": "권혜윤",
      "photoUrl": "",
      "userId": "13599692245962426984"
     },
     "user_tz": -540
    },
    "id": "F6keUR05bvds"
   },
   "outputs": [],
   "source": [
    "lst1 = [1, \"안녕\"]\n",
    "lst2 = []"
   ]
  },
  {
   "cell_type": "code",
   "execution_count": 6,
   "metadata": {
    "executionInfo": {
     "elapsed": 279,
     "status": "ok",
     "timestamp": 1625619442122,
     "user": {
      "displayName": "권혜윤",
      "photoUrl": "",
      "userId": "13599692245962426984"
     },
     "user_tz": -540
    },
    "id": "SLHz10BQdfKH"
   },
   "outputs": [],
   "source": [
    "str1 = \"Good\"\n",
    "str2 = \"\""
   ]
  },
  {
   "cell_type": "code",
   "execution_count": 7,
   "metadata": {
    "colab": {
     "base_uri": "https://localhost:8080/"
    },
    "executionInfo": {
     "elapsed": 297,
     "status": "ok",
     "timestamp": 1625619443661,
     "user": {
      "displayName": "권혜윤",
      "photoUrl": "",
      "userId": "13599692245962426984"
     },
     "user_tz": -540
    },
    "id": "7G3mwMyCd1YS",
    "outputId": "d4bb483e-e2a9-4890-a4d6-01c6baea59ab"
   },
   "outputs": [
    {
     "name": "stdout",
     "output_type": "stream",
     "text": [
      "True 가벼\n"
     ]
    }
   ],
   "source": [
    "if lst1 :\n",
    "  print(\"True 가벼\")\n",
    "else:\n",
    "  print(\"False 가벼\")"
   ]
  },
  {
   "cell_type": "code",
   "execution_count": 8,
   "metadata": {
    "colab": {
     "base_uri": "https://localhost:8080/"
    },
    "executionInfo": {
     "elapsed": 283,
     "status": "ok",
     "timestamp": 1625619470929,
     "user": {
      "displayName": "권혜윤",
      "photoUrl": "",
      "userId": "13599692245962426984"
     },
     "user_tz": -540
    },
    "id": "lGTUcpgfeCyG",
    "outputId": "013f62d3-4d2d-4ec8-c926-4d9d4233291c"
   },
   "outputs": [
    {
     "name": "stdout",
     "output_type": "stream",
     "text": [
      "False 가벼\n"
     ]
    }
   ],
   "source": [
    "if lst2 :\n",
    "  print(\"True 가벼\")\n",
    "else:\n",
    "  print(\"False 가벼\")"
   ]
  },
  {
   "cell_type": "code",
   "execution_count": 9,
   "metadata": {
    "colab": {
     "base_uri": "https://localhost:8080/"
    },
    "executionInfo": {
     "elapsed": 273,
     "status": "ok",
     "timestamp": 1625619511289,
     "user": {
      "displayName": "권혜윤",
      "photoUrl": "",
      "userId": "13599692245962426984"
     },
     "user_tz": -540
    },
    "id": "sg21mHKYeJeo",
    "outputId": "a62fc38a-e9fa-4e68-b77b-21d1e82768f8"
   },
   "outputs": [
    {
     "name": "stdout",
     "output_type": "stream",
     "text": [
      "True 가벼\n"
     ]
    }
   ],
   "source": [
    "if str1 :\n",
    "  print(\"True 가벼\")\n",
    "else:\n",
    "  print(\"False 가벼\")"
   ]
  },
  {
   "cell_type": "code",
   "execution_count": 10,
   "metadata": {
    "colab": {
     "base_uri": "https://localhost:8080/"
    },
    "executionInfo": {
     "elapsed": 286,
     "status": "ok",
     "timestamp": 1625619525760,
     "user": {
      "displayName": "권혜윤",
      "photoUrl": "",
      "userId": "13599692245962426984"
     },
     "user_tz": -540
    },
    "id": "gKI4c0RTeTVb",
    "outputId": "93c8c3bc-ae83-430a-a564-bdf3df176c8a"
   },
   "outputs": [
    {
     "name": "stdout",
     "output_type": "stream",
     "text": [
      "False 가벼\n"
     ]
    }
   ],
   "source": [
    "if str2:\n",
    "  print(\"True 가벼\")\n",
    "else:\n",
    "  print(\"False 가벼\")"
   ]
  },
  {
   "cell_type": "code",
   "execution_count": 11,
   "metadata": {
    "executionInfo": {
     "elapsed": 371,
     "status": "ok",
     "timestamp": 1625621304559,
     "user": {
      "displayName": "권혜윤",
      "photoUrl": "",
      "userId": "13599692245962426984"
     },
     "user_tz": -540
    },
    "id": "uiOq-1TreW3S"
   },
   "outputs": [],
   "source": [
    "number = 10"
   ]
  },
  {
   "cell_type": "code",
   "execution_count": 12,
   "metadata": {
    "colab": {
     "base_uri": "https://localhost:8080/",
     "height": 135
    },
    "executionInfo": {
     "elapsed": 462,
     "status": "error",
     "timestamp": 1625621334305,
     "user": {
      "displayName": "권혜윤",
      "photoUrl": "",
      "userId": "13599692245962426984"
     },
     "user_tz": -540
    },
    "id": "7203ILHnlJHX",
    "outputId": "c22694d0-451d-4c05-b397-c067b8b417d8"
   },
   "outputs": [
    {
     "ename": "IndentationError",
     "evalue": "ignored",
     "output_type": "error",
     "traceback": [
      "\u001b[0;36m  File \u001b[0;32m\"<ipython-input-12-7ce3dc464cc6>\"\u001b[0;36m, line \u001b[0;32m3\u001b[0m\n\u001b[0;31m    else:\u001b[0m\n\u001b[0m       ^\u001b[0m\n\u001b[0;31mIndentationError\u001b[0m\u001b[0;31m:\u001b[0m expected an indented block\n"
     ]
    }
   ],
   "source": [
    "# 비워두면 에러\n",
    "if number > 0:\n",
    "\n",
    "else:\n"
   ]
  },
  {
   "cell_type": "code",
   "execution_count": 13,
   "metadata": {
    "executionInfo": {
     "elapsed": 772,
     "status": "ok",
     "timestamp": 1625621552208,
     "user": {
      "displayName": "권혜윤",
      "photoUrl": "",
      "userId": "13599692245962426984"
     },
     "user_tz": -540
    },
    "id": "Z1V2kzvvlQWb"
   },
   "outputs": [],
   "source": [
    "\n",
    "if number > 0:\n",
    "    pass\n",
    "else:\n",
    "    pass"
   ]
  },
  {
   "cell_type": "markdown",
   "metadata": {
    "id": "Ob43nfwPna2Z"
   },
   "source": [
    "# 강의자료 177"
   ]
  },
  {
   "cell_type": "code",
   "execution_count": 14,
   "metadata": {
    "executionInfo": {
     "elapsed": 281,
     "status": "ok",
     "timestamp": 1625622058955,
     "user": {
      "displayName": "권혜윤",
      "photoUrl": "",
      "userId": "13599692245962426984"
     },
     "user_tz": -540
    },
    "id": "vkPRe6qFmFXW"
   },
   "outputs": [],
   "source": [
    "list_a = [273, 32, 103, \"문자열\", True, False]"
   ]
  },
  {
   "cell_type": "code",
   "execution_count": 15,
   "metadata": {
    "colab": {
     "base_uri": "https://localhost:8080/"
    },
    "executionInfo": {
     "elapsed": 266,
     "status": "ok",
     "timestamp": 1625622065939,
     "user": {
      "displayName": "권혜윤",
      "photoUrl": "",
      "userId": "13599692245962426984"
     },
     "user_tz": -540
    },
    "id": "sSiHZKK-oBUg",
    "outputId": "cf1faebe-2579-4b1e-9aa7-f80090dc261e"
   },
   "outputs": [
    {
     "data": {
      "text/plain": [
       "[273, 32, 103, '문자열', True, False]"
      ]
     },
     "execution_count": 15,
     "metadata": {
      "tags": []
     },
     "output_type": "execute_result"
    }
   ],
   "source": [
    "list_a"
   ]
  },
  {
   "cell_type": "code",
   "execution_count": 19,
   "metadata": {
    "colab": {
     "base_uri": "https://localhost:8080/"
    },
    "executionInfo": {
     "elapsed": 269,
     "status": "ok",
     "timestamp": 1625622340944,
     "user": {
      "displayName": "권혜윤",
      "photoUrl": "",
      "userId": "13599692245962426984"
     },
     "user_tz": -540
    },
    "id": "LbumYFAUoDCD",
    "outputId": "d5ca19ca-af60-4439-b0c9-d2ab2b6e3aa3"
   },
   "outputs": [
    {
     "data": {
      "text/plain": [
       "273"
      ]
     },
     "execution_count": 19,
     "metadata": {
      "tags": []
     },
     "output_type": "execute_result"
    }
   ],
   "source": [
    "list_a[0]"
   ]
  },
  {
   "cell_type": "code",
   "execution_count": 20,
   "metadata": {
    "colab": {
     "base_uri": "https://localhost:8080/"
    },
    "executionInfo": {
     "elapsed": 267,
     "status": "ok",
     "timestamp": 1625622344801,
     "user": {
      "displayName": "권혜윤",
      "photoUrl": "",
      "userId": "13599692245962426984"
     },
     "user_tz": -540
    },
    "id": "WdQ-iHKRo-j7",
    "outputId": "ae4d5bdc-e2f6-4e8a-d829-c866f2066308"
   },
   "outputs": [
    {
     "data": {
      "text/plain": [
       "32"
      ]
     },
     "execution_count": 20,
     "metadata": {
      "tags": []
     },
     "output_type": "execute_result"
    }
   ],
   "source": [
    "list_a[1]"
   ]
  },
  {
   "cell_type": "code",
   "execution_count": 21,
   "metadata": {
    "colab": {
     "base_uri": "https://localhost:8080/"
    },
    "executionInfo": {
     "elapsed": 298,
     "status": "ok",
     "timestamp": 1625622349152,
     "user": {
      "displayName": "권혜윤",
      "photoUrl": "",
      "userId": "13599692245962426984"
     },
     "user_tz": -540
    },
    "id": "RngjKk9DpAhu",
    "outputId": "5ee6e997-8637-47b3-9672-9ebc6553d613"
   },
   "outputs": [
    {
     "data": {
      "text/plain": [
       "103"
      ]
     },
     "execution_count": 21,
     "metadata": {
      "tags": []
     },
     "output_type": "execute_result"
    }
   ],
   "source": [
    "list_a[2]"
   ]
  },
  {
   "cell_type": "code",
   "execution_count": 22,
   "metadata": {
    "colab": {
     "base_uri": "https://localhost:8080/"
    },
    "executionInfo": {
     "elapsed": 269,
     "status": "ok",
     "timestamp": 1625622429464,
     "user": {
      "displayName": "권혜윤",
      "photoUrl": "",
      "userId": "13599692245962426984"
     },
     "user_tz": -540
    },
    "id": "Nh-M_4j9pD7t",
    "outputId": "0cf87d6b-1a09-474a-f848-c6fc080223db"
   },
   "outputs": [
    {
     "data": {
      "text/plain": [
       "[32, 103]"
      ]
     },
     "execution_count": 22,
     "metadata": {
      "tags": []
     },
     "output_type": "execute_result"
    }
   ],
   "source": [
    "list_a[1:3]"
   ]
  },
  {
   "cell_type": "code",
   "execution_count": 23,
   "metadata": {
    "colab": {
     "base_uri": "https://localhost:8080/"
    },
    "executionInfo": {
     "elapsed": 264,
     "status": "ok",
     "timestamp": 1625622616406,
     "user": {
      "displayName": "권혜윤",
      "photoUrl": "",
      "userId": "13599692245962426984"
     },
     "user_tz": -540
    },
    "id": "pLSPZ_1Opbxf",
    "outputId": "e3b9c1b0-174a-4dbd-f223-6ecf4644baf5"
   },
   "outputs": [
    {
     "data": {
      "text/plain": [
       "[32, 103, '문자열']"
      ]
     },
     "execution_count": 23,
     "metadata": {
      "tags": []
     },
     "output_type": "execute_result"
    }
   ],
   "source": [
    "list_a [1 : 4]"
   ]
  },
  {
   "cell_type": "code",
   "execution_count": 24,
   "metadata": {
    "colab": {
     "base_uri": "https://localhost:8080/"
    },
    "executionInfo": {
     "elapsed": 266,
     "status": "ok",
     "timestamp": 1625622956404,
     "user": {
      "displayName": "권혜윤",
      "photoUrl": "",
      "userId": "13599692245962426984"
     },
     "user_tz": -540
    },
    "id": "cwAL-l_8qJbE",
    "outputId": "e58f479e-4633-4d5b-c7c7-95a04689a6a5"
   },
   "outputs": [
    {
     "data": {
      "text/plain": [
       "[]"
      ]
     },
     "execution_count": 24,
     "metadata": {
      "tags": []
     },
     "output_type": "execute_result"
    }
   ],
   "source": [
    "list_a[-1 : -5]"
   ]
  },
  {
   "cell_type": "code",
   "execution_count": 25,
   "metadata": {
    "colab": {
     "base_uri": "https://localhost:8080/"
    },
    "executionInfo": {
     "elapsed": 272,
     "status": "ok",
     "timestamp": 1625622988980,
     "user": {
      "displayName": "권혜윤",
      "photoUrl": "",
      "userId": "13599692245962426984"
     },
     "user_tz": -540
    },
    "id": "LZIpsPvUrcbn",
    "outputId": "aade7c91-4496-4d73-ebd2-5a97081299f3"
   },
   "outputs": [
    {
     "data": {
      "text/plain": [
       "[32, 103, '문자열', True]"
      ]
     },
     "execution_count": 25,
     "metadata": {
      "tags": []
     },
     "output_type": "execute_result"
    }
   ],
   "source": [
    "list_a[-5 : -1]"
   ]
  },
  {
   "cell_type": "code",
   "execution_count": 26,
   "metadata": {
    "executionInfo": {
     "elapsed": 259,
     "status": "ok",
     "timestamp": 1625624329023,
     "user": {
      "displayName": "권혜윤",
      "photoUrl": "",
      "userId": "13599692245962426984"
     },
     "user_tz": -540
    },
    "id": "DnFbN8hErkYm"
   },
   "outputs": [],
   "source": [
    "list_a = [ [1, 2, 3] , [4, 5, 6], [\"안\",\"녕\",\"하\",\"세\",\"요\"]] "
   ]
  },
  {
   "cell_type": "code",
   "execution_count": 27,
   "metadata": {
    "colab": {
     "base_uri": "https://localhost:8080/"
    },
    "executionInfo": {
     "elapsed": 263,
     "status": "ok",
     "timestamp": 1625624385971,
     "user": {
      "displayName": "권혜윤",
      "photoUrl": "",
      "userId": "13599692245962426984"
     },
     "user_tz": -540
    },
    "id": "ZxaqPIJMwrii",
    "outputId": "a4f636ee-e5fa-4325-8e12-f5c9132f5880"
   },
   "outputs": [
    {
     "data": {
      "text/plain": [
       "[4, 5, 6]"
      ]
     },
     "execution_count": 27,
     "metadata": {
      "tags": []
     },
     "output_type": "execute_result"
    }
   ],
   "source": [
    "list_a [1]"
   ]
  },
  {
   "cell_type": "code",
   "execution_count": 28,
   "metadata": {
    "colab": {
     "base_uri": "https://localhost:8080/"
    },
    "executionInfo": {
     "elapsed": 262,
     "status": "ok",
     "timestamp": 1625624451329,
     "user": {
      "displayName": "권혜윤",
      "photoUrl": "",
      "userId": "13599692245962426984"
     },
     "user_tz": -540
    },
    "id": "bII3n_J-w5ce",
    "outputId": "570ad513-13d9-4953-d6f8-1eb820a376d2"
   },
   "outputs": [
    {
     "data": {
      "text/plain": [
       "6"
      ]
     },
     "execution_count": 28,
     "metadata": {
      "tags": []
     },
     "output_type": "execute_result"
    }
   ],
   "source": [
    "list_a [1][2]"
   ]
  },
  {
   "cell_type": "code",
   "execution_count": 29,
   "metadata": {
    "colab": {
     "base_uri": "https://localhost:8080/"
    },
    "executionInfo": {
     "elapsed": 278,
     "status": "ok",
     "timestamp": 1625624536662,
     "user": {
      "displayName": "권혜윤",
      "photoUrl": "",
      "userId": "13599692245962426984"
     },
     "user_tz": -540
    },
    "id": "0lyGuJ2JxJZ2",
    "outputId": "1dcdcb3b-66e6-4f9b-ba98-1506a03e61c2"
   },
   "outputs": [
    {
     "data": {
      "text/plain": [
       "['안', '녕', '하', '세', '요']"
      ]
     },
     "execution_count": 29,
     "metadata": {
      "tags": []
     },
     "output_type": "execute_result"
    }
   ],
   "source": [
    "list_a [2]"
   ]
  },
  {
   "cell_type": "code",
   "execution_count": 30,
   "metadata": {
    "colab": {
     "base_uri": "https://localhost:8080/",
     "height": 35
    },
    "executionInfo": {
     "elapsed": 271,
     "status": "ok",
     "timestamp": 1625624568216,
     "user": {
      "displayName": "권혜윤",
      "photoUrl": "",
      "userId": "13599692245962426984"
     },
     "user_tz": -540
    },
    "id": "6WFJwKb4xeO_",
    "outputId": "a22828d4-a08f-46c7-a340-66ae650ab928"
   },
   "outputs": [
    {
     "data": {
      "application/vnd.google.colaboratory.intrinsic+json": {
       "type": "string"
      },
      "text/plain": [
       "'세'"
      ]
     },
     "execution_count": 30,
     "metadata": {
      "tags": []
     },
     "output_type": "execute_result"
    }
   ],
   "source": [
    "list_a [2][3]"
   ]
  },
  {
   "cell_type": "markdown",
   "metadata": {
    "id": "wM99gfRFzRkk"
   },
   "source": [
    "![image.png](data:image/png;base64,iVBORw0KGgoAAAANSUhEUgAAA4MAAACMCAYAAADGKXyyAAAgAElEQVR4Ae2du640O9GG5zK4Ke5m3wv6JTIyMiKSHZCQkRARoC1IEAFCQogz2t/8shm3PK/L3eVDT883foJRn3yow1PlLq9Za91+97vf3c/6/OMf/7jzwQYwAAMwAAMwAAMwAAMwAAMw8H4M3M4qBMO4OPz9HI5P8AkMwAAMwAAMwAAMwAAMwEBg4PajH/3ozgcbwAAMwAAMwAAMwAAMwAAMwMBaDNx+/OMf3/lgAxiAARiAARiAARiAARiAARhYi4HbT37ykzsfbAADMAADMAADMAADMAADMAADazFw++lPf3rngw1gAAZgAAZgAAZgAAZgAAZgYC0Gbj/72c/ufLABDMAADMAADMAADMAADMAADKzFwO3nP//5nQ82gAEYgAEYgAEYgAEYgAEYgIG1GLj94he/uPPBBjAAAzAAAzAAAzAAAzAAAzCwFgO3X/7yl3c+2AAGYAAGYAAGYAAGYAAGYAAG1mLg9qtf/erOBxvAAAzAAAzAAAzAAAzAAAzAwFoM3H7961/f+WADGIABGIABGIABGIABGIABGFiLgdtvfvObOx9sAAMwAAMwAAMwAAMwAAMwAANrMXD77W9/e+eDDWAABmAABmAABmAABmAABmBgLQZuv//97+98sAEMwAAMwAAMwAAMwAAMwAAMrMXA7Q9/+MOdDzaAARiAARiAARiAARiAARiAgbUYuP3xj3+888EGMAADMAADMAADMAADMAADMLAWA7c//elPdz7YAAZgAAZgAAZgAAZgAAZgAAbWYuD25z//+c4HG8AADMAADMAADMAADMAADMDAWgzc/vKXv9z5YAMYgAEYgAEYgAEYgAEYgAEYWIuB21//+tc7H2wAAzAAAzAAAzAAAzAAAzAAA2sxcPvb3/5254MNYAAGYAAGYAAGYAAGYAAGYGAtBm5///vf73ywAQzAAAzAAAzAAAzAAAzAAAysxcDtn//8550PNoABGIABGIABGIABGIABGICBtRi4/etf/7rzwQYwAAMwAAMwAAMwAAMwAAMwsBYDt3//+993PtgABmAABmAABmAABmAABmAABtZi4Paf//znzgcbwAAMwAAMwAAMwAAMwAAMwMBaDNz++9//3vlgAxiAARiAARiAARiAARiAARhYiwGKQYphNgNgAAZgAAZgAAZgAAZgAAYWZIBicEGns+Oz1o4P/sbfMAADMAADMAADMAADFgO377///s4HG8AADMAADMAADMAADMAADMDAWgxQDFIMsxkAAzAAAzAAAzAAAzAAAzCwIAMUgws6nR2ftXZ88Df+hgEYgAEYgAEYgAEYsBigGKQYZBcIBmAABmAABmAABmAABmBgQQYoBhd0urUrwD12i2AABmAABmAABmAABmBgLQYoBikG2QWCARiAARiAARiAARiAARhYkAGKwQWdzo7PWjs++Bt/wwAMwAAMwAAMwAAMWAzcvnz5cueDDWAABmAABmAABmAABmAABmBgLQYoBimG2QyAARiAARiAARiAARiAARhYkAGKwQWdzo7PWjs++Bt/wwAMwAAMwAAMwAAMWAxQDFIMsgsEAzAAAzAAAzAAAzAAAzCwIAMUgws63doV4B67RTAAAzAAAzAAAzAAAzCwFgMUgxSD7ALBAAzAAAzAAAzAAAzAAAwsyADF4IJOZ8dnrR0f/I2/YQAGYAAGYAAGYAAGLAYoBikG2QWCARiAARiAARiAARiAARhYkAGKwQWdbu0KcI/dIhiAARiAARiAARiAARhYiwGKQYpBdoFgAAZgAAZgAAZgAAZgAAYWZIBicEGns+Oz1o4P/sbfMAADMAADMAADMAADFgMUgxSD7ALBAAzAAAzAAAzAAAzAAAwsyADF4IJOt3YFuMduEQzAAAzAAAzAAAzAAAysxQDFIMUgu0AwAAMwAAMwAAMwAAMwAAMLMnBpMfj9//3f/csPfjD388MfXgtymD/TKerYAdb33313j31lvC8//OH/7jvHDOPk8oTzeM/Z39odepJN5Uu6h/vffDM8lzW/+9433xS6qy2ar4NeA7Yb7VvEzBXyiM/djPf2m2zv77/9tuRi8hzNflZWw/XVMnnnH5T9LZj26npmuzeJj6+GuzN9YY39av9oXKW1VY9Bri9f/rfW6rOd69H3gG5OXm1Hy5f5PbGzez3Lx2g4L/Ldjo+a3k8aZOj2HXN8Petyo68oBhsNdhhEMxKdJKdaQogvtQfyzywG43yiX002vX92gjX94rSjyrp7/Vh4zfkOfDGjT7GQXCGPMOD2bW+/yXadUQwWYwTWLDlV57A5Y7VTVmvjWX0H7lVjOmw6haLZM/ag7G/BtEfPs9soK2Gz9Ow5P3V8ZbLxhdsslF7tH68OQa6TikHr/WF3fVQ7P2R74vjVdjxiXOzsXs+Oxq08L/Kd2qz3ujLfk+3PavNuPj1Lzw8el2JwtnNHg0L6HyXeo8RlJXNzoTuygyTMI7nM5+EFs/YyfDR/z/MZMmtiDv7pkWVSn2IhuUIeYfSIwc1evf0m2S7JURRywceNcxRjBNasMVTnGv/Kam08a46Oe4X8ynl2fVgUDsr+Fkx32ND098g4ysoZxWDm15CjD307os+VfZVJ0dtcn7I25jr1Cv/kNvPqEOR612LQymMT7Rj5lfHSt6dMH+b2TediZ/d6lvo3Hot8l3F3xOXuc4ccLXl/b67CRuKD4rlDtun5lDntd5KKXZYtBqcGZG7ckaCQpLQXjPmzvQU9JkRJNu4kmfTqlCuX8ek8jXv2cbbcwY7Bvx65J8+dfFxw65XHI7O3TS/jvf28cjnbmQuis2/yfTFG8Lc1hur8BsVgwZDkh6dYfTzbXdyV9ZotLPuEl1j9dYErmK7IZvnUyqmWzar3avopK19zMahMOBir2ivr6167Buc353mFf3IOvTo8eGrl0tQxn7+jwFQfmnljgh2j7DKOzh2uzflFx/DrLHlfVx8do+G6yHcZ37kczecOGYp1q3Puwkbii+K5QzYr13LvdX/E5r2KwUdSawGgCCznGEW/zqCIAZuD3hkUZpAaX9WK7WSO1qThWQSSD0y5gq0eslljhXvxviTZTc5wP7fZG58XnDj50gVm072Ts+iHd3lxFv7cib+zX2RJ7TbAjMl043jFGDWmVeeLi8GCZ7XrznXVzxrnNVtUbFzI5I2xynhn5xaTxx27FbFf009ZoRh8ekkPdoy29/hdmWzxT22eV/gn1011OIgri0u3vfJ5s3NrzILnHdua8w/asVmmA7vpWl3Nc5ldRnLMlfmuWLd2fLfn58JGgz4dsSd95xSMFIOdwfAUKHmS6A0K6RfHz8fVc6u9UxczQev46dqYp6l/GGfGGEmeFx+LxH20sCT5dCF3+uaJq6zPS4vB2bKnl1rhoFhQku3kaC7+0qZlQTAXxMbx3FxkPgy+rcaO2tzLWaPcJl/yh56ijCpP0sOaT9s2yl7YMnBizfMm90wek308x5p+nfHhtZUltzcGvXNs7ZQJj10cbarxM8CGaRdr0+Zk/2y2S7qoDQ/iyq1HGn/2UeU9i3MHJ5rn0vpZ2DjYQOQ+LSYe9r4y35lrX48905qeGHp1bKR5OU5bKykGOwJBE81TgukNCpFjN3kNfn2jaUFVuTQJOILRXKS8f5zCMf6T/Se3LxL3wYK8ySILTMGM2PXoeeKhkKe24I7YYbbsiZnO2LD42ezcoae5ILaOY9lIxrDkTn4s5NfxwrWMN3pdsBOK0504tOwUx1C5BmUv5DqDaZV54Nry61H8Pj2v6dcZH14uCjuHHFSTZcA+UR5lojHfPdkr6xttPyqb9Lf8ac5zsn8KP6oND3KCWw/Rv5i347k5d8r7Ot6IHdUmD4Zzf5mch3YqR7qWMc0cl9pOOBbynRWDjbIOyTXi00Y5q35knDrjDtssWwzuAWW9BO21f3rWERRmIrV2JtWh2SJZWzyt+3nifJJdxw/XMkdPojT123kJPZTJkvOke0WCPFiQq7LrgiP66zw1O2u7U17mRFZloPV606UjNoI9LX6qdnZwMBTfaXzRJdhECytrns0WaZx0VJv3cpbGs446R9DBapffUz0tuXRcq00+ppy/hGmZ81Dvie3d+omtq6z0yia5PMWxcjvFNoNMDMug81d0TzbQo7lGnu0f9WuLDumPszXoOZUvsU20p+qTrq22IneVSWlXW/9Gcu9UuySds6M7H2R9huPBMdaQXOLTs234CnusNgfFoBEkViJxg9ERFNbLrrkYqaySGK0E2j12mkv0CUneJVvqH47GotY8Rj7eK89F9u4kp+NQDPp+uf8Ni0EzP6RYzNkUn8cXpBBPeZt0rm3DdXo26yix7GHZ9YIwKHsxR7Ll4NHKh9Nt6vBNoV+NgQ7/uPVRH6ltHXq45wpj6Xxn8Lwns86v+h5cm+uT+EcLyLg21n4atidr7VmLDhcWgwXfxsbYEzseO8r6GPpbedf0U7Kn2q8Wd9Iu6pPGOOFY2Ksm1wlzP/lBxi/kCjEibarX4tOzbViVwysv7QrfvlcxeJCgreRb3JsQWFbSccPXGxSi+9GLTEyCjj5mO89PHR/BYiaIMG/4PaNvv60WhmHeat8JPnL7YzToZy0UOo4sdmqrWjLVdrWd0ZfZp8W+nbFhMTyi31B8B31Fj6ccFPycbCLxmdpFfVKbdBQ+4st0ejbrKHIf5ZigR2ErK3YHZS+Yrtgt2c979Oi3+WqWjY1xCv0sG4Z+6p9ZhYX6x7JvTSZDH5fNdM5w3TtWTz+d39J5554Zo+Ifi8Na3u7SvUWHi4rBgu1g0yNfe+wo62O0n9rjYJ4idwXZLJZk3Kk+NOYzbbbDosWZdW843xl+MePA0ElzlynfrHxmzc89m+0Gu1AMGsZyJxGjrwaFO7EYgWgmrjSn1d6ZUNwBPmEuMyk0FKO7NkjynXmctVDoOLLY6QJR40bbRd7O1H/m2MJsTUf1eeRV2R6QayS+i77i18h70NO6n3QIz1R+bW+10T6t1x32d/E2KHsxR7LT4HH45ajVvpX2hX7BD1bbDv+Y4+Rjq2+STa37qaDI+/eeW+OnuTuPTevW4PzmXOIfc22b+cLbokPyXYNtvfm3ylhNviNmPHaU9THKIP1c8os9TL+KHq5xj3TceV7kA5HR4spzbyTfmWtskCvYZkeX7Zn4xpL3bLtusnjkpU3hV4pBA4rihS8EhdHOvCdB4Q0Ac86Q4CUpxmuZwwq8vXtmQjzSb3DOJE/X3Eey1b5KOCnJJtlrR5ePxX7aJ15n8urzxJq2e2UxWGUv6CZ/kTLJ+3Q8sMFT28zn5kKVPa/1q903Y80xniVHuGeOl/kycqMvHBLXRfHoXYQdcm92EBlc7IjPzJcDHbdR9oJptV3ndfRLi31OalvoF2xqzSW2ruUAs6+MF1mV8VL+is9C+9pzZVPG9sxf8NzpwyRzOG5ye+QZZNLUsWKvJxlnFoMePS9oU10HvD4SO7o5F4Zc8a1zWWwLK255Om1f5APRK+ep5dxlj5rMYqd8Xlfc7fRPY51tVzNma/pyv1iDKAYNKKxgdQVEGEuCoikAJCmlIJp9dOsitonJpjdxNb4gtgZ21KlXtsF+Lh8fcaG+r9irYDOMK36afd3k97RDbcl0ZAOrT63Qr7T16G7qczCeyVfmI3PMB1cbH8JZ7JPmdfrfo1+tTcFOeHnbeXl1t3+B7DWdrrhvsiC+3c3ZtZjtjI/cBlE29UcmW3yemAtHmXOT29iIzOc5PN+RYZsjk8tzr5A910PPdf5wrW1ar8VWe7EzPFeLbGLHp7zSMs5B22h/sUHuN7d/ZAy3HVVPzzeMdC6KwSIOrDyf+zWeH7BRzSOZz9x+PpqL54UPZ+SbS4vBGQqcMoYkkBAMbpCNvkVg7S1Mnv5ZgBVjO565k3Yl6EL/aI8ga03ecP/xe4Wn+Ehkizo5dO+x11EfFxsqW7BProPaUZ8/2sa5dCy5dsmTz71z7pnPso/JmOjoldP07Y7MT3Y12pmFm9EujWO2N/xjtgu+eYxtPk+54IyXV0snYSX6Tn6qG+2t8qR+1pjaNulktf2AeyaPyT6eo8FOZKQzPkLfGEvS/yku9zZp1H+iQxjbjOc9Xx6M+SSbzFd71iSDzu9gMowfP+F34cMmyWOMbV6xrzd/pfg/7Sj2i3lmzzeNzzxsNenWa0fV8ystBl22Ul2tIrbRj9a85pok/onxuJc/ghzS521iY4KNLLt94j2KQYElJn4JxBQMLgAkKMyF7Whh0oXMkifdOwhSS59tcRPdXfq9aR9LT9P2yW4Tj0eJz0y4Yf7cloY8lp/iXEbbXNcjeZ7mzWWQ86rcB/Nvssh4umBs7fLxjNgwfatjN1x79crtX/Qx5rN8E/tlba028aVTY96wg9dve+0KPXLbH5yrLts8L5J9my+z5xX3TB4PbPfEelgjLB1k7XDFsfR5mifJ5GDJy0UeE6YOSa+rmdD5ky06jpvOYmuXf5I9zjyKTtU4bZVB9O1lq+BExnXbsUdPncsqqoQVtzwOew7nCtHZ9EGlzZEetZgPMlefWfYLdlA773zjpODBYUf6fLHXjIm2e1kx+M5B8QSaJIY8+FxJVoIi77+dhzkOnBgDMgSUNV4oAJ27tZbd472D+Y/k43lDcFaYSjxZPgqsWMk83qsk/8SX1a/LXxZ78lOkMG6U32hbyGG0STJvRyM2TPsM8Ftb6DYZHvbVOEl66v1oW8PHhf4PmZ98GGwS7mt/ww5dPjTs9DT/AUvJJjVdWmU3femUIcnSe9zVwbBTzd7DOiSf65wSHx55d1kO60Tt5U3nTtfKYe6bFiZ1nJa+SZaRo86f69F4vtmwwz81hqz7w1w16pXHkcXarjwHm9CWftu9Xjv29BObRJ2UK2HFssUmu/Y9uN61ociW+2PG+a4eonOab2M9rOshd1gyWr7v8c2B7XptTr+Gd9PMBxSDmTGq8KeACMBn7c1zCQozmF64MFrJyEyI6aU+6fri427iOrL5uz+vMfHgoMqdwVu004FvZtjS5OboxVIXGJW/ZodcHyM2LFnM2HNyULV3Lof3jyHkc+b6G3rkMkcZ8jZ53yBH/iyfY9K51wYhf8W2e/M2yG76Uuxu5swJbWbERfChqcOefbzPJD7c8qr9PT7bkSnqZ4yZ83t4rv3D9c6c05/p/AP8bH7o9Y9Tb5OrAblb4mjTUWQt8kTPBoOMqRvctbkLJtSnB0wVsgdbqizhWsZ1y2ONJffezadRtwpTVp6P8gv3G1e5/aXNTBuaPhM706avAMztRjGYQ1UJkg3+yk9rcoN2J7pcjovO3y1xPdm1xyaS5HM/Dp03yGIuSBln0eY7cmqCLpJ5SMIN8njbmnIfzHPYRxYM0wf5AvOYz+TyQJY9PU05M58kueK8jfPEsXt8ogwYdtjTqffZJq/q3/LS1yC76Uud+6TrWS8opg6NnJj+kvhokjf0NX5qb87TIGvKN5GThn76gp1iavjojQtl8oipYL/0CXYM37zR/6M74h+H7UyujuSe9HyXtWBL66dBDp1G+cv7RwZF390crQwE/1kyS7tdW1j9d+69k0/3ZNm1Y9BPbBSvc71Pjg3Tb/n8nNtsN9iFYjAZS2AOi1YIkLQY5ovY7sIo44wklr3gzeVpPa8F/lnzeeQbsVM1UWgCk4XEI5fZJjHjOR7JILwU84Xn2TwFj/I8bztybi28R+Md9hFdvT43ucxsciSXPj+Uc2Bsnct9rZyE6yvk6JmzQXbTl7Pi8mAcL29Hdjd16LGb9umMjyN5L3muTBz4psh7tfZXxsXJ/jG5qtlh8n1vbJwiY4tPVe/K+mfl+KqOwmq1ncbrV3hd+K+hyI99g60sf50cG5fksK/QvyN2elkx2C2kBKoJ4qjTdA79CaCAHhauGBjWvNJ2JLEUgauJsPO6JvtZ83kW+hE7Vdky/OqR5bCN5XfjnmnPDply28Tz3O+VxbBqE0NOq60le1xg9/qrbipbZ2xYslgy673QL37SXwZ8yGO9KGhfrse/dvKpNuzl8dAenfFxOO5ezJ71THNBnrNGzsO4k2SOeSCMJ3Z/yv/hWfhJ4dFX5CfJNEu3s8Yx2R/xZ+jb4lOLKyloijUyyVfzkYyZr7dn2fHKcaMPW775UbNbfl9i6NNteKX/zpqbYlAgjguBlZxSQsmO5gIh440ExSmJd6+QzYP7E84lyT8t8pkfm+97bSMsxJeO8DtHoThpnD+yYPUNc3jlaW2n8geZja+ipcWl0EnjSMbzxsa0OHjYimJQCj2JkyO/FPyqn1s5+8ramzzO0KEzPk6L/xGdhKkiNzTmv63/DNZGZJsx/4hdL+5rst/ry9Sv1aapX8PRfFdLthQejvLfGfEW7BrnDTlA8sDGfrjPxsR57zuJh0WP1xaDEoTmDpGnTYfzzBfCkFxCwNXGs5KPJjIJ5JHEckriXakYrPmx4b7JiaN/8cKsdleuH2zF+YShtBhsC0bO4R6vDjmrrIfCs/bXxPL59851ftHLGxtT46Cml8rqvB62Uc1+mlec8uz5s/pMWDzyS8H2qKwyv7kOnKl/49gmjztjxLhNP6WW/2H35JPO+HgaY0eO1duZfqvF38H9ONbJtj4ttwTdOmWfacO0rrXGe7MMR/lJ8s9R/uu1ndWvyKUH3G02C+2MjVlrjr17zbZ0yvdKG+7pxzPZ+N2J+yWLwWqS9bxYy4IdgzPvJ8+vDgor2OO9HSieAkgSZWvifhrLO+esdiq7M5E9JVyrz4F8Fl+mzVW+cJ3GtuYN97RPzl7qO/HYu1iZ+nbGhsXwoY8q9gtjWf7Z7N5oO3OsytxNMucsNMrUrIv45TDGZzOo471S9w7bzuZx85f44eq1Y5Orw0Zv2XdGXOZjnGyX03JL0KFTdpP9zrF6ZQj9ohwSL1Z+dcWQ5B9Xnxk6O+S3dNJ70Rad8pj+zBnvPH+ZDTv1HmHvU/suWQxuySQHveUFJE8eIaBzICXAR4LitED97rtnmXP59TzXNdirxU461quvVfbc3yPnDj3iQh7ml99nSKyYvtVxlaX0VZJcduVPx5hw3fRSUtE36q36OP8xrWmr3AZ6HuZJn+CDx1dr4jj8ZLCMfbVfuN7jRvwYX0722h890zgN10d9LnzezKNl38e9GFtJF7HryNrxzva7RDZlLNg/5KqD/9cbfB39IL6JzJ/MaVPe3WFMi4eReJ3J/iZX4r/jGG2kvnH49YlBYeMlcacyt/pP2qe17Ukvhz1P8Wf4FpRzbW+Vl/b+n/S12mrZYjAYKgZCSBwdvxy+JSENOAnykaA4LVApBpt/Z29buEISVp/3XCsnFZ9sLyKPOeJ1vhCEcXrm7+izMZ/PH86DDJ6vrKjOFy0YUQ/VocMeMYeMfpVW5UjXJ79oJmYKnh7z1/JWLSf15NAkQ9xgSnqH44t03+Zv9H3NBk85Itdn5/zJzm8SH712eet+6oOevCn+iXmvkZ0WG5l5SvXove6Ueyb7W7x0ytJiy922Ly4Gq359rKHRxoZNwv2YL5TDwEBnzjzFnxSDL3sn2+XaYGiv/dLF4J5hup9JoD4t9o3OOS1QK4WHqbMkyt6kY47daI/mMVT23oVT+43KncvV+FISecrlaezfbMNRXfP+E2NjRA9zMc7lvOI8Z2JgcW+xy1F+ic/VFipnYnGEQx0zXOu8b3R9ZLftJTfZJh2DjcJHflK96doQH90yJFkGjrqmvZMsmy2VF9FXdaj2y8Ypcm8YM3v+rucz890pvr7ahpJ/etho8r3MF/NFqw1mjNE65177htzVZKu9OXk2Nf+8fzH4tTl8YlCcknj1D5kc2VeTTrg+6vMuz79m2Ss2LF5IAm+Vtm93f2JsjOg28+VoRI6nvlewKi/IVhETbfXgy7RbNkb3S9QVur9jzDTEx1lrg8WA3lM/v5MsTzGV+zjjNOrTkzfFP2f/ZLCqS66X49yMW0c/a/5TfN0piyVf1z3JP8p315h7Osl8PRvsM306RT+JjdNtuGdfnnW9E1IMzgZnYlCYiXe2vEfjTUhcU5LNkZzW869Zdkuf8NVm/bcUPS81lbFP99PE2BiR9e0W0uCPF7Jq5pXwsiz+SUVAsFe1j7xkR9u28vVC3Ue4Ob2v2H/vhcrrj+TDmUeV651kqfpIGXvwHnSJ8leYDc+KnPtgXu1Qnbsy9qvaz8x3pq8v1m/YjsLG6X6V+UJs7jFo6meMYbZ7lW8actelcr7KHl/hPO9VDMqLRe8C1vVCMst5E4PCTLyTbOQOSCvpTJDhJT46SfYrd4SLF5PA2yx2zx5nYmyM6Dzz5WhEjqe+ymq4PsMfOk8ey8ZmQ3wZrvxeZMHiY6zml6k9mXL5Gs9fkmNm+qghPk5dGw7srP59J1l2Y+ZAr+b3jZm+P3GsmfnuLF9fGquSf5TvXaY6/Gb6I7B5we8MTtOtIXdNm7PD9sxd/wM0FIOzgZoYFGcl3rjoefWWRNm8YFYW4Jck/5NkpxisJ5TdZDsxNnbnOWDbXIwP+ozM5+qrrIbriTId5ZL4/DFffBlKfxVW5XrEc3phMm0Z2rT8Ya7KHKO55iU5ZqKP9CezycYzOVh5rKMYcPOWYmOm708cy4zRzvmm2VDeCy6NVck/L4k7WQvd7IndUr88f18S46LPS2zYyfAl9vkKZKUYnO2kiUFxVuKNCcSrtyTKlHxGjy9J/ifJTjFIMTh9QVFWw7U3Rp3tzJfCva8oSS5LMa8LfW1cd5yo7pUXnjS/9/iSHOO0vcuXYm+1s2uMmfJ86lgDvH2NPjHjs9O3Z72TXBqrwsPLfCzx7s1r2u5S2yWORJeX2TDNz3H4fYFicDZEE4PirMQbk4lXb0mUmoh6r1+SwE6S3f2S67VxQ7uYZPOX5cBbQ/9L206MjRE9Zr4cjcjx1FdZDdcn+PWJH89PONRnlX/DU+SqFi5V95zvgfOX5JiZPlJbX/SvV87g7h3HjHwE9jiDb7YAAAZWSURBVMTuT2taePb466/vqINHppn5rojzgfjM7XxprEr+eWUh85SPW235+Fqph4HT20gMvdKGp+s2M8e/8VjXFoNvbJhuwAiKU15iu/3xYYwVi0fg7WvR8U1iY+bL0TTbywtJz1+Yc8sS5gofLzct7UPbr4lJrw1e0e5N4sPNxStswhz+OK3Y6i3zXUXWS9gLOSsrxK4oZGKRnXKn5IFNtnD/XTcmROYrbHgJO+/E8aAsFIODBgTAzq8MYvfhRR72YA8GYAAGYAAGYAAGYGCEAYpBihKKEhiAARiAARiAARiAARiAgQUZoBhc0Okjuwf0ZfcJBmAABmAABmAABmAABj6DAYpBikF2gWAABmAABmAABmAABmAABhZkgGJwQaezk/MZOzn4ET/CAAzAAAzAAAzAAAyMMEAxSDHILhAMwAAMwAAMwAAMwAAMwMCCDFAMLuj0kd0D+rL7BAMwAAMwAAMwAAMwAAOfwQDFIMUgu0AwAAMwAAMwAAMwAAMwAAMLMkAxuKDT2cn5jJ0c/IgfYQAGYAAGYAAGYAAGRhigGKQYZBcIBmAABmAABmAABmAABmBgQQYoBhd0+sjuAX3ZfYIBGIABGIABGIABGICBz2CAYpBikF0gGIABGIABGIABGIABGICBBRmgGFzQ6ezkfMZODn7EjzAAAzAAAzAAAzAAAyMMUAxSDLILBAMwAAMwAAMwAAMwAAMwsCADFIMLOn1k94C+7D7BAAzAAAzAAAzAAAzAwGcwQDFIMcguEAzAAAzAAAzAAAzAAAzAwIIMUAwu6HR2cj5jJwc/4kcYgAEYgAEYgAEYgIERBigGKQbZBYIBGIABGIABGIABGIABGFiQAYrBBZ0+sntAX3afYAAGYAAGYAAGYAAGYOAzGKAYpBhkFwgGYAAGYAAGYAAGYAAGYGBBBigGF3Q6OzmfsZODH/EjDMAADMAADMAADMDACAMUgxSD7ALBAAzAAAzAAAzAAAzAAAwsyADF4IJOH9k9oC+7TzAAAzAAAzAAAzAAAzDwGQxQDFIMsgsEAzAAAzAAAzAAAzAAAzCwIAMUgws6nZ2cz9jJwY/4EQZgAAZgAAZgAAZgYIQBikGKQXaBYAAGYAAGYAAGYAAGYAAGFmSAYnBBp4/sHtCX3ScYgAEYgAEYgAEYgAEY+AwGKAYpBtkFggEYgAEYgAEYgAEYgAEYWJABisEFnc5Ozmfs5OBH/AgDMAADMAADMAADMDDCAMUgxSC7QDAAAzAAAzAAAzAAAzAAAwsyQDG4oNNHdg/oy+4TDMAADMAADMAADMAADHwGAxSDFIPsAsEADMAADMAADMAADMAADCzIAMXggk5nJ+czdnLwI36EARiAARiAARiAARgYYYBikGKQXSAYgAEYgAEYgAEYgAEYgIEFGaAYXNDpI7sH9GX3CQZgAAZgAAZgAAZgAAY+gwGKQYpBdoFgAAZgAAZgAAZgAAZgAAYWZIBicEGns5PzGTs5+BE/wgAMwAAMwAAMwAAMjDBAMUgxyC4QDMAADMAADMAADMAADMDAggxQDC7o9JHdA/qy+wQDMAADMAADMAADMAADn8EAxSDFILtAMAADMAADMAADMAADMAADCzJAMbig09nJ+YydHPyIH2EABmAABmAABmAABkYYoBikGGQXCAZgAAZgAAZgAAZgAAZgYEEGKAYXdPrI7gF92X2CARiAARiAARiAARiAgc9ggGKQYpBdIBiAARiAARiAARiAARiAgQUZoBhc0Ons5HzGTg5+xI8wAAMwAAMwAAMwAAMjDFAMUgyyCwQDMAADMAADMAADMAADMLAgAxSDCzp9ZPeAvuw+wQAMwAAMwAAMwAAMwMBnMEAxSDHILhAMwAAMwAAMwAAMwAAMwMCCDFAMLuh0dnI+YycHP+JHGIABGIABGIABGICBEQYoBikG2QWCARiAARiAARiAARiAARhYkAGKwQWdPrJ7QF92n2AABmAABmAABmAABmDgMxigGKQYZBcIBmAABmAABmAABmAABmBgQQYoBhd0Ojs5n7GTgx/xIwzAAAzAAAzAAAzAwAgDFIMUg+wCwQAMwAAMwAAMwAAMwAAMLMgAxeCCTh/ZPaAvu08wAAMwAAMwAAMwAAMw8BkMUAxSDLILBAMwAAMwAAMwAAMwAAMwsCAD/w9zqJG7l+x+YAAAAABJRU5ErkJggg==)"
   ]
  },
  {
   "cell_type": "code",
   "execution_count": 31,
   "metadata": {
    "executionInfo": {
     "elapsed": 276,
     "status": "ok",
     "timestamp": 1625625044097,
     "user": {
      "displayName": "권혜윤",
      "photoUrl": "",
      "userId": "13599692245962426984"
     },
     "user_tz": -540
    },
    "id": "VBdATaTZxl6v"
   },
   "outputs": [],
   "source": [
    "list_a = [ [1, 2, 3] , [4, 5, 6], \"안녕하세요\" ] "
   ]
  },
  {
   "cell_type": "code",
   "execution_count": 32,
   "metadata": {
    "colab": {
     "base_uri": "https://localhost:8080/",
     "height": 35
    },
    "executionInfo": {
     "elapsed": 263,
     "status": "ok",
     "timestamp": 1625625053708,
     "user": {
      "displayName": "권혜윤",
      "photoUrl": "",
      "userId": "13599692245962426984"
     },
     "user_tz": -540
    },
    "id": "pofYpPCUzaHx",
    "outputId": "5ad54962-2bc7-4fb6-9cdf-018c2ea348c3"
   },
   "outputs": [
    {
     "data": {
      "application/vnd.google.colaboratory.intrinsic+json": {
       "type": "string"
      },
      "text/plain": [
       "'안녕하세요'"
      ]
     },
     "execution_count": 32,
     "metadata": {
      "tags": []
     },
     "output_type": "execute_result"
    }
   ],
   "source": [
    "list_a[2]"
   ]
  },
  {
   "cell_type": "code",
   "execution_count": 33,
   "metadata": {
    "colab": {
     "base_uri": "https://localhost:8080/",
     "height": 35
    },
    "executionInfo": {
     "elapsed": 271,
     "status": "ok",
     "timestamp": 1625625071219,
     "user": {
      "displayName": "권혜윤",
      "photoUrl": "",
      "userId": "13599692245962426984"
     },
     "user_tz": -540
    },
    "id": "bQ2WRopZzcdw",
    "outputId": "54124296-a660-40d1-e31f-155fa743eaa2"
   },
   "outputs": [
    {
     "data": {
      "application/vnd.google.colaboratory.intrinsic+json": {
       "type": "string"
      },
      "text/plain": [
       "'세'"
      ]
     },
     "execution_count": 33,
     "metadata": {
      "tags": []
     },
     "output_type": "execute_result"
    }
   ],
   "source": [
    "list_a[2][3]"
   ]
  },
  {
   "cell_type": "code",
   "execution_count": 34,
   "metadata": {
    "executionInfo": {
     "elapsed": 271,
     "status": "ok",
     "timestamp": 1625625141999,
     "user": {
      "displayName": "권혜윤",
      "photoUrl": "",
      "userId": "13599692245962426984"
     },
     "user_tz": -540
    },
    "id": "GDH2LmpLzgva"
   },
   "outputs": [],
   "source": [
    "list_a = [273, 32, 103, \"문자열\", True, False]"
   ]
  },
  {
   "cell_type": "code",
   "execution_count": 35,
   "metadata": {
    "colab": {
     "base_uri": "https://localhost:8080/",
     "height": 35
    },
    "executionInfo": {
     "elapsed": 280,
     "status": "ok",
     "timestamp": 1625625172439,
     "user": {
      "displayName": "권혜윤",
      "photoUrl": "",
      "userId": "13599692245962426984"
     },
     "user_tz": -540
    },
    "id": "suubD86mzx5j",
    "outputId": "6178d5cc-8562-40dd-8080-6e7d4adf9981"
   },
   "outputs": [
    {
     "data": {
      "application/vnd.google.colaboratory.intrinsic+json": {
       "type": "string"
      },
      "text/plain": [
       "'문자열'"
      ]
     },
     "execution_count": 35,
     "metadata": {
      "tags": []
     },
     "output_type": "execute_result"
    }
   ],
   "source": [
    "list_a[3]"
   ]
  },
  {
   "cell_type": "code",
   "execution_count": 36,
   "metadata": {
    "colab": {
     "base_uri": "https://localhost:8080/",
     "height": 35
    },
    "executionInfo": {
     "elapsed": 265,
     "status": "ok",
     "timestamp": 1625625271269,
     "user": {
      "displayName": "권혜윤",
      "photoUrl": "",
      "userId": "13599692245962426984"
     },
     "user_tz": -540
    },
    "id": "sXbt6y2sz5VP",
    "outputId": "10bf13fb-fcd7-4b01-e99f-9cbe9e81a666"
   },
   "outputs": [
    {
     "data": {
      "application/vnd.google.colaboratory.intrinsic+json": {
       "type": "string"
      },
      "text/plain": [
       "'열'"
      ]
     },
     "execution_count": 36,
     "metadata": {
      "tags": []
     },
     "output_type": "execute_result"
    }
   ],
   "source": [
    "list_a[3][2]"
   ]
  },
  {
   "cell_type": "code",
   "execution_count": 37,
   "metadata": {
    "colab": {
     "base_uri": "https://localhost:8080/"
    },
    "executionInfo": {
     "elapsed": 259,
     "status": "ok",
     "timestamp": 1625625297691,
     "user": {
      "displayName": "권혜윤",
      "photoUrl": "",
      "userId": "13599692245962426984"
     },
     "user_tz": -540
    },
    "id": "M7gbyfrW0Rde",
    "outputId": "e04cb18f-a243-44f7-d61d-6f78baccd70e"
   },
   "outputs": [
    {
     "data": {
      "text/plain": [
       "273"
      ]
     },
     "execution_count": 37,
     "metadata": {
      "tags": []
     },
     "output_type": "execute_result"
    }
   ],
   "source": [
    "list_a[0]"
   ]
  },
  {
   "cell_type": "code",
   "execution_count": 38,
   "metadata": {
    "colab": {
     "base_uri": "https://localhost:8080/",
     "height": 171
    },
    "executionInfo": {
     "elapsed": 268,
     "status": "error",
     "timestamp": 1625625334833,
     "user": {
      "displayName": "권혜윤",
      "photoUrl": "",
      "userId": "13599692245962426984"
     },
     "user_tz": -540
    },
    "id": "Z2MPv6md0YCW",
    "outputId": "2d594387-03f4-4246-c9f5-c2028ec4f34b"
   },
   "outputs": [
    {
     "ename": "TypeError",
     "evalue": "ignored",
     "output_type": "error",
     "traceback": [
      "\u001b[0;31m---------------------------------------------------------------------------\u001b[0m",
      "\u001b[0;31mTypeError\u001b[0m                                 Traceback (most recent call last)",
      "\u001b[0;32m<ipython-input-38-6d129c3fbdbd>\u001b[0m in \u001b[0;36m<module>\u001b[0;34m()\u001b[0m\n\u001b[0;32m----> 1\u001b[0;31m \u001b[0mlist_a\u001b[0m\u001b[0;34m[\u001b[0m\u001b[0;36m0\u001b[0m\u001b[0;34m]\u001b[0m\u001b[0;34m[\u001b[0m\u001b[0;36m2\u001b[0m\u001b[0;34m]\u001b[0m\u001b[0;34m\u001b[0m\u001b[0;34m\u001b[0m\u001b[0m\n\u001b[0m",
      "\u001b[0;31mTypeError\u001b[0m: 'int' object is not subscriptable"
     ]
    }
   ],
   "source": [
    "list_a[0][2]"
   ]
  },
  {
   "cell_type": "code",
   "execution_count": 39,
   "metadata": {
    "executionInfo": {
     "elapsed": 855,
     "status": "ok",
     "timestamp": 1625631866853,
     "user": {
      "displayName": "권혜윤",
      "photoUrl": "",
      "userId": "13599692245962426984"
     },
     "user_tz": -540
    },
    "id": "ue-DObev0hF1"
   },
   "outputs": [],
   "source": [
    "list_a = [100, 200, 300, 400, 500, 600]"
   ]
  },
  {
   "cell_type": "code",
   "execution_count": 40,
   "metadata": {
    "executionInfo": {
     "elapsed": 278,
     "status": "ok",
     "timestamp": 1625631914037,
     "user": {
      "displayName": "권혜윤",
      "photoUrl": "",
      "userId": "13599692245962426984"
     },
     "user_tz": -540
    },
    "id": "msyD86yQNZuK"
   },
   "outputs": [],
   "source": [
    "del list_a[1]"
   ]
  },
  {
   "cell_type": "code",
   "execution_count": 41,
   "metadata": {
    "colab": {
     "base_uri": "https://localhost:8080/"
    },
    "executionInfo": {
     "elapsed": 299,
     "status": "ok",
     "timestamp": 1625631919305,
     "user": {
      "displayName": "권혜윤",
      "photoUrl": "",
      "userId": "13599692245962426984"
     },
     "user_tz": -540
    },
    "id": "IZD_TpanNnOv",
    "outputId": "a0873797-9819-472d-82de-e915d9dff9f1"
   },
   "outputs": [
    {
     "data": {
      "text/plain": [
       "[100, 300, 400, 500, 600]"
      ]
     },
     "execution_count": 41,
     "metadata": {
      "tags": []
     },
     "output_type": "execute_result"
    }
   ],
   "source": [
    "list_a"
   ]
  },
  {
   "cell_type": "code",
   "execution_count": 42,
   "metadata": {
    "executionInfo": {
     "elapsed": 263,
     "status": "ok",
     "timestamp": 1625632073303,
     "user": {
      "displayName": "권혜윤",
      "photoUrl": "",
      "userId": "13599692245962426984"
     },
     "user_tz": -540
    },
    "id": "JjyzrSFENogZ"
   },
   "outputs": [],
   "source": [
    "del list_a[ 1: 5]"
   ]
  },
  {
   "cell_type": "code",
   "execution_count": 43,
   "metadata": {
    "colab": {
     "base_uri": "https://localhost:8080/"
    },
    "executionInfo": {
     "elapsed": 265,
     "status": "ok",
     "timestamp": 1625632079351,
     "user": {
      "displayName": "권혜윤",
      "photoUrl": "",
      "userId": "13599692245962426984"
     },
     "user_tz": -540
    },
    "id": "D3LzcY4FOOPC",
    "outputId": "945cbf9e-8ff8-4da2-c5ed-9111baef68c4"
   },
   "outputs": [
    {
     "data": {
      "text/plain": [
       "[100]"
      ]
     },
     "execution_count": 43,
     "metadata": {
      "tags": []
     },
     "output_type": "execute_result"
    }
   ],
   "source": [
    "list_a"
   ]
  },
  {
   "cell_type": "code",
   "execution_count": 44,
   "metadata": {
    "executionInfo": {
     "elapsed": 301,
     "status": "ok",
     "timestamp": 1625632125816,
     "user": {
      "displayName": "권혜윤",
      "photoUrl": "",
      "userId": "13599692245962426984"
     },
     "user_tz": -540
    },
    "id": "9lZloFLyOPty"
   },
   "outputs": [],
   "source": [
    "list_a = [100, 200, 300, 400, 500, 600]"
   ]
  },
  {
   "cell_type": "code",
   "execution_count": 45,
   "metadata": {
    "executionInfo": {
     "elapsed": 278,
     "status": "ok",
     "timestamp": 1625632213747,
     "user": {
      "displayName": "권혜윤",
      "photoUrl": "",
      "userId": "13599692245962426984"
     },
     "user_tz": -540
    },
    "id": "UnMTWQBBObCn"
   },
   "outputs": [],
   "source": [
    "del list_a [ : 3]"
   ]
  },
  {
   "cell_type": "code",
   "execution_count": 46,
   "metadata": {
    "colab": {
     "base_uri": "https://localhost:8080/"
    },
    "executionInfo": {
     "elapsed": 289,
     "status": "ok",
     "timestamp": 1625632223877,
     "user": {
      "displayName": "권혜윤",
      "photoUrl": "",
      "userId": "13599692245962426984"
     },
     "user_tz": -540
    },
    "id": "2MuZ616bOwhR",
    "outputId": "8aa5f993-3d5f-40b2-cb6e-5b5c05661d05"
   },
   "outputs": [
    {
     "data": {
      "text/plain": [
       "[400, 500, 600]"
      ]
     },
     "execution_count": 46,
     "metadata": {
      "tags": []
     },
     "output_type": "execute_result"
    }
   ],
   "source": [
    "list_a"
   ]
  },
  {
   "cell_type": "code",
   "execution_count": 47,
   "metadata": {
    "executionInfo": {
     "elapsed": 358,
     "status": "ok",
     "timestamp": 1625632275680,
     "user": {
      "displayName": "권혜윤",
      "photoUrl": "",
      "userId": "13599692245962426984"
     },
     "user_tz": -540
    },
    "id": "z_NwIxISOy_W"
   },
   "outputs": [],
   "source": [
    "list_a = [100, 200, 300, 400, 500, 600]"
   ]
  },
  {
   "cell_type": "code",
   "execution_count": 48,
   "metadata": {
    "executionInfo": {
     "elapsed": 248,
     "status": "ok",
     "timestamp": 1625632405860,
     "user": {
      "displayName": "권혜윤",
      "photoUrl": "",
      "userId": "13599692245962426984"
     },
     "user_tz": -540
    },
    "id": "2innwT9GO_nj"
   },
   "outputs": [],
   "source": [
    "del list_a[2 : ]"
   ]
  },
  {
   "cell_type": "code",
   "execution_count": 49,
   "metadata": {
    "colab": {
     "base_uri": "https://localhost:8080/"
    },
    "executionInfo": {
     "elapsed": 277,
     "status": "ok",
     "timestamp": 1625632411387,
     "user": {
      "displayName": "권혜윤",
      "photoUrl": "",
      "userId": "13599692245962426984"
     },
     "user_tz": -540
    },
    "id": "xb7IDQLBPfbL",
    "outputId": "de332579-f91c-4a60-fda8-49e7ba6f0b0e"
   },
   "outputs": [
    {
     "data": {
      "text/plain": [
       "[100, 200]"
      ]
     },
     "execution_count": 49,
     "metadata": {
      "tags": []
     },
     "output_type": "execute_result"
    }
   ],
   "source": [
    "list_a"
   ]
  },
  {
   "cell_type": "code",
   "execution_count": 50,
   "metadata": {
    "executionInfo": {
     "elapsed": 378,
     "status": "ok",
     "timestamp": 1625632466170,
     "user": {
      "displayName": "권혜윤",
      "photoUrl": "",
      "userId": "13599692245962426984"
     },
     "user_tz": -540
    },
    "id": "e8lSobrsPgxn"
   },
   "outputs": [],
   "source": [
    "list_a = [100, 200, 300, 400, 500, 600]"
   ]
  },
  {
   "cell_type": "code",
   "execution_count": 51,
   "metadata": {
    "colab": {
     "base_uri": "https://localhost:8080/"
    },
    "executionInfo": {
     "elapsed": 254,
     "status": "ok",
     "timestamp": 1625632505609,
     "user": {
      "displayName": "권혜윤",
      "photoUrl": "",
      "userId": "13599692245962426984"
     },
     "user_tz": -540
    },
    "id": "lu2WNNqDPuH6",
    "outputId": "c3943577-044a-464b-fbf5-3d800b8e5b05"
   },
   "outputs": [
    {
     "data": {
      "text/plain": [
       "300"
      ]
     },
     "execution_count": 51,
     "metadata": {
      "tags": []
     },
     "output_type": "execute_result"
    }
   ],
   "source": [
    "list_a.pop(2)"
   ]
  },
  {
   "cell_type": "code",
   "execution_count": 52,
   "metadata": {
    "colab": {
     "base_uri": "https://localhost:8080/"
    },
    "executionInfo": {
     "elapsed": 259,
     "status": "ok",
     "timestamp": 1625632511528,
     "user": {
      "displayName": "권혜윤",
      "photoUrl": "",
      "userId": "13599692245962426984"
     },
     "user_tz": -540
    },
    "id": "fpHxOHcrP3yQ",
    "outputId": "1bbc0db6-ce08-4f10-db7e-bf3890bf53bd"
   },
   "outputs": [
    {
     "data": {
      "text/plain": [
       "[100, 200, 400, 500, 600]"
      ]
     },
     "execution_count": 52,
     "metadata": {
      "tags": []
     },
     "output_type": "execute_result"
    }
   ],
   "source": [
    "list_a"
   ]
  },
  {
   "cell_type": "code",
   "execution_count": 53,
   "metadata": {
    "executionInfo": {
     "elapsed": 374,
     "status": "ok",
     "timestamp": 1625632697526,
     "user": {
      "displayName": "권혜윤",
      "photoUrl": "",
      "userId": "13599692245962426984"
     },
     "user_tz": -540
    },
    "id": "gEnGoOsXP5OA"
   },
   "outputs": [],
   "source": [
    "list_c = [300, 400, 100, 200, 100, 100, 500, 900,100]"
   ]
  },
  {
   "cell_type": "code",
   "execution_count": 54,
   "metadata": {
    "executionInfo": {
     "elapsed": 265,
     "status": "ok",
     "timestamp": 1625632777255,
     "user": {
      "displayName": "권혜윤",
      "photoUrl": "",
      "userId": "13599692245962426984"
     },
     "user_tz": -540
    },
    "id": "CDhyBHrcQmm-"
   },
   "outputs": [],
   "source": [
    "list_c.remove(100)"
   ]
  },
  {
   "cell_type": "code",
   "execution_count": 55,
   "metadata": {
    "colab": {
     "base_uri": "https://localhost:8080/"
    },
    "executionInfo": {
     "elapsed": 281,
     "status": "ok",
     "timestamp": 1625632787173,
     "user": {
      "displayName": "권혜윤",
      "photoUrl": "",
      "userId": "13599692245962426984"
     },
     "user_tz": -540
    },
    "id": "IPcL7RLuQ6GV",
    "outputId": "5e10cbc8-9731-486a-84b9-be7b422c99c0"
   },
   "outputs": [
    {
     "data": {
      "text/plain": [
       "[300, 400, 200, 100, 100, 500, 900, 100]"
      ]
     },
     "execution_count": 55,
     "metadata": {
      "tags": []
     },
     "output_type": "execute_result"
    }
   ],
   "source": [
    "list_c"
   ]
  },
  {
   "cell_type": "code",
   "execution_count": 56,
   "metadata": {
    "colab": {
     "base_uri": "https://localhost:8080/"
    },
    "executionInfo": {
     "elapsed": 272,
     "status": "ok",
     "timestamp": 1625632905229,
     "user": {
      "displayName": "권혜윤",
      "photoUrl": "",
      "userId": "13599692245962426984"
     },
     "user_tz": -540
    },
    "id": "Xob7cFEJQ8hF",
    "outputId": "3f45760e-8d45-43e8-bc35-8cda6a0964c7"
   },
   "outputs": [
    {
     "data": {
      "text/plain": [
       "True"
      ]
     },
     "execution_count": 56,
     "metadata": {
      "tags": []
     },
     "output_type": "execute_result"
    }
   ],
   "source": [
    "900 in list_c"
   ]
  },
  {
   "cell_type": "code",
   "execution_count": 57,
   "metadata": {
    "colab": {
     "base_uri": "https://localhost:8080/"
    },
    "executionInfo": {
     "elapsed": 293,
     "status": "ok",
     "timestamp": 1625632991740,
     "user": {
      "displayName": "권혜윤",
      "photoUrl": "",
      "userId": "13599692245962426984"
     },
     "user_tz": -540
    },
    "id": "-FL2omb5RZVs",
    "outputId": "99e7941c-cf8f-4b56-bdf2-eeb6e183c936"
   },
   "outputs": [
    {
     "data": {
      "text/plain": [
       "False"
      ]
     },
     "execution_count": 57,
     "metadata": {
      "tags": []
     },
     "output_type": "execute_result"
    }
   ],
   "source": [
    "800 in list_c"
   ]
  },
  {
   "cell_type": "code",
   "execution_count": null,
   "metadata": {
    "id": "--c-NrsbRudJ"
   },
   "outputs": [],
   "source": []
  },
  {
   "cell_type": "code",
   "execution_count": 58,
   "metadata": {
    "colab": {
     "base_uri": "https://localhost:8080/"
    },
    "executionInfo": {
     "elapsed": 277,
     "status": "ok",
     "timestamp": 1625633020171,
     "user": {
      "displayName": "권혜윤",
      "photoUrl": "",
      "userId": "13599692245962426984"
     },
     "user_tz": -540
    },
    "id": "ih3HTRvfRyV1",
    "outputId": "7e8aa587-7a0a-4ba3-e5a6-af21ff375da4"
   },
   "outputs": [
    {
     "data": {
      "text/plain": [
       "False"
      ]
     },
     "execution_count": 58,
     "metadata": {
      "tags": []
     },
     "output_type": "execute_result"
    }
   ],
   "source": [
    "900 not in list_c"
   ]
  },
  {
   "cell_type": "code",
   "execution_count": 59,
   "metadata": {
    "colab": {
     "base_uri": "https://localhost:8080/"
    },
    "executionInfo": {
     "elapsed": 4,
     "status": "ok",
     "timestamp": 1625633021277,
     "user": {
      "displayName": "권혜윤",
      "photoUrl": "",
      "userId": "13599692245962426984"
     },
     "user_tz": -540
    },
    "id": "TlSp21MNRyV1",
    "outputId": "6db9fbe1-3bcb-4948-b153-6c2135eb045f"
   },
   "outputs": [
    {
     "data": {
      "text/plain": [
       "True"
      ]
     },
     "execution_count": 59,
     "metadata": {
      "tags": []
     },
     "output_type": "execute_result"
    }
   ],
   "source": [
    "800 not in list_c"
   ]
  },
  {
   "cell_type": "code",
   "execution_count": 60,
   "metadata": {
    "colab": {
     "base_uri": "https://localhost:8080/"
    },
    "executionInfo": {
     "elapsed": 273,
     "status": "ok",
     "timestamp": 1625633353005,
     "user": {
      "displayName": "권혜윤",
      "photoUrl": "",
      "userId": "13599692245962426984"
     },
     "user_tz": -540
    },
    "id": "j6j_OakIR1uj",
    "outputId": "4a3e9f32-81af-4be9-8489-ae58329a6f1c"
   },
   "outputs": [
    {
     "name": "stdout",
     "output_type": "stream",
     "text": [
      "number=0\n",
      "number=1\n",
      "number=2\n",
      "number=3\n",
      "number=4\n"
     ]
    }
   ],
   "source": [
    "number = 0\n",
    "\n",
    "while(number < 5):\n",
    "  print(\"number={}\".format(number))\n",
    "  number = number+1"
   ]
  },
  {
   "cell_type": "code",
   "execution_count": 61,
   "metadata": {
    "executionInfo": {
     "elapsed": 357,
     "status": "ok",
     "timestamp": 1625633422438,
     "user": {
      "displayName": "권혜윤",
      "photoUrl": "",
      "userId": "13599692245962426984"
     },
     "user_tz": -540
    },
    "id": "aBDd3ttqTGqI"
   },
   "outputs": [],
   "source": [
    "list_c = [300, 400, 100, 200, 100, 100, 500, 900,100]"
   ]
  },
  {
   "cell_type": "code",
   "execution_count": 62,
   "metadata": {
    "colab": {
     "base_uri": "https://localhost:8080/"
    },
    "executionInfo": {
     "elapsed": 292,
     "status": "ok",
     "timestamp": 1625633731304,
     "user": {
      "displayName": "권혜윤",
      "photoUrl": "",
      "userId": "13599692245962426984"
     },
     "user_tz": -540
    },
    "id": "7kJ-Ej4xTXle",
    "outputId": "2d35c9a3-9a8d-475e-df5b-201cf52dd86a"
   },
   "outputs": [
    {
     "name": "stdout",
     "output_type": "stream",
     "text": [
      "list_c에 100이 포함되 있나벼\n",
      "100 1개 지움\n",
      "list_c=[300, 400, 200, 100, 100, 500, 900, 100]\n",
      "====================================================================================================\n",
      "list_c에 100이 포함되 있나벼\n",
      "100 1개 지움\n",
      "list_c=[300, 400, 200, 100, 500, 900, 100]\n",
      "====================================================================================================\n",
      "list_c에 100이 포함되 있나벼\n",
      "100 1개 지움\n",
      "list_c=[300, 400, 200, 500, 900, 100]\n",
      "====================================================================================================\n",
      "list_c에 100이 포함되 있나벼\n",
      "100 1개 지움\n",
      "list_c=[300, 400, 200, 500, 900]\n",
      "====================================================================================================\n"
     ]
    }
   ],
   "source": [
    "while( 100 in list_c ):\n",
    "  print(\"list_c에 100이 포함되 있나벼\")\n",
    "  list_c.remove(100)\n",
    "  print(\"100 1개 지움\")\n",
    "  print(\"list_c={}\".format(list_c))\n",
    "  print(\"=\"*100)"
   ]
  },
  {
   "cell_type": "code",
   "execution_count": 63,
   "metadata": {
    "colab": {
     "base_uri": "https://localhost:8080/"
    },
    "executionInfo": {
     "elapsed": 271,
     "status": "ok",
     "timestamp": 1625633786035,
     "user": {
      "displayName": "권혜윤",
      "photoUrl": "",
      "userId": "13599692245962426984"
     },
     "user_tz": -540
    },
    "id": "Dm27pfwAUjAs",
    "outputId": "17f3cf81-2b9c-473c-8009-12249b3ca96a"
   },
   "outputs": [
    {
     "data": {
      "text/plain": [
       "[300, 400, 200, 500, 900]"
      ]
     },
     "execution_count": 63,
     "metadata": {
      "tags": []
     },
     "output_type": "execute_result"
    }
   ],
   "source": [
    "list_c"
   ]
  },
  {
   "cell_type": "code",
   "execution_count": 64,
   "metadata": {
    "executionInfo": {
     "elapsed": 269,
     "status": "ok",
     "timestamp": 1625633874235,
     "user": {
      "displayName": "권혜윤",
      "photoUrl": "",
      "userId": "13599692245962426984"
     },
     "user_tz": -540
    },
    "id": "1k13GseJUwYZ"
   },
   "outputs": [],
   "source": [
    "array = [273, 32, 103]"
   ]
  },
  {
   "cell_type": "code",
   "execution_count": 65,
   "metadata": {
    "colab": {
     "base_uri": "https://localhost:8080/"
    },
    "executionInfo": {
     "elapsed": 261,
     "status": "ok",
     "timestamp": 1625634148219,
     "user": {
      "displayName": "권혜윤",
      "photoUrl": "",
      "userId": "13599692245962426984"
     },
     "user_tz": -540
    },
    "id": "-BEX8SgPVF6i",
    "outputId": "5ab8454b-3308-40c2-8b1b-312209435b83"
   },
   "outputs": [
    {
     "name": "stdout",
     "output_type": "stream",
     "text": [
      "element =  273\n",
      "element =  32\n",
      "element =  103\n",
      "element =  57\n",
      "element =  52\n"
     ]
    }
   ],
   "source": [
    "for element in array:\n",
    "  print(\"element = \", element)"
   ]
  },
  {
   "cell_type": "code",
   "execution_count": 66,
   "metadata": {
    "colab": {
     "base_uri": "https://localhost:8080/"
    },
    "executionInfo": {
     "elapsed": 266,
     "status": "ok",
     "timestamp": 1625634216601,
     "user": {
      "displayName": "권혜윤",
      "photoUrl": "",
      "userId": "13599692245962426984"
     },
     "user_tz": -540
    },
    "id": "tf6x3tjTWIze",
    "outputId": "6fb27c1f-6e33-416a-997b-3e5f0366da1b"
   },
   "outputs": [
    {
     "data": {
      "text/plain": [
       "range(1, 5)"
      ]
     },
     "execution_count": 66,
     "metadata": {
      "tags": []
     },
     "output_type": "execute_result"
    }
   ],
   "source": [
    "range(1, 5)"
   ]
  },
  {
   "cell_type": "code",
   "execution_count": 67,
   "metadata": {
    "colab": {
     "base_uri": "https://localhost:8080/"
    },
    "executionInfo": {
     "elapsed": 278,
     "status": "ok",
     "timestamp": 1625634244682,
     "user": {
      "displayName": "권혜윤",
      "photoUrl": "",
      "userId": "13599692245962426984"
     },
     "user_tz": -540
    },
    "id": "dCnCYFHSWZf8",
    "outputId": "d260393b-b29f-42fc-bc42-132fb69f3ef8"
   },
   "outputs": [
    {
     "data": {
      "text/plain": [
       "[1, 2, 3, 4]"
      ]
     },
     "execution_count": 67,
     "metadata": {
      "tags": []
     },
     "output_type": "execute_result"
    }
   ],
   "source": [
    "list( range(1, 5) )"
   ]
  },
  {
   "cell_type": "code",
   "execution_count": 68,
   "metadata": {
    "colab": {
     "base_uri": "https://localhost:8080/"
    },
    "executionInfo": {
     "elapsed": 316,
     "status": "ok",
     "timestamp": 1625634551537,
     "user": {
      "displayName": "권혜윤",
      "photoUrl": "",
      "userId": "13599692245962426984"
     },
     "user_tz": -540
    },
    "id": "GEvB1-ogWgWb",
    "outputId": "c02933b5-61df-430a-a263-7a3043f5a532"
   },
   "outputs": [
    {
     "name": "stdout",
     "output_type": "stream",
     "text": [
      "element =  1\n",
      "element =  2\n",
      "element =  3\n",
      "element =  4\n"
     ]
    }
   ],
   "source": [
    "for element in range(1, 5):\n",
    "  print(\"element = \", element)"
   ]
  },
  {
   "cell_type": "code",
   "execution_count": 69,
   "metadata": {
    "executionInfo": {
     "elapsed": 396,
     "status": "ok",
     "timestamp": 1625635774628,
     "user": {
      "displayName": "권혜윤",
      "photoUrl": "",
      "userId": "13599692245962426984"
     },
     "user_tz": -540
    },
    "id": "Dk_jYZqIXrQU"
   },
   "outputs": [],
   "source": [
    "dict_a = {\n",
    "    \"name\":\"어벤져스\",\n",
    "    \"type\":\"히어로\",\n",
    "    \"감독\":\"몰라\"\n",
    "}"
   ]
  },
  {
   "cell_type": "code",
   "execution_count": 71,
   "metadata": {
    "colab": {
     "base_uri": "https://localhost:8080/"
    },
    "executionInfo": {
     "elapsed": 280,
     "status": "ok",
     "timestamp": 1625635791656,
     "user": {
      "displayName": "권혜윤",
      "photoUrl": "",
      "userId": "13599692245962426984"
     },
     "user_tz": -540
    },
    "id": "AhFHxfVJcV1F",
    "outputId": "071eb5e0-be67-4456-bf3b-d34457fac103"
   },
   "outputs": [
    {
     "data": {
      "text/plain": [
       "{'name': '어벤져스', 'type': '히어로', '감독': '몰라'}"
      ]
     },
     "execution_count": 71,
     "metadata": {
      "tags": []
     },
     "output_type": "execute_result"
    }
   ],
   "source": [
    "dict_a"
   ]
  },
  {
   "cell_type": "code",
   "execution_count": 72,
   "metadata": {
    "colab": {
     "base_uri": "https://localhost:8080/",
     "height": 35
    },
    "executionInfo": {
     "elapsed": 302,
     "status": "ok",
     "timestamp": 1625635899743,
     "user": {
      "displayName": "권혜윤",
      "photoUrl": "",
      "userId": "13599692245962426984"
     },
     "user_tz": -540
    },
    "id": "BI1BJaQ8cYa-",
    "outputId": "e4441575-8589-4df1-bdcd-1c26a68754ad"
   },
   "outputs": [
    {
     "data": {
      "application/vnd.google.colaboratory.intrinsic+json": {
       "type": "string"
      },
      "text/plain": [
       "'히어로'"
      ]
     },
     "execution_count": 72,
     "metadata": {
      "tags": []
     },
     "output_type": "execute_result"
    }
   ],
   "source": [
    "dict_a[\"type\"]"
   ]
  },
  {
   "cell_type": "code",
   "execution_count": 73,
   "metadata": {
    "executionInfo": {
     "elapsed": 279,
     "status": "ok",
     "timestamp": 1625636200706,
     "user": {
      "displayName": "권혜윤",
      "photoUrl": "",
      "userId": "13599692245962426984"
     },
     "user_tz": -540
    },
    "id": "qAPCtIf5c0aH"
   },
   "outputs": [],
   "source": [
    "dict_a[\"감독\"] = [\"안소니 루소\", \"조 루소\"]"
   ]
  },
  {
   "cell_type": "code",
   "execution_count": 74,
   "metadata": {
    "colab": {
     "base_uri": "https://localhost:8080/"
    },
    "executionInfo": {
     "elapsed": 288,
     "status": "ok",
     "timestamp": 1625636215757,
     "user": {
      "displayName": "권혜윤",
      "photoUrl": "",
      "userId": "13599692245962426984"
     },
     "user_tz": -540
    },
    "id": "eXfoQ4ebd95F",
    "outputId": "17d6e957-bf18-4114-f1e1-845db300e61a"
   },
   "outputs": [
    {
     "data": {
      "text/plain": [
       "{'name': '어벤져스', 'type': '히어로', '감독': ['안소니 루소', '조 루소']}"
      ]
     },
     "execution_count": 74,
     "metadata": {
      "tags": []
     },
     "output_type": "execute_result"
    }
   ],
   "source": [
    "dict_a"
   ]
  },
  {
   "cell_type": "code",
   "execution_count": 75,
   "metadata": {
    "executionInfo": {
     "elapsed": 283,
     "status": "ok",
     "timestamp": 1625636250398,
     "user": {
      "displayName": "권혜윤",
      "photoUrl": "",
      "userId": "13599692245962426984"
     },
     "user_tz": -540
    },
    "id": "n4P7JpIKeBjs"
   },
   "outputs": [],
   "source": [
    "dict_a[\"type\"] = \"액션\""
   ]
  },
  {
   "cell_type": "code",
   "execution_count": 76,
   "metadata": {
    "colab": {
     "base_uri": "https://localhost:8080/"
    },
    "executionInfo": {
     "elapsed": 303,
     "status": "ok",
     "timestamp": 1625636255140,
     "user": {
      "displayName": "권혜윤",
      "photoUrl": "",
      "userId": "13599692245962426984"
     },
     "user_tz": -540
    },
    "id": "P_v9FOhLeKBe",
    "outputId": "dbc5518b-c765-44ac-90fa-40aec5b4b2f0"
   },
   "outputs": [
    {
     "data": {
      "text/plain": [
       "{'name': '어벤져스', 'type': '액션', '감독': ['안소니 루소', '조 루소']}"
      ]
     },
     "execution_count": 76,
     "metadata": {
      "tags": []
     },
     "output_type": "execute_result"
    }
   ],
   "source": [
    "dict_a"
   ]
  },
  {
   "cell_type": "code",
   "execution_count": 77,
   "metadata": {
    "executionInfo": {
     "elapsed": 290,
     "status": "ok",
     "timestamp": 1625636348773,
     "user": {
      "displayName": "권혜윤",
      "photoUrl": "",
      "userId": "13599692245962426984"
     },
     "user_tz": -540
    },
    "id": "BwmvEmLjeLLN"
   },
   "outputs": [],
   "source": [
    "dict_a[\"배우\"] = [\"로버트 다우니 주니어\", \"스칼렛 요한슨\"]"
   ]
  },
  {
   "cell_type": "code",
   "execution_count": 78,
   "metadata": {
    "colab": {
     "base_uri": "https://localhost:8080/"
    },
    "executionInfo": {
     "elapsed": 287,
     "status": "ok",
     "timestamp": 1625636366379,
     "user": {
      "displayName": "권혜윤",
      "photoUrl": "",
      "userId": "13599692245962426984"
     },
     "user_tz": -540
    },
    "id": "XaYNGuS0eiCT",
    "outputId": "b5af3065-592f-4a2f-f8ae-452760e54b72"
   },
   "outputs": [
    {
     "data": {
      "text/plain": [
       "{'name': '어벤져스',\n",
       " 'type': '액션',\n",
       " '감독': ['안소니 루소', '조 루소'],\n",
       " '배우': ['로버트 다우니 주니어', '스칼렛 요한슨']}"
      ]
     },
     "execution_count": 78,
     "metadata": {
      "tags": []
     },
     "output_type": "execute_result"
    }
   ],
   "source": [
    "dict_a"
   ]
  },
  {
   "cell_type": "code",
   "execution_count": 79,
   "metadata": {
    "executionInfo": {
     "elapsed": 331,
     "status": "ok",
     "timestamp": 1625636927904,
     "user": {
      "displayName": "권혜윤",
      "photoUrl": "",
      "userId": "13599692245962426984"
     },
     "user_tz": -540
    },
    "id": "WzqkCNapemVk"
   },
   "outputs": [],
   "source": [
    "fruit = {\n",
    "    \"name\" : \"건조망고\",\n",
    "    \"type\" : \"당절임\",\n",
    "    \"ingreditent\": [\"망고\",\"설탕\",\"메타중아황산나트륨\"],\n",
    "    \"origin\": \"필리핀\",\n",
    "    7865 : \"키가 숫자면 그냥 쓴다\",\n",
    "    True : \"키가 불리안이라서 따옴표 없음\"\n",
    "}"
   ]
  },
  {
   "cell_type": "code",
   "execution_count": 80,
   "metadata": {
    "colab": {
     "base_uri": "https://localhost:8080/"
    },
    "executionInfo": {
     "elapsed": 282,
     "status": "ok",
     "timestamp": 1625636946365,
     "user": {
      "displayName": "권혜윤",
      "photoUrl": "",
      "userId": "13599692245962426984"
     },
     "user_tz": -540
    },
    "id": "AuVc0A9rgvam",
    "outputId": "c540955c-d31d-4368-e995-436077619406"
   },
   "outputs": [
    {
     "data": {
      "text/plain": [
       "{7865: '키가 숫자면 그냥 쓴다',\n",
       " True: '키가 불리안이라서 따옴표 없음',\n",
       " 'ingreditent': ['망고', '설탕', '메타중아황산나트륨'],\n",
       " 'name': '건조망고',\n",
       " 'origin': '필리핀',\n",
       " 'type': '당절임'}"
      ]
     },
     "execution_count": 80,
     "metadata": {
      "tags": []
     },
     "output_type": "execute_result"
    }
   ],
   "source": [
    "fruit"
   ]
  },
  {
   "cell_type": "code",
   "execution_count": 81,
   "metadata": {
    "colab": {
     "base_uri": "https://localhost:8080/",
     "height": 172
    },
    "executionInfo": {
     "elapsed": 295,
     "status": "error",
     "timestamp": 1625637238413,
     "user": {
      "displayName": "권혜윤",
      "photoUrl": "",
      "userId": "13599692245962426984"
     },
     "user_tz": -540
    },
    "id": "rI4GBkvVgz7i",
    "outputId": "a1cec681-6d5a-4215-d7e1-2aa4d6ee1d2a"
   },
   "outputs": [
    {
     "ename": "KeyError",
     "evalue": "ignored",
     "output_type": "error",
     "traceback": [
      "\u001b[0;31m---------------------------------------------------------------------------\u001b[0m",
      "\u001b[0;31mKeyError\u001b[0m                                  Traceback (most recent call last)",
      "\u001b[0;32m<ipython-input-81-e2dd112fc686>\u001b[0m in \u001b[0;36m<module>\u001b[0;34m()\u001b[0m\n\u001b[0;32m----> 1\u001b[0;31m \u001b[0mfruit\u001b[0m\u001b[0;34m[\u001b[0m\u001b[0;34m\"과일\"\u001b[0m\u001b[0;34m]\u001b[0m\u001b[0;34m\u001b[0m\u001b[0;34m\u001b[0m\u001b[0m\n\u001b[0m",
      "\u001b[0;31mKeyError\u001b[0m: '과일'"
     ]
    }
   ],
   "source": [
    "fruit[\"과일\"]"
   ]
  },
  {
   "cell_type": "code",
   "execution_count": 82,
   "metadata": {
    "executionInfo": {
     "elapsed": 286,
     "status": "ok",
     "timestamp": 1625637278766,
     "user": {
      "displayName": "권혜윤",
      "photoUrl": "",
      "userId": "13599692245962426984"
     },
     "user_tz": -540
    },
    "id": "U7lzrYcPh7Om"
   },
   "outputs": [],
   "source": [
    "del fruit[\"type\"]"
   ]
  },
  {
   "cell_type": "code",
   "execution_count": 83,
   "metadata": {
    "colab": {
     "base_uri": "https://localhost:8080/"
    },
    "executionInfo": {
     "elapsed": 311,
     "status": "ok",
     "timestamp": 1625637289511,
     "user": {
      "displayName": "권혜윤",
      "photoUrl": "",
      "userId": "13599692245962426984"
     },
     "user_tz": -540
    },
    "id": "4gzrN4YSiFFe",
    "outputId": "85cb9631-d0cd-4325-b23a-ca15991a1b53"
   },
   "outputs": [
    {
     "data": {
      "text/plain": [
       "{7865: '키가 숫자면 그냥 쓴다',\n",
       " True: '키가 불리안이라서 따옴표 없음',\n",
       " 'ingreditent': ['망고', '설탕', '메타중아황산나트륨'],\n",
       " 'name': '건조망고',\n",
       " 'origin': '필리핀'}"
      ]
     },
     "execution_count": 83,
     "metadata": {
      "tags": []
     },
     "output_type": "execute_result"
    }
   ],
   "source": [
    "fruit"
   ]
  },
  {
   "cell_type": "code",
   "execution_count": 84,
   "metadata": {
    "colab": {
     "base_uri": "https://localhost:8080/",
     "height": 172
    },
    "executionInfo": {
     "elapsed": 292,
     "status": "error",
     "timestamp": 1625637333414,
     "user": {
      "displayName": "권혜윤",
      "photoUrl": "",
      "userId": "13599692245962426984"
     },
     "user_tz": -540
    },
    "id": "EVj3IBTciHtD",
    "outputId": "320a138a-6623-483a-e8b4-f89a8045fdd2"
   },
   "outputs": [
    {
     "ename": "KeyError",
     "evalue": "ignored",
     "output_type": "error",
     "traceback": [
      "\u001b[0;31m---------------------------------------------------------------------------\u001b[0m",
      "\u001b[0;31mKeyError\u001b[0m                                  Traceback (most recent call last)",
      "\u001b[0;32m<ipython-input-84-abc94dee5e89>\u001b[0m in \u001b[0;36m<module>\u001b[0;34m()\u001b[0m\n\u001b[0;32m----> 1\u001b[0;31m \u001b[0;32mdel\u001b[0m \u001b[0mfruit\u001b[0m\u001b[0;34m[\u001b[0m\u001b[0;34m\"가격\"\u001b[0m\u001b[0;34m]\u001b[0m\u001b[0;34m\u001b[0m\u001b[0;34m\u001b[0m\u001b[0m\n\u001b[0m",
      "\u001b[0;31mKeyError\u001b[0m: '가격'"
     ]
    }
   ],
   "source": [
    "del fruit[\"가격\"]"
   ]
  },
  {
   "cell_type": "code",
   "execution_count": 85,
   "metadata": {
    "colab": {
     "base_uri": "https://localhost:8080/"
    },
    "executionInfo": {
     "elapsed": 297,
     "status": "ok",
     "timestamp": 1625637365102,
     "user": {
      "displayName": "권혜윤",
      "photoUrl": "",
      "userId": "13599692245962426984"
     },
     "user_tz": -540
    },
    "id": "ResghH0-iSa6",
    "outputId": "33d1c8aa-3363-4ac9-c164-b8ee45f74adf"
   },
   "outputs": [
    {
     "data": {
      "text/plain": [
       "False"
      ]
     },
     "execution_count": 85,
     "metadata": {
      "tags": []
     },
     "output_type": "execute_result"
    }
   ],
   "source": [
    "\"가격\" in fruit"
   ]
  },
  {
   "cell_type": "code",
   "execution_count": 86,
   "metadata": {
    "colab": {
     "base_uri": "https://localhost:8080/"
    },
    "executionInfo": {
     "elapsed": 286,
     "status": "ok",
     "timestamp": 1625637391718,
     "user": {
      "displayName": "권혜윤",
      "photoUrl": "",
      "userId": "13599692245962426984"
     },
     "user_tz": -540
    },
    "id": "AAIZQwmLiaKW",
    "outputId": "717ac2f0-11d2-4db9-98b1-556cee8703a6"
   },
   "outputs": [
    {
     "data": {
      "text/plain": [
       "True"
      ]
     },
     "execution_count": 86,
     "metadata": {
      "tags": []
     },
     "output_type": "execute_result"
    }
   ],
   "source": [
    "\"name\" in fruit"
   ]
  },
  {
   "cell_type": "code",
   "execution_count": 88,
   "metadata": {
    "colab": {
     "base_uri": "https://localhost:8080/"
    },
    "executionInfo": {
     "elapsed": 308,
     "status": "ok",
     "timestamp": 1625637641389,
     "user": {
      "displayName": "권혜윤",
      "photoUrl": "",
      "userId": "13599692245962426984"
     },
     "user_tz": -540
    },
    "id": "WQapokk7igqH",
    "outputId": "91d4ac4c-48d3-4d48-b07d-51be9f88f60f"
   },
   "outputs": [
    {
     "name": "stdout",
     "output_type": "stream",
     "text": [
      "fruit 에 name 키가 있나벼\n",
      "name 키랑 값 삭제\n"
     ]
    }
   ],
   "source": [
    "if \"name\" in fruit:\n",
    "  print(\"fruit 에 name 키가 있나벼\")\n",
    "  del fruit[\"name\"]\n",
    "  print(\"name 키랑 값 삭제\")"
   ]
  },
  {
   "cell_type": "code",
   "execution_count": 89,
   "metadata": {
    "colab": {
     "base_uri": "https://localhost:8080/"
    },
    "executionInfo": {
     "elapsed": 295,
     "status": "ok",
     "timestamp": 1625637663519,
     "user": {
      "displayName": "권혜윤",
      "photoUrl": "",
      "userId": "13599692245962426984"
     },
     "user_tz": -540
    },
    "id": "J9BM9iexjZPo",
    "outputId": "d5da578c-e014-439e-dc73-13a4b5156a75"
   },
   "outputs": [
    {
     "data": {
      "text/plain": [
       "{7865: '키가 숫자면 그냥 쓴다',\n",
       " True: '키가 불리안이라서 따옴표 없음',\n",
       " 'ingreditent': ['망고', '설탕', '메타중아황산나트륨'],\n",
       " 'origin': '필리핀'}"
      ]
     },
     "execution_count": 89,
     "metadata": {
      "tags": []
     },
     "output_type": "execute_result"
    }
   ],
   "source": [
    "fruit"
   ]
  },
  {
   "cell_type": "code",
   "execution_count": 90,
   "metadata": {
    "executionInfo": {
     "elapsed": 274,
     "status": "ok",
     "timestamp": 1625637761888,
     "user": {
      "displayName": "권혜윤",
      "photoUrl": "",
      "userId": "13599692245962426984"
     },
     "user_tz": -540
    },
    "id": "Vzw3iiJHjjAy"
   },
   "outputs": [],
   "source": [
    "if \"가격\" in fruit:\n",
    "  print(\"fruit 에 가격 키가 있나벼\")\n",
    "  del fruit[\"가격\"]\n",
    "  print(\"가격 키랑 값 삭제\")"
   ]
  },
  {
   "cell_type": "code",
   "execution_count": 91,
   "metadata": {
    "colab": {
     "base_uri": "https://localhost:8080/"
    },
    "executionInfo": {
     "elapsed": 297,
     "status": "ok",
     "timestamp": 1625637847546,
     "user": {
      "displayName": "권혜윤",
      "photoUrl": "",
      "userId": "13599692245962426984"
     },
     "user_tz": -540
    },
    "id": "UBeJS-xaj7Bp",
    "outputId": "8a7375db-f486-43aa-b58f-5714b008d88f"
   },
   "outputs": [
    {
     "data": {
      "text/plain": [
       "{7865: '키가 숫자면 그냥 쓴다',\n",
       " True: '키가 불리안이라서 따옴표 없음',\n",
       " 'ingreditent': ['망고', '설탕', '메타중아황산나트륨'],\n",
       " 'origin': '필리핀'}"
      ]
     },
     "execution_count": 91,
     "metadata": {
      "tags": []
     },
     "output_type": "execute_result"
    }
   ],
   "source": [
    "fruit"
   ]
  },
  {
   "cell_type": "code",
   "execution_count": 92,
   "metadata": {
    "colab": {
     "base_uri": "https://localhost:8080/",
     "height": 35
    },
    "executionInfo": {
     "elapsed": 305,
     "status": "ok",
     "timestamp": 1625637943434,
     "user": {
      "displayName": "권혜윤",
      "photoUrl": "",
      "userId": "13599692245962426984"
     },
     "user_tz": -540
    },
    "id": "JXK96yY6kP8L",
    "outputId": "3a4619bc-9bca-498b-cbbd-7cc9798aa45c"
   },
   "outputs": [
    {
     "data": {
      "application/vnd.google.colaboratory.intrinsic+json": {
       "type": "string"
      },
      "text/plain": [
       "'필리핀'"
      ]
     },
     "execution_count": 92,
     "metadata": {
      "tags": []
     },
     "output_type": "execute_result"
    }
   ],
   "source": [
    "fruit[\"origin\"]"
   ]
  },
  {
   "cell_type": "code",
   "execution_count": 93,
   "metadata": {
    "colab": {
     "base_uri": "https://localhost:8080/",
     "height": 35
    },
    "executionInfo": {
     "elapsed": 282,
     "status": "ok",
     "timestamp": 1625637962263,
     "user": {
      "displayName": "권혜윤",
      "photoUrl": "",
      "userId": "13599692245962426984"
     },
     "user_tz": -540
    },
    "id": "LZ2i0K1dknWM",
    "outputId": "af4bb76d-daed-4008-b90b-829304a2f243"
   },
   "outputs": [
    {
     "data": {
      "application/vnd.google.colaboratory.intrinsic+json": {
       "type": "string"
      },
      "text/plain": [
       "'필리핀'"
      ]
     },
     "execution_count": 93,
     "metadata": {
      "tags": []
     },
     "output_type": "execute_result"
    }
   ],
   "source": [
    "fruit.get(\"origin\")"
   ]
  },
  {
   "cell_type": "code",
   "execution_count": 94,
   "metadata": {
    "colab": {
     "base_uri": "https://localhost:8080/",
     "height": 172
    },
    "executionInfo": {
     "elapsed": 292,
     "status": "error",
     "timestamp": 1625638004697,
     "user": {
      "displayName": "권혜윤",
      "photoUrl": "",
      "userId": "13599692245962426984"
     },
     "user_tz": -540
    },
    "id": "UWtblLIhkr8S",
    "outputId": "810ab942-8df1-4b8b-f416-f6590945c572"
   },
   "outputs": [
    {
     "ename": "KeyError",
     "evalue": "ignored",
     "output_type": "error",
     "traceback": [
      "\u001b[0;31m---------------------------------------------------------------------------\u001b[0m",
      "\u001b[0;31mKeyError\u001b[0m                                  Traceback (most recent call last)",
      "\u001b[0;32m<ipython-input-94-f4568f75d053>\u001b[0m in \u001b[0;36m<module>\u001b[0;34m()\u001b[0m\n\u001b[0;32m----> 1\u001b[0;31m \u001b[0mfruit\u001b[0m\u001b[0;34m[\u001b[0m\u001b[0;34m\"가격\"\u001b[0m\u001b[0;34m]\u001b[0m\u001b[0;34m\u001b[0m\u001b[0;34m\u001b[0m\u001b[0m\n\u001b[0m",
      "\u001b[0;31mKeyError\u001b[0m: '가격'"
     ]
    }
   ],
   "source": [
    "fruit[\"가격\"]"
   ]
  },
  {
   "cell_type": "code",
   "execution_count": 95,
   "metadata": {
    "executionInfo": {
     "elapsed": 290,
     "status": "ok",
     "timestamp": 1625638142105,
     "user": {
      "displayName": "권혜윤",
      "photoUrl": "",
      "userId": "13599692245962426984"
     },
     "user_tz": -540
    },
    "id": "e6o1NhX9k2UC"
   },
   "outputs": [],
   "source": [
    "fruit.get(\"가격\")"
   ]
  },
  {
   "cell_type": "code",
   "execution_count": 96,
   "metadata": {
    "executionInfo": {
     "elapsed": 295,
     "status": "ok",
     "timestamp": 1625638295079,
     "user": {
      "displayName": "권혜윤",
      "photoUrl": "",
      "userId": "13599692245962426984"
     },
     "user_tz": -540
    },
    "id": "MisFsNjFlX2q"
   },
   "outputs": [],
   "source": [
    "fruit = {\n",
    "    \"name\" : \"건조망고\",\n",
    "    \"type\" : \"당절임\",\n",
    "    \"ingreditent\": [\"망고\",\"설탕\",\"메타중아황산나트륨\"],\n",
    "    \"origin\": \"필리핀\",\n",
    "    7865 : \"키가 숫자면 그냥 쓴다\",\n",
    "    True : \"키가 불리안이라서 따옴표 없음\"\n",
    "}"
   ]
  },
  {
   "cell_type": "code",
   "execution_count": 98,
   "metadata": {
    "colab": {
     "base_uri": "https://localhost:8080/"
    },
    "executionInfo": {
     "elapsed": 284,
     "status": "ok",
     "timestamp": 1625638674687,
     "user": {
      "displayName": "권혜윤",
      "photoUrl": "",
      "userId": "13599692245962426984"
     },
     "user_tz": -540
    },
    "id": "KedW7HDfl9NH",
    "outputId": "041c5cc0-5aee-4569-88b8-411244e900fe"
   },
   "outputs": [
    {
     "name": "stdout",
     "output_type": "stream",
     "text": [
      "elem =  name\n",
      "fruit.get(name)=건조망고\n",
      "====================================================================================================\n",
      "elem =  type\n",
      "fruit.get(type)=당절임\n",
      "====================================================================================================\n",
      "elem =  ingreditent\n",
      "fruit.get(ingreditent)=['망고', '설탕', '메타중아황산나트륨']\n",
      "====================================================================================================\n",
      "elem =  origin\n",
      "fruit.get(origin)=필리핀\n",
      "====================================================================================================\n",
      "elem =  7865\n",
      "fruit.get(7865)=키가 숫자면 그냥 쓴다\n",
      "====================================================================================================\n",
      "elem =  True\n",
      "fruit.get(True)=키가 불리안이라서 따옴표 없음\n",
      "====================================================================================================\n"
     ]
    }
   ],
   "source": [
    "for elem in fruit:\n",
    "  print(\"elem = \", elem)\n",
    "  print(\"fruit.get({})={}\".format(elem, fruit.get(elem) ))\n",
    "  print(\"=\"*100)"
   ]
  },
  {
   "cell_type": "code",
   "execution_count": 1,
   "metadata": {
    "id": "t3PaUV_Jocwo"
   },
   "outputs": [
    {
     "data": {
      "text/plain": [
       "range(0, 5)"
      ]
     },
     "execution_count": 1,
     "metadata": {},
     "output_type": "execute_result"
    }
   ],
   "source": [
    "range(5)"
   ]
  },
  {
   "cell_type": "code",
   "execution_count": 2,
   "metadata": {},
   "outputs": [
    {
     "data": {
      "text/plain": [
       "[0, 1, 2, 3, 4]"
      ]
     },
     "execution_count": 2,
     "metadata": {},
     "output_type": "execute_result"
    }
   ],
   "source": [
    "list(range(5))"
   ]
  },
  {
   "cell_type": "code",
   "execution_count": 6,
   "metadata": {},
   "outputs": [
    {
     "data": {
      "text/plain": [
       "[5, 6, 7, 8, 9]"
      ]
     },
     "execution_count": 6,
     "metadata": {},
     "output_type": "execute_result"
    }
   ],
   "source": [
    "list(range(5, 10))"
   ]
  },
  {
   "cell_type": "code",
   "execution_count": 7,
   "metadata": {},
   "outputs": [
    {
     "data": {
      "text/plain": [
       "[0, 3, 6, 9]"
      ]
     },
     "execution_count": 7,
     "metadata": {},
     "output_type": "execute_result"
    }
   ],
   "source": [
    "list(range(0, 10, 3))"
   ]
  },
  {
   "cell_type": "code",
   "execution_count": 8,
   "metadata": {},
   "outputs": [
    {
     "data": {
      "text/plain": [
       "[10, 8, 6, 4, 2]"
      ]
     },
     "execution_count": 8,
     "metadata": {},
     "output_type": "execute_result"
    }
   ],
   "source": [
    "list(range(10, 1, -2))"
   ]
  }
 ],
 "metadata": {
  "colab": {
   "authorship_tag": "ABX9TyOue7q9Z2ELApltVO5tQxMa",
   "name": "강의코드 2021년 7월 7일.ipynb",
   "provenance": []
  },
  "kernelspec": {
   "display_name": "Python 3",
   "language": "python",
   "name": "python3"
  },
  "language_info": {
   "codemirror_mode": {
    "name": "ipython",
    "version": 3
   },
   "file_extension": ".py",
   "mimetype": "text/x-python",
   "name": "python",
   "nbconvert_exporter": "python",
   "pygments_lexer": "ipython3",
   "version": "3.6.13"
  }
 },
 "nbformat": 4,
 "nbformat_minor": 4
}
