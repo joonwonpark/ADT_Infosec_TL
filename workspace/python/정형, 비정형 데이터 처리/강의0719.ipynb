{
 "cells": [
  {
   "cell_type": "code",
   "execution_count": 1,
   "metadata": {
    "executionInfo": {
     "elapsed": 365,
     "status": "ok",
     "timestamp": 1626674863882,
     "user": {
      "displayName": "박준원",
      "photoUrl": "",
      "userId": "01666978145944503968"
     },
     "user_tz": -540
    },
    "id": "49zTE4_Rl7pO"
   },
   "outputs": [],
   "source": [
    "import requests\n",
    "\n",
    "#API 인증  정보\n",
    "client_id = \"udzt3jcCA8xTKi3UjGH_\" \n",
    "client_secret = \"HAk0g9n8cs\""
   ]
  },
  {
   "cell_type": "code",
   "execution_count": null,
   "metadata": {
    "id": "sXxoOSkGtlpr"
   },
   "outputs": [],
   "source": []
  },
  {
   "cell_type": "code",
   "execution_count": 2,
   "metadata": {
    "executionInfo": {
     "elapsed": 8,
     "status": "ok",
     "timestamp": 1626674864254,
     "user": {
      "displayName": "박준원",
      "photoUrl": "",
      "userId": "01666978145944503968"
     },
     "user_tz": -540
    },
    "id": "bfX27EKamSLE"
   },
   "outputs": [],
   "source": [
    "url = \"https://openapi.naver.com/v1/search/blog?query=강남역\""
   ]
  },
  {
   "cell_type": "code",
   "execution_count": 3,
   "metadata": {
    "executionInfo": {
     "elapsed": 6,
     "status": "ok",
     "timestamp": 1626674864255,
     "user": {
      "displayName": "박준원",
      "photoUrl": "",
      "userId": "01666978145944503968"
     },
     "user_tz": -540
    },
    "id": "pYvwiBg9mnco"
   },
   "outputs": [],
   "source": [
    "#header에  추가될  내용\n",
    "key = {'X-Naver-Client-Id':client_id, 'X-Naver-Client-Secret':client_secret}"
   ]
  },
  {
   "cell_type": "code",
   "execution_count": 4,
   "metadata": {
    "executionInfo": {
     "elapsed": 949,
     "status": "ok",
     "timestamp": 1626674865199,
     "user": {
      "displayName": "박준원",
      "photoUrl": "",
      "userId": "01666978145944503968"
     },
     "user_tz": -540
    },
    "id": "q4IQKeWqnEV4"
   },
   "outputs": [],
   "source": [
    "resp = requests.get(url, headers = key)"
   ]
  },
  {
   "cell_type": "code",
   "execution_count": 5,
   "metadata": {
    "executionInfo": {
     "elapsed": 37,
     "status": "ok",
     "timestamp": 1626674865202,
     "user": {
      "displayName": "박준원",
      "photoUrl": "",
      "userId": "01666978145944503968"
     },
     "user_tz": -540
    },
    "id": "Hir-Iuk3nN0i"
   },
   "outputs": [],
   "source": [
    "information = resp.json()"
   ]
  },
  {
   "cell_type": "code",
   "execution_count": 6,
   "metadata": {
    "colab": {
     "base_uri": "https://localhost:8080/"
    },
    "executionInfo": {
     "elapsed": 38,
     "status": "ok",
     "timestamp": 1626674865204,
     "user": {
      "displayName": "박준원",
      "photoUrl": "",
      "userId": "01666978145944503968"
     },
     "user_tz": -540
    },
    "id": "kFO2W3yJnkPA",
    "outputId": "af7ecbf2-6de6-491e-d7a0-0705f52a210e"
   },
   "outputs": [
    {
     "data": {
      "text/plain": [
       "{'display': 10,\n",
       " 'items': [{'bloggerlink': 'https://blog.naver.com/megkis',\n",
       "   'bloggername': '헝클어진 마케팅, 문지기 블로그™',\n",
       "   'description': '▶ 서울 강남구 강남대로78길 18 1층, 청담등심 <b>강남역</b> 4번 출구 쪽에 있는 먹자골목으로 들어가면 끝자락에 청담 등심이 위치해 있었어요. 청록색 외관에 간판이 반짝이고 있어서 초행길이었지만, 수월하게... ',\n",
       "   'link': 'https://blog.naver.com/megkis?Redirect=Log&logNo=222430928640',\n",
       "   'postdate': '20210714',\n",
       "   'title': '특별했던 <b>강남역</b> 고기집'},\n",
       "  {'bloggerlink': 'https://blog.naver.com/unique1028',\n",
       "   'bloggername': '줄리다이어리♥',\n",
       "   'description': '얼마 전 친구들과 모임 중 강남 일대에서 꽤 알아준다는 <b>강남역</b> 고기집에 다녀왔어요. 화로에 구워 육질이 우수한 돈육에 수제냉면까지, 무엇하나 부족함이 없었던 곳이랍니다. 강남구 역삼동 619-14 1층 봉우화로... ',\n",
       "   'link': 'https://blog.naver.com/unique1028?Redirect=Log&logNo=222411292448',\n",
       "   'postdate': '20210626',\n",
       "   'title': '재료가 좋은 삼겹살 <b>강남역</b> 고기집'},\n",
       "  {'bloggerlink': 'https://blog.naver.com/aq9999qa',\n",
       "   'bloggername': '황혼의엘리제',\n",
       "   'description': '주소: 서울 강남구 역삼로3길 8 번호: 02-538-1588 이날 찾았던 고기집은 <b>강남역</b> 4번 출구에서 도보 5분 정도 거리에 위치해 있었는데요. 웅장한 단독건물에 상호가 크게 부착되어져 있어, 왠만해서는 못보고... ',\n",
       "   'link': 'https://blog.naver.com/aq9999qa?Redirect=Log&logNo=222406466536',\n",
       "   'postdate': '20210622',\n",
       "   'title': '최고였던 <b>강남역</b> 고기집'},\n",
       "  {'bloggerlink': 'https://blog.naver.com/seventhday',\n",
       "   'bloggername': 'colortrip',\n",
       "   'description': '얼마전 친구들과 저녁 약속이 있어서 검색으로 미리 알아둔 <b>강남역</b> 돼지갈비 맛집에서 식사했어요.... 강남 돼지갈비 맛집은 밖에서 구워 가져와 달라고 하면 그렇게 해주신다고 하니 참고하시면 좋을 것... ',\n",
       "   'link': 'https://blog.naver.com/seventhday?Redirect=Log&logNo=222416694910',\n",
       "   'postdate': '20210702',\n",
       "   'title': '극찬했던 <b>강남역</b> 돼지갈비 맛집'},\n",
       "  {'bloggerlink': 'https://blog.naver.com/miukitchen',\n",
       "   'bloggername': '초코퐁듀쿠키',\n",
       "   'description': '이날 찾아간 강남랭겹은 <b>강남역</b> 11번 출구에서 도보로 10분이 채 걸리지 않았어요. 코너 1층에 크게 걸려있는 삼겹살 사진과 유니크한 외관이라 멀리서도 눈에 확 들어왔네요. 이곳은 인기있는 사이드 메뉴로 구성... ',\n",
       "   'link': 'https://blog.naver.com/miukitchen?Redirect=Log&logNo=222419120284',\n",
       "   'postdate': '20210704',\n",
       "   'title': '합격점줬던 <b>강남역</b> 고기집'},\n",
       "  {'bloggerlink': 'https://blog.naver.com/rhdmswls14',\n",
       "   'bloggername': '행복한 고구마',\n",
       "   'description': '얼마 전에 강남 지하상가로 쇼핑하러 갔다가 미리 찾아본 <b>강남역</b> 맛집에 다녀왔어요~ 방송에 나올 정도로 이색적인 양식을 맛볼 수 있는 곳으로 유명한 만큼 맛과 서비스에 한껏 반하고 와서 소개해볼까... ',\n",
       "   'link': 'https://blog.naver.com/rhdmswls14?Redirect=Log&logNo=222433492022',\n",
       "   'postdate': '20210716',\n",
       "   'title': '박수쳤던 <b>강남역</b> 맛집 소개'},\n",
       "  {'bloggerlink': 'https://blog.naver.com/smsha',\n",
       "   'bloggername': '뚜시와 포포의 하이파이브',\n",
       "   'description': '이날 갔던 백억하누 강남본점은 <b>강남역</b> 11번출구에서 걸어서 5분 정도 걸리더라구요. 멀리서 봐도 도심속의 정원같은 분위기로 꾸며져 있어 쉽게 눈에 띄었어요. 특히나 엄청나게 컸던 현수막으로 제일 유명한... ',\n",
       "   'link': 'https://blog.naver.com/smsha?Redirect=Log&logNo=222409477379',\n",
       "   'postdate': '20210625',\n",
       "   'title': '대만족했던 <b>강남역</b> 고기집'},\n",
       "  {'bloggerlink': 'https://blog.naver.com/pec_a_lor',\n",
       "   'bloggername': '야스오 용서받지 못한 자',\n",
       "   'description': '<b>강남역</b> 고기집에선 점심메뉴로 강남ㆍ서초지역에 단체 및 개인 고급도시락을 배송을 해주신다고 하시더라고요. 인근에서 근무를 하시는분들은 한번 쯤 드셔보시면 좋을거 같아요. 바깥엔 이렇게 테라스 같은... ',\n",
       "   'link': 'https://blog.naver.com/pec_a_lor?Redirect=Log&logNo=222414288608',\n",
       "   'postdate': '20210629',\n",
       "   'title': '끌리는 <b>강남역</b> 고기집'},\n",
       "  {'bloggerlink': 'https://blog.naver.com/kpapado',\n",
       "   'bloggername': '달달한 인생',\n",
       "   'description': '이날 방문한 강남랭겹은 <b>강남역</b> 11번 출구에서 4분걸려 도착했어요. 멀리서도 요즘 유행인 레트로 감성이 물씬풍겨 한눈에 발견했답니다. 창문에는 한 줄 설명이 적혀 있었어요. 급랭시킨 국내산 삼겹살에... ',\n",
       "   'link': 'https://blog.naver.com/kpapado?Redirect=Log&logNo=222407451871',\n",
       "   'postdate': '20210623',\n",
       "   'title': '넘버원이던 <b>강남역</b> 고기집'},\n",
       "  {'bloggerlink': 'https://blog.naver.com/amlee74',\n",
       "   'bloggername': '동네탐정멜리의 탐정놀이',\n",
       "   'description': '<b>강남역</b> 나폴리 회관 메뉴 : 바게리 풍기 크레마 22,000원, 링귀니페스카토레 22,000원 주소 : 서울 강남구 테헤란로 5길 24 1층 나폴리 회관 번호 : 02-538-5067 영업시간 : 11:30 - 22:00 마지막으로 입덕할 수밖에 없었던... ',\n",
       "   'link': 'https://blog.naver.com/amlee74?Redirect=Log&logNo=222432972673',\n",
       "   'postdate': '20210717',\n",
       "   'title': '빠져버렸던 <b>강남역</b> 맛집 리스트'}],\n",
       " 'lastBuildDate': 'Mon, 19 Jul 2021 15:07:44 +0900',\n",
       " 'start': 1,\n",
       " 'total': 1733298}"
      ]
     },
     "execution_count": 6,
     "metadata": {
      "tags": []
     },
     "output_type": "execute_result"
    }
   ],
   "source": [
    "information"
   ]
  },
  {
   "cell_type": "code",
   "execution_count": 7,
   "metadata": {
    "colab": {
     "base_uri": "https://localhost:8080/",
     "height": 35
    },
    "executionInfo": {
     "elapsed": 32,
     "status": "ok",
     "timestamp": 1626674865205,
     "user": {
      "displayName": "박준원",
      "photoUrl": "",
      "userId": "01666978145944503968"
     },
     "user_tz": -540
    },
    "id": "qlYrT6raFC_c",
    "outputId": "bfa50187-5be7-4ea9-eb6a-439fda26565d"
   },
   "outputs": [
    {
     "data": {
      "application/vnd.google.colaboratory.intrinsic+json": {
       "type": "string"
      },
      "text/plain": [
       "'Mon, 19 Jul 2021 15:07:44 +0900'"
      ]
     },
     "execution_count": 7,
     "metadata": {
      "tags": []
     },
     "output_type": "execute_result"
    }
   ],
   "source": [
    "information['lastBuildDate']"
   ]
  },
  {
   "cell_type": "code",
   "execution_count": 8,
   "metadata": {
    "colab": {
     "base_uri": "https://localhost:8080/"
    },
    "executionInfo": {
     "elapsed": 31,
     "status": "ok",
     "timestamp": 1626674865206,
     "user": {
      "displayName": "박준원",
      "photoUrl": "",
      "userId": "01666978145944503968"
     },
     "user_tz": -540
    },
    "id": "3Rir1ABVFGA7",
    "outputId": "43e900a4-a453-44a4-d669-17b49e53ad0c"
   },
   "outputs": [
    {
     "data": {
      "text/plain": [
       "1733298"
      ]
     },
     "execution_count": 8,
     "metadata": {
      "tags": []
     },
     "output_type": "execute_result"
    }
   ],
   "source": [
    "information['total']"
   ]
  },
  {
   "cell_type": "code",
   "execution_count": 9,
   "metadata": {
    "colab": {
     "base_uri": "https://localhost:8080/"
    },
    "executionInfo": {
     "elapsed": 24,
     "status": "ok",
     "timestamp": 1626674865207,
     "user": {
      "displayName": "박준원",
      "photoUrl": "",
      "userId": "01666978145944503968"
     },
     "user_tz": -540
    },
    "id": "xJuBYAefFIJg",
    "outputId": "20533c70-927b-4bc3-acff-4e9639e9c479"
   },
   "outputs": [
    {
     "data": {
      "text/plain": [
       "{'bloggerlink': 'https://blog.naver.com/megkis',\n",
       " 'bloggername': '헝클어진 마케팅, 문지기 블로그™',\n",
       " 'description': '▶ 서울 강남구 강남대로78길 18 1층, 청담등심 <b>강남역</b> 4번 출구 쪽에 있는 먹자골목으로 들어가면 끝자락에 청담 등심이 위치해 있었어요. 청록색 외관에 간판이 반짝이고 있어서 초행길이었지만, 수월하게... ',\n",
       " 'link': 'https://blog.naver.com/megkis?Redirect=Log&logNo=222430928640',\n",
       " 'postdate': '20210714',\n",
       " 'title': '특별했던 <b>강남역</b> 고기집'}"
      ]
     },
     "execution_count": 9,
     "metadata": {
      "tags": []
     },
     "output_type": "execute_result"
    }
   ],
   "source": [
    "information['items'][0]"
   ]
  },
  {
   "cell_type": "code",
   "execution_count": 10,
   "metadata": {
    "executionInfo": {
     "elapsed": 22,
     "status": "ok",
     "timestamp": 1626674865208,
     "user": {
      "displayName": "박준원",
      "photoUrl": "",
      "userId": "01666978145944503968"
     },
     "user_tz": -540
    },
    "id": "GJAGISwWFKgL"
   },
   "outputs": [],
   "source": [
    "def get_api_result(keyword, display, start):\n",
    "  url=\"https://openapi.naver.com/v1/search/blog?query=\" + keyword \\\n",
    "       +\"&display=\"+str(display)\\\n",
    "       +\"&start=\"+str(start)\n",
    "  result = requests.get(url, headers=key)\n",
    "  return result.json()"
   ]
  },
  {
   "cell_type": "code",
   "execution_count": 11,
   "metadata": {
    "colab": {
     "base_uri": "https://localhost:8080/"
    },
    "executionInfo": {
     "elapsed": 715,
     "status": "ok",
     "timestamp": 1626674865902,
     "user": {
      "displayName": "박준원",
      "photoUrl": "",
      "userId": "01666978145944503968"
     },
     "user_tz": -540
    },
    "id": "tdKpT7QSHyKw",
    "outputId": "d1434ab8-c745-4d54-e3ac-e5f2d45b8704"
   },
   "outputs": [
    {
     "data": {
      "text/plain": [
       "{'display': 10,\n",
       " 'items': [{'bloggerlink': 'http://dotz.co.kr/',\n",
       "   'bloggername': 'http://dotz.co.kr/',\n",
       "   'description': '3일 <b>동국대</b> 경주캠퍼스 내 야산에 둥지를 튼 백로 스포탈코리아 39분 전 네이버뉴스 [ROAD FC 058]... 3일 <b>동국대</b> 경주캠퍼스 내 야산에 둥지를 튼 백로가 새끼들에게 먹잇감을 나눠주고 있다. 2021.7.3/뉴스... ',\n",
       "   'link': 'http://dotz.co.kr/6672',\n",
       "   'postdate': '20210703',\n",
       "   'title': '3일 <b>동국대</b> 경주캠퍼스 내 야산에 둥지를 튼 백로 - 서울스토어... '},\n",
       "  {'bloggerlink': 'https://blog.naver.com/narawh',\n",
       "   'bloggername': '라니라니 Ranirani is ranirani..',\n",
       "   'description': '일산 <b>동국대</b> 맛집 제주하영 통갈치조림 그래도 올 여름엔 해외는 아니더라도 조심스레 제주도 한번쯤은... 몆주전에 친구들이랑 다녀왔던 일산 <b>동국대</b> 맛집 제주하영~ 그나마 제주스러운 통갈치조림 먹으면서... ',\n",
       "   'link': 'https://blog.naver.com/narawh?Redirect=Log&logNo=222428308607',\n",
       "   'postdate': '20210712',\n",
       "   'title': '일산 <b>동국대</b> 맛집 제주하영 통갈치조림'},\n",
       "  {'bloggerlink': 'https://blog.naver.com/d706k1gpk73',\n",
       "   'bloggername': '라이트훅 님의블로그',\n",
       "   'description': '지금부터 <b>동국대</b> 교육대학원 상담심리전공으로 진학에 성공한 윤O혁님의 이야기로 자세히 알아보도록 하죠 우선 여러분들이 목표로 하시는 <b>동국대</b> 교육대학원에 대해서 첫번째로 알아보자면 인 서울권에 있는... ',\n",
       "   'link': 'https://blog.naver.com/d706k1gpk73?Redirect=Log&logNo=222425922356',\n",
       "   'postdate': '20210709',\n",
       "   'title': '<b>동국대</b> 교육대학원 상담심리전공으로 전문상담교사2급 취득하자'},\n",
       "  {'bloggerlink': 'https://blog.naver.com/kusf_sport',\n",
       "   'bloggername': '한국대학스포츠협의회 공식 블로그',\n",
       "   'description': '▲<b>동국대</b>학교 2학년 이재호 - 팀을 8강까지 이끈 이재호,,, - 팔꿈치 재활로 순탄치 않았던 그의... A조 5등으로 왕중왕전에 참가하게 된 <b>동국대</b>학교(이하 <b>동국대</b>)는 1차전을 6월 18일 횡성구장에서 영남대학교와... ',\n",
       "   'link': 'https://blog.naver.com/kusf_sport?Redirect=Log&logNo=222415823430',\n",
       "   'postdate': '20210630',\n",
       "   'title': '극적인 순간에서 더욱 빛난다! <b>동국대</b> 이재호'},\n",
       "  {'bloggerlink': 'https://blog.naver.com/dhdutk2014',\n",
       "   'bloggername': '♥ 좋은 생각 ♥',\n",
       "   'description': '안녕하세요 <b>동국대</b>학교 미래융합교육원 경찰행정학과를 통해 경찰대 편입하는 방법 안내를 드리도록하겠습니다! <b>동국대</b> 미래융합교육원은 <b>동국대</b>학교 공식 부설 학점은행제 교육원으로써 정식으로 2년제 및... ',\n",
       "   'link': 'https://blog.naver.com/dhdutk2014?Redirect=Log&logNo=222155208612',\n",
       "   'postdate': '20201126',\n",
       "   'title': '경찰대 편입 <b>동국대</b> 경찰행정 학점은행제로 빠르게!'},\n",
       "  {'bloggerlink': 'https://blog.naver.com/in2509',\n",
       "   'bloggername': '스프라이트 샤워',\n",
       "   'description': '<b>동국대</b> 교육대학원 양성과정이야기로 지원자격부터 합격생 후기를 하나 공유하도록 하겠습니다 먼저 함께 살펴볼 학교인 <b>동국대</b> 교육대학원 은 어떤 학교인지부터 알아볼까요? 이 학교는 인서울에 위치한... ',\n",
       "   'link': 'https://blog.naver.com/in2509?Redirect=Log&logNo=222350742974',\n",
       "   'postdate': '20210514',\n",
       "   'title': '<b>동국대</b> 교육대학원 심리학 학사 준비해서 입학해요'},\n",
       "  {'bloggerlink': 'https://blog.naver.com/atompsm',\n",
       "   'bloggername': '환이엄마의 행복모으기',\n",
       "   'description': '일산 <b>동국대</b>병원 근처 일산 위시티 맛집 대장금 옛날 불고기 다녀왔어요. 옛날 불고기 스타일... <b>동국대</b>병원 앞에서 판매하는 것을 알고 찾아가게 되었어요. 건물 앞쪽으로 주차장 있고, 2층에 위치했어요.... ',\n",
       "   'link': 'https://blog.naver.com/atompsm?Redirect=Log&logNo=222404004120',\n",
       "   'postdate': '20210620',\n",
       "   'title': '일산 <b>동국대</b>병원 맛집 대장금 불고기'},\n",
       "  {'bloggerlink': 'https://blog.naver.com/lid8855',\n",
       "   'bloggername': '캡틴녀',\n",
       "   'description': '<b>동국대</b> 편입으로 수능없이 3학년으로 <b>동국대</b>학교 입학하기! 안녕하세요 편입 전문 멘토 조로쌤 인사 드립니다 ^^ 대한민국 사회에서 학벌은 취업에 있어어 아주 중요한 요소중에 하나입니다 그래서 취업을... ',\n",
       "   'link': 'https://blog.naver.com/lid8855?Redirect=Log&logNo=222430351589',\n",
       "   'postdate': '20210713',\n",
       "   'title': '<b>동국대</b> 편입으로 수능없이  3학년으로 <b>동국대</b>학교 입학하기!'},\n",
       "  {'bloggerlink': 'https://blog.naver.com/no1bean',\n",
       "   'bloggername': '모든것을 리뷰한다! SNS통합 리뷰 애드몬',\n",
       "   'description': '<b>동국대</b> 수시등급 : 2022학년도 <b>동국대</b>학교 가려면 하이헬로!! 반갑습니다~ 다들 주말 잘 보내셨나요? 어제 천둥번개가 엄청 많이 치고 비가 갑자기 엄청 많이 내렸었는데요 갑자기 비가 엄청 많이 내리니까... ',\n",
       "   'link': 'https://blog.naver.com/no1bean?Redirect=Log&logNo=222436946779',\n",
       "   'postdate': '20210719',\n",
       "   'title': '<b>동국대</b> 수시등급 : 2022학년도 <b>동국대</b>학교 가려면'},\n",
       "  {'bloggerlink': 'https://blog.naver.com/genesis0821',\n",
       "   'bloggername': '오늘도 한걸음만 더',\n",
       "   'description': '바로 일산 <b>동국대</b>병원 맛집이라는 대장금 옛날불고기랍니다. 식당은 상가건물 2층에 있는데, 식당 앞의... 일산 <b>동국대</b>병원 맛집인 만큼 식당은 <b>동국대</b>병원 바로 건너편 쪽 큰 길가에 있어요. 내부가 넓지는... ',\n",
       "   'link': 'https://blog.naver.com/genesis0821?Redirect=Log&logNo=222224113586',\n",
       "   'postdate': '20210129',\n",
       "   'title': '일산 <b>동국대</b>병원 맛집 대장금 옛날불고기 자극적이지 않아요'}],\n",
       " 'lastBuildDate': 'Mon, 19 Jul 2021 15:07:45 +0900',\n",
       " 'start': 1,\n",
       " 'total': 306147}"
      ]
     },
     "execution_count": 11,
     "metadata": {
      "tags": []
     },
     "output_type": "execute_result"
    }
   ],
   "source": [
    "get_api_result(\"동국대\", 10, 1)"
   ]
  },
  {
   "cell_type": "code",
   "execution_count": 12,
   "metadata": {
    "executionInfo": {
     "elapsed": 5,
     "status": "ok",
     "timestamp": 1626674865903,
     "user": {
      "displayName": "박준원",
      "photoUrl": "",
      "userId": "01666978145944503968"
     },
     "user_tz": -540
    },
    "id": "pyg3ErIQLMK-"
   },
   "outputs": [],
   "source": [
    "blog_title_list = []\n",
    "def call_and_print(keyword, page):\n",
    "    json_obj = get_api_result(keyword, 20, (page - 1) * 20 + 1)\n",
    "    if \"items\" in json_obj:\n",
    "        for item in json_obj['items']:\n",
    "            title = item['title'].replace(\"<b>\", \"\").replace(\"</b>\", \"\")\n",
    "            # print(title,\"@\"+item[\"bloggername\"]+\"@\"+item[\"link\"])\n",
    "            global blog_title_list\n",
    "            blog_title_list.append(title)"
   ]
  },
  {
   "cell_type": "code",
   "execution_count": 13,
   "metadata": {
    "executionInfo": {
     "elapsed": 77926,
     "status": "ok",
     "timestamp": 1626674943825,
     "user": {
      "displayName": "박준원",
      "photoUrl": "",
      "userId": "01666978145944503968"
     },
     "user_tz": -540
    },
    "id": "5MjX5On4H32S"
   },
   "outputs": [],
   "source": [
    "for page in range(1, 100):\n",
    "    call_and_print('sk 인포섹', page)"
   ]
  },
  {
   "cell_type": "code",
   "execution_count": 14,
   "metadata": {
    "colab": {
     "base_uri": "https://localhost:8080/"
    },
    "executionInfo": {
     "elapsed": 30,
     "status": "ok",
     "timestamp": 1626674943836,
     "user": {
      "displayName": "박준원",
      "photoUrl": "",
      "userId": "01666978145944503968"
     },
     "user_tz": -540
    },
    "id": "ct_L9jvSMA1q",
    "outputId": "dda59732-4312-401c-e7af-ab5ad1233d43"
   },
   "outputs": [
    {
     "data": {
      "text/plain": [
       "1000"
      ]
     },
     "execution_count": 14,
     "metadata": {
      "tags": []
     },
     "output_type": "execute_result"
    }
   ],
   "source": [
    "len(blog_title_list)"
   ]
  },
  {
   "cell_type": "code",
   "execution_count": 15,
   "metadata": {
    "executionInfo": {
     "elapsed": 898,
     "status": "ok",
     "timestamp": 1626674944710,
     "user": {
      "displayName": "박준원",
      "photoUrl": "",
      "userId": "01666978145944503968"
     },
     "user_tz": -540
    },
    "id": "kdAAWpxFRb7n"
   },
   "outputs": [],
   "source": [
    "import nltk\n",
    "from konlpy.tag import Twitter"
   ]
  },
  {
   "cell_type": "code",
   "execution_count": 16,
   "metadata": {
    "colab": {
     "base_uri": "https://localhost:8080/"
    },
    "executionInfo": {
     "elapsed": 1043,
     "status": "ok",
     "timestamp": 1626674945747,
     "user": {
      "displayName": "박준원",
      "photoUrl": "",
      "userId": "01666978145944503968"
     },
     "user_tz": -540
    },
    "id": "crnOTJHgSTMf",
    "outputId": "4e768d7d-09d1-4b48-e89a-86b044df9f54"
   },
   "outputs": [
    {
     "name": "stderr",
     "output_type": "stream",
     "text": [
      "/usr/local/lib/python3.7/dist-packages/konlpy/tag/_okt.py:16: UserWarning: \"Twitter\" has changed to \"Okt\" since KoNLPy v0.4.5.\n",
      "  warn('\"Twitter\" has changed to \"Okt\" since KoNLPy v0.4.5.')\n"
     ]
    }
   ],
   "source": [
    "twitter = Twitter()"
   ]
  },
  {
   "cell_type": "code",
   "execution_count": 17,
   "metadata": {
    "colab": {
     "base_uri": "https://localhost:8080/"
    },
    "executionInfo": {
     "elapsed": 6483,
     "status": "ok",
     "timestamp": 1626674952225,
     "user": {
      "displayName": "박준원",
      "photoUrl": "",
      "userId": "01666978145944503968"
     },
     "user_tz": -540
    },
    "id": "mIEOCQHRSZ3E",
    "outputId": "48488253-b036-47cb-9fd9-c454d3f7e1fb"
   },
   "outputs": [
    {
     "data": {
      "text/plain": [
       "[('아버지', 'Noun'),\n",
       " ('가', 'Josa'),\n",
       " ('방', 'Noun'),\n",
       " ('에', 'Josa'),\n",
       " ('들어가신다', 'Verb'),\n",
       " ('그래서', 'Adverb'),\n",
       " ('슬펐다', 'Adjective'),\n",
       " ('슬프다', 'Adjective'),\n",
       " ('슬플것이다', 'Adjective'),\n",
       " ('!', 'Punctuation'),\n",
       " ('@', 'Punctuation'),\n",
       " ('1234', 'Number'),\n",
       " ('SK', 'Alpha')]"
      ]
     },
     "execution_count": 17,
     "metadata": {
      "tags": []
     },
     "output_type": "execute_result"
    }
   ],
   "source": [
    "twitter.pos('아버지가 방에 들어가신다 그래서 슬펐다 슬프다 슬플것이다 ! @ 1234 SK')"
   ]
  },
  {
   "cell_type": "code",
   "execution_count": 19,
   "metadata": {
    "colab": {
     "base_uri": "https://localhost:8080/"
    },
    "executionInfo": {
     "elapsed": 230,
     "status": "ok",
     "timestamp": 1626675025021,
     "user": {
      "displayName": "박준원",
      "photoUrl": "",
      "userId": "01666978145944503968"
     },
     "user_tz": -540
    },
    "id": "0fvk-4rtSoM5",
    "outputId": "a798179b-957e-4f4e-808c-da8929668acb"
   },
   "outputs": [
    {
     "data": {
      "text/plain": [
       "[('아버지', 'Noun'),\n",
       " ('가', 'Josa'),\n",
       " ('방', 'Noun'),\n",
       " ('에', 'Josa'),\n",
       " ('들어가다', 'Verb'),\n",
       " ('그래서', 'Adverb'),\n",
       " ('슬프다', 'Adjective'),\n",
       " ('슬프다', 'Adjective'),\n",
       " ('슬프다', 'Adjective'),\n",
       " ('!', 'Punctuation'),\n",
       " ('@', 'Punctuation'),\n",
       " ('1234', 'Number'),\n",
       " ('SK', 'Alpha')]"
      ]
     },
     "execution_count": 19,
     "metadata": {
      "tags": []
     },
     "output_type": "execute_result"
    }
   ],
   "source": [
    "twitter.pos('아버지가 방에 들어가신다 그래서 슬펐다 슬프다 슬플것이다 ! @ 1234 SK', stem = True)"
   ]
  },
  {
   "cell_type": "code",
   "execution_count": 20,
   "metadata": {
    "colab": {
     "base_uri": "https://localhost:8080/"
    },
    "executionInfo": {
     "elapsed": 7,
     "status": "ok",
     "timestamp": 1626675027241,
     "user": {
      "displayName": "박준원",
      "photoUrl": "",
      "userId": "01666978145944503968"
     },
     "user_tz": -540
    },
    "id": "3_c2Hp-cS8gD",
    "outputId": "fe56eb71-0a9c-41bc-c0dd-5989ee5ae9ff"
   },
   "outputs": [
    {
     "name": "stdout",
     "output_type": "stream",
     "text": [
      "word = 아버지\n",
      "part = Noun\n",
      "====================================================================================================\n",
      "word = 가\n",
      "part = Josa\n",
      "====================================================================================================\n",
      "word = 방\n",
      "part = Noun\n",
      "====================================================================================================\n",
      "word = 에\n",
      "part = Josa\n",
      "====================================================================================================\n",
      "word = 들어가다\n",
      "part = Verb\n",
      "====================================================================================================\n",
      "word = 그래서\n",
      "part = Adverb\n",
      "====================================================================================================\n",
      "word = 슬프다\n",
      "part = Adjective\n",
      "====================================================================================================\n",
      "word = 슬프다\n",
      "part = Adjective\n",
      "====================================================================================================\n",
      "word = 슬프다\n",
      "part = Adjective\n",
      "====================================================================================================\n",
      "word = !\n",
      "part = Punctuation\n",
      "====================================================================================================\n",
      "word = @\n",
      "part = Punctuation\n",
      "====================================================================================================\n",
      "word = 1234\n",
      "part = Number\n",
      "====================================================================================================\n",
      "word = SK\n",
      "part = Alpha\n",
      "====================================================================================================\n"
     ]
    }
   ],
   "source": [
    "for word, part in twitter.pos('아버지가 방에 들어가신다 그래서 슬펐다 슬프다 슬플것이다 ! @ 1234 SK', stem = True):\n",
    "    print(f'word = {word}')\n",
    "    print(f'part = {part}')\n",
    "    print(\"=\" * 100)"
   ]
  },
  {
   "cell_type": "code",
   "execution_count": null,
   "metadata": {
    "id": "hdrebfbiY7Ec"
   },
   "outputs": [],
   "source": []
  },
  {
   "cell_type": "code",
   "execution_count": 22,
   "metadata": {
    "executionInfo": {
     "elapsed": 3624,
     "status": "ok",
     "timestamp": 1626675154310,
     "user": {
      "displayName": "박준원",
      "photoUrl": "",
      "userId": "01666978145944503968"
     },
     "user_tz": -540
    },
    "id": "Ds_J6whLTdxk"
   },
   "outputs": [],
   "source": [
    "word_list = []\n",
    "for blog_title in blog_title_list:\n",
    "    for word, part in twitter.pos(blog_title):\n",
    "        if part in [\"Punctuation\", \"Josa\", \"Number\"]:\n",
    "            continue\n",
    "        if len(word) < 2:\n",
    "            continue\n",
    "        word_list.append(word)"
   ]
  },
  {
   "cell_type": "code",
   "execution_count": null,
   "metadata": {
    "id": "WLc1n0_rYA1D"
   },
   "outputs": [],
   "source": [
    "word_list"
   ]
  },
  {
   "cell_type": "code",
   "execution_count": 24,
   "metadata": {
    "executionInfo": {
     "elapsed": 228,
     "status": "ok",
     "timestamp": 1626675189903,
     "user": {
      "displayName": "박준원",
      "photoUrl": "",
      "userId": "01666978145944503968"
     },
     "user_tz": -540
    },
    "id": "BnfVcuhnZSil"
   },
   "outputs": [],
   "source": [
    "ko = nltk.Text(word_list)"
   ]
  },
  {
   "cell_type": "code",
   "execution_count": 26,
   "metadata": {
    "colab": {
     "base_uri": "https://localhost:8080/"
    },
    "executionInfo": {
     "elapsed": 388,
     "status": "ok",
     "timestamp": 1626675270390,
     "user": {
      "displayName": "박준원",
      "photoUrl": "",
      "userId": "01666978145944503968"
     },
     "user_tz": -540
    },
    "id": "__BvfNmiZZZC",
    "outputId": "2c38e632-c05e-40b9-abc7-a225e1dd5538"
   },
   "outputs": [
    {
     "data": {
      "text/plain": [
       "FreqDist({'ADT': 53,\n",
       "          '캡스': 52,\n",
       "          'SK': 859,\n",
       "          '인포섹': 747,\n",
       "          '합병': 20,\n",
       "          '완료': 3,\n",
       "          '통합': 23,\n",
       "          '법인': 6,\n",
       "          '출범': 4,\n",
       "          'CRM': 2,\n",
       "          '고객': 9,\n",
       "          '동향': 4,\n",
       "          '마곡': 1,\n",
       "          '시대': 19,\n",
       "          '시스': 2,\n",
       "          '그리고': 3,\n",
       "          '가족': 2,\n",
       "          '됩니다': 1,\n",
       "          '학생': 3,\n",
       "          '특강': 5,\n",
       "          '실시': 4,\n",
       "          '했습니다': 2,\n",
       "          '인공': 9,\n",
       "          '지능': 13,\n",
       "          '사이버': 34,\n",
       "          '보안': 313,\n",
       "          '학과': 15,\n",
       "          '한국': 12,\n",
       "          '과학기술': 1,\n",
       "          '정보': 29,\n",
       "          '연구원': 2,\n",
       "          'EQST': 13,\n",
       "          '그룹': 21,\n",
       "          '분석': 12,\n",
       "          '위협': 32,\n",
       "          '주목': 4,\n",
       "          'IT': 23,\n",
       "          '정보보호': 38,\n",
       "          '구축': 12,\n",
       "          '가이드': 19,\n",
       "          '해킹': 39,\n",
       "          '졸업생': 2,\n",
       "          '취업': 30,\n",
       "          '성공': 5,\n",
       "          '대기업': 2,\n",
       "          '채용': 80,\n",
       "          '공유': 6,\n",
       "          '주문': 1,\n",
       "          '제작': 2,\n",
       "          '송월': 1,\n",
       "          '핸디타올': 2,\n",
       "          '염색': 1,\n",
       "          '어워드': 1,\n",
       "          '인기': 2,\n",
       "          '워드': 2,\n",
       "          'TOP': 3,\n",
       "          'sk': 16,\n",
       "          '확실하게': 2,\n",
       "          '준비': 13,\n",
       "          '하는': 28,\n",
       "          '대표': 13,\n",
       "          '신년사': 1,\n",
       "          '이스트': 3,\n",
       "          '시큐리티': 14,\n",
       "          '엔터프라이즈': 1,\n",
       "          '알약': 2,\n",
       "          '백신': 2,\n",
       "          '직무': 7,\n",
       "          '인터뷰': 18,\n",
       "          '시스템': 12,\n",
       "          '운용': 1,\n",
       "          '최원': 1,\n",
       "          '정관': 1,\n",
       "          '선배': 2,\n",
       "          '합격': 14,\n",
       "          '경력': 22,\n",
       "          '자소': 3,\n",
       "          'Inforsec': 1,\n",
       "          'cloud': 1,\n",
       "          'soultion': 1,\n",
       "          '기업': 60,\n",
       "          'amp': 30,\n",
       "          '인사': 3,\n",
       "          '듣는다': 1,\n",
       "          '검토': 5,\n",
       "          '어떻게': 7,\n",
       "          '할까': 3,\n",
       "          '노하우': 1,\n",
       "          '방출': 1,\n",
       "          '지역': 3,\n",
       "          '중소기업': 6,\n",
       "          '활용': 9,\n",
       "          '집중': 3,\n",
       "          '관리': 12,\n",
       "          '필요': 1,\n",
       "          '성경': 1,\n",
       "          '컨설팅': 14,\n",
       "          '사업': 51,\n",
       "          '중소': 2,\n",
       "          '상생': 2,\n",
       "          'ESG': 1,\n",
       "          '경영': 2,\n",
       "          '실천': 3,\n",
       "          '나선다': 2,\n",
       "          '소통': 1,\n",
       "          '비결': 1,\n",
       "          '구성원': 4,\n",
       "          '성격': 1,\n",
       "          '유형': 2,\n",
       "          '파악': 1,\n",
       "          '하기': 7,\n",
       "          '비즈': 3,\n",
       "          '레터': 2,\n",
       "          'Vol': 2,\n",
       "          '안전한': 3,\n",
       "          '제조': 2,\n",
       "          '시설': 1,\n",
       "          '운영': 8,\n",
       "          'AD': 4,\n",
       "          '서버': 7,\n",
       "          '노린': 1,\n",
       "          '공격': 16,\n",
       "          '경고': 4,\n",
       "          '인한': 1,\n",
       "          '증가': 7,\n",
       "          '상반기': 10,\n",
       "          '통계': 1,\n",
       "          '발표': 12,\n",
       "          '직원': 3,\n",
       "          '대상': 10,\n",
       "          '범죄예방': 1,\n",
       "          '호신술': 1,\n",
       "          '강의': 4,\n",
       "          '창립': 4,\n",
       "          '주년': 4,\n",
       "          '도약': 2,\n",
       "          '위해': 4,\n",
       "          '조직개편': 4,\n",
       "          '시행': 4,\n",
       "          '대한민국': 4,\n",
       "          '일자리': 6,\n",
       "          '으뜸': 2,\n",
       "          '선정': 2,\n",
       "          '국내': 8,\n",
       "          '최초': 6,\n",
       "          '산업': 16,\n",
       "          '제어': 2,\n",
       "          '특허': 2,\n",
       "          '출원': 2,\n",
       "          'Partner': 4,\n",
       "          '트렌드': 6,\n",
       "          '마이크로': 3,\n",
       "          '클라우드': 68,\n",
       "          '소식': 11,\n",
       "          '베트남': 4,\n",
       "          '최대': 3,\n",
       "          '민영': 3,\n",
       "          'Vin': 1,\n",
       "          '정보보안': 51,\n",
       "          '스마트': 20,\n",
       "          '단지': 3,\n",
       "          '융합': 28,\n",
       "          '뵌다': 1,\n",
       "          '모의': 10,\n",
       "          '온라인': 6,\n",
       "          '교육': 28,\n",
       "          'LMS': 1,\n",
       "          '강화': 12,\n",
       "          '글로벌': 11,\n",
       "          '시장': 8,\n",
       "          '중국': 2,\n",
       "          '뻗어': 1,\n",
       "          '나가다': 1,\n",
       "          '윈도우': 4,\n",
       "          '여부': 2,\n",
       "          '점검': 7,\n",
       "          '무료': 9,\n",
       "          '공개': 14,\n",
       "          '분야': 9,\n",
       "          '장애인': 8,\n",
       "          '확대': 13,\n",
       "          '앞장서다': 1,\n",
       "          '함께': 10,\n",
       "          '합시다': 1,\n",
       "          '동반성': 5,\n",
       "          '이용환': 5,\n",
       "          '언택트': 4,\n",
       "          '협력': 22,\n",
       "          '통해': 2,\n",
       "          '사옥': 1,\n",
       "          '이전': 1,\n",
       "          '집들이': 1,\n",
       "          '초대': 2,\n",
       "          '합니다': 16,\n",
       "          'VinCSS': 1,\n",
       "          '관제': 50,\n",
       "          '플랫폼': 12,\n",
       "          '계약': 7,\n",
       "          '성사': 1,\n",
       "          '근무': 3,\n",
       "          '환경': 9,\n",
       "          '더욱': 2,\n",
       "          '주의': 2,\n",
       "          '이끌어': 2,\n",
       "          '인재': 12,\n",
       "          '육성': 5,\n",
       "          '가이드북': 4,\n",
       "          '개정판': 3,\n",
       "          '발간': 10,\n",
       "          '최적화': 1,\n",
       "          '미쓰비시': 1,\n",
       "          '전기': 1,\n",
       "          '조직': 5,\n",
       "          '추적': 1,\n",
       "          '자산': 3,\n",
       "          '보호': 3,\n",
       "          '선택': 3,\n",
       "          'Thanks': 1,\n",
       "          'Together': 1,\n",
       "          '시무': 3,\n",
       "          '현장': 11,\n",
       "          '가다': 3,\n",
       "          'New': 1,\n",
       "          'ICT': 17,\n",
       "          '코로나': 1,\n",
       "          '악성': 1,\n",
       "          '메일': 2,\n",
       "          '우리': 5,\n",
       "          '모두': 1,\n",
       "          '지키는': 2,\n",
       "          '전국': 1,\n",
       "          '순회': 1,\n",
       "          '실시간': 4,\n",
       "          '대응': 10,\n",
       "          '하다': 4,\n",
       "          '원격': 6,\n",
       "          '기술': 27,\n",
       "          '파트너': 4,\n",
       "          'AWS': 23,\n",
       "          'Security': 53,\n",
       "          '이벤트': 5,\n",
       "          '종료': 2,\n",
       "          '서비스': 39,\n",
       "          '지금': 1,\n",
       "          '바로': 2,\n",
       "          '신청': 3,\n",
       "          '하세요': 5,\n",
       "          '산모': 1,\n",
       "          '신생아': 1,\n",
       "          '건강': 2,\n",
       "          '안전': 8,\n",
       "          '돌본다': 1,\n",
       "          '뉴스레터': 108,\n",
       "          'Quiz': 2,\n",
       "          'Event': 3,\n",
       "          '빈칸': 2,\n",
       "          '맞춰라': 2,\n",
       "          '세미나': 13,\n",
       "          '가장': 2,\n",
       "          '부산': 2,\n",
       "          '은행': 1,\n",
       "          '금융': 5,\n",
       "          '주관': 1,\n",
       "          '논문': 2,\n",
       "          '공모전': 1,\n",
       "          '최우수상': 1,\n",
       "          '수상': 2,\n",
       "          'SKT': 25,\n",
       "          '티맵': 3,\n",
       "          '해외': 7,\n",
       "          '인증': 14,\n",
       "          '프로젝트': 8,\n",
       "          '수행': 3,\n",
       "          '쿼드': 1,\n",
       "          '마이너': 1,\n",
       "          '차세대': 7,\n",
       "          '네트워크': 8,\n",
       "          '솔루션': 21,\n",
       "          '맞춰': 1,\n",
       "          '알려주는': 1,\n",
       "          '전망': 20,\n",
       "          'Top': 5,\n",
       "          'Frost': 1,\n",
       "          'Sullivan': 1,\n",
       "          'Report': 55,\n",
       "          '살펴보는': 1,\n",
       "          '새로운': 3,\n",
       "          '홈페이지': 2,\n",
       "          '임팩트': 1,\n",
       "          '부스': 5,\n",
       "          '방문': 5,\n",
       "          'SI': 1,\n",
       "          '통한': 3,\n",
       "          '컨테이너': 1,\n",
       "          'RSAC': 1,\n",
       "          '스케치': 5,\n",
       "          '세계': 2,\n",
       "          'Power': 1,\n",
       "          'of': 1,\n",
       "          'Opportunity': 1,\n",
       "          'RSA': 7,\n",
       "          'SECON': 7,\n",
       "          '여러분': 2,\n",
       "          'Cloud': 6,\n",
       "          '다가오는': 1,\n",
       "          'Family': 1,\n",
       "          'Summit': 5,\n",
       "          'Seoul': 2,\n",
       "          '참가': 6,\n",
       "          '사내': 14,\n",
       "          '시작': 1,\n",
       "          '신입사원': 10,\n",
       "          '전형': 1,\n",
       "          'TO': 1,\n",
       "          '싱가포르': 8,\n",
       "          '보안관': 15,\n",
       "          '센터': 11,\n",
       "          '오픈': 5,\n",
       "          '큐디움': 13,\n",
       "          'Secudium': 3,\n",
       "          '주요': 12,\n",
       "          '소스': 4,\n",
       "          '블로그': 7,\n",
       "          '어워즈': 1,\n",
       "          '정보기술': 1,\n",
       "          'KITRI': 6,\n",
       "          '과정': 15,\n",
       "          '화제': 1,\n",
       "          '중심': 5,\n",
       "          'Global': 2,\n",
       "          'Expert': 1,\n",
       "          'Program': 1,\n",
       "          '선발': 1,\n",
       "          '한눈': 4,\n",
       "          '보는': 4,\n",
       "          '뉴스': 23,\n",
       "          '승부사': 1,\n",
       "          '화이트': 6,\n",
       "          '해커': 9,\n",
       "          '만나세요': 1,\n",
       "          '업무': 6,\n",
       "          '바꾸다': 1,\n",
       "          '비용': 5,\n",
       "          '다운': 2,\n",
       "          '개시': 4,\n",
       "          'PRO': 2,\n",
       "          '직책': 1,\n",
       "          '결의': 2,\n",
       "          '대회': 3,\n",
       "          '인등산': 1,\n",
       "          '정상': 1,\n",
       "          '패기': 2,\n",
       "          'Weekly': 51,\n",
       "          '열정': 2,\n",
       "          '워크숍': 3,\n",
       "          'summit': 2,\n",
       "          '출전': 1,\n",
       "          '연결': 6,\n",
       "          '전략': 16,\n",
       "          '대표이사': 2,\n",
       "          '가드': 5,\n",
       "          '프로': 2,\n",
       "          '페셔널': 1,\n",
       "          '출시': 10,\n",
       "          '생태계': 1,\n",
       "          '조성': 1,\n",
       "          '하자': 2,\n",
       "          '결과': 1,\n",
       "          '당신': 1,\n",
       "          '크리스마스': 1,\n",
       "          '기획': 4,\n",
       "          '능력': 1,\n",
       "          '향상': 2,\n",
       "          '설명': 4,\n",
       "          '정리': 13,\n",
       "          '디지털': 13,\n",
       "          '파리': 1,\n",
       "          '요청': 2,\n",
       "          'The': 1,\n",
       "          'Paris': 1,\n",
       "          'Call': 1,\n",
       "          '참여': 3,\n",
       "          '세종대왕': 1,\n",
       "          '있다': 4,\n",
       "          '탐방': 1,\n",
       "          '원스톱': 2,\n",
       "          '지원': 6,\n",
       "          '허브': 1,\n",
       "          '안랩': 14,\n",
       "          '넥스': 1,\n",
       "          '멘토': 1,\n",
       "          'IoT': 28,\n",
       "          '공공': 1,\n",
       "          '책임진다': 6,\n",
       "          'GEP': 1,\n",
       "          '모집': 14,\n",
       "          '경험': 1,\n",
       "          '합숙': 1,\n",
       "          '전방': 1,\n",
       "          '외치': 1,\n",
       "          'SECULETTER': 25,\n",
       "          '운영체제': 2,\n",
       "          'Secure': 1,\n",
       "          '악성코드': 6,\n",
       "          '잡는': 1,\n",
       "          '윤리': 1,\n",
       "          '버그': 2,\n",
       "          '바운티': 2,\n",
       "          '제도': 2,\n",
       "          '바라본': 3,\n",
       "          '법무': 2,\n",
       "          '율촌': 4,\n",
       "          '법률': 1,\n",
       "          '손잡았다': 1,\n",
       "          'Home': 1,\n",
       "          'Coming': 1,\n",
       "          'Day': 4,\n",
       "          '판교': 3,\n",
       "          '본사': 2,\n",
       "          '웹툰': 2,\n",
       "          '웹쉘': 4,\n",
       "          'insight': 5,\n",
       "          'Annual': 2,\n",
       "          '바이': 1,\n",
       "          '대치동': 1,\n",
       "          '헬로': 1,\n",
       "          '결산': 2,\n",
       "          '앤드': 1,\n",
       "          '접근': 1,\n",
       "          '계정': 3,\n",
       "          '권한': 2,\n",
       "          '희망': 2,\n",
       "          '떠받치는': 1,\n",
       "          '믿음직한': 1,\n",
       "          '미드필더': 1,\n",
       "          '필진': 4,\n",
       "          '시상식': 4,\n",
       "          '컨텐츠': 1,\n",
       "          '청사진': 2,\n",
       "          '제시': 7,\n",
       "          'CERT': 2,\n",
       "          '침해사고': 1,\n",
       "          '이기성': 1,\n",
       "          '인용': 1,\n",
       "          '암호': 3,\n",
       "          '화폐': 5,\n",
       "          '거래소': 5,\n",
       "          '개최': 10,\n",
       "          '세상': 1,\n",
       "          '내딛다': 1,\n",
       "          'ISEC': 1,\n",
       "          '만난': 2,\n",
       "          'Intelligence': 1,\n",
       "          '이큐스트': 2,\n",
       "          '사물인터넷': 7,\n",
       "          '미래': 9,\n",
       "          '태어나는': 1,\n",
       "          'quot': 34,\n",
       "          '소프트웨어': 4,\n",
       "          '위험하다': 2,\n",
       "          '맞춤': 5,\n",
       "          '청년': 4,\n",
       "          '기여': 3,\n",
       "          '고용노동부': 1,\n",
       "          '장관': 1,\n",
       "          '표창': 1,\n",
       "          '빅데이터': 5,\n",
       "          '기반': 6,\n",
       "          '승부': 2,\n",
       "          '이노': 10,\n",
       "          '빅스': 3,\n",
       "          '이야기': 4,\n",
       "          '역량': 5,\n",
       "          '전문가': 18,\n",
       "          '문화': 3,\n",
       "          '직위': 2,\n",
       "          '체계': 6,\n",
       "          'Pe@k': 1,\n",
       "          '소개': 8,\n",
       "          '공식': 4,\n",
       "          'Seculogger': 3,\n",
       "          '로거': 2,\n",
       "          '영업': 6,\n",
       "          '협업': 2,\n",
       "          '시너지': 2,\n",
       "          '확보': 1,\n",
       "          '전문성': 3,\n",
       "          '리포트': 4,\n",
       "          '만드는': 1,\n",
       "          '사람': 6,\n",
       "          '사와': 3,\n",
       "          '만나': 1,\n",
       "          '소중했던': 1,\n",
       "          '전시회': 5,\n",
       "          'CS': 1,\n",
       "          'DS': 2,\n",
       "          '개발': 9,\n",
       "          '파트': 1,\n",
       "          '보너스': 1,\n",
       "          '사진': 1,\n",
       "          'CASB': 10,\n",
       "          '종합': 4,\n",
       "          '계획': 1,\n",
       "          'IOT': 2,\n",
       "          '가이드라인': 2,\n",
       "          'LG': 3,\n",
       "          '전자': 1,\n",
       "          '재택근무': 1,\n",
       "          '유출': 2,\n",
       "          '예방': 7,\n",
       "          '분리': 2,\n",
       "          'VDI': 1,\n",
       "          '개발자': 4,\n",
       "          '포럼': 2,\n",
       "          '올해': 5,\n",
       "          '전하': 2,\n",
       "          '도입': 5,\n",
       "          '제안': 1,\n",
       "          '이메일': 3,\n",
       "          'eAPT': 1,\n",
       "          '혁신': 3,\n",
       "          '내부': 2,\n",
       "          '하반기': 2,\n",
       "          'SKMS': 1,\n",
       "          '회사': 12,\n",
       "          '주역': 1,\n",
       "          '되어라': 1,\n",
       "          '국제': 3,\n",
       "          'CREST': 1,\n",
       "          '획득': 4,\n",
       "          '관심': 5,\n",
       "          '백만': 1,\n",
       "          '달러': 1,\n",
       "          '매출': 9,\n",
       "          '목표': 3,\n",
       "          '잡코리아': 3,\n",
       "          '연봉': 8,\n",
       "          '강력': 1,\n",
       "          '탐지': 8,\n",
       "          '빠른': 2,\n",
       "          '엔드': 2,\n",
       "          '년대': 1,\n",
       "          '인력': 4,\n",
       "          '활성화': 1,\n",
       "          '만복': 1,\n",
       "          '찾아주셔서': 1,\n",
       "          '감사합니다': 1,\n",
       "          '임고은': 1,\n",
       "          '하이테크': 2,\n",
       "          '담당': 2,\n",
       "          '공장': 6,\n",
       "          '중요성': 1,\n",
       "          '대중화': 2,\n",
       "          '달렸다': 1,\n",
       "          '김용훈': 1,\n",
       "          '본부장': 1,\n",
       "          '이노뎁': 1,\n",
       "          '체결': 10,\n",
       "          '컨퍼런스': 6,\n",
       "          '하이라이트': 1,\n",
       "          'on': 1,\n",
       "          '신입': 25,\n",
       "          '사원': 7,\n",
       "          '데이터': 9,\n",
       "          '웨비': 5,\n",
       "          '보고서': 7,\n",
       "          'Biz': 1,\n",
       "          'GIF': 2,\n",
       "          '제품': 2,\n",
       "          '일본': 2,\n",
       "          '전선': 1,\n",
       "          '보험': 3,\n",
       "          '시만텍': 1,\n",
       "          '파트너쉽': 1,\n",
       "          '품질': 2,\n",
       "          'CISO': 1,\n",
       "          '함께한': 2,\n",
       "          '조찬': 1,\n",
       "          '주축': 1,\n",
       "          'ICBM': 2,\n",
       "          '대거': 1,\n",
       "          '선보인다': 1,\n",
       "          '필요하다': 1,\n",
       "          '인텔리전스': 3,\n",
       "          '감히': 1,\n",
       "          '추천': 3,\n",
       "          '광고': 2,\n",
       "          '웹서버': 1,\n",
       "          '대한': 1,\n",
       "          'Shield': 2,\n",
       "          'Anti': 1,\n",
       "          '수력': 1,\n",
       "          '원자력': 1,\n",
       "          '업데이트': 4,\n",
       "          '참관': 2,\n",
       "          '스카다': 1,\n",
       "          'SCADA': 1,\n",
       "          'ICS': 3,\n",
       "          'Trend': 1,\n",
       "          '매진': 1,\n",
       "          '주도하는': 1,\n",
       "          'BEST': 2,\n",
       "          'Post': 1,\n",
       "          '자회사': 20,\n",
       "          '최신': 1,\n",
       "          '대졸': 2,\n",
       "          '지니': 3,\n",
       "          '언스': 3,\n",
       "          '신속': 1,\n",
       "          '비즈니스': 4,\n",
       "          '커뮤니케이션': 2,\n",
       "          '스킬': 3,\n",
       "          '안티': 1,\n",
       "          'CC': 3,\n",
       "          '엑스': 3,\n",
       "          '게이트': 1,\n",
       "          '고성능': 1,\n",
       "          '방화벽': 3,\n",
       "          'VPN': 2,\n",
       "          'PC': 4,\n",
       "          '병원': 1,\n",
       "          'JB': 1,\n",
       "          '하이브리드': 1,\n",
       "          '상장': 5,\n",
       "          '언제': 1,\n",
       "          '탄생': 1,\n",
       "          '이제': 2,\n",
       "          '발달장애': 1,\n",
       "          '사무': 3,\n",
       "          '보조': 1,\n",
       "          '공고': 8,\n",
       "          'eagleye': 1,\n",
       "          '개인정보': 5,\n",
       "          '잠재력': 1,\n",
       "          '있는': 4,\n",
       "          '찾습니다': 1,\n",
       "          '발전': 2,\n",
       "          '공로': 1,\n",
       "          '미래창조과학부': 1,\n",
       "          '이슈': 4,\n",
       "          '리뷰': 4,\n",
       "          '자동': 1,\n",
       "          'MDS': 2,\n",
       "          '실효': 1,\n",
       "          '성과': 2,\n",
       "          '리스크': 1,\n",
       "          '업계': 3,\n",
       "          '접근성': 1,\n",
       "          '마크': 1,\n",
       "          '그리드': 4,\n",
       "          '휴식': 1,\n",
       "          '면접': 10,\n",
       "          '원하시나요': 1,\n",
       "          '마켓': 1,\n",
       "          '레이스': 2,\n",
       "          '제공': 4,\n",
       "          '영상': 5,\n",
       "          '사명': 2,\n",
       "          '개편': 3,\n",
       "          '본격': 4,\n",
       "          '수능': 2,\n",
       "          '대박나자': 1,\n",
       "          '키트': 1,\n",
       "          'GDPR': 3,\n",
       "          '목적': 1,\n",
       "          '정책': 2,\n",
       "          '지란': 4,\n",
       "          '에스': 1,\n",
       "          '해결': 3,\n",
       "          '가로': 1,\n",
       "          '날개': 1,\n",
       "          '합친다': 3,\n",
       "          '도사': 1,\n",
       "          '플랜': 1,\n",
       "          '테리어': 1,\n",
       "          '파티션': 2,\n",
       "          '식물': 1,\n",
       "          '웹사이트': 2,\n",
       "          '입사': 1,\n",
       "          '꿈이였던': 1,\n",
       "          '야망': 1,\n",
       "          '커지다': 1,\n",
       "          '자신': 1,\n",
       "          '스타트업': 2,\n",
       "          'MOU': 5,\n",
       "          '기사': 3,\n",
       "          '텔레콤': 92,\n",
       "          '키로': 2,\n",
       "          '안내': 3,\n",
       "          '선도': 2,\n",
       "          '상식': 2,\n",
       "          '고사': 2,\n",
       "          '산아이': 2,\n",
       "          '앤티': 2,\n",
       "          '모든': 3,\n",
       "          '포트': 1,\n",
       "          '트래픽': 1,\n",
       "          '투명하게': 1,\n",
       "          '보이는': 2,\n",
       "          '개요': 2,\n",
       "          '계열': 4,\n",
       "          '익시아': 1,\n",
       "          '모니터링': 1,\n",
       "          '양성': 9,\n",
       "          '프로그램': 10,\n",
       "          'Hackers': 1,\n",
       "          'View': 1,\n",
       "          '성공한': 1,\n",
       "          '후기': 9,\n",
       "          'Ft': 1,\n",
       "          '원하는': 1,\n",
       "          '펼친다': 1,\n",
       "          '핵심': 7,\n",
       "          '무엇': 4,\n",
       "          'lt': 5,\n",
       "          'gt': 5,\n",
       "          '모빌리티': 3,\n",
       "          'AI': 16,\n",
       "          '반도체': 3,\n",
       "          '유해': 1,\n",
       "          '패킷': 3,\n",
       "          '검증': 3,\n",
       "          'XPD': 1,\n",
       "          '장외': 7,\n",
       "          '주식': 9,\n",
       "          '추진': 5,\n",
       "          '손잡고': 2,\n",
       "          'APT': 4,\n",
       "          '인정': 1,\n",
       "          '퍼블릭': 2,\n",
       "          '맞이': 4,\n",
       "          '맡아': 1,\n",
       "          '하셔서': 1,\n",
       "          '소서': 1,\n",
       "          '개강': 7,\n",
       "          '실무': 6,\n",
       "          '가치': 9,\n",
       "          '인터넷': 4,\n",
       "          '쇼핑몰': 1,\n",
       "          '전용': 2,\n",
       "          'Shop': 1,\n",
       "          '레이어': 1,\n",
       "          '데이': 3,\n",
       "          '참석': 1,\n",
       "          '흡수': 4,\n",
       "          'Black': 1,\n",
       "          'Hat': 1,\n",
       "          'DEF': 1,\n",
       "          'CON': 1,\n",
       "          '행복': 1,\n",
       "          '나무': 1,\n",
       "          '심기': 1,\n",
       "          '행사': 7,\n",
       "          '아듀': 1,\n",
       "          '대해': 2,\n",
       "          '알아보자': 3,\n",
       "          '이대로': 1,\n",
       "          '좋은가': 1,\n",
       "          '부문': 7,\n",
       "          '기록': 2,\n",
       "          '년비': 2,\n",
       "          '항목': 2,\n",
       "          '아바스트': 1,\n",
       "          '모바일': 4,\n",
       "          '가상화': 1,\n",
       "          '비법': 1,\n",
       "          '초봉': 2,\n",
       "          '팬데믹': 1,\n",
       "          '극복': 1,\n",
       "          '나가는': 1,\n",
       "          '장애': 1,\n",
       "          '진행중': 1,\n",
       "          '진행': 3,\n",
       "          '아카데미': 2,\n",
       "          '황성': 1,\n",
       "          '상무': 1,\n",
       "          '승진': 1,\n",
       "          '축하': 1,\n",
       "          'IBM': 4,\n",
       "          '양해각서': 1,\n",
       "          '포인트': 2,\n",
       "          '흔적': 1,\n",
       "          'NHN': 3,\n",
       "          '스핀': 3,\n",
       "          'IPO': 4,\n",
       "          '교통': 1,\n",
       "          '끝났다': 1,\n",
       "          '연합전선': 1,\n",
       "          '맞선다': 1,\n",
       "          '히스토리': 2,\n",
       "          '신수정': 1,\n",
       "          '개척': 1,\n",
       "          '족보': 1,\n",
       "          '물리': 3,\n",
       "          '인수': 5,\n",
       "          '편입': 5,\n",
       "          '전략기획': 1,\n",
       "          '진단': 4,\n",
       "          '포렌식': 3,\n",
       "          '디스커버리': 1,\n",
       "          '부분': 1,\n",
       "          '자세히': 1,\n",
       "          '보면': 2,\n",
       "          '만든다': 4,\n",
       "          '인턴십': 2,\n",
       "          '신설': 2,\n",
       "          '문과': 1,\n",
       "          '직장인': 1,\n",
       "          '전직': 1,\n",
       "          '하나': 2,\n",
       "          '디바이스': 1,\n",
       "          'OS': 2,\n",
       "          '에스케이': 6,\n",
       "          '재무제표': 1,\n",
       "          '페어': 1,\n",
       "          'FIP': 1,\n",
       "          '채용정보': 1,\n",
       "          '공채': 3,\n",
       "          '속보': 2,\n",
       "          '다날': 1,\n",
       "          'WHES': 1,\n",
       "          '프리미엄': 1,\n",
       "          '엔지니어': 1,\n",
       "          '마감': 3,\n",
       "          '임박': 3,\n",
       "          '오늘': 2,\n",
       "          '핫이슈': 1,\n",
       "          '이상호': 1,\n",
       "          '바이오': 4,\n",
       "          '사이언스': 1,\n",
       "          '자기': 1,\n",
       "          '짜리': 1,\n",
       "          '공룡': 1,\n",
       "          '재탄생': 1,\n",
       "          '완전': 6,\n",
       "          '키운다': 1,\n",
       "          '몽산포': 1,\n",
       "          '캠핑': 1,\n",
       "          '판도': 1,\n",
       "          '바뀌나': 1,\n",
       "          'it': 3,\n",
       "          '전문학교': 4,\n",
       "          '진화': 2,\n",
       "          're': 1,\n",
       "          '확실한': 1,\n",
       "          '사라': 1,\n",
       "          '케이': 1,\n",
       "          '터링': 1,\n",
       "          '담당자': 3,\n",
       "          '영역': 4,\n",
       "          'nAPT': 1,\n",
       "          '영기획': 1,\n",
       "          '웹투폰': 1,\n",
       "          '자료': 4,\n",
       "          '결집': 2,\n",
       "          '오픈소스': 7,\n",
       "          '공동': 3,\n",
       "          '풀이': 1,\n",
       "          '볼링': 1,\n",
       "          'OT': 5,\n",
       "          '연합': 2,\n",
       "          'CTA': 2,\n",
       "          '가입': 2,\n",
       "          '아시아': 2,\n",
       "          '대규모': 2,\n",
       "          '소중한': 1,\n",
       "          '중국어': 1,\n",
       "          '번역': 3,\n",
       "          '영어': 1,\n",
       "          '스페인어': 1,\n",
       "          '직업': 2,\n",
       "          '인턴': 3,\n",
       "          '박진': 1,\n",
       "          '체제': 1,\n",
       "          '시동': 1,\n",
       "          '에퀴닉스': 1,\n",
       "          '포문': 4,\n",
       "          '맺은': 4,\n",
       "          'Planner': 2,\n",
       "          '해킹대회': 2,\n",
       "          'CODEGATE': 1,\n",
       "          'Codegate': 1,\n",
       "          '입초': 1,\n",
       "          '스펙': 2,\n",
       "          '엔진': 3,\n",
       "          '돌입': 1,\n",
       "          '서울대': 2,\n",
       "          '수기': 1,\n",
       "          '필독': 2,\n",
       "          '퓨전': 4,\n",
       "          '데이타': 5,\n",
       "          '공략': 6,\n",
       "          '협약': 1,\n",
       "          '콘서트': 2,\n",
       "          '궁금하신가요': 1,\n",
       "          '감시': 3,\n",
       "          '건전성': 1,\n",
       "          '매너': 1,\n",
       "          '품격': 1,\n",
       "          '화법': 1,\n",
       "          '월례': 1,\n",
       "          '회의': 1,\n",
       "          '리더': 2,\n",
       "          '속도': 2,\n",
       "          '내는': 2,\n",
       "          '내년': 6,\n",
       "          '투데이': 2,\n",
       "          '상태': 1,\n",
       "          '날씨': 1,\n",
       "          '손쉽게': 1,\n",
       "          'PM': 1,\n",
       "          '연간': 3,\n",
       "          '국비': 2,\n",
       "          '학원': 3,\n",
       "          'News': 2,\n",
       "          '토종': 2,\n",
       "          '사업자': 6,\n",
       "          '국방': 1,\n",
       "          '∙∙∙': 2,\n",
       "          '아토': 1,\n",
       "          '리서치': 1,\n",
       "          '투자': 5,\n",
       "          '크레스트': 4,\n",
       "          '취득': 2,\n",
       "          '사례': 2,\n",
       "          '관련': 10,\n",
       "          '변화': 5,\n",
       "          '모듈': 1,\n",
       "          '워크샵': 6,\n",
       "          '전사': 3,\n",
       "          '돌파': 2,\n",
       "          '취직': 1,\n",
       "          '사이버공격': 2,\n",
       "          '늘어': 1,\n",
       "          'YK': 1,\n",
       "          '동그라미': 1,\n",
       "          '산후조리': 1,\n",
       "          '효율': 1,\n",
       "          '고도화': 1,\n",
       "          '두번째': 1,\n",
       "          '서해안': 1,\n",
       "          '비대': 1,\n",
       "          '맞게': 1,\n",
       "          '판촉': 2,\n",
       "          '발렌티노': 1,\n",
       "          '루디': 1,\n",
       "          '받고': 3,\n",
       "          '서울대학교': 1,\n",
       "          'Engine': 1,\n",
       "          'SECaaS': 1,\n",
       "          '부터': 1,\n",
       "          '가상': 2,\n",
       "          '보완': 1,\n",
       "          '써트온': 3,\n",
       "          '살펴보기': 1,\n",
       "          '불구': 1,\n",
       "          '여전히': 1,\n",
       "          '취약': 1,\n",
       "          '의식': 1,\n",
       "          '개선': 3,\n",
       "          'CJ': 1,\n",
       "          '올리브': 1,\n",
       "          '네트웍': 1,\n",
       "          'AMD': 1,\n",
       "          '신임': 6,\n",
       "          '실장': 1,\n",
       "          '유럽': 1,\n",
       "          '개인': 7,\n",
       "          '규정': 1,\n",
       "          '준수': 1,\n",
       "          '사회': 2,\n",
       "          '파이널': 1,\n",
       "          '발행': 1,\n",
       "          '기념': 5,\n",
       "          '페이스북': 2,\n",
       "          '보도자료': 2,\n",
       "          '글씨': 1,\n",
       "          '디자인': 1,\n",
       "          '막는': 1,\n",
       "          '센서': 3,\n",
       "          '몰릴': 3,\n",
       "          'ZDNet': 1,\n",
       "          '열사': 8,\n",
       "          '탑재': 1,\n",
       "          '단행': 1,\n",
       "          '성장': 4,\n",
       "          'Digital': 1,\n",
       "          '사주': 5,\n",
       "          '처분': 1,\n",
       "          '결정': 2,\n",
       "          '업체': 2,\n",
       "          '등장': 1,\n",
       "          '선보여': 1,\n",
       "          '복합': 3,\n",
       "          'MS': 1,\n",
       "          'Azure': 3,\n",
       "          'GCP': 2,\n",
       "          '개소': 3,\n",
       "          '활동': 1,\n",
       "          '취약점': 12,\n",
       "          ...})"
      ]
     },
     "execution_count": 26,
     "metadata": {
      "tags": []
     },
     "output_type": "execute_result"
    }
   ],
   "source": [
    "ko.vocab()"
   ]
  },
  {
   "cell_type": "code",
   "execution_count": 27,
   "metadata": {
    "colab": {
     "base_uri": "https://localhost:8080/"
    },
    "executionInfo": {
     "elapsed": 343,
     "status": "ok",
     "timestamp": 1626675283281,
     "user": {
      "displayName": "박준원",
      "photoUrl": "",
      "userId": "01666978145944503968"
     },
     "user_tz": -540
    },
    "id": "UvNdURv2ZaAm",
    "outputId": "56bfdd94-9abc-412d-cf4d-3ff66b916f4a"
   },
   "outputs": [
    {
     "data": {
      "text/plain": [
       "[('SK', 859),\n",
       " ('인포섹', 747),\n",
       " ('보안', 313),\n",
       " ('뉴스레터', 108),\n",
       " ('텔레콤', 92),\n",
       " ('채용', 80),\n",
       " ('클라우드', 68),\n",
       " ('기업', 60),\n",
       " ('Report', 55),\n",
       " ('ADT', 53),\n",
       " ('Security', 53),\n",
       " ('캡스', 52),\n",
       " ('사업', 51),\n",
       " ('정보보안', 51),\n",
       " ('Weekly', 51),\n",
       " ('관제', 50),\n",
       " ('해킹', 39),\n",
       " ('서비스', 39),\n",
       " ('정보보호', 38),\n",
       " ('사이버', 34),\n",
       " ('quot', 34),\n",
       " ('위협', 32),\n",
       " ('취업', 30),\n",
       " ('amp', 30),\n",
       " ('정보', 29),\n",
       " ('하는', 28),\n",
       " ('융합', 28),\n",
       " ('교육', 28),\n",
       " ('IoT', 28),\n",
       " ('기술', 27),\n",
       " ('SKT', 25),\n",
       " ('SECULETTER', 25),\n",
       " ('신입', 25),\n",
       " ('통합', 23),\n",
       " ('IT', 23),\n",
       " ('AWS', 23),\n",
       " ('뉴스', 23),\n",
       " ('경력', 22),\n",
       " ('협력', 22),\n",
       " ('그룹', 21),\n",
       " ('솔루션', 21),\n",
       " ('합병', 20),\n",
       " ('스마트', 20),\n",
       " ('전망', 20),\n",
       " ('자회사', 20),\n",
       " ('시대', 19),\n",
       " ('가이드', 19),\n",
       " ('인터뷰', 18),\n",
       " ('전문가', 18),\n",
       " ('ICT', 17),\n",
       " ('sk', 16),\n",
       " ('공격', 16),\n",
       " ('산업', 16),\n",
       " ('합니다', 16),\n",
       " ('전략', 16),\n",
       " ('AI', 16),\n",
       " ('학과', 15),\n",
       " ('보안관', 15),\n",
       " ('과정', 15),\n",
       " ('시큐리티', 14),\n",
       " ('합격', 14),\n",
       " ('컨설팅', 14),\n",
       " ('공개', 14),\n",
       " ('인증', 14),\n",
       " ('사내', 14),\n",
       " ('안랩', 14),\n",
       " ('모집', 14),\n",
       " ('지능', 13),\n",
       " ('EQST', 13),\n",
       " ('준비', 13),\n",
       " ('대표', 13),\n",
       " ('확대', 13),\n",
       " ('세미나', 13),\n",
       " ('큐디움', 13),\n",
       " ('정리', 13),\n",
       " ('디지털', 13),\n",
       " ('실적', 13),\n",
       " ('한국', 12),\n",
       " ('분석', 12),\n",
       " ('구축', 12),\n",
       " ('시스템', 12),\n",
       " ('관리', 12),\n",
       " ('발표', 12),\n",
       " ('강화', 12),\n",
       " ('플랫폼', 12),\n",
       " ('인재', 12),\n",
       " ('주요', 12),\n",
       " ('회사', 12),\n",
       " ('취약점', 12),\n",
       " ('방법', 12),\n",
       " ('소식', 11),\n",
       " ('글로벌', 11),\n",
       " ('현장', 11),\n",
       " ('센터', 11),\n",
       " ('주가', 11),\n",
       " ('상반기', 10),\n",
       " ('대상', 10),\n",
       " ('모의', 10),\n",
       " ('함께', 10),\n",
       " ('발간', 10)]"
      ]
     },
     "execution_count": 27,
     "metadata": {
      "tags": []
     },
     "output_type": "execute_result"
    }
   ],
   "source": [
    "ko.vocab().most_common(100)"
   ]
  },
  {
   "cell_type": "code",
   "execution_count": 28,
   "metadata": {
    "executionInfo": {
     "elapsed": 4,
     "status": "ok",
     "timestamp": 1626675313400,
     "user": {
      "displayName": "박준원",
      "photoUrl": "",
      "userId": "01666978145944503968"
     },
     "user_tz": -540
    },
    "id": "LhpwK5LWZwKN"
   },
   "outputs": [],
   "source": [
    "from wordcloud import WordCloud"
   ]
  },
  {
   "cell_type": "code",
   "execution_count": 29,
   "metadata": {
    "executionInfo": {
     "elapsed": 236,
     "status": "ok",
     "timestamp": 1626675324433,
     "user": {
      "displayName": "박준원",
      "photoUrl": "",
      "userId": "01666978145944503968"
     },
     "user_tz": -540
    },
    "id": "mIrABHNxZ3gh"
   },
   "outputs": [],
   "source": [
    "import matplotlib.pyplot as plt"
   ]
  },
  {
   "cell_type": "code",
   "execution_count": 31,
   "metadata": {
    "colab": {
     "base_uri": "https://localhost:8080/"
    },
    "executionInfo": {
     "elapsed": 2391,
     "status": "ok",
     "timestamp": 1626675361316,
     "user": {
      "displayName": "박준원",
      "photoUrl": "",
      "userId": "01666978145944503968"
     },
     "user_tz": -540
    },
    "id": "pQz_klXDZ6O1",
    "outputId": "5a48774e-bed5-44da-ca63-cef4658a42b9"
   },
   "outputs": [
    {
     "name": "stdout",
     "output_type": "stream",
     "text": [
      "fonts-nanum is already the newest version (20170925-1).\n",
      "0 upgraded, 0 newly installed, 0 to remove and 39 not upgraded.\n"
     ]
    }
   ],
   "source": [
    "!apt -qq -y install fonts-nanum"
   ]
  },
  {
   "cell_type": "code",
   "execution_count": 37,
   "metadata": {
    "executionInfo": {
     "elapsed": 666,
     "status": "ok",
     "timestamp": 1626675831934,
     "user": {
      "displayName": "박준원",
      "photoUrl": "",
      "userId": "01666978145944503968"
     },
     "user_tz": -540
    },
    "id": "2CG1vltbaBBo"
   },
   "outputs": [],
   "source": [
    "word_cloud = WordCloud(\n",
    "                  font_path = \"/usr/share/fonts/truetype/nanum/NanumGothic.ttf\"\n",
    "                  ).generate_from_frequencies(dict(ko.vocab().most_common(100)))"
   ]
  },
  {
   "cell_type": "code",
   "execution_count": 38,
   "metadata": {
    "colab": {
     "base_uri": "https://localhost:8080/",
     "height": 236
    },
    "executionInfo": {
     "elapsed": 1094,
     "status": "ok",
     "timestamp": 1626675834470,
     "user": {
      "displayName": "박준원",
      "photoUrl": "",
      "userId": "01666978145944503968"
     },
     "user_tz": -540
    },
    "id": "AZLgi-paa7Ht",
    "outputId": "059c4d46-8b6d-4f23-e8ab-4972cbc2b78a"
   },
   "outputs": [
    {
     "data": {
      "text/plain": [
       "<matplotlib.image.AxesImage at 0x7f1f34688750>"
      ]
     },
     "execution_count": 38,
     "metadata": {
      "tags": []
     },
     "output_type": "execute_result"
    },
    {
     "data": {
      "image/png": "[encoded data removed]",
      "text/plain": [
       "<Figure size 432x288 with 1 Axes>"
      ]
     },
     "metadata": {
      "needs_background": "light",
      "tags": []
     },
     "output_type": "display_data"
    }
   ],
   "source": [
    "plt.imshow(word_cloud)\n",
    "plt.axis(\"off\")"
   ]
  },
  {
   "cell_type": "code",
   "execution_count": 39,
   "metadata": {
    "executionInfo": {
     "elapsed": 318,
     "status": "ok",
     "timestamp": 1626675921798,
     "user": {
      "displayName": "박준원",
      "photoUrl": "",
      "userId": "01666978145944503968"
     },
     "user_tz": -540
    },
    "id": "meeTs8zqb2jD"
   },
   "outputs": [],
   "source": [
    "word_cloud = WordCloud(\n",
    "                  font_path = \"/usr/share/fonts/truetype/nanum/NanumGothic.ttf\",\n",
    "                  background_color=\"white\"\n",
    "                  ).generate_from_frequencies( dict(  ko.vocab().most_common(100) ) )"
   ]
  },
  {
   "cell_type": "code",
   "execution_count": 41,
   "metadata": {
    "colab": {
     "base_uri": "https://localhost:8080/",
     "height": 321
    },
    "executionInfo": {
     "elapsed": 1209,
     "status": "ok",
     "timestamp": 1626675952679,
     "user": {
      "displayName": "박준원",
      "photoUrl": "",
      "userId": "01666978145944503968"
     },
     "user_tz": -540
    },
    "id": "8-AQovhucLNb",
    "outputId": "c851308b-afb1-48e8-df81-1acafdbc2e71"
   },
   "outputs": [
    {
     "data": {
      "text/plain": [
       "(-0.5, 399.5, 199.5, -0.5)"
      ]
     },
     "execution_count": 41,
     "metadata": {
      "tags": []
     },
     "output_type": "execute_result"
    },
    {
     "data": {
      "image/png": "[encoded data removed]",
      "text/plain": [
       "<Figure size 720x360 with 1 Axes>"
      ]
     },
     "metadata": {
      "needs_background": "light",
      "tags": []
     },
     "output_type": "display_data"
    }
   ],
   "source": [
    "plt.figure(figsize = (10, 5))\n",
    "plt.imshow(word_cloud)\n",
    "plt.axis(\"off\")"
   ]
  },
  {
   "cell_type": "code",
   "execution_count": null,
   "metadata": {
    "id": "Arw2QBM70dGw"
   },
   "outputs": [],
   "source": []
  },
  {
   "cell_type": "code",
   "execution_count": null,
   "metadata": {
    "id": "ao0scmQnmuM0"
   },
   "outputs": [],
   "source": [
    "'''\n",
    "malplotlib tutorial\n",
    "https://matplotlib.org/stable/tutorials/index.html\n",
    "seaborn tutorial\n",
    "https://seaborn.pydata.org/tutorial.html\n"
   ]
  },
  {
   "cell_type": "code",
   "execution_count": null,
   "metadata": {
    "id": "0cDvZgphfyhT"
   },
   "outputs": [],
   "source": []
  },
  {
   "cell_type": "code",
   "execution_count": null,
   "metadata": {
    "id": "hot9KvbNcMH-"
   },
   "outputs": [],
   "source": []
  }
 ],
 "metadata": {
  "colab": {
   "authorship_tag": "ABX9TyOd5W0jRienmg3PCXJfkxI8",
   "collapsed_sections": [],
   "mount_file_id": "12dmmkZk8tqeJHjY-3ZUkZi6QHaBgMsUD",
   "name": "강의0719.ipynb",
   "provenance": []
  },
  "kernelspec": {
   "display_name": "Python 3",
   "language": "python",
   "name": "python3"
  },
  "language_info": {
   "codemirror_mode": {
    "name": "ipython",
    "version": 3
   },
   "file_extension": ".py",
   "mimetype": "text/x-python",
   "name": "python",
   "nbconvert_exporter": "python",
   "pygments_lexer": "ipython3",
   "version": "3.6.13"
  }
 },
 "nbformat": 4,
 "nbformat_minor": 4
}
