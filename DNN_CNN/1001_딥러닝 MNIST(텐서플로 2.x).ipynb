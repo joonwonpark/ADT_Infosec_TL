{
 "cells": [
  {
   "cell_type": "code",
   "execution_count": 1,
   "id": "2119fa7e-3f7b-4bd0-89c7-c68df9dfbafe",
   "metadata": {},
   "outputs": [],
   "source": [
    "import tensorflow as tf"
   ]
  },
  {
   "cell_type": "code",
   "execution_count": 2,
   "id": "aa7240fb-9816-41e5-a19e-5df2e0aa02ce",
   "metadata": {},
   "outputs": [],
   "source": [
    "from tensorflow.keras.datasets import mnist"
   ]
  },
  {
   "cell_type": "code",
   "execution_count": 3,
   "id": "c899d533-4aa5-4a6d-a8d0-f9036c09473e",
   "metadata": {},
   "outputs": [],
   "source": [
    "(X_train, y_train), (X_test, y_test) = mnist.load_data()"
   ]
  },
  {
   "cell_type": "code",
   "execution_count": 4,
   "id": "9ff5328e-2b77-41a0-9ee2-b889b3aa6c00",
   "metadata": {},
   "outputs": [],
   "source": [
    "from sklearn.model_selection import train_test_split"
   ]
  },
  {
   "cell_type": "code",
   "execution_count": 5,
   "id": "0d950205-5796-4f6b-b416-e454ac385017",
   "metadata": {},
   "outputs": [],
   "source": [
    "X_train, X_validation, y_train, y_validation = train_test_split(X_train, y_train, test_size = 0.2, random_state = 0)"
   ]
  },
  {
   "cell_type": "code",
   "execution_count": 6,
   "id": "75b4421e-0be9-41e4-9a24-8808208c22ea",
   "metadata": {},
   "outputs": [],
   "source": [
    "X_train = X_train.reshape(-1, 784)"
   ]
  },
  {
   "cell_type": "code",
   "execution_count": 7,
   "id": "35dc1b35-8158-4b6b-a8b4-8e80ee70a3dc",
   "metadata": {},
   "outputs": [],
   "source": [
    "X_train = tf.cast(X_train, dtype=tf.float32)"
   ]
  },
  {
   "cell_type": "code",
   "execution_count": 8,
   "id": "55c61a83-e0f7-4321-b665-f86b5e14b9d0",
   "metadata": {},
   "outputs": [],
   "source": [
    "X_train = X_train / 255"
   ]
  },
  {
   "cell_type": "code",
   "execution_count": 9,
   "id": "d275115e-70ed-4a07-9a3b-8a1d19ff7e1e",
   "metadata": {},
   "outputs": [
    {
     "data": {
      "text/plain": [
       "TensorShape([48000, 784])"
      ]
     },
     "execution_count": 9,
     "metadata": {},
     "output_type": "execute_result"
    }
   ],
   "source": [
    "X_train.shape"
   ]
  },
  {
   "cell_type": "code",
   "execution_count": 10,
   "id": "e96cbb63-2b5f-49da-97c4-c425f285b2c5",
   "metadata": {},
   "outputs": [],
   "source": [
    "y_train = y_train.reshape(-1, 1)"
   ]
  },
  {
   "cell_type": "code",
   "execution_count": 11,
   "id": "0aa38da7-13d1-4246-9d14-d59817870b75",
   "metadata": {},
   "outputs": [],
   "source": [
    "y_train = tf.one_hot(y_train, depth=10)"
   ]
  },
  {
   "cell_type": "code",
   "execution_count": 12,
   "id": "c75ec0ff-ecbb-4e5c-b8eb-ba65a3cdbcc6",
   "metadata": {},
   "outputs": [],
   "source": [
    "y_train = tf.reshape(y_train, (-1, 10))"
   ]
  },
  {
   "cell_type": "code",
   "execution_count": 13,
   "id": "629c196d-b511-40f6-b0c2-b9386c49109f",
   "metadata": {},
   "outputs": [],
   "source": [
    "def preprocess(X, y):\n",
    "    X = X.reshape(-1, 784)\n",
    "    X = tf.cast(X, dtype=tf.float32)\n",
    "    X = X / 255\n",
    "    \n",
    "    y = y.reshape(-1, 1)\n",
    "    y = tf.one_hot(y, depth=10)\n",
    "    y = tf.reshape(y, (-1, 10))\n",
    "    return X, y"
   ]
  },
  {
   "cell_type": "code",
   "execution_count": 14,
   "id": "b26d6a51-4962-47dc-ac25-12bbdd85eadf",
   "metadata": {},
   "outputs": [],
   "source": [
    "X_validation, y_validation = preprocess(X_validation, y_validation)"
   ]
  },
  {
   "cell_type": "code",
   "execution_count": 15,
   "id": "54023818-fa7b-4ad6-9d80-92325ba196b5",
   "metadata": {},
   "outputs": [],
   "source": [
    "X_test, y_test = preprocess(X_test, y_test)"
   ]
  },
  {
   "cell_type": "code",
   "execution_count": 16,
   "id": "46536821-59a5-49fe-8b53-45a988e4d56f",
   "metadata": {},
   "outputs": [],
   "source": [
    "from tensorflow.keras.models import Sequential\n",
    "from tensorflow.keras.layers import Conv2D, MaxPooling2D, Flatten, Dropout, Dense\n",
    "from tensorflow.keras.optimizers import Adam\n",
    "from tensorflow.keras.callbacks import ModelCheckpoint"
   ]
  },
  {
   "cell_type": "code",
   "execution_count": 17,
   "id": "c0edf712-d782-48ef-a224-b86bdbb07b93",
   "metadata": {},
   "outputs": [],
   "source": [
    "model = Sequential([\n",
    "    Dense(200, input_dim = 784, activation='sigmoid'),\n",
    "    Dense(10, activation='softmax')\n",
    "])"
   ]
  },
  {
   "cell_type": "code",
   "execution_count": 18,
   "id": "e0123f3c-e383-43af-9d7c-fa4a0ed25ac2",
   "metadata": {},
   "outputs": [
    {
     "name": "stdout",
     "output_type": "stream",
     "text": [
      "Model: \"sequential\"\n",
      "_________________________________________________________________\n",
      "Layer (type)                 Output Shape              Param #   \n",
      "=================================================================\n",
      "dense (Dense)                (None, 200)               157000    \n",
      "_________________________________________________________________\n",
      "dense_1 (Dense)              (None, 10)                2010      \n",
      "=================================================================\n",
      "Total params: 159,010\n",
      "Trainable params: 159,010\n",
      "Non-trainable params: 0\n",
      "_________________________________________________________________\n"
     ]
    }
   ],
   "source": [
    "model.summary()"
   ]
  },
  {
   "cell_type": "code",
   "execution_count": 19,
   "id": "a6bd9b6d-6dcc-4197-a1a0-11ec7201e3bb",
   "metadata": {},
   "outputs": [],
   "source": [
    "model.compile(optimizer=Adam(learning_rate=0.01), loss='mean_squared_error', metrics=[\"acc\"])"
   ]
  },
  {
   "cell_type": "code",
   "execution_count": 20,
   "id": "3d19f1bd-5a09-40d8-bef3-b0efce4235f1",
   "metadata": {},
   "outputs": [],
   "source": [
    "checkpoint_path = f\"./check_point/mnist/tmp_checkpoint.ckpt\"\n",
    "checkpoint = ModelCheckpoint(filepath=checkpoint_path,\n",
    "                             save_weights_only=True,\n",
    "                             save_best_only=True,\n",
    "                             monitor='val_loss',\n",
    "                             verbose=1)"
   ]
  },
  {
   "cell_type": "code",
   "execution_count": 21,
   "id": "36783151-f6ad-495d-88bc-c7e015a7a02d",
   "metadata": {},
   "outputs": [
    {
     "name": "stdout",
     "output_type": "stream",
     "text": [
      "Epoch 1/30\n",
      "480/480 [==============================] - 2s 3ms/step - loss: 0.0193 - acc: 0.8617 - val_loss: 0.0068 - val_acc: 0.9554\n",
      "\n",
      "Epoch 00001: val_loss improved from inf to 0.00677, saving model to ./check_point/mnist\\tmp_checkpoint.ckpt\n",
      "Epoch 2/30\n",
      "480/480 [==============================] - 1s 3ms/step - loss: 0.0059 - acc: 0.9613 - val_loss: 0.0051 - val_acc: 0.9668\n",
      "\n",
      "Epoch 00002: val_loss improved from 0.00677 to 0.00513, saving model to ./check_point/mnist\\tmp_checkpoint.ckpt\n",
      "Epoch 3/30\n",
      "480/480 [==============================] - 1s 2ms/step - loss: 0.0044 - acc: 0.9722 - val_loss: 0.0049 - val_acc: 0.9688\n",
      "\n",
      "Epoch 00003: val_loss improved from 0.00513 to 0.00490, saving model to ./check_point/mnist\\tmp_checkpoint.ckpt\n",
      "Epoch 4/30\n",
      "480/480 [==============================] - 1s 2ms/step - loss: 0.0034 - acc: 0.9791 - val_loss: 0.0049 - val_acc: 0.9688\n",
      "\n",
      "Epoch 00004: val_loss did not improve from 0.00490\n",
      "Epoch 5/30\n",
      "480/480 [==============================] - 1s 2ms/step - loss: 0.0030 - acc: 0.9812 - val_loss: 0.0048 - val_acc: 0.9689\n",
      "\n",
      "Epoch 00005: val_loss improved from 0.00490 to 0.00476, saving model to ./check_point/mnist\\tmp_checkpoint.ckpt\n",
      "Epoch 6/30\n",
      "480/480 [==============================] - 1s 2ms/step - loss: 0.0028 - acc: 0.9829 - val_loss: 0.0042 - val_acc: 0.9730\n",
      "\n",
      "Epoch 00006: val_loss improved from 0.00476 to 0.00424, saving model to ./check_point/mnist\\tmp_checkpoint.ckpt\n",
      "Epoch 7/30\n",
      "480/480 [==============================] - 1s 2ms/step - loss: 0.0026 - acc: 0.9834 - val_loss: 0.0044 - val_acc: 0.9711\n",
      "\n",
      "Epoch 00007: val_loss did not improve from 0.00424\n",
      "Epoch 8/30\n",
      "480/480 [==============================] - 1s 2ms/step - loss: 0.0027 - acc: 0.9829 - val_loss: 0.0046 - val_acc: 0.9703\n",
      "\n",
      "Epoch 00008: val_loss did not improve from 0.00424\n",
      "Epoch 9/30\n",
      "480/480 [==============================] - 1s 2ms/step - loss: 0.0025 - acc: 0.9841 - val_loss: 0.0041 - val_acc: 0.9740\n",
      "\n",
      "Epoch 00009: val_loss improved from 0.00424 to 0.00410, saving model to ./check_point/mnist\\tmp_checkpoint.ckpt\n",
      "Epoch 10/30\n",
      "480/480 [==============================] - 1s 3ms/step - loss: 0.0023 - acc: 0.9857 - val_loss: 0.0041 - val_acc: 0.9747\n",
      "\n",
      "Epoch 00010: val_loss did not improve from 0.00410\n",
      "Epoch 11/30\n",
      "480/480 [==============================] - 1s 2ms/step - loss: 0.0020 - acc: 0.9874 - val_loss: 0.0042 - val_acc: 0.9728\n",
      "\n",
      "Epoch 00011: val_loss did not improve from 0.00410\n",
      "Epoch 12/30\n",
      "480/480 [==============================] - 1s 2ms/step - loss: 0.0020 - acc: 0.9871 - val_loss: 0.0040 - val_acc: 0.9747\n",
      "\n",
      "Epoch 00012: val_loss improved from 0.00410 to 0.00397, saving model to ./check_point/mnist\\tmp_checkpoint.ckpt\n",
      "Epoch 13/30\n",
      "480/480 [==============================] - 1s 2ms/step - loss: 0.0019 - acc: 0.9887 - val_loss: 0.0043 - val_acc: 0.9730\n",
      "\n",
      "Epoch 00013: val_loss did not improve from 0.00397\n",
      "Epoch 14/30\n",
      "480/480 [==============================] - 1s 3ms/step - loss: 0.0020 - acc: 0.9878 - val_loss: 0.0041 - val_acc: 0.9746\n",
      "\n",
      "Epoch 00014: val_loss did not improve from 0.00397\n",
      "Epoch 15/30\n",
      "480/480 [==============================] - 1s 2ms/step - loss: 0.0018 - acc: 0.9887 - val_loss: 0.0043 - val_acc: 0.9734\n",
      "\n",
      "Epoch 00015: val_loss did not improve from 0.00397\n",
      "Epoch 16/30\n",
      "480/480 [==============================] - 1s 3ms/step - loss: 0.0021 - acc: 0.9866 - val_loss: 0.0049 - val_acc: 0.9694\n",
      "\n",
      "Epoch 00016: val_loss did not improve from 0.00397\n",
      "Epoch 17/30\n",
      "480/480 [==============================] - 1s 2ms/step - loss: 0.0019 - acc: 0.9883 - val_loss: 0.0042 - val_acc: 0.9729\n",
      "\n",
      "Epoch 00017: val_loss did not improve from 0.00397\n",
      "Epoch 18/30\n",
      "480/480 [==============================] - 1s 3ms/step - loss: 0.0020 - acc: 0.9871 - val_loss: 0.0047 - val_acc: 0.9696\n",
      "\n",
      "Epoch 00018: val_loss did not improve from 0.00397\n",
      "Epoch 19/30\n",
      "480/480 [==============================] - 1s 2ms/step - loss: 0.0016 - acc: 0.9902 - val_loss: 0.0041 - val_acc: 0.9747\n",
      "\n",
      "Epoch 00019: val_loss did not improve from 0.00397\n",
      "Epoch 20/30\n",
      "480/480 [==============================] - 1s 2ms/step - loss: 0.0018 - acc: 0.9887 - val_loss: 0.0044 - val_acc: 0.9726\n",
      "\n",
      "Epoch 00020: val_loss did not improve from 0.00397\n",
      "Epoch 21/30\n",
      "480/480 [==============================] - 1s 2ms/step - loss: 0.0018 - acc: 0.9888 - val_loss: 0.0045 - val_acc: 0.9724\n",
      "\n",
      "Epoch 00021: val_loss did not improve from 0.00397\n",
      "Epoch 22/30\n",
      "480/480 [==============================] - 1s 2ms/step - loss: 0.0019 - acc: 0.9879 - val_loss: 0.0040 - val_acc: 0.9756\n",
      "\n",
      "Epoch 00022: val_loss did not improve from 0.00397\n",
      "Epoch 23/30\n",
      "480/480 [==============================] - ETA: 0s - loss: 0.0015 - acc: 0.990 - 1s 2ms/step - loss: 0.0015 - acc: 0.9907 - val_loss: 0.0042 - val_acc: 0.9743\n",
      "\n",
      "Epoch 00023: val_loss did not improve from 0.00397\n",
      "Epoch 24/30\n",
      "480/480 [==============================] - 1s 3ms/step - loss: 0.0015 - acc: 0.9905 - val_loss: 0.0041 - val_acc: 0.9755\n",
      "\n",
      "Epoch 00024: val_loss did not improve from 0.00397\n",
      "Epoch 25/30\n",
      "480/480 [==============================] - 1s 2ms/step - loss: 0.0015 - acc: 0.9905 - val_loss: 0.0041 - val_acc: 0.9760\n",
      "\n",
      "Epoch 00025: val_loss did not improve from 0.00397\n",
      "Epoch 26/30\n",
      "480/480 [==============================] - 1s 2ms/step - loss: 0.0015 - acc: 0.9907 - val_loss: 0.0046 - val_acc: 0.9715\n",
      "\n",
      "Epoch 00026: val_loss did not improve from 0.00397\n",
      "Epoch 27/30\n",
      "480/480 [==============================] - 1s 3ms/step - loss: 0.0016 - acc: 0.9900 - val_loss: 0.0041 - val_acc: 0.9758\n",
      "\n",
      "Epoch 00027: val_loss did not improve from 0.00397\n",
      "Epoch 28/30\n",
      "480/480 [==============================] - 1s 2ms/step - loss: 0.0015 - acc: 0.9906 - val_loss: 0.0041 - val_acc: 0.9747\n",
      "\n",
      "Epoch 00028: val_loss did not improve from 0.00397\n",
      "Epoch 29/30\n",
      "480/480 [==============================] - 1s 2ms/step - loss: 0.0014 - acc: 0.9912 - val_loss: 0.0041 - val_acc: 0.9762\n",
      "\n",
      "Epoch 00029: val_loss did not improve from 0.00397\n",
      "Epoch 30/30\n",
      "480/480 [==============================] - 1s 3ms/step - loss: 0.0014 - acc: 0.9917 - val_loss: 0.0042 - val_acc: 0.9747\n",
      "\n",
      "Epoch 00030: val_loss did not improve from 0.00397\n"
     ]
    },
    {
     "data": {
      "text/plain": [
       "<keras.callbacks.History at 0x1ba22998b70>"
      ]
     },
     "execution_count": 21,
     "metadata": {},
     "output_type": "execute_result"
    }
   ],
   "source": [
    "model.fit(x = X_train,\n",
    "          y = y_train,\n",
    "          validation_data = (X_validation, y_validation),\n",
    "          epochs = 30,\n",
    "          batch_size = 100,\n",
    "          callbacks=[checkpoint],\n",
    "          verbose = 1\n",
    "         )"
   ]
  },
  {
   "cell_type": "code",
   "execution_count": 22,
   "id": "60e1d460-c9de-457c-a0ee-1130146757b8",
   "metadata": {},
   "outputs": [
    {
     "data": {
      "text/plain": [
       "<tensorflow.python.training.tracking.util.CheckpointLoadStatus at 0x1ba22998c50>"
      ]
     },
     "execution_count": 22,
     "metadata": {},
     "output_type": "execute_result"
    }
   ],
   "source": [
    "model.load_weights(checkpoint_path)"
   ]
  },
  {
   "cell_type": "code",
   "execution_count": 23,
   "id": "5cdb8939-f8fa-4f72-a10a-3fb74bf66e7b",
   "metadata": {},
   "outputs": [
    {
     "name": "stdout",
     "output_type": "stream",
     "text": [
      "313/313 [==============================] - 1s 2ms/step - loss: 0.0043 - acc: 0.9730\n"
     ]
    },
    {
     "data": {
      "text/plain": [
       "[0.004327941685914993, 0.9729999899864197]"
      ]
     },
     "execution_count": 23,
     "metadata": {},
     "output_type": "execute_result"
    }
   ],
   "source": [
    "model.evaluate(X_test, y_test)"
   ]
  },
  {
   "cell_type": "code",
   "execution_count": 24,
   "id": "cacf4e0e-23a8-441a-8c48-6bf58a767f35",
   "metadata": {},
   "outputs": [],
   "source": [
    "images = X_test[0:10]"
   ]
  },
  {
   "cell_type": "code",
   "execution_count": 25,
   "id": "e2088015-e96d-4ae9-9838-c204f6229453",
   "metadata": {},
   "outputs": [],
   "source": [
    "predict = model.predict(images)"
   ]
  },
  {
   "cell_type": "code",
   "execution_count": 27,
   "id": "02cac40c-7a95-4e8d-ae77-c85294618851",
   "metadata": {},
   "outputs": [],
   "source": [
    "predict01 = tf.argmax(predict, 1)"
   ]
  },
  {
   "cell_type": "code",
   "execution_count": 28,
   "id": "8dc0e27a-be6c-486d-9179-ca69bda750f3",
   "metadata": {},
   "outputs": [],
   "source": [
    "import matplotlib.pyplot as plt"
   ]
  },
  {
   "cell_type": "code",
   "execution_count": 30,
   "id": "9037845d-1434-4e28-9d94-3f2030eddff3",
   "metadata": {},
   "outputs": [
    {
     "data": {
      "image/png": "[encoded data removed]",
      "text/plain": [
       "<Figure size 432x288 with 10 Axes>"
      ]
     },
     "metadata": {
      "needs_background": "light"
     },
     "output_type": "display_data"
    }
   ],
   "source": [
    "fig = plt.figure()\n",
    "\n",
    "for i in range(10):\n",
    "    subplot = fig.add_subplot(2, 5, i+1)\n",
    "    subplot.imshow(tf.reshape(images[i], (28,28)))"
   ]
  },
  {
   "cell_type": "code",
   "execution_count": 38,
   "id": "20bcc29b-8559-44ff-a72a-33755d06c8b2",
   "metadata": {},
   "outputs": [
    {
     "data": {
      "image/png": "[encoded data removed]",
      "text/plain": [
       "<Figure size 432x288 with 11 Axes>"
      ]
     },
     "metadata": {
      "needs_background": "light"
     },
     "output_type": "display_data"
    }
   ],
   "source": [
    "fig = plt.figure()\n",
    "ax = plt.gca()\n",
    "for i in range(10):\n",
    "    subplot = fig.add_subplot(2, 5, i+1)\n",
    "    subplot.imshow(tf.reshape(images[i], (28,28)), cmap=plt.cm.gray_r)\n",
    "    subplot.set_xticks([])\n",
    "    subplot.set_yticks([])\n",
    "    ax.set_facecolor('w')\n",
    "    subplot.set_title(\"predict:%d\" % predict01[i])"
   ]
  },
  {
   "cell_type": "code",
   "execution_count": null,
   "id": "1a0c4dcc-9452-4db7-ab4a-10d5fe2ca681",
   "metadata": {},
   "outputs": [],
   "source": []
  }
 ],
 "metadata": {
  "kernelspec": {
   "display_name": "Python 3",
   "language": "python",
   "name": "python3"
  },
  "language_info": {
   "codemirror_mode": {
    "name": "ipython",
    "version": 3
   },
   "file_extension": ".py",
   "mimetype": "text/x-python",
   "name": "python",
   "nbconvert_exporter": "python",
   "pygments_lexer": "ipython3",
   "version": "3.6.13"
  }
 },
 "nbformat": 4,
 "nbformat_minor": 5
}
