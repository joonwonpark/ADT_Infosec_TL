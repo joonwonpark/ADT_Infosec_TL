{
 "cells": [
  {
   "cell_type": "code",
   "execution_count": 1,
   "id": "894c7202-7054-4b1a-bbcf-807bd5128844",
   "metadata": {},
   "outputs": [],
   "source": [
    "t1 = 10, 20, 30  # packing"
   ]
  },
  {
   "cell_type": "code",
   "execution_count": 2,
   "id": "48acfd2f-fdcb-435e-8fe8-8338fb896a5a",
   "metadata": {},
   "outputs": [
    {
     "data": {
      "text/plain": [
       "(10, 20, 30)"
      ]
     },
     "execution_count": 2,
     "metadata": {},
     "output_type": "execute_result"
    }
   ],
   "source": [
    "t1"
   ]
  },
  {
   "cell_type": "code",
   "execution_count": 3,
   "id": "d0bb9316-b7ca-4c10-9713-3ea1e570d48c",
   "metadata": {},
   "outputs": [],
   "source": [
    "a, b, c = t1 # unpacking"
   ]
  },
  {
   "cell_type": "code",
   "execution_count": 4,
   "id": "43067994-fc1e-4732-a649-e79b43545a73",
   "metadata": {},
   "outputs": [
    {
     "name": "stdout",
     "output_type": "stream",
     "text": [
      "10, 20, 30\n"
     ]
    }
   ],
   "source": [
    "print(f\"{a}, {b}, {c}\")"
   ]
  },
  {
   "cell_type": "code",
   "execution_count": 5,
   "id": "1b1c2db6-7910-4d8c-9446-7045bfd09d7c",
   "metadata": {},
   "outputs": [],
   "source": [
    "[a, b, c] = [10, 20, 30]"
   ]
  },
  {
   "cell_type": "code",
   "execution_count": 6,
   "id": "04226c57-0870-4b0c-a98e-363353147b18",
   "metadata": {},
   "outputs": [
    {
     "name": "stdout",
     "output_type": "stream",
     "text": [
      "10, 20, 30\n"
     ]
    }
   ],
   "source": [
    "print(f\"{a}, {b}, {c}\")"
   ]
  },
  {
   "cell_type": "code",
   "execution_count": 7,
   "id": "3efb8faf-2aa6-4d81-9c61-b4adbb46b586",
   "metadata": {},
   "outputs": [],
   "source": [
    "my_balance = 10000000000\n",
    "\n",
    "def withdraw(out_money):\n",
    "    global my_balance\n",
    "    \n",
    "    if out_money > my_balance:\n",
    "        return\n",
    "    \n",
    "    my_balance -= out_money\n",
    "    return out_money, my_balance"
   ]
  },
  {
   "cell_type": "code",
   "execution_count": 8,
   "id": "545af683-bfb9-4b78-a71e-cc4575eccf59",
   "metadata": {},
   "outputs": [
    {
     "name": "stdout",
     "output_type": "stream",
     "text": [
      "result1 = None\n"
     ]
    }
   ],
   "source": [
    "result1 = withdraw(20000000000)\n",
    "print(f\"result1 = {result1}\")"
   ]
  },
  {
   "cell_type": "code",
   "execution_count": 9,
   "id": "8fa2275b-138b-4989-981d-f8fd245d157a",
   "metadata": {},
   "outputs": [
    {
     "name": "stdout",
     "output_type": "stream",
     "text": [
      "result2 = (3000000000, 7000000000)\n"
     ]
    }
   ],
   "source": [
    "result2 = withdraw(3000000000)\n",
    "print(f\"result2 = {result2}\")"
   ]
  },
  {
   "cell_type": "code",
   "execution_count": 10,
   "id": "49329b43-5160-44a9-bb29-474a4c1fe997",
   "metadata": {},
   "outputs": [
    {
     "name": "stdout",
     "output_type": "stream",
     "text": [
      "출금액 = 3000000000\n",
      "잔액 = 7000000000\n"
     ]
    }
   ],
   "source": [
    "출금액, 잔액 = result2\n",
    "print(f\"출금액 = {출금액}\")\n",
    "print(f\"잔액 = {잔액}\")"
   ]
  },
  {
   "cell_type": "code",
   "execution_count": 11,
   "id": "60f3c9f3-881a-4ef7-b0f8-77fd42aa8f63",
   "metadata": {},
   "outputs": [],
   "source": [
    "def plus_ten(x):\n",
    "    return x + 10"
   ]
  },
  {
   "cell_type": "code",
   "execution_count": 12,
   "id": "4f3129e0-70c4-40f0-ab99-c82ff699f28a",
   "metadata": {},
   "outputs": [
    {
     "data": {
      "text/plain": [
       "110"
      ]
     },
     "execution_count": 12,
     "metadata": {},
     "output_type": "execute_result"
    }
   ],
   "source": [
    "plus_ten(100)"
   ]
  },
  {
   "cell_type": "code",
   "execution_count": 13,
   "id": "40661814-0d9b-4142-b0a5-fd72e00557b2",
   "metadata": {},
   "outputs": [
    {
     "data": {
      "text/plain": [
       "110"
      ]
     },
     "execution_count": 13,
     "metadata": {},
     "output_type": "execute_result"
    }
   ],
   "source": [
    "(lambda x : x + 10)(100)"
   ]
  },
  {
   "cell_type": "code",
   "execution_count": 14,
   "id": "7ba8e982-ade0-45d7-9db2-01f9e0bfcde2",
   "metadata": {},
   "outputs": [],
   "source": [
    "def sum(a, b):\n",
    "    return a + b"
   ]
  },
  {
   "cell_type": "code",
   "execution_count": 15,
   "id": "2a408078-3eca-4ba4-91c8-0414535f760b",
   "metadata": {},
   "outputs": [
    {
     "data": {
      "text/plain": [
       "300"
      ]
     },
     "execution_count": 15,
     "metadata": {},
     "output_type": "execute_result"
    }
   ],
   "source": [
    "sum(100, 200)"
   ]
  },
  {
   "cell_type": "code",
   "execution_count": 16,
   "id": "9c776b30-3242-477f-8125-b67c662ef664",
   "metadata": {},
   "outputs": [
    {
     "data": {
      "text/plain": [
       "300"
      ]
     },
     "execution_count": 16,
     "metadata": {},
     "output_type": "execute_result"
    }
   ],
   "source": [
    "(lambda a, b : a + b)(100, 200)"
   ]
  },
  {
   "cell_type": "code",
   "execution_count": 17,
   "id": "02ca0ee8-0fc8-43e1-b489-79263cfd8877",
   "metadata": {},
   "outputs": [
    {
     "data": {
      "text/plain": [
       "102"
      ]
     },
     "execution_count": 17,
     "metadata": {},
     "output_type": "execute_result"
    }
   ],
   "source": [
    "(lambda a = 1, b = 2, : a + b)(100)"
   ]
  },
  {
   "cell_type": "code",
   "execution_count": 18,
   "id": "4901a4fd-314c-4f4d-b0d8-0222fdb10388",
   "metadata": {},
   "outputs": [
    {
     "data": {
      "text/plain": [
       "201"
      ]
     },
     "execution_count": 18,
     "metadata": {},
     "output_type": "execute_result"
    }
   ],
   "source": [
    "(lambda a = 1, b = 2, : a + b)(b = 200)"
   ]
  },
  {
   "cell_type": "code",
   "execution_count": 19,
   "id": "65f07294-1866-4781-ae48-feab82781e1d",
   "metadata": {},
   "outputs": [
    {
     "data": {
      "text/plain": [
       "3"
      ]
     },
     "execution_count": 19,
     "metadata": {},
     "output_type": "execute_result"
    }
   ],
   "source": [
    "(lambda a = 1, b = 2, : a + b)()"
   ]
  },
  {
   "cell_type": "code",
   "execution_count": 20,
   "id": "7675ae61-dfe1-433c-8657-a86ae4311999",
   "metadata": {},
   "outputs": [],
   "source": [
    "def power(item):\n",
    "    return item ** 2"
   ]
  },
  {
   "cell_type": "code",
   "execution_count": 21,
   "id": "d9c93817-1abd-4834-86bd-ef6f455dd0ef",
   "metadata": {},
   "outputs": [
    {
     "data": {
      "text/plain": [
       "16"
      ]
     },
     "execution_count": 21,
     "metadata": {},
     "output_type": "execute_result"
    }
   ],
   "source": [
    "power(4)"
   ]
  },
  {
   "cell_type": "code",
   "execution_count": 22,
   "id": "26bce448-b856-432c-b3fc-d0fb9743fe24",
   "metadata": {},
   "outputs": [
    {
     "data": {
      "text/plain": [
       "<map at 0x1c2dd1636d8>"
      ]
     },
     "execution_count": 22,
     "metadata": {},
     "output_type": "execute_result"
    }
   ],
   "source": [
    "list_input_a = [2, 3, 4]\n",
    "\n",
    "map(power, list_input_a)"
   ]
  },
  {
   "cell_type": "code",
   "execution_count": 23,
   "id": "f22aa76c-088e-4ba7-aed7-ad8c4e1c87de",
   "metadata": {},
   "outputs": [
    {
     "data": {
      "text/plain": [
       "[4, 9, 16]"
      ]
     },
     "execution_count": 23,
     "metadata": {},
     "output_type": "execute_result"
    }
   ],
   "source": [
    "list(map(power, list_input_a))"
   ]
  },
  {
   "cell_type": "code",
   "execution_count": 24,
   "id": "31ead796-ed83-4e03-a6b0-9c30ac62f673",
   "metadata": {},
   "outputs": [
    {
     "data": {
      "text/plain": [
       "<map at 0x1c2dd163f60>"
      ]
     },
     "execution_count": 24,
     "metadata": {},
     "output_type": "execute_result"
    }
   ],
   "source": [
    "map(lambda item: item ** 2 , list_input_a)"
   ]
  },
  {
   "cell_type": "code",
   "execution_count": 25,
   "id": "1582662e-734b-43d0-a773-564b2614a7f2",
   "metadata": {},
   "outputs": [
    {
     "data": {
      "text/plain": [
       "[4, 9, 16]"
      ]
     },
     "execution_count": 25,
     "metadata": {},
     "output_type": "execute_result"
    }
   ],
   "source": [
    "list(map(lambda item: item ** 2 , list_input_a))"
   ]
  },
  {
   "cell_type": "code",
   "execution_count": 26,
   "id": "68488f87-fa0e-4489-ac07-0b0bf15bd142",
   "metadata": {},
   "outputs": [],
   "source": [
    "def odd(x):\n",
    "    if x % 2 == 1:\n",
    "        return True\n",
    "    else:\n",
    "        return False"
   ]
  },
  {
   "cell_type": "code",
   "execution_count": 27,
   "id": "0ebf673b-dcc8-47d8-8c28-8d640a929be4",
   "metadata": {},
   "outputs": [],
   "source": [
    "list_input_b = [1, 2, 3, 4, 5, 6]"
   ]
  },
  {
   "cell_type": "code",
   "execution_count": 28,
   "id": "290460ab-7826-4759-8040-4afc22ed1cc9",
   "metadata": {},
   "outputs": [
    {
     "data": {
      "text/plain": [
       "[1, 3, 5]"
      ]
     },
     "execution_count": 28,
     "metadata": {},
     "output_type": "execute_result"
    }
   ],
   "source": [
    "list(filter(odd, list_input_b))"
   ]
  },
  {
   "cell_type": "code",
   "execution_count": 29,
   "id": "2784b1c8-fff7-495b-8def-6e11d826be76",
   "metadata": {},
   "outputs": [
    {
     "data": {
      "text/plain": [
       "[1, 3, 5]"
      ]
     },
     "execution_count": 29,
     "metadata": {},
     "output_type": "execute_result"
    }
   ],
   "source": [
    "list(filter(lambda x: x % 2 == 1, list_input_b))"
   ]
  },
  {
   "cell_type": "code",
   "execution_count": 30,
   "id": "e5a606d7-7c6c-420b-8bea-9ff645864caf",
   "metadata": {},
   "outputs": [],
   "source": [
    "file = open(\"basic.txt\", \"w\", encoding = 'utf8')  # w : write모드(새로쓰기), a : append모드(이어쓰기), r : read모드(읽기)\n",
    "\n",
    "file.write(\"안녕 파이썬 프로그래밍\")\n",
    "\n",
    "file.close()"
   ]
  },
  {
   "cell_type": "code",
   "execution_count": 32,
   "id": "5bb1cac4-c463-4082-a98b-3af90a156a99",
   "metadata": {},
   "outputs": [],
   "source": [
    "file = open(\"basic.txt\", \"w\", encoding = 'utf8')\n",
    "\n",
    "file.write(\"안녕 파이썬 프로그래밍\")\n",
    "\n",
    "file.flush()"
   ]
  },
  {
   "cell_type": "code",
   "execution_count": 38,
   "id": "dad8368f-21c9-400b-9713-620d14f6f2a7",
   "metadata": {},
   "outputs": [],
   "source": [
    "with open(\"basic.txt\", \"a\", encoding = 'utf8') as file:\n",
    "    file.write(\"안녕 파이썬\\n\")"
   ]
  },
  {
   "cell_type": "code",
   "execution_count": 41,
   "id": "a2cdd779-738a-4226-a9c1-fc6268d2439b",
   "metadata": {},
   "outputs": [],
   "source": [
    "file = open(\"basic.txt\", \"a\", encoding = \"utf8\")"
   ]
  },
  {
   "cell_type": "code",
   "execution_count": 42,
   "id": "1036c005-9b27-4384-b557-b9810a77a9d3",
   "metadata": {},
   "outputs": [
    {
     "data": {
      "text/plain": [
       "4"
      ]
     },
     "execution_count": 42,
     "metadata": {},
     "output_type": "execute_result"
    }
   ],
   "source": [
    "file.write(\"추가1\\n\")"
   ]
  },
  {
   "cell_type": "code",
   "execution_count": 43,
   "id": "493f903e-696a-478a-b6a4-a2f8cd23e21d",
   "metadata": {},
   "outputs": [],
   "source": [
    "file.flush()"
   ]
  },
  {
   "cell_type": "code",
   "execution_count": 44,
   "id": "d1353dab-946b-40e1-8b9f-21872be9e49d",
   "metadata": {},
   "outputs": [
    {
     "data": {
      "text/plain": [
       "4"
      ]
     },
     "execution_count": 44,
     "metadata": {},
     "output_type": "execute_result"
    }
   ],
   "source": [
    "file.write(\"추가2\\n\")"
   ]
  },
  {
   "cell_type": "code",
   "execution_count": 45,
   "id": "19bbbf62-1676-4fcf-9007-aa71426672bb",
   "metadata": {},
   "outputs": [],
   "source": [
    "file.close()"
   ]
  },
  {
   "cell_type": "code",
   "execution_count": 46,
   "id": "fba09540-d7dd-4ac9-ba32-6091bf315791",
   "metadata": {},
   "outputs": [],
   "source": [
    "class MyObject:\n",
    "    def __enter__(self):\n",
    "        print(\"난 MyObject __enter__ 메서드\")\n",
    "        return self\n",
    "    \n",
    "    def hello(self, name):\n",
    "        print(name, \"안녕\")\n",
    "        \n",
    "    def __exit__(self, exc_type, exc_val, exc_tb):\n",
    "        print(\"난 MyObject __exit__ 메서드\")"
   ]
  },
  {
   "cell_type": "code",
   "execution_count": 49,
   "id": "1de24787-1ae0-4646-a54d-2be6c719454c",
   "metadata": {},
   "outputs": [
    {
     "name": "stdout",
     "output_type": "stream",
     "text": [
      "홍길동 안녕\n"
     ]
    }
   ],
   "source": [
    "my = MyObject()\n",
    "my.hello(\"홍길동\")"
   ]
  },
  {
   "cell_type": "code",
   "execution_count": 50,
   "id": "4020f4dd-27db-47d0-a8b4-292a0070bf25",
   "metadata": {},
   "outputs": [
    {
     "name": "stdout",
     "output_type": "stream",
     "text": [
      "난 MyObject __enter__ 메서드\n",
      "with시작\n",
      "홍길동 안녕\n",
      "with 끝나기 직전\n",
      "난 MyObject __exit__ 메서드\n"
     ]
    }
   ],
   "source": [
    "with MyObject() as my:\n",
    "    print(\"with시작\")\n",
    "    my.hello(\"홍길동\")\n",
    "    print(\"with 끝나기 직전\")"
   ]
  },
  {
   "cell_type": "code",
   "execution_count": 52,
   "id": "c4423be9-500c-4677-af22-ab17a4d11830",
   "metadata": {},
   "outputs": [
    {
     "name": "stdout",
     "output_type": "stream",
     "text": [
      "file.read() = 안녕 파이썬안녕 파이썬안녕 파이썬 \n",
      "안녕 파이썬 \n",
      "안녕 파이썬 \n",
      "추가1\n",
      "추가2\n",
      "\n"
     ]
    }
   ],
   "source": [
    "with open(\"basic.txt\", \"r\", encoding = 'utf8') as file:\n",
    "    print(\"file.read() =\", file.read() )"
   ]
  },
  {
   "cell_type": "code",
   "execution_count": 53,
   "id": "12142293-0ba8-4016-bebb-84364b19d7f6",
   "metadata": {},
   "outputs": [],
   "source": [
    "import random"
   ]
  },
  {
   "cell_type": "code",
   "execution_count": 54,
   "id": "71437538-cd47-45f9-b73e-4046fcbaf8e9",
   "metadata": {},
   "outputs": [],
   "source": [
    "list1 = [100, 200, 300, 400]"
   ]
  },
  {
   "cell_type": "code",
   "execution_count": 55,
   "id": "01a41d27-69a3-485f-9255-24ba0969feb0",
   "metadata": {},
   "outputs": [
    {
     "data": {
      "text/plain": [
       "200"
      ]
     },
     "execution_count": 55,
     "metadata": {},
     "output_type": "execute_result"
    }
   ],
   "source": [
    "random.choice(list1)"
   ]
  },
  {
   "cell_type": "code",
   "execution_count": 58,
   "id": "a372a4e8-654c-4377-8be2-1258748fccd6",
   "metadata": {},
   "outputs": [],
   "source": [
    "hanguls = \"가나다라마바사아자차카타파하\""
   ]
  },
  {
   "cell_type": "code",
   "execution_count": 59,
   "id": "92d92e33-8d5d-4b34-b1d4-1b6f4b29bea0",
   "metadata": {},
   "outputs": [
    {
     "data": {
      "text/plain": [
       "'아'"
      ]
     },
     "execution_count": 59,
     "metadata": {},
     "output_type": "execute_result"
    }
   ],
   "source": [
    "random.choice(hanguls)"
   ]
  },
  {
   "cell_type": "code",
   "execution_count": 62,
   "id": "2f965a95-c27c-41b5-95f1-9851077127b4",
   "metadata": {},
   "outputs": [],
   "source": [
    "with open(\"info.txt\", \"w\", encoding = 'utf8') as file:\n",
    "    for i in range(100):\n",
    "        name = random.choice(hanguls) + random.choice(hanguls)\n",
    "        weight = random.randrange(40, 100)\n",
    "        height = random.randrange(140, 200)\n",
    "        \n",
    "        file.write(f\"{name}, {weight}, {height}\\n\")"
   ]
  },
  {
   "cell_type": "code",
   "execution_count": 65,
   "id": "aa2be52a-757d-41fa-95c6-0a11e4382c6d",
   "metadata": {
    "collapsed": true,
    "jupyter": {
     "outputs_hidden": true
    },
    "tags": []
   },
   "outputs": [
    {
     "name": "stdout",
     "output_type": "stream",
     "text": [
      "이름 : 가다\n",
      "몸무게 : 88\n",
      "키 : 181\n",
      "bmi : 26.861206922865602\n",
      "result : 과체중\n",
      "이름 : 라아\n",
      "몸무게 : 89\n",
      "키 : 160\n",
      "bmi : 34.76562499999999\n",
      "result : 과체중\n",
      "이름 : 라아\n",
      "몸무게 : 50\n",
      "키 : 192\n",
      "bmi : 13.563368055555555\n",
      "result : 저체중\n",
      "이름 : 아사\n",
      "몸무게 : 99\n",
      "키 : 190\n",
      "bmi : 27.423822714681442\n",
      "result : 과체중\n",
      "이름 : 카카\n",
      "몸무게 : 58\n",
      "키 : 170\n",
      "bmi : 20.06920415224914\n",
      "result : 정상 체중\n",
      "이름 : 자나\n",
      "몸무게 : 45\n",
      "키 : 173\n",
      "bmi : 15.035584215977813\n",
      "result : 저체중\n",
      "이름 : 타파\n",
      "몸무게 : 65\n",
      "키 : 188\n",
      "bmi : 18.390674513354462\n",
      "result : 저체중\n",
      "이름 : 차카\n",
      "몸무게 : 46\n",
      "키 : 143\n",
      "bmi : 22.494987529952567\n",
      "result : 정상 체중\n",
      "이름 : 마나\n",
      "몸무게 : 81\n",
      "키 : 174\n",
      "bmi : 26.7538644470868\n",
      "result : 과체중\n",
      "이름 : 하자\n",
      "몸무게 : 99\n",
      "키 : 172\n",
      "bmi : 33.46403461330449\n",
      "result : 과체중\n",
      "이름 : 가차\n",
      "몸무게 : 78\n",
      "키 : 177\n",
      "bmi : 24.897060231734173\n",
      "result : 정상 체중\n",
      "이름 : 가파\n",
      "몸무게 : 54\n",
      "키 : 168\n",
      "bmi : 19.13265306122449\n",
      "result : 정상 체중\n",
      "이름 : 사자\n",
      "몸무게 : 86\n",
      "키 : 166\n",
      "bmi : 31.20917404557991\n",
      "result : 과체중\n",
      "이름 : 타차\n",
      "몸무게 : 81\n",
      "키 : 177\n",
      "bmi : 25.854639471416256\n",
      "result : 과체중\n",
      "이름 : 가자\n",
      "몸무게 : 54\n",
      "키 : 145\n",
      "bmi : 25.68370986920333\n",
      "result : 과체중\n",
      "이름 : 나하\n",
      "몸무게 : 74\n",
      "키 : 164\n",
      "bmi : 27.513384889946465\n",
      "result : 과체중\n",
      "이름 : 카사\n",
      "몸무게 : 97\n",
      "키 : 147\n",
      "bmi : 44.88870378083207\n",
      "result : 과체중\n",
      "이름 : 사하\n",
      "몸무게 : 91\n",
      "키 : 150\n",
      "bmi : 40.44444444444444\n",
      "result : 과체중\n",
      "이름 : 카파\n",
      "몸무게 : 55\n",
      "키 : 165\n",
      "bmi : 20.202020202020204\n",
      "result : 정상 체중\n",
      "이름 : 라하\n",
      "몸무게 : 41\n",
      "키 : 166\n",
      "bmi : 14.878792277543912\n",
      "result : 저체중\n",
      "이름 : 차마\n",
      "몸무게 : 91\n",
      "키 : 175\n",
      "bmi : 29.714285714285715\n",
      "result : 과체중\n",
      "이름 : 아바\n",
      "몸무게 : 86\n",
      "키 : 147\n",
      "bmi : 39.798232218057294\n",
      "result : 과체중\n",
      "이름 : 자타\n",
      "몸무게 : 40\n",
      "키 : 151\n",
      "bmi : 17.543090215341433\n",
      "result : 저체중\n",
      "이름 : 라다\n",
      "몸무게 : 54\n",
      "키 : 144\n",
      "bmi : 26.041666666666668\n",
      "result : 과체중\n",
      "이름 : 바차\n",
      "몸무게 : 93\n",
      "키 : 194\n",
      "bmi : 24.710383675204593\n",
      "result : 정상 체중\n",
      "이름 : 차다\n",
      "몸무게 : 90\n",
      "키 : 199\n",
      "bmi : 22.72669882073685\n",
      "result : 정상 체중\n",
      "이름 : 가파\n",
      "몸무게 : 70\n",
      "키 : 152\n",
      "bmi : 30.297783933518005\n",
      "result : 과체중\n",
      "이름 : 카라\n",
      "몸무게 : 69\n",
      "키 : 146\n",
      "bmi : 32.370050666166264\n",
      "result : 과체중\n",
      "이름 : 차사\n",
      "몸무게 : 77\n",
      "키 : 161\n",
      "bmi : 29.705644072373747\n",
      "result : 과체중\n",
      "이름 : 타사\n",
      "몸무게 : 45\n",
      "키 : 160\n",
      "bmi : 17.578124999999996\n",
      "result : 저체중\n",
      "이름 : 차바\n",
      "몸무게 : 92\n",
      "키 : 186\n",
      "bmi : 26.59266967279454\n",
      "result : 과체중\n",
      "이름 : 다마\n",
      "몸무게 : 63\n",
      "키 : 197\n",
      "bmi : 16.2333479347574\n",
      "result : 저체중\n",
      "이름 : 아차\n",
      "몸무게 : 94\n",
      "키 : 192\n",
      "bmi : 25.499131944444446\n",
      "result : 과체중\n",
      "이름 : 아라\n",
      "몸무게 : 63\n",
      "키 : 158\n",
      "bmi : 25.236340330075304\n",
      "result : 과체중\n",
      "이름 : 하자\n",
      "몸무게 : 65\n",
      "키 : 192\n",
      "bmi : 17.63237847222222\n",
      "result : 저체중\n",
      "이름 : 마가\n",
      "몸무게 : 40\n",
      "키 : 189\n",
      "bmi : 11.197894795778394\n",
      "result : 저체중\n",
      "이름 : 아바\n",
      "몸무게 : 66\n",
      "키 : 145\n",
      "bmi : 31.391200951248514\n",
      "result : 과체중\n",
      "이름 : 자하\n",
      "몸무게 : 47\n",
      "키 : 188\n",
      "bmi : 13.297872340425533\n",
      "result : 저체중\n",
      "이름 : 나차\n",
      "몸무게 : 72\n",
      "키 : 151\n",
      "bmi : 31.577562387614577\n",
      "result : 과체중\n",
      "이름 : 바타\n",
      "몸무게 : 67\n",
      "키 : 154\n",
      "bmi : 28.25096980941137\n",
      "result : 과체중\n",
      "이름 : 다나\n",
      "몸무게 : 98\n",
      "키 : 183\n",
      "bmi : 29.26334020126011\n",
      "result : 과체중\n",
      "이름 : 카카\n",
      "몸무게 : 61\n",
      "키 : 180\n",
      "bmi : 18.827160493827158\n",
      "result : 정상 체중\n",
      "이름 : 하가\n",
      "몸무게 : 66\n",
      "키 : 193\n",
      "bmi : 17.718596472388523\n",
      "result : 저체중\n",
      "이름 : 타자\n",
      "몸무게 : 76\n",
      "키 : 197\n",
      "bmi : 19.58308639748512\n",
      "result : 정상 체중\n",
      "이름 : 자하\n",
      "몸무게 : 95\n",
      "키 : 162\n",
      "bmi : 36.19875019051973\n",
      "result : 과체중\n",
      "이름 : 하타\n",
      "몸무게 : 54\n",
      "키 : 168\n",
      "bmi : 19.13265306122449\n",
      "result : 정상 체중\n",
      "이름 : 마마\n",
      "몸무게 : 95\n",
      "키 : 168\n",
      "bmi : 33.6592970521542\n",
      "result : 과체중\n",
      "이름 : 사자\n",
      "몸무게 : 45\n",
      "키 : 162\n",
      "bmi : 17.146776406035663\n",
      "result : 저체중\n",
      "이름 : 바자\n",
      "몸무게 : 88\n",
      "키 : 185\n",
      "bmi : 25.712198685171657\n",
      "result : 과체중\n",
      "이름 : 아카\n",
      "몸무게 : 59\n",
      "키 : 195\n",
      "bmi : 15.516107823800132\n",
      "result : 저체중\n",
      "이름 : 하마\n",
      "몸무게 : 89\n",
      "키 : 149\n",
      "bmi : 40.0882843115175\n",
      "result : 과체중\n",
      "이름 : 사마\n",
      "몸무게 : 82\n",
      "키 : 179\n",
      "bmi : 25.592209980961893\n",
      "result : 과체중\n",
      "이름 : 자파\n",
      "몸무게 : 48\n",
      "키 : 186\n",
      "bmi : 13.874436351023238\n",
      "result : 저체중\n",
      "이름 : 바사\n",
      "몸무게 : 41\n",
      "키 : 186\n",
      "bmi : 11.851081049832349\n",
      "result : 저체중\n",
      "이름 : 타타\n",
      "몸무게 : 45\n",
      "키 : 187\n",
      "bmi : 12.868540707483769\n",
      "result : 저체중\n",
      "이름 : 가사\n",
      "몸무게 : 59\n",
      "키 : 164\n",
      "bmi : 21.936347412254616\n",
      "result : 정상 체중\n",
      "이름 : 차나\n",
      "몸무게 : 45\n",
      "키 : 180\n",
      "bmi : 13.888888888888888\n",
      "result : 저체중\n",
      "이름 : 다타\n",
      "몸무게 : 51\n",
      "키 : 164\n",
      "bmi : 18.961927424152293\n",
      "result : 정상 체중\n",
      "이름 : 하바\n",
      "몸무게 : 70\n",
      "키 : 162\n",
      "bmi : 26.672763298277697\n",
      "result : 과체중\n",
      "이름 : 타바\n",
      "몸무게 : 90\n",
      "키 : 160\n",
      "bmi : 35.15624999999999\n",
      "result : 과체중\n",
      "이름 : 아아\n",
      "몸무게 : 47\n",
      "키 : 170\n",
      "bmi : 16.262975778546714\n",
      "result : 저체중\n",
      "이름 : 나사\n",
      "몸무게 : 51\n",
      "키 : 177\n",
      "bmi : 16.278847074595422\n",
      "result : 저체중\n",
      "이름 : 자나\n",
      "몸무게 : 91\n",
      "키 : 179\n",
      "bmi : 28.40111107643332\n",
      "result : 과체중\n",
      "이름 : 카자\n",
      "몸무게 : 72\n",
      "키 : 158\n",
      "bmi : 28.841531805800347\n",
      "result : 과체중\n",
      "이름 : 타가\n",
      "몸무게 : 42\n",
      "키 : 147\n",
      "bmi : 19.436345966958214\n",
      "result : 정상 체중\n",
      "이름 : 바타\n",
      "몸무게 : 55\n",
      "키 : 163\n",
      "bmi : 20.70081674131507\n",
      "result : 정상 체중\n",
      "이름 : 아라\n",
      "몸무게 : 85\n",
      "키 : 143\n",
      "bmi : 41.566824783608006\n",
      "result : 과체중\n",
      "이름 : 차아\n",
      "몸무게 : 49\n",
      "키 : 140\n",
      "bmi : 25.000000000000004\n",
      "result : 과체중\n",
      "이름 : 카라\n",
      "몸무게 : 99\n",
      "키 : 197\n",
      "bmi : 25.509546754618775\n",
      "result : 과체중\n",
      "이름 : 파타\n",
      "몸무게 : 58\n",
      "키 : 163\n",
      "bmi : 21.829952199932254\n",
      "result : 정상 체중\n",
      "이름 : 사마\n",
      "몸무게 : 48\n",
      "키 : 148\n",
      "bmi : 21.91380569758948\n",
      "result : 정상 체중\n",
      "이름 : 나나\n",
      "몸무게 : 53\n",
      "키 : 157\n",
      "bmi : 21.50188648626719\n",
      "result : 정상 체중\n",
      "이름 : 바라\n",
      "몸무게 : 87\n",
      "키 : 180\n",
      "bmi : 26.85185185185185\n",
      "result : 과체중\n",
      "이름 : 나카\n",
      "몸무게 : 71\n",
      "키 : 156\n",
      "bmi : 29.17488494411571\n",
      "result : 과체중\n",
      "이름 : 라라\n",
      "몸무게 : 41\n",
      "키 : 164\n",
      "bmi : 15.243902439024392\n",
      "result : 저체중\n",
      "이름 : 타자\n",
      "몸무게 : 50\n",
      "키 : 179\n",
      "bmi : 15.605006085952374\n",
      "result : 저체중\n",
      "이름 : 다자\n",
      "몸무게 : 87\n",
      "키 : 150\n",
      "bmi : 38.666666666666664\n",
      "result : 과체중\n",
      "이름 : 바나\n",
      "몸무게 : 54\n",
      "키 : 151\n",
      "bmi : 23.683171790710933\n",
      "result : 정상 체중\n",
      "이름 : 바다\n",
      "몸무게 : 81\n",
      "키 : 152\n",
      "bmi : 35.05886426592798\n",
      "result : 과체중\n",
      "이름 : 다파\n",
      "몸무게 : 90\n",
      "키 : 189\n",
      "bmi : 25.195263290501387\n",
      "result : 과체중\n",
      "이름 : 하라\n",
      "몸무게 : 75\n",
      "키 : 196\n",
      "bmi : 19.523115368596418\n",
      "result : 정상 체중\n",
      "이름 : 하사\n",
      "몸무게 : 83\n",
      "키 : 151\n",
      "bmi : 36.40191219683347\n",
      "result : 과체중\n",
      "이름 : 가나\n",
      "몸무게 : 60\n",
      "키 : 171\n",
      "bmi : 20.519134092541297\n",
      "result : 정상 체중\n",
      "이름 : 타바\n",
      "몸무게 : 63\n",
      "키 : 153\n",
      "bmi : 26.91272587466359\n",
      "result : 과체중\n",
      "이름 : 나하\n",
      "몸무게 : 71\n",
      "키 : 198\n",
      "bmi : 18.110396898275688\n",
      "result : 저체중\n",
      "이름 : 카마\n",
      "몸무게 : 54\n",
      "키 : 167\n",
      "bmi : 19.362472659471475\n",
      "result : 정상 체중\n",
      "이름 : 타가\n",
      "몸무게 : 86\n",
      "키 : 166\n",
      "bmi : 31.20917404557991\n",
      "result : 과체중\n",
      "이름 : 가사\n",
      "몸무게 : 53\n",
      "키 : 143\n",
      "bmi : 25.9181378062497\n",
      "result : 과체중\n",
      "이름 : 라카\n",
      "몸무게 : 61\n",
      "키 : 146\n",
      "bmi : 28.61700131356728\n",
      "result : 과체중\n",
      "이름 : 하바\n",
      "몸무게 : 44\n",
      "키 : 156\n",
      "bmi : 18.080210387902692\n",
      "result : 저체중\n",
      "이름 : 마자\n",
      "몸무게 : 76\n",
      "키 : 175\n",
      "bmi : 24.816326530612244\n",
      "result : 정상 체중\n",
      "이름 : 다카\n",
      "몸무게 : 89\n",
      "키 : 141\n",
      "bmi : 44.76635984105428\n",
      "result : 과체중\n",
      "이름 : 바다\n",
      "몸무게 : 60\n",
      "키 : 155\n",
      "bmi : 24.97398543184183\n",
      "result : 정상 체중\n",
      "이름 : 차자\n",
      "몸무게 : 83\n",
      "키 : 143\n",
      "bmi : 40.58878184752311\n",
      "result : 과체중\n",
      "이름 : 다라\n",
      "몸무게 : 89\n",
      "키 : 165\n",
      "bmi : 32.690541781450875\n",
      "result : 과체중\n",
      "이름 : 가다\n",
      "몸무게 : 89\n",
      "키 : 158\n",
      "bmi : 35.65133792661432\n",
      "result : 과체중\n",
      "이름 : 사아\n",
      "몸무게 : 86\n",
      "키 : 161\n",
      "bmi : 33.17773234057328\n",
      "result : 과체중\n",
      "이름 : 나바\n",
      "몸무게 : 56\n",
      "키 : 154\n",
      "bmi : 23.61275088547816\n",
      "result : 정상 체중\n",
      "이름 : 차사\n",
      "몸무게 : 78\n",
      "키 : 151\n",
      "bmi : 34.209025919915796\n",
      "result : 과체중\n",
      "이름 : 하하\n",
      "몸무게 : 77\n",
      "키 : 144\n",
      "bmi : 37.13348765432099\n",
      "result : 과체중\n"
     ]
    }
   ],
   "source": [
    "with open(\"info.txt\", \"r\", encoding = \"utf8\") as file:\n",
    "    for line in file:\n",
    "        name, weight, height = line.strip().split(\", \")\n",
    "        \n",
    "        if (not name) or (not weight) or (not height):\n",
    "            continue\n",
    "            \n",
    "        bmi = int(weight) / (int(height) / 100) ** 2\n",
    "        result = \"\"\n",
    "        \n",
    "        if 25 <= bmi:\n",
    "            result = \"과체중\"\n",
    "        elif 18.5 <= bmi:\n",
    "            result = \"정상 체중\"\n",
    "        else:\n",
    "            result = \"저체중\"\n",
    "            \n",
    "        print(\"\\n\".join([f\"이름 : {name}\", f\"몸무게 : {weight}\", f\"키 : {height}\", f\"bmi : {bmi}\", f\"result : {result}\"]))"
   ]
  },
  {
   "cell_type": "code",
   "execution_count": null,
   "id": "5332a93a-488e-461e-861a-80d5078242c9",
   "metadata": {},
   "outputs": [],
   "source": []
  }
 ],
 "metadata": {
  "kernelspec": {
   "display_name": "Python 3",
   "language": "python",
   "name": "python3"
  },
  "language_info": {
   "codemirror_mode": {
    "name": "ipython",
    "version": 3
   },
   "file_extension": ".py",
   "mimetype": "text/x-python",
   "name": "python",
   "nbconvert_exporter": "python",
   "pygments_lexer": "ipython3",
   "version": "3.6.13"
  }
 },
 "nbformat": 4,
 "nbformat_minor": 5
}
