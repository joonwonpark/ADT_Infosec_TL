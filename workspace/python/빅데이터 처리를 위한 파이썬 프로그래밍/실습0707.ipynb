{
 "cells": [
  {
   "cell_type": "code",
   "execution_count": 1,
   "id": "38ab6559-44f9-44a6-9283-22466e38921c",
   "metadata": {},
   "outputs": [
    {
     "data": {
      "text/plain": [
       "'\\n실습\\nelif 문을 이용한 계절 구하기 : 강의자료 161 페이지\\nif 조건문을 효율적으로 사용하기 : 강의자료 164 페이지\\nelif 확인문제 : 강의자료 169 페이지\\n리스트 확인 문제 : 강의자료 202 페이지\\n딕셔너리 확인 문제 : 강의자료 228 페이지\\nrange 와 for 반복문 : 강의자료 239 페이지\\n\\n정리하기\\n강의자료 154~239페이지 읽어보고 정리\\n잘 이해가 안되는 코드는 구현해 보고 \\n질문사항 질문 하세요\\n'"
      ]
     },
     "execution_count": 1,
     "metadata": {},
     "output_type": "execute_result"
    }
   ],
   "source": [
    "'''\n",
    "실습\n",
    "elif 문을 이용한 계절 구하기 : 강의자료 161 페이지\n",
    "if 조건문을 효율적으로 사용하기 : 강의자료 164 페이지\n",
    "elif 확인문제 : 강의자료 169 페이지\n",
    "리스트 확인 문제 : 강의자료 202 페이지\n",
    "딕셔너리 확인 문제 : 강의자료 228 페이지\n",
    "range 와 for 반복문 : 강의자료 239 페이지\n",
    "\n",
    "정리하기\n",
    "강의자료 154~239페이지 읽어보고 정리\n",
    "잘 이해가 안되는 코드는 구현해 보고 \n",
    "질문사항 질문 하세요\n",
    "'''"
   ]
  },
  {
   "cell_type": "code",
   "execution_count": 2,
   "id": "0b9abf37-a166-4be7-8a44-d73e36bd581f",
   "metadata": {},
   "outputs": [
    {
     "name": "stdout",
     "output_type": "stream",
     "text": [
      "여름\n"
     ]
    }
   ],
   "source": [
    "import datetime\n",
    "\n",
    "now = datetime.datetime.now()\n",
    "month = now.month\n",
    "\n",
    "if 3 <= month <= 5:\n",
    "    print(\"봄\")\n",
    "elif 6 <= month <= 8:\n",
    "    print(\"여름\")\n",
    "elif 9 <= month <= 11:\n",
    "    print(\"가을\")\n",
    "else:\n",
    "    print(\"겨울\")"
   ]
  },
  {
   "cell_type": "code",
   "execution_count": 3,
   "id": "07d0ee3c-0d33-4acc-8b76-5a8853869a8f",
   "metadata": {},
   "outputs": [
    {
     "name": "stdin",
     "output_type": "stream",
     "text": [
      " 4.1\n"
     ]
    },
    {
     "name": "stdout",
     "output_type": "stream",
     "text": [
      "현 체제의 수호자\n"
     ]
    }
   ],
   "source": [
    "score = float(input())\n",
    "\n",
    "if score == 4.5:\n",
    "    print('신')\n",
    "elif 4.2 <= score:\n",
    "    print('교수님의 사랑')\n",
    "elif 3.5 <= score:\n",
    "    print('현 체제의 수호자')\n",
    "elif 2.8 <= score:\n",
    "    print('일반인')\n",
    "elif 2.3 <= score:\n",
    "    print('일탈을 꿈꾸는 소시민')\n",
    "elif 1.75 <= score:\n",
    "    print('오락문화의 선구자')\n",
    "elif 1.0 <= score:\n",
    "    print('불가촉천민')\n",
    "elif 0.5 <= score:\n",
    "    print('자벌레')\n",
    "elif 0 <= score:\n",
    "    print('플랑크톤')\n",
    "else:\n",
    "    print('시대를 앞서가는 혁명의 씨앗')"
   ]
  },
  {
   "cell_type": "code",
   "execution_count": 4,
   "id": "42917b61-3c47-414d-8944-29192c8e9ab6",
   "metadata": {},
   "outputs": [
    {
     "name": "stdout",
     "output_type": "stream",
     "text": [
      "조건에 맞습니다.\n"
     ]
    }
   ],
   "source": [
    "x = 15\n",
    "if 10 < x < 20:\n",
    "    print('조건에 맞습니다.')"
   ]
  },
  {
   "cell_type": "code",
   "execution_count": 5,
   "id": "43151fb5-68e7-4f80-ba49-89fcdc921275",
   "metadata": {},
   "outputs": [
    {
     "name": "stdout",
     "output_type": "stream",
     "text": [
      "- 100 이상의 수: 273\n",
      "- 100 이상의 수: 103\n",
      "- 100 이상의 수: 800\n"
     ]
    }
   ],
   "source": [
    "numbers = [273, 103, 5, 32, 65, 9, 72, 800, 99]\n",
    "\n",
    "for number in numbers:\n",
    "    if number >= 100:\n",
    "        print(\"- 100 이상의 수:\", number)"
   ]
  },
  {
   "cell_type": "code",
   "execution_count": 6,
   "id": "0ca6d5f7-371c-46ba-b485-86ffe7197259",
   "metadata": {},
   "outputs": [],
   "source": [
    "character = {\n",
    "    \"name\" : \"기사\",\n",
    "    \"level\" : 12,\n",
    "    \"items\" : {\n",
    "        \"sword\" : \"불꽃의 검\",\n",
    "        \"armor\" : \"풀플레이트\",\n",
    "        },\n",
    "    \"skill\" : [\"베기\", \"세게 베기\", \"아주 세게 베기\"]\n",
    "}"
   ]
  },
  {
   "cell_type": "code",
   "execution_count": 10,
   "id": "48361e12-ae14-4b69-a264-88ee4c6f1f71",
   "metadata": {},
   "outputs": [
    {
     "name": "stdout",
     "output_type": "stream",
     "text": [
      "name : 기사\n",
      "level : 12\n",
      "sword : 불꽃의 검\n",
      "armor : 풀플레이트\n",
      "skill : 베기\n",
      "skill : 세게 베기\n",
      "skill : 아주 세게 베기\n"
     ]
    }
   ],
   "source": [
    "for key in character:\n",
    "    if type(character[key]) in [str, int]:\n",
    "        print(f\"{key} : {character[key]}\")\n",
    "    else:\n",
    "        try:\n",
    "            for key2 in character[key]:\n",
    "                print(f\"{key2} : {character[key][key2]}\")\n",
    "        except:\n",
    "            for value in character[key]:\n",
    "                print(f\"{key} : {value}\")"
   ]
  },
  {
   "cell_type": "code",
   "execution_count": 8,
   "id": "feec49e0-a0d0-4b6b-882d-448595b50570",
   "metadata": {},
   "outputs": [
    {
     "name": "stdout",
     "output_type": "stream",
     "text": [
      "name : 기사\n",
      "level : 12\n",
      "sword : 불꽃의 검\n",
      "armor : 풀플레이트\n",
      "skill : 베기\n",
      "skill : 세게 베기\n",
      "skill : 아주 세게 베기\n"
     ]
    }
   ],
   "source": [
    "# 강사님 풀이\n",
    "for key in character:\n",
    "    if type(character[key]) is dict:\n",
    "        for small_key in character[key]:\n",
    "            print(small_key, \":\", character[key][small_key])\n",
    "\n",
    "    elif type(character[key]) is list:\n",
    "        for item in character[key]:\n",
    "            print(key, \":\", item)\n",
    "\n",
    "    else:\n",
    "        print(key, \":\", character[key])"
   ]
  },
  {
   "cell_type": "code",
   "execution_count": 9,
   "id": "643db84d-6ced-4ef5-8987-7f48efaa0e5e",
   "metadata": {},
   "outputs": [
    {
     "name": "stdout",
     "output_type": "stream",
     "text": [
      "0 = 반복 변수\n",
      "1 = 반복 변수\n",
      "2 = 반복 변수\n",
      "3 = 반복 변수\n",
      "4 = 반복 변수\n",
      "\n",
      "5 = 반복 변수\n",
      "6 = 반복 변수\n",
      "7 = 반복 변수\n",
      "8 = 반복 변수\n",
      "9 = 반복 변수\n",
      "\n",
      "0 = 반복 변수\n",
      "3 = 반복 변수\n",
      "6 = 반복 변수\n",
      "9 = 반복 변수\n",
      "\n"
     ]
    }
   ],
   "source": [
    "for i in range(5):\n",
    "    print(str(i) + \" = 반복 변수\")\n",
    "print()\n",
    "\n",
    "for i in range(5, 10):\n",
    "    print(str(i) + \" = 반복 변수\")\n",
    "print()\n",
    "\n",
    "for i in range(0, 10, 3):\n",
    "    print(str(i) + \" = 반복 변수\")\n",
    "print()"
   ]
  }
 ],
 "metadata": {
  "kernelspec": {
   "display_name": "Python 3",
   "language": "python",
   "name": "python3"
  },
  "language_info": {
   "codemirror_mode": {
    "name": "ipython",
    "version": 3
   },
   "file_extension": ".py",
   "mimetype": "text/x-python",
   "name": "python",
   "nbconvert_exporter": "python",
   "pygments_lexer": "ipython3",
   "version": "3.6.13"
  }
 },
 "nbformat": 4,
 "nbformat_minor": 5
}
