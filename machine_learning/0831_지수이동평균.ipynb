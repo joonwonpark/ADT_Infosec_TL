{
 "cells": [
  {
   "cell_type": "markdown",
   "metadata": {
    "id": "e41O3cUF4C7t"
   },
   "source": [
    "# 지수 이동평균 EMA (Exponetial Moving Average)\n",
    "- 보다 최근의 값에 가중치를 두면서 이동평균을 계산하는 방법\n",
    "\n",
    "\n",
    "- 금일의 지수이동평균 = (금일 종가 * EP) + (전일의 지수 이동평균 * (1 - EP))\n",
    "- EP(평활 계수 : Exponential Percentage) = 2 / (기간 + 1)\n",
    "\n",
    "- span / alpha 크기 반비례"
   ]
  },
  {
   "cell_type": "code",
   "execution_count": null,
   "metadata": {
    "id": "QeJuY9nCnqgE"
   },
   "outputs": [],
   "source": [
    "import pandas as pd\n",
    "import numpy as np"
   ]
  },
  {
   "cell_type": "code",
   "execution_count": null,
   "metadata": {
    "id": "yTLJyQqdn_qZ"
   },
   "outputs": [],
   "source": [
    "# W : 첫주\n",
    "print(\"2021년 8월의 첫주 freq = w\\n\"\\\n",
    "      ,pd.date_range(start = \"2021-08\", periods=8, freq ='W'))\n",
    "print(\"=\" * 70)\n",
    "\n",
    "# 8월 첫날부터 7일씩 8번\n",
    "print(\"2021년 8월의 첫날부터 7일간격 freq = 7 *1d \\n\"\\\n",
    "      , pd.date_range(start = \"2021-08\", periods=8, freq = 7*\"1d\"))"
   ]
  },
  {
   "cell_type": "code",
   "execution_count": null,
   "metadata": {
    "id": "HzOfqfoB4nfg"
   },
   "outputs": [],
   "source": [
    "# df만들기\n",
    "df = pd.DataFrame({\n",
    "    'week' : pd.date_range(start = \"2021-08-06\", periods=8, freq = 7*\"1d\"),\n",
    "    'sales' : [39, 44, 40, 45, 38, 43, 39, np.nan],\n",
    "    \"EXPONENTIAL\" : [0] * 8\n",
    "    })\n",
    "display(df)\n",
    "\n",
    "# 가중치 계싼\n",
    "span = 3\n",
    "alpha = 2/(1+span)\n",
    "print(\"=\" * 70)\n",
    "print(\"가중치\",alpha)\n",
    "print(\"=\" * 70)\n",
    "\n",
    "# EXPONENTIAL 컬럼값 변경\n",
    "# 한칸씩 이동 \n",
    "df[\"EXPONENTIAL\"] = df[[\"sales\"]].ewm(span=3).mean().shift(1)\n",
    "display(df)"
   ]
  },
  {
   "cell_type": "code",
   "execution_count": null,
   "metadata": {
    "colab": {
     "base_uri": "https://localhost:8080/",
     "height": 295
    },
    "executionInfo": {
     "elapsed": 361,
     "status": "ok",
     "timestamp": 1630384429100,
     "user": {
      "displayName": "Junny hi",
      "photoUrl": "https://lh3.googleusercontent.com/a-/AOh14GhEjHl3iEZdmO8l2rmXULfbj0fk2N-XZ7NECIwjow=s64",
      "userId": "11763536325377287333"
     },
     "user_tz": -540
    },
    "id": "AjceXggBFbmL",
    "outputId": "c7154b97-b383-4bd7-8e29-4cb290c2e5c0"
   },
   "outputs": [
    {
     "data": {
      "text/html": [
       "<div>\n",
       "<style scoped>\n",
       "    .dataframe tbody tr th:only-of-type {\n",
       "        vertical-align: middle;\n",
       "    }\n",
       "\n",
       "    .dataframe tbody tr th {\n",
       "        vertical-align: top;\n",
       "    }\n",
       "\n",
       "    .dataframe thead th {\n",
       "        text-align: right;\n",
       "    }\n",
       "</style>\n",
       "<table border=\"1\" class=\"dataframe\">\n",
       "  <thead>\n",
       "    <tr style=\"text-align: right;\">\n",
       "      <th></th>\n",
       "      <th>week</th>\n",
       "      <th>sales</th>\n",
       "      <th>EXPONENTIAL</th>\n",
       "      <th>예측</th>\n",
       "    </tr>\n",
       "  </thead>\n",
       "  <tbody>\n",
       "    <tr>\n",
       "      <th>0</th>\n",
       "      <td>2021-08-06</td>\n",
       "      <td>39.0</td>\n",
       "      <td>NaN</td>\n",
       "      <td>NaN</td>\n",
       "    </tr>\n",
       "    <tr>\n",
       "      <th>1</th>\n",
       "      <td>2021-08-13</td>\n",
       "      <td>44.0</td>\n",
       "      <td>39.000000</td>\n",
       "      <td>0일차 예측값</td>\n",
       "    </tr>\n",
       "    <tr>\n",
       "      <th>2</th>\n",
       "      <td>2021-08-20</td>\n",
       "      <td>40.0</td>\n",
       "      <td>42.333333</td>\n",
       "      <td>1일차 예측값</td>\n",
       "    </tr>\n",
       "    <tr>\n",
       "      <th>3</th>\n",
       "      <td>2021-08-27</td>\n",
       "      <td>45.0</td>\n",
       "      <td>41.000000</td>\n",
       "      <td>2일차 예측값</td>\n",
       "    </tr>\n",
       "    <tr>\n",
       "      <th>4</th>\n",
       "      <td>2021-09-03</td>\n",
       "      <td>38.0</td>\n",
       "      <td>43.133333</td>\n",
       "      <td>3일차 예측값</td>\n",
       "    </tr>\n",
       "    <tr>\n",
       "      <th>5</th>\n",
       "      <td>2021-09-10</td>\n",
       "      <td>43.0</td>\n",
       "      <td>40.483871</td>\n",
       "      <td>4일차 예측값</td>\n",
       "    </tr>\n",
       "    <tr>\n",
       "      <th>6</th>\n",
       "      <td>2021-09-17</td>\n",
       "      <td>39.0</td>\n",
       "      <td>41.761905</td>\n",
       "      <td>5일차 예측값</td>\n",
       "    </tr>\n",
       "    <tr>\n",
       "      <th>7</th>\n",
       "      <td>2021-09-24</td>\n",
       "      <td>NaN</td>\n",
       "      <td>40.370079</td>\n",
       "      <td>6일차 예측값</td>\n",
       "    </tr>\n",
       "  </tbody>\n",
       "</table>\n",
       "</div>"
      ],
      "text/plain": [
       "        week  sales  EXPONENTIAL       예측\n",
       "0 2021-08-06   39.0          NaN      NaN\n",
       "1 2021-08-13   44.0    39.000000  0일차 예측값\n",
       "2 2021-08-20   40.0    42.333333  1일차 예측값\n",
       "3 2021-08-27   45.0    41.000000  2일차 예측값\n",
       "4 2021-09-03   38.0    43.133333  3일차 예측값\n",
       "5 2021-09-10   43.0    40.483871  4일차 예측값\n",
       "6 2021-09-17   39.0    41.761905  5일차 예측값\n",
       "7 2021-09-24    NaN    40.370079  6일차 예측값"
      ]
     },
     "metadata": {},
     "output_type": "display_data"
    }
   ],
   "source": [
    "df[\"예측\"] = [str(x-1)+\"일차 예측값\" if x !=0 else 'NaN' for x in range(len(df))]\n",
    "display(df)"
   ]
  },
  {
   "cell_type": "code",
   "execution_count": null,
   "metadata": {
    "id": "3CEP1G6UbdIS"
   },
   "outputs": [],
   "source": [
    "# 지수이동평균 함수\n",
    "def myEWMA(data, span):\n",
    "  molecule = 0  # 분자\n",
    "  denominator = 0 # 분모\n",
    "  alpha = 2.0 / (1+span)\n",
    "  print(\"data = \", data)\n",
    "  ewma = [0] * len(data)\n",
    "  for i in range(len(data)):\n",
    "    print(\"i = \", i)\n",
    "    molecule = (data[i] + (1.0 - alpha) * molecule)\n",
    "    denominator += (1 - alpha) ** i\n",
    "\n",
    "    print(\"분자 = \",molecule)\n",
    "    print(\"분모 = \",denominator)\n",
    "    ema = molecule / denominator\n",
    "    print(\"ema = \", ema)\n",
    "    print(\"=\" *100)\n",
    "    ewma[i] = ema\n",
    "  return ewma"
   ]
  },
  {
   "cell_type": "code",
   "execution_count": null,
   "metadata": {
    "id": "oH9Vt2Tlbb8e"
   },
   "outputs": [],
   "source": [
    "myEWMA(df['sales'][0:7], 3)"
   ]
  },
  {
   "cell_type": "markdown",
   "metadata": {
    "id": "YNE6QCP2qEXD"
   },
   "source": [
    "# Apple Stock EMA"
   ]
  },
  {
   "cell_type": "code",
   "execution_count": null,
   "metadata": {
    "id": "X2ugfk_3qLtz"
   },
   "outputs": [],
   "source": [
    "import pandas as pd\n",
    "from datetime import datetime\n",
    "import numpy as np"
   ]
  },
  {
   "cell_type": "code",
   "execution_count": null,
   "metadata": {
    "id": "HrjFY6Z4qN4O"
   },
   "outputs": [],
   "source": [
    "path = '/content/drive/MyDrive/Colab Notebooks/AI_허현준/11주차 머신러닝/datasets/apple_stock.csv'"
   ]
  },
  {
   "cell_type": "code",
   "execution_count": null,
   "metadata": {
    "id": "6qcCegj1qbOr"
   },
   "outputs": [],
   "source": [
    "df = pd.read_csv(path)\n",
    "df[\"Date\"] = pd.to_datetime(df[\"Date\"])\n",
    "df = df.set_index(\"Date\")\n",
    "df"
   ]
  },
  {
   "cell_type": "code",
   "execution_count": null,
   "metadata": {
    "id": "pAAf1iCArWA6"
   },
   "outputs": [],
   "source": [
    "# 종가 7일 지수이동평균\n",
    "df[[\"Close\"]].ewm(span = 7).mean()\n",
    "\n",
    "# datetime 생성\n",
    "last_day = datetime(2019, 1, 2)\n",
    "\n",
    "# 새로운열 종가에 100 추가 해보기\n",
    "df.loc[last_day,\"Close\"] = -100  "
   ]
  },
  {
   "cell_type": "code",
   "execution_count": null,
   "metadata": {
    "id": "Cq-Fl5xptNDn"
   },
   "outputs": [],
   "source": [
    "df.tail(1)"
   ]
  },
  {
   "cell_type": "code",
   "execution_count": null,
   "metadata": {
    "colab": {
     "base_uri": "https://localhost:8080/",
     "height": 388
    },
    "executionInfo": {
     "elapsed": 414,
     "status": "ok",
     "timestamp": 1630413002092,
     "user": {
      "displayName": "Junny hi",
      "photoUrl": "https://lh3.googleusercontent.com/a-/AOh14GhEjHl3iEZdmO8l2rmXULfbj0fk2N-XZ7NECIwjow=s64",
      "userId": "11763536325377287333"
     },
     "user_tz": -540
    },
    "id": "VmOmKRf7t1YC",
    "outputId": "e49cd707-9080-4348-847c-eed0b5a4ba7e"
   },
   "outputs": [
    {
     "data": {
      "text/html": [
       "<div>\n",
       "<style scoped>\n",
       "    .dataframe tbody tr th:only-of-type {\n",
       "        vertical-align: middle;\n",
       "    }\n",
       "\n",
       "    .dataframe tbody tr th {\n",
       "        vertical-align: top;\n",
       "    }\n",
       "\n",
       "    .dataframe thead th {\n",
       "        text-align: right;\n",
       "    }\n",
       "</style>\n",
       "<table border=\"1\" class=\"dataframe\">\n",
       "  <thead>\n",
       "    <tr style=\"text-align: right;\">\n",
       "      <th></th>\n",
       "      <th>Close</th>\n",
       "      <th>Close_7Span_Mean</th>\n",
       "      <th>예측</th>\n",
       "    </tr>\n",
       "    <tr>\n",
       "      <th>Date</th>\n",
       "      <th></th>\n",
       "      <th></th>\n",
       "      <th></th>\n",
       "    </tr>\n",
       "  </thead>\n",
       "  <tbody>\n",
       "    <tr>\n",
       "      <th>2009-12-31</th>\n",
       "      <td>30.104286</td>\n",
       "      <td>NaN</td>\n",
       "      <td>NaT</td>\n",
       "    </tr>\n",
       "    <tr>\n",
       "      <th>2010-01-04</th>\n",
       "      <td>30.572857</td>\n",
       "      <td>30.104286</td>\n",
       "      <td>2009-12-31</td>\n",
       "    </tr>\n",
       "    <tr>\n",
       "      <th>2010-01-05</th>\n",
       "      <td>30.625713</td>\n",
       "      <td>30.372041</td>\n",
       "      <td>2010-01-04</td>\n",
       "    </tr>\n",
       "    <tr>\n",
       "      <th>2010-01-06</th>\n",
       "      <td>30.138571</td>\n",
       "      <td>30.481737</td>\n",
       "      <td>2010-01-05</td>\n",
       "    </tr>\n",
       "    <tr>\n",
       "      <th>2010-01-07</th>\n",
       "      <td>30.082857</td>\n",
       "      <td>30.356236</td>\n",
       "      <td>2010-01-06</td>\n",
       "    </tr>\n",
       "    <tr>\n",
       "      <th>2010-01-08</th>\n",
       "      <td>30.282858</td>\n",
       "      <td>30.266627</td>\n",
       "      <td>2010-01-07</td>\n",
       "    </tr>\n",
       "    <tr>\n",
       "      <th>2010-01-11</th>\n",
       "      <td>30.015715</td>\n",
       "      <td>30.271563</td>\n",
       "      <td>2010-01-08</td>\n",
       "    </tr>\n",
       "    <tr>\n",
       "      <th>2010-01-12</th>\n",
       "      <td>29.674286</td>\n",
       "      <td>30.197748</td>\n",
       "      <td>2010-01-11</td>\n",
       "    </tr>\n",
       "    <tr>\n",
       "      <th>2010-01-13</th>\n",
       "      <td>30.092857</td>\n",
       "      <td>30.052323</td>\n",
       "      <td>2010-01-12</td>\n",
       "    </tr>\n",
       "    <tr>\n",
       "      <th>2010-01-14</th>\n",
       "      <td>29.918571</td>\n",
       "      <td>30.063280</td>\n",
       "      <td>2010-01-13</td>\n",
       "    </tr>\n",
       "  </tbody>\n",
       "</table>\n",
       "</div>"
      ],
      "text/plain": [
       "                Close  Close_7Span_Mean         예측\n",
       "Date                                              \n",
       "2009-12-31  30.104286               NaN        NaT\n",
       "2010-01-04  30.572857         30.104286 2009-12-31\n",
       "2010-01-05  30.625713         30.372041 2010-01-04\n",
       "2010-01-06  30.138571         30.481737 2010-01-05\n",
       "2010-01-07  30.082857         30.356236 2010-01-06\n",
       "2010-01-08  30.282858         30.266627 2010-01-07\n",
       "2010-01-11  30.015715         30.271563 2010-01-08\n",
       "2010-01-12  29.674286         30.197748 2010-01-11\n",
       "2010-01-13  30.092857         30.052323 2010-01-12\n",
       "2010-01-14  29.918571         30.063280 2010-01-13"
      ]
     },
     "execution_count": 11,
     "metadata": {},
     "output_type": "execute_result"
    }
   ],
   "source": [
    "# last_day의 \"Close\" 를 Nan값으로 변경\n",
    "df.loc[last_day,\"Close\"] = np.nan\n",
    "\n",
    "df[\"Close_7Span_Mean\"] = df[[\"Close\"]].ewm(span = 7).mean().shift(1)\n",
    "\n",
    "\n",
    "df[[\"Close\",\"Close_7Span_Mean\",\"예측\"]].head(10)\n",
    "\n"
   ]
  },
  {
   "cell_type": "code",
   "execution_count": null,
   "metadata": {
    "id": "i6wsN9YqW_iu"
   },
   "outputs": [],
   "source": [
    "# df[\"예측\"] = [str(x-1)+\"일차 예측값\" if x !=0 else 'NaN' for x in range(len(df))]\n",
    "# df[\"예측\"] =  [x for x in df.index]\n",
    "# df['예측'] = df['예측'].shift(1)\n",
    "# [x for x in df.index]"
   ]
  },
  {
   "cell_type": "code",
   "execution_count": null,
   "metadata": {
    "id": "yWNUIpZvXWzZ"
   },
   "outputs": [],
   "source": [
    "df.index"
   ]
  },
  {
   "cell_type": "code",
   "execution_count": null,
   "metadata": {
    "id": "k9DuYJ3Q1Re8"
   },
   "outputs": [],
   "source": [
    "# 시각화\n",
    "df[[\"Close\",\"Close_7Span_Mean\"]].plot(figsize = (30,20))"
   ]
  },
  {
   "cell_type": "code",
   "execution_count": null,
   "metadata": {
    "id": "_Nrnl65E12iE"
   },
   "outputs": [],
   "source": [
    "# 월별 종가 평균\n",
    "df_monthly = df[[\"Close\"]].resample(rule = 'MS').mean()\n",
    "\n",
    "\n",
    "df_monthly[\"Close_3Span_Mean\"] = df_monthly[\"Close\"].ewm(span = 3).mean().shift(1)"
   ]
  },
  {
   "cell_type": "code",
   "execution_count": null,
   "metadata": {
    "id": "-oOf-U0Z4Izd"
   },
   "outputs": [],
   "source": [
    "df_monthly.plot(figsize = (30, 20))"
   ]
  },
  {
   "cell_type": "markdown",
   "metadata": {
    "id": "LOhgGK9UCaMa"
   },
   "source": [
    "# 실습 \n",
    "- ppt 224 ~ 257\n"
   ]
  },
  {
   "cell_type": "markdown",
   "metadata": {
    "id": "vk-o3wV7PYI_"
   },
   "source": [
    "## 224~ 235"
   ]
  },
  {
   "cell_type": "code",
   "execution_count": null,
   "metadata": {
    "id": "rUXUq09Rd8EP"
   },
   "outputs": [],
   "source": [
    "import pandas as pd\n",
    "import numpy as np"
   ]
  },
  {
   "cell_type": "code",
   "execution_count": null,
   "metadata": {
    "id": "oboFHC4qGx4S"
   },
   "outputs": [],
   "source": [
    "df = pd.DataFrame({\n",
    "    'week' : pd.date_range(start = \"2021-08-06\", periods=8, freq = 7*\"1d\"),\n",
    "    'sales' : [39, 44, 40, 45, 38, 43, 39, np.nan],\n",
    "    \"3EMA\" : [0] * 8\n",
    "    })\n",
    "\n",
    "df[\"3EMA\"] = df[[\"sales\"]].ewm(span = 3).mean().shift(1)\n",
    "\n",
    "df"
   ]
  },
  {
   "cell_type": "code",
   "execution_count": null,
   "metadata": {
    "id": "UCRkHvTnH6NF"
   },
   "outputs": [],
   "source": [
    "def MyEWMA(data, span):\n",
    "  ewma = [0] * len(data)\n",
    "  분자 = 0\n",
    "  분모 = 0\n",
    "  alpha = 2.0 /(1.0 + span)\n",
    "  for i in range(len(data)):\n",
    "    분자 = (data[i] + (1.0-alpha)* 분자)\n",
    "    분모 += (1-alpha) ** i\n",
    "    ewma[i] = 분자/분모\n",
    "  return ewma\n"
   ]
  },
  {
   "cell_type": "code",
   "execution_count": null,
   "metadata": {
    "colab": {
     "base_uri": "https://localhost:8080/"
    },
    "executionInfo": {
     "elapsed": 462,
     "status": "ok",
     "timestamp": 1630401006810,
     "user": {
      "displayName": "Junny hi",
      "photoUrl": "https://lh3.googleusercontent.com/a-/AOh14GhEjHl3iEZdmO8l2rmXULfbj0fk2N-XZ7NECIwjow=s64",
      "userId": "11763536325377287333"
     },
     "user_tz": -540
    },
    "id": "w4NNw7LyeDh3",
    "outputId": "d72176c4-4060-4e98-b55d-3b78f5b6426e"
   },
   "outputs": [
    {
     "data": {
      "text/plain": [
       "[39.0,\n",
       " 42.333333333333336,\n",
       " 41.0,\n",
       " 43.13333333333333,\n",
       " 40.483870967741936,\n",
       " 41.76190476190476,\n",
       " 40.37007874015748,\n",
       " nan]"
      ]
     },
     "execution_count": 15,
     "metadata": {},
     "output_type": "execute_result"
    }
   ],
   "source": [
    "MyEWMA(df['sales'], 3)"
   ]
  },
  {
   "cell_type": "markdown",
   "metadata": {
    "id": "4U3BTuuGPt3z"
   },
   "source": [
    "## 237 ~ 257"
   ]
  },
  {
   "cell_type": "code",
   "execution_count": null,
   "metadata": {
    "id": "Qdo6Ip2NPv6X"
   },
   "outputs": [],
   "source": [
    "import pandas as pd\n",
    "import matplotlib.pyplot as plt\n",
    "from datetime import datetime\n",
    "%matplotlib inline"
   ]
  },
  {
   "cell_type": "code",
   "execution_count": null,
   "metadata": {
    "id": "E94Ra4JTP1Rx"
   },
   "outputs": [],
   "source": [
    "plt.style.use('ggplot')"
   ]
  },
  {
   "cell_type": "code",
   "execution_count": null,
   "metadata": {
    "id": "hBW6EUPqP4-t"
   },
   "outputs": [],
   "source": [
    "path = '/content/drive/MyDrive/Colab Notebooks/AI_허현준/11주차 머신러닝/datasets/apple_stock.csv'\n",
    "df = pd.read_csv(path)"
   ]
  },
  {
   "cell_type": "code",
   "execution_count": null,
   "metadata": {
    "id": "WsAZIASaQDsv"
   },
   "outputs": [],
   "source": [
    "df[\"Date\"] = pd.to_datetime(df[\"Date\"])\n",
    "df = df.set_index(\"Date\")\n",
    "\n",
    "# 시각화\n",
    "df[[\"Close\"]].plot(figsize = (30 ,30))\n",
    "plt.title(\"Close Price for Apple\")"
   ]
  },
  {
   "cell_type": "code",
   "execution_count": null,
   "metadata": {
    "id": "s-xbyR_oRzdh"
   },
   "outputs": [],
   "source": [
    "last_day = datetime(2019,1,4)\n",
    "print(last_day)\n",
    "\n",
    "df.loc[last_day, 'Close'] = np.nan\n",
    "display(df)\n",
    "\n",
    "df['Close_7Span_Mean'] = df['Close'].ewm(span = 7).mean().shift(1)\n",
    "display(df)\n",
    "\n",
    "df[[\"Close\", \"Close_7Span_Mean\"]].plot(figsize = (30,20))"
   ]
  },
  {
   "cell_type": "code",
   "execution_count": null,
   "metadata": {
    "id": "ta5-wS_QS8rU"
   },
   "outputs": [],
   "source": [
    "# 월단위 평균가격 df\n",
    "df_monthly = df[['Close']].resample(rule =\"M\").mean()\n",
    "\n",
    "df_monthly[\"Close_3Month_Mean\"] = df_monthly[\"Close\"].ewm(span = 3).mean().shift(1)\n",
    "\n",
    "df_monthly"
   ]
  },
  {
   "cell_type": "code",
   "execution_count": null,
   "metadata": {
    "colab": {
     "base_uri": "https://localhost:8080/",
     "height": 650
    },
    "executionInfo": {
     "elapsed": 1825,
     "status": "ok",
     "timestamp": 1630398515992,
     "user": {
      "displayName": "Junny hi",
      "photoUrl": "https://lh3.googleusercontent.com/a-/AOh14GhEjHl3iEZdmO8l2rmXULfbj0fk2N-XZ7NECIwjow=s64",
      "userId": "11763536325377287333"
     },
     "user_tz": -540
    },
    "id": "xQMcLQzXUQI4",
    "outputId": "5d5cb4fe-8630-470b-9650-6b0c8ed959e1"
   },
   "outputs": [
    {
     "data": {
      "text/plain": [
       "<matplotlib.axes._subplots.AxesSubplot at 0x7f87efd410d0>"
      ]
     },
     "execution_count": 230,
     "metadata": {},
     "output_type": "execute_result"
    },
    {
     "data": {
      "image/png": "[encoded data removed]",
      "text/plain": [
       "<Figure size 2160x1440 with 1 Axes>"
      ]
     },
     "metadata": {
      "needs_background": "light"
     },
     "output_type": "display_data"
    }
   ],
   "source": [
    "# 시각화\n",
    "df_monthly.plot(figsize = (30,20))"
   ]
  },
  {
   "cell_type": "code",
   "execution_count": null,
   "metadata": {
    "id": "QBLbjJrNaz86"
   },
   "outputs": [],
   "source": []
  }
 ],
 "metadata": {
  "colab": {
   "collapsed_sections": [
    "e41O3cUF4C7t"
   ],
   "name": "infosec_8_31.ipynb",
   "provenance": []
  },
  "kernelspec": {
   "display_name": "Python 3",
   "language": "python",
   "name": "python3"
  },
  "language_info": {
   "codemirror_mode": {
    "name": "ipython",
    "version": 3
   },
   "file_extension": ".py",
   "mimetype": "text/x-python",
   "name": "python",
   "nbconvert_exporter": "python",
   "pygments_lexer": "ipython3",
   "version": "3.6.13"
  }
 },
 "nbformat": 4,
 "nbformat_minor": 4
}
