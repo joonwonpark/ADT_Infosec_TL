{
 "cells": [
  {
   "cell_type": "code",
   "execution_count": 1,
   "id": "955dce6b-917e-4567-8415-5d9990ec6915",
   "metadata": {},
   "outputs": [],
   "source": [
    "import pandas as pd\n",
    "import numpy as np\n",
    "from sklearn.ensemble import RandomForestRegressor\n",
    "from tqdm import tqdm\n",
    "import warnings\n",
    "\n",
    "warnings.filterwarnings(action='ignore')"
   ]
  },
  {
   "cell_type": "code",
   "execution_count": 2,
   "id": "870c6996-4d67-4731-aaf6-3703e28f33fc",
   "metadata": {},
   "outputs": [],
   "source": [
    "train = pd.read_csv('./data/train.csv')\n",
    "test = pd.read_csv('./data/test.csv')\n",
    "age_gender_info = pd.read_csv('./data/age_gender_info.csv')\n",
    "submission = pd.read_csv('./data/sample_submission.csv')"
   ]
  },
  {
   "cell_type": "code",
   "execution_count": 3,
   "id": "2cb19c1a-7ec2-4023-a0a7-d3b92d9f5716",
   "metadata": {},
   "outputs": [],
   "source": [
    "train['임대보증금'] = train['임대보증금'].replace('-', 0)\n",
    "train['임대료'] = train['임대료'].replace('-', 0)\n",
    "test['임대보증금'] = test['임대보증금'].replace('-', 0)\n",
    "test['임대료'] = test['임대료'].replace('-', 0)"
   ]
  },
  {
   "cell_type": "code",
   "execution_count": 4,
   "id": "fce5ac43-df0e-4322-a1ca-be286d9ead03",
   "metadata": {},
   "outputs": [],
   "source": [
    "test['자격유형'] = test['자격유형'].fillna('A')"
   ]
  },
  {
   "cell_type": "code",
   "execution_count": 5,
   "id": "41d500b4-8dbc-45ef-a35b-40c66895017f",
   "metadata": {},
   "outputs": [],
   "source": [
    "train = train.fillna(0)\n",
    "test = test.fillna(0)"
   ]
  },
  {
   "cell_type": "code",
   "execution_count": 6,
   "id": "5ada140e-ef59-4e8a-8fb6-7c12259c8256",
   "metadata": {},
   "outputs": [],
   "source": [
    "train['임대보증금'] = train['임대보증금'].astype('float64')\n",
    "train['임대료'] = train['임대료'].astype('float64')\n",
    "test['임대보증금'] = test['임대보증금'].astype('float64')\n",
    "test['임대료'] = test['임대료'].astype('float64')"
   ]
  },
  {
   "cell_type": "code",
   "execution_count": 7,
   "id": "71342722-bd2b-44d4-839b-6f8668c92025",
   "metadata": {},
   "outputs": [],
   "source": [
    "from sklearn.preprocessing import LabelEncoder"
   ]
  },
  {
   "cell_type": "code",
   "execution_count": 8,
   "id": "26d08bd2-64e2-4cae-84e9-1a96c4a22389",
   "metadata": {},
   "outputs": [],
   "source": [
    "# 임대건물구분 인코더\n",
    "le1 = LabelEncoder()\n",
    "# 지역 인코더\n",
    "le2 = LabelEncoder()\n",
    "# 공급유형 인코더\n",
    "le3 = LabelEncoder()\n",
    "# 자격유형 인코더\n",
    "le4 = LabelEncoder()"
   ]
  },
  {
   "cell_type": "code",
   "execution_count": 9,
   "id": "611bffad-9497-44f1-9691-953e03d548ee",
   "metadata": {},
   "outputs": [
    {
     "data": {
      "text/plain": [
       "LabelEncoder()"
      ]
     },
     "execution_count": 9,
     "metadata": {},
     "output_type": "execute_result"
    }
   ],
   "source": [
    "le1.fit(train['임대건물구분'])\n",
    "le2.fit(train['지역'])\n",
    "le3.fit(train['공급유형'])\n",
    "le4.fit(train['자격유형'].append(pd.Series(['H'])))"
   ]
  },
  {
   "cell_type": "code",
   "execution_count": 10,
   "id": "281d454e-8dd2-432f-b067-e234c1212dab",
   "metadata": {},
   "outputs": [],
   "source": [
    "train['임대건물구분'] = le1.transform(train['임대건물구분'])\n",
    "train['지역'] = le2.transform(train['지역'])\n",
    "train['공급유형'] = le3.transform(train['공급유형'])\n",
    "train['자격유형'] = le4.transform(train['자격유형'])"
   ]
  },
  {
   "cell_type": "code",
   "execution_count": 11,
   "id": "b6677eb1-d6df-4f26-9060-c3edeb04033a",
   "metadata": {},
   "outputs": [],
   "source": [
    "test['임대건물구분'] = le1.transform(test['임대건물구분'])\n",
    "test['지역'] = le2.transform(test['지역'])\n",
    "test['공급유형'] = le3.transform(test['공급유형'])\n",
    "test['자격유형'] = le4.transform(test['자격유형'])"
   ]
  },
  {
   "cell_type": "code",
   "execution_count": 15,
   "id": "bd4d77ae-5f16-4c61-aee0-f79ec8a193fd",
   "metadata": {},
   "outputs": [],
   "source": [
    "new_test = test.groupby(['단지코드']).mean()"
   ]
  },
  {
   "cell_type": "code",
   "execution_count": 16,
   "id": "81fe49af-8dde-4362-acf7-0b5cbcff26a8",
   "metadata": {},
   "outputs": [],
   "source": [
    "new_test = new_test.reset_index()"
   ]
  },
  {
   "cell_type": "code",
   "execution_count": 17,
   "id": "72965128-89d1-4a3a-ac16-a28a26d95cf7",
   "metadata": {},
   "outputs": [],
   "source": [
    "x_train = train.iloc[:, 1:-1]\n",
    "y_train = train.iloc[:,-1]\n",
    "new_test = new_test.iloc[:,1:]"
   ]
  },
  {
   "cell_type": "code",
   "execution_count": null,
   "id": "d1f49ad0-09ba-40e7-8012-54a48711e70c",
   "metadata": {},
   "outputs": [],
   "source": []
  },
  {
   "cell_type": "code",
   "execution_count": 18,
   "id": "d3496e37-8430-4c1c-aa01-26d5fee74785",
   "metadata": {},
   "outputs": [],
   "source": [
    "model = RandomForestRegressor(n_jobs=-1, random_state=42)"
   ]
  },
  {
   "cell_type": "code",
   "execution_count": 19,
   "id": "ac697ad9-763b-45be-9896-c4d789a57848",
   "metadata": {},
   "outputs": [
    {
     "data": {
      "text/plain": [
       "RandomForestRegressor(n_jobs=-1, random_state=42)"
      ]
     },
     "execution_count": 19,
     "metadata": {},
     "output_type": "execute_result"
    }
   ],
   "source": [
    "model.fit(x_train, y_train)"
   ]
  },
  {
   "cell_type": "code",
   "execution_count": 20,
   "id": "f6611e91-fdf2-4504-a88c-c244e0d0ac62",
   "metadata": {},
   "outputs": [],
   "source": [
    "pred = model.predict(new_test)"
   ]
  },
  {
   "cell_type": "code",
   "execution_count": 21,
   "id": "2add3db3-827e-4b7c-9e93-b056047162ad",
   "metadata": {},
   "outputs": [],
   "source": [
    "submission['num'] = pred"
   ]
  },
  {
   "cell_type": "code",
   "execution_count": 22,
   "id": "80421674-9dd4-452e-90dd-d2fcd858f852",
   "metadata": {},
   "outputs": [],
   "source": [
    "submission.to_csv('raw.csv', index=False)"
   ]
  },
  {
   "cell_type": "markdown",
   "id": "0889fe6e-d655-4968-927e-a2e7ba472f43",
   "metadata": {},
   "source": [
    "![image.png](data:image/png;base64,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)"
   ]
  },
  {
   "cell_type": "code",
   "execution_count": null,
   "id": "89162612-1cd7-486b-891c-af490d860fa5",
   "metadata": {},
   "outputs": [],
   "source": []
  }
 ],
 "metadata": {
  "kernelspec": {
   "display_name": "Python 3",
   "language": "python",
   "name": "python3"
  },
  "language_info": {
   "codemirror_mode": {
    "name": "ipython",
    "version": 3
   },
   "file_extension": ".py",
   "mimetype": "text/x-python",
   "name": "python",
   "nbconvert_exporter": "python",
   "pygments_lexer": "ipython3",
   "version": "3.6.13"
  }
 },
 "nbformat": 4,
 "nbformat_minor": 5
}
