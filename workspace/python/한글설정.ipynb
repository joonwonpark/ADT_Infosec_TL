{
 "cells": [
  {
   "cell_type": "code",
   "execution_count": 1,
   "metadata": {
    "executionInfo": {
     "elapsed": 349,
     "status": "ok",
     "timestamp": 1626678840775,
     "user": {
      "displayName": "박준원",
      "photoUrl": "",
      "userId": "01666978145944503968"
     },
     "user_tz": -540
    },
    "id": "661lvmgpeK13"
   },
   "outputs": [],
   "source": [
    "from google.colab import drive"
   ]
  },
  {
   "cell_type": "code",
   "execution_count": 2,
   "metadata": {
    "colab": {
     "base_uri": "https://localhost:8080/"
    },
    "executionInfo": {
     "elapsed": 1056,
     "status": "ok",
     "timestamp": 1626678842214,
     "user": {
      "displayName": "박준원",
      "photoUrl": "",
      "userId": "01666978145944503968"
     },
     "user_tz": -540
    },
    "id": "lH_ktCxfeZEr",
    "outputId": "bde6bde5-7bf9-42a7-b23c-8ca4ff8b9d12"
   },
   "outputs": [
    {
     "name": "stdout",
     "output_type": "stream",
     "text": [
      "Mounted at drive\n"
     ]
    }
   ],
   "source": [
    "drive.mount('drive', force_remount=True)"
   ]
  },
  {
   "cell_type": "code",
   "execution_count": 3,
   "metadata": {
    "executionInfo": {
     "elapsed": 268,
     "status": "ok",
     "timestamp": 1626678843690,
     "user": {
      "displayName": "박준원",
      "photoUrl": "",
      "userId": "01666978145944503968"
     },
     "user_tz": -540
    },
    "id": "MHDeT710gN6Z"
   },
   "outputs": [],
   "source": [
    "!chmod 777 /content/drive/MyDrive/infosec_ai/test.sh"
   ]
  },
  {
   "cell_type": "code",
   "execution_count": 4,
   "metadata": {
    "colab": {
     "base_uri": "https://localhost:8080/"
    },
    "executionInfo": {
     "elapsed": 3701,
     "status": "ok",
     "timestamp": 1626678848572,
     "user": {
      "displayName": "박준원",
      "photoUrl": "",
      "userId": "01666978145944503968"
     },
     "user_tz": -540
    },
    "id": "JjaVDZEAepVZ",
    "outputId": "e11f5888-17f9-485d-bab4-79ddec330e3c"
   },
   "outputs": [
    {
     "name": "stdout",
     "output_type": "stream",
     "text": [
      "fonts-nanum is already the newest version (20170925-1).\n",
      "0 upgraded, 0 newly installed, 0 to remove and 39 not upgraded.\n",
      "<Figure size 500x500 with 1 Axes>\n"
     ]
    }
   ],
   "source": [
    "!bash /content/drive/MyDrive/infosec_ai/test.sh"
   ]
  },
  {
   "cell_type": "code",
   "execution_count": 5,
   "metadata": {
    "executionInfo": {
     "elapsed": 11,
     "status": "ok",
     "timestamp": 1626678848573,
     "user": {
      "displayName": "박준원",
      "photoUrl": "",
      "userId": "01666978145944503968"
     },
     "user_tz": -540
    },
    "id": "y16Um7MnD1V2"
   },
   "outputs": [],
   "source": [
    "#그래프의 전체적인 설정을 하는 객체\n",
    "import matplotlib as mpl\n",
    "#그래프를 그리는 객체\n",
    "import matplotlib.pyplot as plt"
   ]
  },
  {
   "cell_type": "code",
   "execution_count": 7,
   "metadata": {
    "executionInfo": {
     "elapsed": 639,
     "status": "ok",
     "timestamp": 1626678855176,
     "user": {
      "displayName": "박준원",
      "photoUrl": "",
      "userId": "01666978145944503968"
     },
     "user_tz": -540
    },
    "id": "DVimueDdGxhh"
   },
   "outputs": [],
   "source": [
    "#폰트 이름 설정\n",
    "plt.rc('font', family='NanumBarunGothic') \n",
    "#폰트 업데이트\n",
    "mpl.font_manager._rebuild()"
   ]
  },
  {
   "cell_type": "code",
   "execution_count": 8,
   "metadata": {
    "colab": {
     "base_uri": "https://localhost:8080/"
    },
    "executionInfo": {
     "elapsed": 540,
     "status": "ok",
     "timestamp": 1626678856566,
     "user": {
      "displayName": "박준원",
      "photoUrl": "",
      "userId": "01666978145944503968"
     },
     "user_tz": -540
    },
    "id": "14E6GfZ4D22t",
    "outputId": "070250e7-b305-4da9-e311-1bc46e8eb58a"
   },
   "outputs": [
    {
     "data": {
      "image/png": "[encoded data removed]",
      "text/plain": [
       "<Figure size 360x360 with 1 Axes>"
      ]
     },
     "metadata": {
      "needs_background": "light",
      "tags": []
     },
     "output_type": "display_data"
    }
   ],
   "source": [
    "#그래프 그림 (가로 5 세로5)\n",
    "plt.figure(figsize=(5,5))\n",
    "#X ,Y 좌표 설정\n",
    "plt.plot([0,1], [0,1], label='한글테스트용')\n",
    "#범례 표시\n",
    "plt.legend()\n",
    "#그래프 그림\n",
    "plt.show()"
   ]
  },
  {
   "cell_type": "code",
   "execution_count": null,
   "metadata": {
    "id": "PuN8qG6RgDPx"
   },
   "outputs": [],
   "source": []
  }
 ],
 "metadata": {
  "colab": {
   "collapsed_sections": [],
   "name": "한글설정.ipynb",
   "provenance": []
  },
  "kernelspec": {
   "display_name": "Python 3",
   "language": "python",
   "name": "python3"
  },
  "language_info": {
   "codemirror_mode": {
    "name": "ipython",
    "version": 3
   },
   "file_extension": ".py",
   "mimetype": "text/x-python",
   "name": "python",
   "nbconvert_exporter": "python",
   "pygments_lexer": "ipython3",
   "version": "3.6.13"
  }
 },
 "nbformat": 4,
 "nbformat_minor": 4
}
