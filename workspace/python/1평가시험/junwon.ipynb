{
 "cells": [
  {
   "cell_type": "markdown",
   "id": "1b9c0d58-2a18-44e4-8750-a7e4c47fb893",
   "metadata": {},
   "source": [
    "# 문제"
   ]
  },
  {
   "cell_type": "code",
   "execution_count": 1,
   "id": "37c1d04b-345a-45cb-a29e-ab88cbd82112",
   "metadata": {},
   "outputs": [
    {
     "data": {
      "text/plain": [
       "'\\n1. 기상청 날씨누리 ( http://www.weather.go.kr/weather/observation/currentweather.jsp )에서 현재 기온과 습도를 수집하시오\\n2. 수집한 데이터를 csv 파일로 저장하시오\\n3. 2에서 저장한 csv 파일을 읽어서 읽은 데이터를 데이터프레임에 저장하시오.\\n4.  서울, 부산, 대구, 대전, 광주, 부산의 현재기온과 습도를 막대그래프로 시각화 하시오.\\n'"
      ]
     },
     "execution_count": 1,
     "metadata": {},
     "output_type": "execute_result"
    }
   ],
   "source": [
    "'''\n",
    "1. 기상청 날씨누리 ( http://www.weather.go.kr/weather/observation/currentweather.jsp )에서 현재 기온과 습도를 수집하시오\n",
    "2. 수집한 데이터를 csv 파일로 저장하시오\n",
    "3. 2에서 저장한 csv 파일을 읽어서 읽은 데이터를 데이터프레임에 저장하시오.\n",
    "4.  서울, 부산, 대구, 대전, 광주, 부산의 현재기온과 습도를 막대그래프로 시각화 하시오.\n",
    "'''"
   ]
  },
  {
   "cell_type": "markdown",
   "id": "2953bc21-9315-40dc-a728-ac717ab8e19f",
   "metadata": {},
   "source": [
    "## 1. 기상청 날씨누리 ( http://www.weather.go.kr/weather/observation/currentweather.jsp )에서 현재 기온과 습도를 수집하시오"
   ]
  },
  {
   "cell_type": "code",
   "execution_count": 2,
   "id": "cd2b8a95-f9c0-4b6e-b779-42a8870f281b",
   "metadata": {},
   "outputs": [],
   "source": [
    "import requests\n",
    "from bs4 import BeautifulSoup"
   ]
  },
  {
   "cell_type": "code",
   "execution_count": 3,
   "id": "b7165a80-3a5a-4c7e-8e5b-12551b57d8e0",
   "metadata": {},
   "outputs": [],
   "source": [
    "# 기상청 현재 날씨 url\n",
    "url = \"https://www.weather.go.kr/weather/observation/currentweather.jsp\"\n",
    "\n",
    "# soup 생성\n",
    "response = requests.get(url)\n",
    "soup = BeautifulSoup(response.content, \"html.parser\")"
   ]
  },
  {
   "cell_type": "code",
   "execution_count": 4,
   "id": "4cf07f9e-1758-4d87-80d0-08545c2bc570",
   "metadata": {},
   "outputs": [],
   "source": [
    "table = soup.find('table', {'class': 'table_develop3'})"
   ]
  },
  {
   "cell_type": "code",
   "execution_count": 5,
   "id": "00392891-2995-4fe3-b77a-551fef2346b8",
   "metadata": {},
   "outputs": [],
   "source": [
    "data = []\n",
    "\n",
    "for tr in table.find_all('tr'):\n",
    "    tds = list(tr.find_all('td'))\n",
    "    \n",
    "    for td in tds:\n",
    "        if td.find('a'):\n",
    "            point = td.find('a').text\n",
    "            temperature = tds[5].text\n",
    "            humidity = tds[9].text\n",
    "            data.append([point, temperature, humidity])"
   ]
  },
  {
   "cell_type": "code",
   "execution_count": 6,
   "id": "da37b7bc-2cc5-4046-9f9e-ccdd1a3e6704",
   "metadata": {},
   "outputs": [
    {
     "data": {
      "text/plain": [
       "[['강릉', '31.4', '63'],\n",
       " ['강진군', '29.3', '76'],\n",
       " ['강화', '29.9', '68'],\n",
       " ['거제', '29.4', '74'],\n",
       " ['거창', '28.4', '76'],\n",
       " ['경주시', '33.4', '56'],\n",
       " ['고산', '30.3', '77'],\n",
       " ['고창', '32.2', '61'],\n",
       " ['고창군', '31.8', '63'],\n",
       " ['고흥', '28.9', '69'],\n",
       " ['광양시', '30.2', '70'],\n",
       " ['광주', '30.2', '76'],\n",
       " ['구미', '32.0', '62'],\n",
       " ['군산', '30.2', '65'],\n",
       " ['금산', '29.9', '70'],\n",
       " ['김해시', '32.6', '64'],\n",
       " ['남원', '30.4', '67'],\n",
       " ['남해', '29.9', '72'],\n",
       " ['대관령', '25.7', '79'],\n",
       " ['대구', '32.9', '52'],\n",
       " ['대전', '32.1', '62'],\n",
       " ['동두천', '30.0', '75'],\n",
       " ['동해', '27.3', '92'],\n",
       " ['목포', '30.6', '66'],\n",
       " ['문경', '29.6', '73'],\n",
       " ['밀양', '31.9', '60'],\n",
       " ['백령도', '26.9', '87'],\n",
       " ['보령', '30.2', '63'],\n",
       " ['보성군', '30.1', '73'],\n",
       " ['보은', '30.1', '68'],\n",
       " ['봉화', '28.1', '65'],\n",
       " ['부산', '30.9', '68'],\n",
       " ['부안', '31.0', '66'],\n",
       " ['부여', '30.2', '69'],\n",
       " ['북강릉', '27.2', '84'],\n",
       " ['북창원', '31.9', '65'],\n",
       " ['북춘천', '31.7', '66'],\n",
       " ['산청', '30.0', '74'],\n",
       " ['상주', '29.9', '78'],\n",
       " ['서귀포', '29.0', '79'],\n",
       " ['서산', '31.1', '60'],\n",
       " ['서울', '30.0', '71'],\n",
       " ['성산', '28.6', '90'],\n",
       " ['세종', '30.2', '65'],\n",
       " ['속초', '31.0', '68'],\n",
       " ['수원', '30.5', '72'],\n",
       " ['순창군', '31.6', '66'],\n",
       " ['순천', '29.5', '72'],\n",
       " ['안동', '31.6', '62'],\n",
       " ['양산시', '33.7', '59'],\n",
       " ['양평', '30.7', '66'],\n",
       " ['여수', '29.8', '80'],\n",
       " ['영광군', '32.2', '57'],\n",
       " ['영덕', '30.2', '68'],\n",
       " ['영월', '31.1', '56'],\n",
       " ['영주', '30.1', '69'],\n",
       " ['영천', '32.4', '52'],\n",
       " ['완도', '28.9', '80'],\n",
       " ['울릉도', '29.6', '88'],\n",
       " ['울산', '29.5', '76'],\n",
       " ['울진', '29.5', '78'],\n",
       " ['원주', '31.0', '56'],\n",
       " ['의령군', '32.3', '60'],\n",
       " ['의성', '32.3', '62'],\n",
       " ['이천', '31.1', '68'],\n",
       " ['인제', '31.0', '62'],\n",
       " ['인천', '29.9', '55'],\n",
       " ['임실', '29.7', '66'],\n",
       " ['장수', '29.3', '69'],\n",
       " ['장흥', '29.1', '78'],\n",
       " ['전주', '30.9', '63'],\n",
       " ['정선군', '31.4', '62'],\n",
       " ['정읍', '31.7', '62'],\n",
       " ['제주', '31.8', '67'],\n",
       " ['제천', '29.0', '74'],\n",
       " ['진도군', '30.3', '72'],\n",
       " ['진주', '31.1', '66'],\n",
       " ['창원', '30.7', '66'],\n",
       " ['천안', '30.0', '69'],\n",
       " ['철원', '30.8', '68'],\n",
       " ['청송군', '32.9', '54'],\n",
       " ['청주', '32.5', '59'],\n",
       " ['추풍령', '30.4', '62'],\n",
       " ['춘천', '32.1', '59'],\n",
       " ['충주', '27.3', '78'],\n",
       " ['태백', '28.8', '64'],\n",
       " ['통영', '30.1', '73'],\n",
       " ['파주', '31.6', '63'],\n",
       " ['포항', '33.0', '64'],\n",
       " ['함양군', '30.8', '67'],\n",
       " ['합천', '31.1', '63'],\n",
       " ['해남', '29.6', '77'],\n",
       " ['홍성', '30.6', '67'],\n",
       " ['홍천', '31.1', '63'],\n",
       " ['흑산도', '28.0', '89']]"
      ]
     },
     "execution_count": 6,
     "metadata": {},
     "output_type": "execute_result"
    }
   ],
   "source": [
    "data"
   ]
  },
  {
   "cell_type": "markdown",
   "id": "033e37a8-0459-4fca-8f28-3d307d6070e1",
   "metadata": {},
   "source": [
    "## 2. 수집한 데이터를 csv 파일로 저장하시오"
   ]
  },
  {
   "cell_type": "code",
   "execution_count": 7,
   "id": "723dd638-5e78-4512-936d-1f118830acc8",
   "metadata": {},
   "outputs": [],
   "source": [
    "with open('./current_weather.csv', 'w') as file:\n",
    "    file.write('point, temperature, humidity\\n')\n",
    "    \n",
    "    for i in data:\n",
    "        file.write(f\"{i[0]},{i[1]},{i[2]}\\n\")"
   ]
  },
  {
   "cell_type": "markdown",
   "id": "ba7b6110-1f5e-42d6-bf97-9f69b31f2daa",
   "metadata": {},
   "source": [
    "## 3. 2에서 저장한 csv 파일을 읽어서 읽은 데이터를 데이터프레임에 저장하시오."
   ]
  },
  {
   "cell_type": "code",
   "execution_count": 8,
   "id": "8f6bbaba-35bb-47ab-9006-8bb94dccfbe2",
   "metadata": {},
   "outputs": [],
   "source": [
    "import pandas as pd"
   ]
  },
  {
   "cell_type": "code",
   "execution_count": 9,
   "id": "91ac56e1-e69b-4325-a103-2394159f037d",
   "metadata": {},
   "outputs": [],
   "source": [
    "weather_df = pd.read_csv('./current_weather.csv', index_col = 'point', encoding = 'euc-kr')"
   ]
  },
  {
   "cell_type": "code",
   "execution_count": 10,
   "id": "7608ea0c-4600-46e1-8f1c-ac045619e9e2",
   "metadata": {},
   "outputs": [
    {
     "data": {
      "text/html": [
       "<div>\n",
       "<style scoped>\n",
       "    .dataframe tbody tr th:only-of-type {\n",
       "        vertical-align: middle;\n",
       "    }\n",
       "\n",
       "    .dataframe tbody tr th {\n",
       "        vertical-align: top;\n",
       "    }\n",
       "\n",
       "    .dataframe thead th {\n",
       "        text-align: right;\n",
       "    }\n",
       "</style>\n",
       "<table border=\"1\" class=\"dataframe\">\n",
       "  <thead>\n",
       "    <tr style=\"text-align: right;\">\n",
       "      <th></th>\n",
       "      <th>temperature</th>\n",
       "      <th>humidity</th>\n",
       "    </tr>\n",
       "    <tr>\n",
       "      <th>point</th>\n",
       "      <th></th>\n",
       "      <th></th>\n",
       "    </tr>\n",
       "  </thead>\n",
       "  <tbody>\n",
       "    <tr>\n",
       "      <th>강릉</th>\n",
       "      <td>31.4</td>\n",
       "      <td>63</td>\n",
       "    </tr>\n",
       "    <tr>\n",
       "      <th>강진군</th>\n",
       "      <td>29.3</td>\n",
       "      <td>76</td>\n",
       "    </tr>\n",
       "    <tr>\n",
       "      <th>강화</th>\n",
       "      <td>29.9</td>\n",
       "      <td>68</td>\n",
       "    </tr>\n",
       "    <tr>\n",
       "      <th>거제</th>\n",
       "      <td>29.4</td>\n",
       "      <td>74</td>\n",
       "    </tr>\n",
       "    <tr>\n",
       "      <th>거창</th>\n",
       "      <td>28.4</td>\n",
       "      <td>76</td>\n",
       "    </tr>\n",
       "  </tbody>\n",
       "</table>\n",
       "</div>"
      ],
      "text/plain": [
       "        temperature   humidity\n",
       "point                         \n",
       "강릉             31.4         63\n",
       "강진군            29.3         76\n",
       "강화             29.9         68\n",
       "거제             29.4         74\n",
       "거창             28.4         76"
      ]
     },
     "execution_count": 10,
     "metadata": {},
     "output_type": "execute_result"
    }
   ],
   "source": [
    "weather_df.head()"
   ]
  },
  {
   "cell_type": "markdown",
   "id": "97e0d01d-64be-46d2-a121-046afc92c669",
   "metadata": {},
   "source": [
    "## 4.  서울, 부산, 대구, 대전, 광주, 부산의 현재기온과 습도를 막대그래프로 시각화 하시오."
   ]
  },
  {
   "cell_type": "code",
   "execution_count": 11,
   "id": "e1eb7948-659c-4f46-b65d-c5592bf89488",
   "metadata": {},
   "outputs": [],
   "source": [
    "import matplotlib as mpl\n",
    "import matplotlib.pyplot as plt"
   ]
  },
  {
   "cell_type": "code",
   "execution_count": 12,
   "id": "bb5ed382-cf15-45a4-9abc-7c339f9bd320",
   "metadata": {},
   "outputs": [],
   "source": [
    "city_weather = weather_df.loc[['서울', '부산', '대구', '광주']]"
   ]
  },
  {
   "cell_type": "code",
   "execution_count": 13,
   "id": "b920b328-ed1d-4aca-a525-a7f9b7863faa",
   "metadata": {},
   "outputs": [
    {
     "data": {
      "text/html": [
       "<div>\n",
       "<style scoped>\n",
       "    .dataframe tbody tr th:only-of-type {\n",
       "        vertical-align: middle;\n",
       "    }\n",
       "\n",
       "    .dataframe tbody tr th {\n",
       "        vertical-align: top;\n",
       "    }\n",
       "\n",
       "    .dataframe thead th {\n",
       "        text-align: right;\n",
       "    }\n",
       "</style>\n",
       "<table border=\"1\" class=\"dataframe\">\n",
       "  <thead>\n",
       "    <tr style=\"text-align: right;\">\n",
       "      <th></th>\n",
       "      <th>temperature</th>\n",
       "      <th>humidity</th>\n",
       "    </tr>\n",
       "    <tr>\n",
       "      <th>point</th>\n",
       "      <th></th>\n",
       "      <th></th>\n",
       "    </tr>\n",
       "  </thead>\n",
       "  <tbody>\n",
       "    <tr>\n",
       "      <th>서울</th>\n",
       "      <td>30.0</td>\n",
       "      <td>71</td>\n",
       "    </tr>\n",
       "    <tr>\n",
       "      <th>부산</th>\n",
       "      <td>30.9</td>\n",
       "      <td>68</td>\n",
       "    </tr>\n",
       "    <tr>\n",
       "      <th>대구</th>\n",
       "      <td>32.9</td>\n",
       "      <td>52</td>\n",
       "    </tr>\n",
       "    <tr>\n",
       "      <th>광주</th>\n",
       "      <td>30.2</td>\n",
       "      <td>76</td>\n",
       "    </tr>\n",
       "  </tbody>\n",
       "</table>\n",
       "</div>"
      ],
      "text/plain": [
       "        temperature   humidity\n",
       "point                         \n",
       "서울             30.0         71\n",
       "부산             30.9         68\n",
       "대구             32.9         52\n",
       "광주             30.2         76"
      ]
     },
     "execution_count": 13,
     "metadata": {},
     "output_type": "execute_result"
    }
   ],
   "source": [
    "city_weather"
   ]
  },
  {
   "cell_type": "markdown",
   "id": "63077be0-6786-4f6d-8da3-ab8bea17426a",
   "metadata": {},
   "source": [
    "### 한글 폰트 설정"
   ]
  },
  {
   "cell_type": "code",
   "execution_count": 14,
   "id": "075bc3cd-9424-404e-a068-39d7b09e885f",
   "metadata": {},
   "outputs": [],
   "source": [
    "font_name = mpl.font_manager.FontProperties(fname = 'C:/Windows/Fonts/malgun.ttf').get_name()\n",
    "mpl.rc('font', family = font_name)"
   ]
  },
  {
   "cell_type": "markdown",
   "id": "892e1cb8-c688-4805-8efe-f7f8726b0210",
   "metadata": {},
   "source": [
    "### 그래프 그리기"
   ]
  },
  {
   "cell_type": "code",
   "execution_count": 15,
   "id": "0e36aacb-4a2a-4c2b-ab6e-626f8d53f3b3",
   "metadata": {},
   "outputs": [
    {
     "data": {
      "text/plain": [
       "<matplotlib.legend.Legend at 0x2dafb0b6f98>"
      ]
     },
     "execution_count": 15,
     "metadata": {},
     "output_type": "execute_result"
    },
    {
     "data": {
      "image/png": "[encoded data removed]",
      "text/plain": [
       "<Figure size 864x288 with 1 Axes>"
      ]
     },
     "metadata": {
      "needs_background": "light"
     },
     "output_type": "display_data"
    }
   ],
   "source": [
    "ax = city_weather.plot(kind = 'bar',\n",
    "                      title = '광역시 현재 날씨',\n",
    "                      figsize = (12,4),\n",
    "                      legend = True,\n",
    "                      fontsize = 12)\n",
    "ax.set_xlabel('도시', fontsize = 12)\n",
    "ax.set_ylabel('기온/습도', fontsize = 12)\n",
    "ax.legend(['기온', '습도'], fontsize = 12)"
   ]
  }
 ],
 "metadata": {
  "kernelspec": {
   "display_name": "Python 3",
   "language": "python",
   "name": "python3"
  },
  "language_info": {
   "codemirror_mode": {
    "name": "ipython",
    "version": 3
   },
   "file_extension": ".py",
   "mimetype": "text/x-python",
   "name": "python",
   "nbconvert_exporter": "python",
   "pygments_lexer": "ipython3",
   "version": "3.6.13"
  }
 },
 "nbformat": 4,
 "nbformat_minor": 5
}
