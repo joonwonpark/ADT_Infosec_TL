{
 "cells": [
  {
   "cell_type": "code",
   "execution_count": 1,
   "id": "52ce5773-28ba-478c-9282-b55dbb025bb6",
   "metadata": {},
   "outputs": [],
   "source": [
    "import pandas as pd"
   ]
  },
  {
   "cell_type": "code",
   "execution_count": 2,
   "id": "64e94af8-d25a-4b35-9962-080e778d98b1",
   "metadata": {},
   "outputs": [],
   "source": [
    "tennis_data = pd.read_csv('./data/playtennis.csv')"
   ]
  },
  {
   "cell_type": "code",
   "execution_count": 3,
   "id": "b3c55da0-255f-40b0-8307-47d9d6cb247e",
   "metadata": {},
   "outputs": [
    {
     "data": {
      "text/html": [
       "<div>\n",
       "<style scoped>\n",
       "    .dataframe tbody tr th:only-of-type {\n",
       "        vertical-align: middle;\n",
       "    }\n",
       "\n",
       "    .dataframe tbody tr th {\n",
       "        vertical-align: top;\n",
       "    }\n",
       "\n",
       "    .dataframe thead th {\n",
       "        text-align: right;\n",
       "    }\n",
       "</style>\n",
       "<table border=\"1\" class=\"dataframe\">\n",
       "  <thead>\n",
       "    <tr style=\"text-align: right;\">\n",
       "      <th></th>\n",
       "      <th>Outlook</th>\n",
       "      <th>Temperature</th>\n",
       "      <th>Humidity</th>\n",
       "      <th>Wind</th>\n",
       "      <th>PlayTennis</th>\n",
       "    </tr>\n",
       "  </thead>\n",
       "  <tbody>\n",
       "    <tr>\n",
       "      <th>0</th>\n",
       "      <td>Sunny</td>\n",
       "      <td>Hot</td>\n",
       "      <td>High</td>\n",
       "      <td>Weak</td>\n",
       "      <td>No</td>\n",
       "    </tr>\n",
       "    <tr>\n",
       "      <th>1</th>\n",
       "      <td>Sunny</td>\n",
       "      <td>Hot</td>\n",
       "      <td>High</td>\n",
       "      <td>Strong</td>\n",
       "      <td>No</td>\n",
       "    </tr>\n",
       "    <tr>\n",
       "      <th>2</th>\n",
       "      <td>Overcast</td>\n",
       "      <td>Hot</td>\n",
       "      <td>High</td>\n",
       "      <td>Weak</td>\n",
       "      <td>Yes</td>\n",
       "    </tr>\n",
       "    <tr>\n",
       "      <th>3</th>\n",
       "      <td>Rain</td>\n",
       "      <td>Mild</td>\n",
       "      <td>High</td>\n",
       "      <td>Weak</td>\n",
       "      <td>Yes</td>\n",
       "    </tr>\n",
       "    <tr>\n",
       "      <th>4</th>\n",
       "      <td>Rain</td>\n",
       "      <td>Cool</td>\n",
       "      <td>Normal</td>\n",
       "      <td>Weak</td>\n",
       "      <td>Yes</td>\n",
       "    </tr>\n",
       "  </tbody>\n",
       "</table>\n",
       "</div>"
      ],
      "text/plain": [
       "    Outlook Temperature Humidity    Wind PlayTennis\n",
       "0     Sunny         Hot     High    Weak         No\n",
       "1     Sunny         Hot     High  Strong         No\n",
       "2  Overcast         Hot     High    Weak        Yes\n",
       "3      Rain        Mild     High    Weak        Yes\n",
       "4      Rain        Cool   Normal    Weak        Yes"
      ]
     },
     "execution_count": 3,
     "metadata": {},
     "output_type": "execute_result"
    }
   ],
   "source": [
    "tennis_data.head()"
   ]
  },
  {
   "cell_type": "code",
   "execution_count": 4,
   "id": "375baafc-abc2-4ba6-ae39-d33ce112d6a9",
   "metadata": {},
   "outputs": [],
   "source": [
    "outlook_map = {'Sunny' : 0, 'Overcast' : 1, 'Rain' : 2}"
   ]
  },
  {
   "cell_type": "code",
   "execution_count": 5,
   "id": "98260904-4150-4d4d-83b5-82ea6c02c74e",
   "metadata": {},
   "outputs": [],
   "source": [
    "tennis_data.Outlook = tennis_data.Outlook.replace(outlook_map)"
   ]
  },
  {
   "cell_type": "code",
   "execution_count": 6,
   "id": "fc322380-9f71-4afe-936e-2a9cd15a78a9",
   "metadata": {},
   "outputs": [
    {
     "data": {
      "text/html": [
       "<div>\n",
       "<style scoped>\n",
       "    .dataframe tbody tr th:only-of-type {\n",
       "        vertical-align: middle;\n",
       "    }\n",
       "\n",
       "    .dataframe tbody tr th {\n",
       "        vertical-align: top;\n",
       "    }\n",
       "\n",
       "    .dataframe thead th {\n",
       "        text-align: right;\n",
       "    }\n",
       "</style>\n",
       "<table border=\"1\" class=\"dataframe\">\n",
       "  <thead>\n",
       "    <tr style=\"text-align: right;\">\n",
       "      <th></th>\n",
       "      <th>Outlook</th>\n",
       "      <th>Temperature</th>\n",
       "      <th>Humidity</th>\n",
       "      <th>Wind</th>\n",
       "      <th>PlayTennis</th>\n",
       "    </tr>\n",
       "  </thead>\n",
       "  <tbody>\n",
       "    <tr>\n",
       "      <th>0</th>\n",
       "      <td>0</td>\n",
       "      <td>Hot</td>\n",
       "      <td>High</td>\n",
       "      <td>Weak</td>\n",
       "      <td>No</td>\n",
       "    </tr>\n",
       "    <tr>\n",
       "      <th>1</th>\n",
       "      <td>0</td>\n",
       "      <td>Hot</td>\n",
       "      <td>High</td>\n",
       "      <td>Strong</td>\n",
       "      <td>No</td>\n",
       "    </tr>\n",
       "    <tr>\n",
       "      <th>2</th>\n",
       "      <td>1</td>\n",
       "      <td>Hot</td>\n",
       "      <td>High</td>\n",
       "      <td>Weak</td>\n",
       "      <td>Yes</td>\n",
       "    </tr>\n",
       "    <tr>\n",
       "      <th>3</th>\n",
       "      <td>2</td>\n",
       "      <td>Mild</td>\n",
       "      <td>High</td>\n",
       "      <td>Weak</td>\n",
       "      <td>Yes</td>\n",
       "    </tr>\n",
       "    <tr>\n",
       "      <th>4</th>\n",
       "      <td>2</td>\n",
       "      <td>Cool</td>\n",
       "      <td>Normal</td>\n",
       "      <td>Weak</td>\n",
       "      <td>Yes</td>\n",
       "    </tr>\n",
       "  </tbody>\n",
       "</table>\n",
       "</div>"
      ],
      "text/plain": [
       "   Outlook Temperature Humidity    Wind PlayTennis\n",
       "0        0         Hot     High    Weak         No\n",
       "1        0         Hot     High  Strong         No\n",
       "2        1         Hot     High    Weak        Yes\n",
       "3        2        Mild     High    Weak        Yes\n",
       "4        2        Cool   Normal    Weak        Yes"
      ]
     },
     "execution_count": 6,
     "metadata": {},
     "output_type": "execute_result"
    }
   ],
   "source": [
    "tennis_data.head()"
   ]
  },
  {
   "cell_type": "code",
   "execution_count": 7,
   "id": "9a0bcc6f-adfd-4491-bb13-2e00e0900980",
   "metadata": {},
   "outputs": [],
   "source": [
    "temperature_map = {'Hot' : 1, 'Mild' : 2, 'Cool' : 3}"
   ]
  },
  {
   "cell_type": "code",
   "execution_count": 8,
   "id": "7e91ab1f-37c2-472a-93a1-9d52c2cd32df",
   "metadata": {},
   "outputs": [],
   "source": [
    "humidity_map = {'High' : 0, 'Normal' : 2}"
   ]
  },
  {
   "cell_type": "code",
   "execution_count": 9,
   "id": "054f1a9e-90c3-402f-88d7-3fee94b9046d",
   "metadata": {},
   "outputs": [],
   "source": [
    "wind_map = {'Weak' : 1, 'Strong' : 2}"
   ]
  },
  {
   "cell_type": "code",
   "execution_count": 10,
   "id": "18da339b-2381-445a-953f-80cc4861cd4e",
   "metadata": {},
   "outputs": [],
   "source": [
    "play_tennis_map = {'No' : 1, 'Yes' : 2}"
   ]
  },
  {
   "cell_type": "code",
   "execution_count": 11,
   "id": "6a458856-c2c3-419e-ac0c-a1c9a96c50d0",
   "metadata": {},
   "outputs": [],
   "source": [
    "tennis_data.Temperature = tennis_data.Temperature.replace(temperature_map)\n",
    "tennis_data.Humidity = tennis_data.Humidity.replace(humidity_map)\n",
    "tennis_data.Wind = tennis_data.Wind.replace(wind_map)\n",
    "tennis_data.PlayTennis = tennis_data.PlayTennis.replace(play_tennis_map)"
   ]
  },
  {
   "cell_type": "code",
   "execution_count": 12,
   "id": "fd3031cb-82d0-416b-958e-30d98956eff8",
   "metadata": {},
   "outputs": [
    {
     "data": {
      "text/html": [
       "<div>\n",
       "<style scoped>\n",
       "    .dataframe tbody tr th:only-of-type {\n",
       "        vertical-align: middle;\n",
       "    }\n",
       "\n",
       "    .dataframe tbody tr th {\n",
       "        vertical-align: top;\n",
       "    }\n",
       "\n",
       "    .dataframe thead th {\n",
       "        text-align: right;\n",
       "    }\n",
       "</style>\n",
       "<table border=\"1\" class=\"dataframe\">\n",
       "  <thead>\n",
       "    <tr style=\"text-align: right;\">\n",
       "      <th></th>\n",
       "      <th>Outlook</th>\n",
       "      <th>Temperature</th>\n",
       "      <th>Humidity</th>\n",
       "      <th>Wind</th>\n",
       "      <th>PlayTennis</th>\n",
       "    </tr>\n",
       "  </thead>\n",
       "  <tbody>\n",
       "    <tr>\n",
       "      <th>0</th>\n",
       "      <td>0</td>\n",
       "      <td>1</td>\n",
       "      <td>0</td>\n",
       "      <td>1</td>\n",
       "      <td>1</td>\n",
       "    </tr>\n",
       "    <tr>\n",
       "      <th>1</th>\n",
       "      <td>0</td>\n",
       "      <td>1</td>\n",
       "      <td>0</td>\n",
       "      <td>2</td>\n",
       "      <td>1</td>\n",
       "    </tr>\n",
       "    <tr>\n",
       "      <th>2</th>\n",
       "      <td>1</td>\n",
       "      <td>1</td>\n",
       "      <td>0</td>\n",
       "      <td>1</td>\n",
       "      <td>2</td>\n",
       "    </tr>\n",
       "    <tr>\n",
       "      <th>3</th>\n",
       "      <td>2</td>\n",
       "      <td>2</td>\n",
       "      <td>0</td>\n",
       "      <td>1</td>\n",
       "      <td>2</td>\n",
       "    </tr>\n",
       "    <tr>\n",
       "      <th>4</th>\n",
       "      <td>2</td>\n",
       "      <td>3</td>\n",
       "      <td>2</td>\n",
       "      <td>1</td>\n",
       "      <td>2</td>\n",
       "    </tr>\n",
       "  </tbody>\n",
       "</table>\n",
       "</div>"
      ],
      "text/plain": [
       "   Outlook  Temperature  Humidity  Wind  PlayTennis\n",
       "0        0            1         0     1           1\n",
       "1        0            1         0     2           1\n",
       "2        1            1         0     1           2\n",
       "3        2            2         0     1           2\n",
       "4        2            3         2     1           2"
      ]
     },
     "execution_count": 12,
     "metadata": {},
     "output_type": "execute_result"
    }
   ],
   "source": [
    "tennis_data.head()"
   ]
  },
  {
   "cell_type": "code",
   "execution_count": 13,
   "id": "21e364f8-c27f-4c62-b2c1-a446a49e5ea9",
   "metadata": {},
   "outputs": [],
   "source": [
    "from sklearn.tree import DecisionTreeClassifier"
   ]
  },
  {
   "cell_type": "code",
   "execution_count": 14,
   "id": "144e75b2-05f6-4314-877f-2bee933325ac",
   "metadata": {},
   "outputs": [],
   "source": [
    "dt_clf = DecisionTreeClassifier()"
   ]
  },
  {
   "cell_type": "code",
   "execution_count": 15,
   "id": "7ea004d6-1306-4c4d-b26d-a6056d81076f",
   "metadata": {},
   "outputs": [],
   "source": [
    "X = tennis_data.loc[:, 'Outlook' : 'Wind']"
   ]
  },
  {
   "cell_type": "code",
   "execution_count": 16,
   "id": "d499179f-96e6-4817-baad-7532c956b60e",
   "metadata": {},
   "outputs": [],
   "source": [
    "y = tennis_data['PlayTennis']"
   ]
  },
  {
   "cell_type": "code",
   "execution_count": 17,
   "id": "9c084988-f72f-4e8b-8a37-164589759cb3",
   "metadata": {},
   "outputs": [],
   "source": [
    "from sklearn.model_selection import train_test_split"
   ]
  },
  {
   "cell_type": "code",
   "execution_count": 18,
   "id": "58a2de23-617b-44da-a71f-6073ee1c870e",
   "metadata": {},
   "outputs": [],
   "source": [
    "X_train, X_test, y_train, y_test = train_test_split(X, y, random_state = 0)"
   ]
  },
  {
   "cell_type": "code",
   "execution_count": 19,
   "id": "f27ac93d-0704-4dd2-b342-ec6cbb27645d",
   "metadata": {},
   "outputs": [
    {
     "data": {
      "text/plain": [
       "DecisionTreeClassifier()"
      ]
     },
     "execution_count": 19,
     "metadata": {},
     "output_type": "execute_result"
    }
   ],
   "source": [
    "dt_clf.fit(X_train, y_train)"
   ]
  },
  {
   "cell_type": "code",
   "execution_count": 20,
   "id": "b1116b16-d42e-4935-90cb-ec4e44668622",
   "metadata": {},
   "outputs": [],
   "source": [
    "dt_prediction = dt_clf.predict(X_test)"
   ]
  },
  {
   "cell_type": "code",
   "execution_count": 21,
   "id": "976fdd11-2fef-4947-996a-876519da8ab0",
   "metadata": {},
   "outputs": [
    {
     "data": {
      "text/plain": [
       "1.0"
      ]
     },
     "execution_count": 21,
     "metadata": {},
     "output_type": "execute_result"
    }
   ],
   "source": [
    "dt_clf.score(X_train, y_train)"
   ]
  },
  {
   "cell_type": "code",
   "execution_count": 22,
   "id": "36947cca-11b1-4f62-b087-22e503ff92d3",
   "metadata": {},
   "outputs": [],
   "source": [
    "from sklearn.metrics import accuracy_score"
   ]
  },
  {
   "cell_type": "code",
   "execution_count": 23,
   "id": "8902eb8c-af82-482a-8f0c-ba29f37b6699",
   "metadata": {},
   "outputs": [],
   "source": [
    "accuracy = accuracy_score(y_test, dt_prediction)"
   ]
  },
  {
   "cell_type": "code",
   "execution_count": 24,
   "id": "96ea3f91-6246-4813-ab81-4e0a535890b1",
   "metadata": {},
   "outputs": [
    {
     "data": {
      "text/plain": [
       "0.75"
      ]
     },
     "execution_count": 24,
     "metadata": {},
     "output_type": "execute_result"
    }
   ],
   "source": [
    "accuracy"
   ]
  },
  {
   "cell_type": "code",
   "execution_count": 25,
   "id": "a4299738-957d-4a33-9db4-aa1cfe0d3642",
   "metadata": {},
   "outputs": [],
   "source": [
    "from sklearn import tree"
   ]
  },
  {
   "cell_type": "code",
   "execution_count": 26,
   "id": "90969753-16bc-4c98-81be-21d43e3ed590",
   "metadata": {},
   "outputs": [],
   "source": [
    "dt_dot_data = tree.export_graphviz(dt_clf,\n",
    "                                   out_file = None,\n",
    "                                   feature_names = ['Outlook', 'Temperature', 'Humidity', 'Wind'],\n",
    "                                   class_names = ['No', 'Yes'],\n",
    "                                   filled = True,\n",
    "                                   rounded = True,\n",
    "                                   special_characters= True)"
   ]
  },
  {
   "cell_type": "code",
   "execution_count": 27,
   "id": "06659ea7-6fa1-43d1-999a-9a472739c05d",
   "metadata": {},
   "outputs": [],
   "source": [
    "import pydotplus"
   ]
  },
  {
   "cell_type": "code",
   "execution_count": 28,
   "id": "06a08643-654a-48fd-bb24-1956e16e35c7",
   "metadata": {},
   "outputs": [],
   "source": [
    "dt_graph = pydotplus.graph_from_dot_data(dt_dot_data)"
   ]
  },
  {
   "cell_type": "code",
   "execution_count": 29,
   "id": "a81a2de5-6397-4257-9a89-f7addb290140",
   "metadata": {},
   "outputs": [
    {
     "data": {
      "text/plain": [
       "<pydotplus.graphviz.Dot at 0x1b9b93b1278>"
      ]
     },
     "execution_count": 29,
     "metadata": {},
     "output_type": "execute_result"
    }
   ],
   "source": [
    "dt_graph"
   ]
  },
  {
   "cell_type": "code",
   "execution_count": 30,
   "id": "a7e48a4d-afd8-4a92-ac29-b0db754beb86",
   "metadata": {},
   "outputs": [],
   "source": [
    "from IPython.display import Image"
   ]
  },
  {
   "cell_type": "code",
   "execution_count": 31,
   "id": "b446d665-284c-4df7-bf38-9d061c6d74f1",
   "metadata": {},
   "outputs": [],
   "source": [
    "# !dot -c"
   ]
  },
  {
   "cell_type": "code",
   "execution_count": 32,
   "id": "9ea476f1-0d11-4c4d-b69b-3bff1304633b",
   "metadata": {},
   "outputs": [
    {
     "data": {
      "image/png": "[encoded data removed]",
      "text/plain": [
       "<IPython.core.display.Image object>"
      ]
     },
     "execution_count": 32,
     "metadata": {},
     "output_type": "execute_result"
    }
   ],
   "source": [
    "Image(dt_graph.create_png())"
   ]
  },
  {
   "cell_type": "code",
   "execution_count": null,
   "id": "37c65d92-552e-4daf-b5bd-d2a96f926112",
   "metadata": {},
   "outputs": [],
   "source": []
  }
 ],
 "metadata": {
  "kernelspec": {
   "display_name": "Python 3",
   "language": "python",
   "name": "python3"
  },
  "language_info": {
   "codemirror_mode": {
    "name": "ipython",
    "version": 3
   },
   "file_extension": ".py",
   "mimetype": "text/x-python",
   "name": "python",
   "nbconvert_exporter": "python",
   "pygments_lexer": "ipython3",
   "version": "3.6.13"
  }
 },
 "nbformat": 4,
 "nbformat_minor": 5
}
