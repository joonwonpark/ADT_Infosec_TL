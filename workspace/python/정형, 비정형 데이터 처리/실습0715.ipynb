{
 "cells": [
  {
   "cell_type": "code",
   "execution_count": 2,
   "metadata": {
    "executionInfo": {
     "elapsed": 690,
     "status": "ok",
     "timestamp": 1626333065292,
     "user": {
      "displayName": "박준원",
      "photoUrl": "",
      "userId": "01666978145944503968"
     },
     "user_tz": -540
    },
    "id": "yldQ9XBT_t40"
   },
   "outputs": [],
   "source": [
    "import pandas as pd\n",
    "\n",
    "data_dir = '/content/drive/MyDrive/infosec_ai/정형, 비정형 데이터 처리/data/주택도시보증공사_전국 평균 분양가격(2019년 12월).csv'\n",
    "df_last = pd.read_csv(data_dir, encoding = 'euc-kr', engine = 'python')"
   ]
  },
  {
   "cell_type": "code",
   "execution_count": 4,
   "metadata": {
    "colab": {
     "base_uri": "https://localhost:8080/",
     "height": 204
    },
    "executionInfo": {
     "elapsed": 269,
     "status": "ok",
     "timestamp": 1626333088314,
     "user": {
      "displayName": "박준원",
      "photoUrl": "",
      "userId": "01666978145944503968"
     },
     "user_tz": -540
    },
    "id": "AUNKg6JuARYt",
    "outputId": "6fe71a42-d3d5-459a-f61a-cb1ce2c238f4"
   },
   "outputs": [
    {
     "data": {
      "text/html": [
       "<div>\n",
       "<style scoped>\n",
       "    .dataframe tbody tr th:only-of-type {\n",
       "        vertical-align: middle;\n",
       "    }\n",
       "\n",
       "    .dataframe tbody tr th {\n",
       "        vertical-align: top;\n",
       "    }\n",
       "\n",
       "    .dataframe thead th {\n",
       "        text-align: right;\n",
       "    }\n",
       "</style>\n",
       "<table border=\"1\" class=\"dataframe\">\n",
       "  <thead>\n",
       "    <tr style=\"text-align: right;\">\n",
       "      <th></th>\n",
       "      <th>지역명</th>\n",
       "      <th>규모구분</th>\n",
       "      <th>연도</th>\n",
       "      <th>월</th>\n",
       "      <th>분양가격(㎡)</th>\n",
       "    </tr>\n",
       "  </thead>\n",
       "  <tbody>\n",
       "    <tr>\n",
       "      <th>0</th>\n",
       "      <td>서울</td>\n",
       "      <td>전체</td>\n",
       "      <td>2015</td>\n",
       "      <td>10</td>\n",
       "      <td>5841</td>\n",
       "    </tr>\n",
       "    <tr>\n",
       "      <th>1</th>\n",
       "      <td>서울</td>\n",
       "      <td>전용면적 60㎡이하</td>\n",
       "      <td>2015</td>\n",
       "      <td>10</td>\n",
       "      <td>5652</td>\n",
       "    </tr>\n",
       "    <tr>\n",
       "      <th>2</th>\n",
       "      <td>서울</td>\n",
       "      <td>전용면적 60㎡초과 85㎡이하</td>\n",
       "      <td>2015</td>\n",
       "      <td>10</td>\n",
       "      <td>5882</td>\n",
       "    </tr>\n",
       "    <tr>\n",
       "      <th>3</th>\n",
       "      <td>서울</td>\n",
       "      <td>전용면적 85㎡초과 102㎡이하</td>\n",
       "      <td>2015</td>\n",
       "      <td>10</td>\n",
       "      <td>5721</td>\n",
       "    </tr>\n",
       "    <tr>\n",
       "      <th>4</th>\n",
       "      <td>서울</td>\n",
       "      <td>전용면적 102㎡초과</td>\n",
       "      <td>2015</td>\n",
       "      <td>10</td>\n",
       "      <td>5879</td>\n",
       "    </tr>\n",
       "  </tbody>\n",
       "</table>\n",
       "</div>"
      ],
      "text/plain": [
       "  지역명               규모구분    연도   월 분양가격(㎡)\n",
       "0  서울                 전체  2015  10    5841\n",
       "1  서울         전용면적 60㎡이하  2015  10    5652\n",
       "2  서울   전용면적 60㎡초과 85㎡이하  2015  10    5882\n",
       "3  서울  전용면적 85㎡초과 102㎡이하  2015  10    5721\n",
       "4  서울        전용면적 102㎡초과  2015  10    5879"
      ]
     },
     "execution_count": 4,
     "metadata": {
      "tags": []
     },
     "output_type": "execute_result"
    }
   ],
   "source": [
    "df_last.head()"
   ]
  },
  {
   "cell_type": "code",
   "execution_count": 6,
   "metadata": {
    "colab": {
     "base_uri": "https://localhost:8080/"
    },
    "executionInfo": {
     "elapsed": 286,
     "status": "ok",
     "timestamp": 1626333101093,
     "user": {
      "displayName": "박준원",
      "photoUrl": "",
      "userId": "01666978145944503968"
     },
     "user_tz": -540
    },
    "id": "pzIfrsPBAXP7",
    "outputId": "100c722f-d8ad-41c5-d1d7-83572ffd51b2"
   },
   "outputs": [
    {
     "data": {
      "text/plain": [
       "(4335, 5)"
      ]
     },
     "execution_count": 6,
     "metadata": {
      "tags": []
     },
     "output_type": "execute_result"
    }
   ],
   "source": [
    "df_last.shape"
   ]
  },
  {
   "cell_type": "code",
   "execution_count": 7,
   "metadata": {
    "colab": {
     "base_uri": "https://localhost:8080/"
    },
    "executionInfo": {
     "elapsed": 254,
     "status": "ok",
     "timestamp": 1626333113045,
     "user": {
      "displayName": "박준원",
      "photoUrl": "",
      "userId": "01666978145944503968"
     },
     "user_tz": -540
    },
    "id": "tmo2hPI6AaKy",
    "outputId": "0537b2b8-4aa8-421f-e498-83fae59b58be"
   },
   "outputs": [
    {
     "name": "stdout",
     "output_type": "stream",
     "text": [
      "<class 'pandas.core.frame.DataFrame'>\n",
      "RangeIndex: 4335 entries, 0 to 4334\n",
      "Data columns (total 5 columns):\n",
      " #   Column   Non-Null Count  Dtype \n",
      "---  ------   --------------  ----- \n",
      " 0   지역명      4335 non-null   object\n",
      " 1   규모구분     4335 non-null   object\n",
      " 2   연도       4335 non-null   int64 \n",
      " 3   월        4335 non-null   int64 \n",
      " 4   분양가격(㎡)  4058 non-null   object\n",
      "dtypes: int64(2), object(3)\n",
      "memory usage: 169.5+ KB\n"
     ]
    }
   ],
   "source": [
    "df_last.info()"
   ]
  },
  {
   "cell_type": "code",
   "execution_count": 8,
   "metadata": {
    "colab": {
     "base_uri": "https://localhost:8080/"
    },
    "executionInfo": {
     "elapsed": 264,
     "status": "ok",
     "timestamp": 1626333133070,
     "user": {
      "displayName": "박준원",
      "photoUrl": "",
      "userId": "01666978145944503968"
     },
     "user_tz": -540
    },
    "id": "RnILdcudAegQ",
    "outputId": "3d2384b7-794d-4150-9968-97bf18f9e768"
   },
   "outputs": [
    {
     "data": {
      "text/plain": [
       "지역명          0\n",
       "규모구분         0\n",
       "연도           0\n",
       "월            0\n",
       "분양가격(㎡)    277\n",
       "dtype: int64"
      ]
     },
     "execution_count": 8,
     "metadata": {
      "tags": []
     },
     "output_type": "execute_result"
    }
   ],
   "source": [
    "df_last.isna().sum() # 분양가격(㎡) 277개 결측치"
   ]
  },
  {
   "cell_type": "code",
   "execution_count": 9,
   "metadata": {
    "executionInfo": {
     "elapsed": 266,
     "status": "ok",
     "timestamp": 1626333209410,
     "user": {
      "displayName": "박준원",
      "photoUrl": "",
      "userId": "01666978145944503968"
     },
     "user_tz": -540
    },
    "id": "1Y4yF6viAjaH"
   },
   "outputs": [],
   "source": [
    "df_last['분양가격'] = pd.to_numeric(df_last['분양가격(㎡)'], errors = 'coerce')"
   ]
  },
  {
   "cell_type": "code",
   "execution_count": 10,
   "metadata": {
    "colab": {
     "base_uri": "https://localhost:8080/"
    },
    "executionInfo": {
     "elapsed": 267,
     "status": "ok",
     "timestamp": 1626333220360,
     "user": {
      "displayName": "박준원",
      "photoUrl": "",
      "userId": "01666978145944503968"
     },
     "user_tz": -540
    },
    "id": "yC-8GipsA2Cl",
    "outputId": "97b2a94b-aff5-422e-a350-4ad1a310dc95"
   },
   "outputs": [
    {
     "data": {
      "text/plain": [
       "0       5841.0\n",
       "1       5652.0\n",
       "2       5882.0\n",
       "3       5721.0\n",
       "4       5879.0\n",
       "         ...  \n",
       "4330    3882.0\n",
       "4331       NaN\n",
       "4332    3898.0\n",
       "4333       NaN\n",
       "4334    3601.0\n",
       "Name: 분양가격, Length: 4335, dtype: float64"
      ]
     },
     "execution_count": 10,
     "metadata": {
      "tags": []
     },
     "output_type": "execute_result"
    }
   ],
   "source": [
    "df_last['분양가격']"
   ]
  },
  {
   "cell_type": "code",
   "execution_count": 11,
   "metadata": {
    "colab": {
     "base_uri": "https://localhost:8080/"
    },
    "executionInfo": {
     "elapsed": 250,
     "status": "ok",
     "timestamp": 1626333234103,
     "user": {
      "displayName": "박준원",
      "photoUrl": "",
      "userId": "01666978145944503968"
     },
     "user_tz": -540
    },
    "id": "DyK2BH_6A4t0",
    "outputId": "7d6d69ec-2d7d-4a3b-b46e-a8ed1eb47e6c"
   },
   "outputs": [
    {
     "name": "stdout",
     "output_type": "stream",
     "text": [
      "<class 'pandas.core.frame.DataFrame'>\n",
      "RangeIndex: 4335 entries, 0 to 4334\n",
      "Data columns (total 6 columns):\n",
      " #   Column   Non-Null Count  Dtype  \n",
      "---  ------   --------------  -----  \n",
      " 0   지역명      4335 non-null   object \n",
      " 1   규모구분     4335 non-null   object \n",
      " 2   연도       4335 non-null   int64  \n",
      " 3   월        4335 non-null   int64  \n",
      " 4   분양가격(㎡)  4058 non-null   object \n",
      " 5   분양가격     3957 non-null   float64\n",
      "dtypes: float64(1), int64(2), object(3)\n",
      "memory usage: 203.3+ KB\n"
     ]
    }
   ],
   "source": [
    "df_last.info()"
   ]
  },
  {
   "cell_type": "code",
   "execution_count": 12,
   "metadata": {
    "executionInfo": {
     "elapsed": 275,
     "status": "ok",
     "timestamp": 1626333264698,
     "user": {
      "displayName": "박준원",
      "photoUrl": "",
      "userId": "01666978145944503968"
     },
     "user_tz": -540
    },
    "id": "RCZ-9Tk6A8Ev"
   },
   "outputs": [],
   "source": [
    "df_last['평당분양가격'] = df_last['분양가격'] * 3.3"
   ]
  },
  {
   "cell_type": "code",
   "execution_count": 13,
   "metadata": {
    "colab": {
     "base_uri": "https://localhost:8080/"
    },
    "executionInfo": {
     "elapsed": 283,
     "status": "ok",
     "timestamp": 1626333295108,
     "user": {
      "displayName": "박준원",
      "photoUrl": "",
      "userId": "01666978145944503968"
     },
     "user_tz": -540
    },
    "id": "eM3tYQ2YBDii",
    "outputId": "7e2f2e6e-ba7a-4e03-b53b-29ed863e54b1"
   },
   "outputs": [
    {
     "data": {
      "text/plain": [
       "count     3957.000000\n",
       "mean     10685.824488\n",
       "std       4172.222780\n",
       "min       6164.400000\n",
       "25%       8055.300000\n",
       "50%       9484.200000\n",
       "75%      11751.300000\n",
       "max      42002.400000\n",
       "Name: 평당분양가격, dtype: float64"
      ]
     },
     "execution_count": 13,
     "metadata": {
      "tags": []
     },
     "output_type": "execute_result"
    }
   ],
   "source": [
    "df_last['평당분양가격'].describe()"
   ]
  },
  {
   "cell_type": "code",
   "execution_count": 14,
   "metadata": {
    "colab": {
     "base_uri": "https://localhost:8080/"
    },
    "executionInfo": {
     "elapsed": 267,
     "status": "ok",
     "timestamp": 1626333314201,
     "user": {
      "displayName": "박준원",
      "photoUrl": "",
      "userId": "01666978145944503968"
     },
     "user_tz": -540
    },
    "id": "CzAwW39eBK9J",
    "outputId": "b815282a-2bce-49d0-f499-6a6cbb842aba"
   },
   "outputs": [
    {
     "data": {
      "text/plain": [
       "array(['전체', '전용면적 60㎡이하', '전용면적 60㎡초과 85㎡이하', '전용면적 85㎡초과 102㎡이하',\n",
       "       '전용면적 102㎡초과'], dtype=object)"
      ]
     },
     "execution_count": 14,
     "metadata": {
      "tags": []
     },
     "output_type": "execute_result"
    }
   ],
   "source": [
    "df_last['규모구분'].unique()"
   ]
  },
  {
   "cell_type": "code",
   "execution_count": 15,
   "metadata": {
    "executionInfo": {
     "elapsed": 282,
     "status": "ok",
     "timestamp": 1626333372817,
     "user": {
      "displayName": "박준원",
      "photoUrl": "",
      "userId": "01666978145944503968"
     },
     "user_tz": -540
    },
    "id": "I05wGHw7BPnj"
   },
   "outputs": [],
   "source": [
    "df_last['전용면적'] = df_last['규모구분'].str.replace('전용면적', '')"
   ]
  },
  {
   "cell_type": "code",
   "execution_count": 16,
   "metadata": {
    "colab": {
     "base_uri": "https://localhost:8080/",
     "height": 254
    },
    "executionInfo": {
     "elapsed": 438,
     "status": "ok",
     "timestamp": 1626333380165,
     "user": {
      "displayName": "박준원",
      "photoUrl": "",
      "userId": "01666978145944503968"
     },
     "user_tz": -540
    },
    "id": "c1CV_YcDBd7e",
    "outputId": "ea3e82a1-7474-48e4-c8c9-3c8512db977c"
   },
   "outputs": [
    {
     "data": {
      "text/html": [
       "<div>\n",
       "<style scoped>\n",
       "    .dataframe tbody tr th:only-of-type {\n",
       "        vertical-align: middle;\n",
       "    }\n",
       "\n",
       "    .dataframe tbody tr th {\n",
       "        vertical-align: top;\n",
       "    }\n",
       "\n",
       "    .dataframe thead th {\n",
       "        text-align: right;\n",
       "    }\n",
       "</style>\n",
       "<table border=\"1\" class=\"dataframe\">\n",
       "  <thead>\n",
       "    <tr style=\"text-align: right;\">\n",
       "      <th></th>\n",
       "      <th>지역명</th>\n",
       "      <th>규모구분</th>\n",
       "      <th>연도</th>\n",
       "      <th>월</th>\n",
       "      <th>분양가격(㎡)</th>\n",
       "      <th>분양가격</th>\n",
       "      <th>평당분양가격</th>\n",
       "      <th>전용면적</th>\n",
       "    </tr>\n",
       "  </thead>\n",
       "  <tbody>\n",
       "    <tr>\n",
       "      <th>0</th>\n",
       "      <td>서울</td>\n",
       "      <td>전체</td>\n",
       "      <td>2015</td>\n",
       "      <td>10</td>\n",
       "      <td>5841</td>\n",
       "      <td>5841.0</td>\n",
       "      <td>19275.3</td>\n",
       "      <td>전체</td>\n",
       "    </tr>\n",
       "    <tr>\n",
       "      <th>1</th>\n",
       "      <td>서울</td>\n",
       "      <td>전용면적 60㎡이하</td>\n",
       "      <td>2015</td>\n",
       "      <td>10</td>\n",
       "      <td>5652</td>\n",
       "      <td>5652.0</td>\n",
       "      <td>18651.6</td>\n",
       "      <td>60㎡이하</td>\n",
       "    </tr>\n",
       "    <tr>\n",
       "      <th>2</th>\n",
       "      <td>서울</td>\n",
       "      <td>전용면적 60㎡초과 85㎡이하</td>\n",
       "      <td>2015</td>\n",
       "      <td>10</td>\n",
       "      <td>5882</td>\n",
       "      <td>5882.0</td>\n",
       "      <td>19410.6</td>\n",
       "      <td>60㎡초과 85㎡이하</td>\n",
       "    </tr>\n",
       "    <tr>\n",
       "      <th>3</th>\n",
       "      <td>서울</td>\n",
       "      <td>전용면적 85㎡초과 102㎡이하</td>\n",
       "      <td>2015</td>\n",
       "      <td>10</td>\n",
       "      <td>5721</td>\n",
       "      <td>5721.0</td>\n",
       "      <td>18879.3</td>\n",
       "      <td>85㎡초과 102㎡이하</td>\n",
       "    </tr>\n",
       "    <tr>\n",
       "      <th>4</th>\n",
       "      <td>서울</td>\n",
       "      <td>전용면적 102㎡초과</td>\n",
       "      <td>2015</td>\n",
       "      <td>10</td>\n",
       "      <td>5879</td>\n",
       "      <td>5879.0</td>\n",
       "      <td>19400.7</td>\n",
       "      <td>102㎡초과</td>\n",
       "    </tr>\n",
       "  </tbody>\n",
       "</table>\n",
       "</div>"
      ],
      "text/plain": [
       "  지역명               규모구분    연도   월 분양가격(㎡)    분양가격   평당분양가격           전용면적\n",
       "0  서울                 전체  2015  10    5841  5841.0  19275.3             전체\n",
       "1  서울         전용면적 60㎡이하  2015  10    5652  5652.0  18651.6          60㎡이하\n",
       "2  서울   전용면적 60㎡초과 85㎡이하  2015  10    5882  5882.0  19410.6    60㎡초과 85㎡이하\n",
       "3  서울  전용면적 85㎡초과 102㎡이하  2015  10    5721  5721.0  18879.3   85㎡초과 102㎡이하\n",
       "4  서울        전용면적 102㎡초과  2015  10    5879  5879.0  19400.7         102㎡초과"
      ]
     },
     "execution_count": 16,
     "metadata": {
      "tags": []
     },
     "output_type": "execute_result"
    }
   ],
   "source": [
    "df_last.head()"
   ]
  },
  {
   "cell_type": "code",
   "execution_count": 18,
   "metadata": {
    "executionInfo": {
     "elapsed": 354,
     "status": "ok",
     "timestamp": 1626333462101,
     "user": {
      "displayName": "박준원",
      "photoUrl": "",
      "userId": "01666978145944503968"
     },
     "user_tz": -540
    },
    "id": "HoGWq8uJBfsQ"
   },
   "outputs": [],
   "source": [
    "df_last['전용면적'] = df_last['전용면적'].str.replace('초과', '~')\n",
    "df_last['전용면적'] = df_last['전용면적'].str.replace('이하', '')\n",
    "df_last['전용면적'] = df_last['전용면적'].str.replace(' ', '')\n",
    "df_last['전용면적'] = df_last['전용면적'].str.strip()"
   ]
  },
  {
   "cell_type": "code",
   "execution_count": 19,
   "metadata": {
    "executionInfo": {
     "elapsed": 268,
     "status": "ok",
     "timestamp": 1626333517798,
     "user": {
      "displayName": "박준원",
      "photoUrl": "",
      "userId": "01666978145944503968"
     },
     "user_tz": -540
    },
    "id": "imNYQPSbBwQj"
   },
   "outputs": [],
   "source": [
    "df_last.drop(['규모구분', '분양가격(㎡)'], axis = 1, inplace = True)"
   ]
  },
  {
   "cell_type": "code",
   "execution_count": 20,
   "metadata": {
    "colab": {
     "base_uri": "https://localhost:8080/",
     "height": 418
    },
    "executionInfo": {
     "elapsed": 301,
     "status": "ok",
     "timestamp": 1626333521217,
     "user": {
      "displayName": "박준원",
      "photoUrl": "",
      "userId": "01666978145944503968"
     },
     "user_tz": -540
    },
    "id": "Okus0yrdCBTl",
    "outputId": "6f89d84e-bfe5-4432-bbe1-903f22945254"
   },
   "outputs": [
    {
     "data": {
      "text/html": [
       "<div>\n",
       "<style scoped>\n",
       "    .dataframe tbody tr th:only-of-type {\n",
       "        vertical-align: middle;\n",
       "    }\n",
       "\n",
       "    .dataframe tbody tr th {\n",
       "        vertical-align: top;\n",
       "    }\n",
       "\n",
       "    .dataframe thead th {\n",
       "        text-align: right;\n",
       "    }\n",
       "</style>\n",
       "<table border=\"1\" class=\"dataframe\">\n",
       "  <thead>\n",
       "    <tr style=\"text-align: right;\">\n",
       "      <th></th>\n",
       "      <th>지역명</th>\n",
       "      <th>연도</th>\n",
       "      <th>월</th>\n",
       "      <th>분양가격</th>\n",
       "      <th>평당분양가격</th>\n",
       "      <th>전용면적</th>\n",
       "    </tr>\n",
       "  </thead>\n",
       "  <tbody>\n",
       "    <tr>\n",
       "      <th>0</th>\n",
       "      <td>서울</td>\n",
       "      <td>2015</td>\n",
       "      <td>10</td>\n",
       "      <td>5841.0</td>\n",
       "      <td>19275.3</td>\n",
       "      <td>전체</td>\n",
       "    </tr>\n",
       "    <tr>\n",
       "      <th>1</th>\n",
       "      <td>서울</td>\n",
       "      <td>2015</td>\n",
       "      <td>10</td>\n",
       "      <td>5652.0</td>\n",
       "      <td>18651.6</td>\n",
       "      <td>60㎡</td>\n",
       "    </tr>\n",
       "    <tr>\n",
       "      <th>2</th>\n",
       "      <td>서울</td>\n",
       "      <td>2015</td>\n",
       "      <td>10</td>\n",
       "      <td>5882.0</td>\n",
       "      <td>19410.6</td>\n",
       "      <td>60㎡~85㎡</td>\n",
       "    </tr>\n",
       "    <tr>\n",
       "      <th>3</th>\n",
       "      <td>서울</td>\n",
       "      <td>2015</td>\n",
       "      <td>10</td>\n",
       "      <td>5721.0</td>\n",
       "      <td>18879.3</td>\n",
       "      <td>85㎡~102㎡</td>\n",
       "    </tr>\n",
       "    <tr>\n",
       "      <th>4</th>\n",
       "      <td>서울</td>\n",
       "      <td>2015</td>\n",
       "      <td>10</td>\n",
       "      <td>5879.0</td>\n",
       "      <td>19400.7</td>\n",
       "      <td>102㎡~</td>\n",
       "    </tr>\n",
       "    <tr>\n",
       "      <th>...</th>\n",
       "      <td>...</td>\n",
       "      <td>...</td>\n",
       "      <td>...</td>\n",
       "      <td>...</td>\n",
       "      <td>...</td>\n",
       "      <td>...</td>\n",
       "    </tr>\n",
       "    <tr>\n",
       "      <th>4330</th>\n",
       "      <td>제주</td>\n",
       "      <td>2019</td>\n",
       "      <td>12</td>\n",
       "      <td>3882.0</td>\n",
       "      <td>12810.6</td>\n",
       "      <td>전체</td>\n",
       "    </tr>\n",
       "    <tr>\n",
       "      <th>4331</th>\n",
       "      <td>제주</td>\n",
       "      <td>2019</td>\n",
       "      <td>12</td>\n",
       "      <td>NaN</td>\n",
       "      <td>NaN</td>\n",
       "      <td>60㎡</td>\n",
       "    </tr>\n",
       "    <tr>\n",
       "      <th>4332</th>\n",
       "      <td>제주</td>\n",
       "      <td>2019</td>\n",
       "      <td>12</td>\n",
       "      <td>3898.0</td>\n",
       "      <td>12863.4</td>\n",
       "      <td>60㎡~85㎡</td>\n",
       "    </tr>\n",
       "    <tr>\n",
       "      <th>4333</th>\n",
       "      <td>제주</td>\n",
       "      <td>2019</td>\n",
       "      <td>12</td>\n",
       "      <td>NaN</td>\n",
       "      <td>NaN</td>\n",
       "      <td>85㎡~102㎡</td>\n",
       "    </tr>\n",
       "    <tr>\n",
       "      <th>4334</th>\n",
       "      <td>제주</td>\n",
       "      <td>2019</td>\n",
       "      <td>12</td>\n",
       "      <td>3601.0</td>\n",
       "      <td>11883.3</td>\n",
       "      <td>102㎡~</td>\n",
       "    </tr>\n",
       "  </tbody>\n",
       "</table>\n",
       "<p>4335 rows × 6 columns</p>\n",
       "</div>"
      ],
      "text/plain": [
       "     지역명    연도   월    분양가격   평당분양가격      전용면적\n",
       "0     서울  2015  10  5841.0  19275.3        전체\n",
       "1     서울  2015  10  5652.0  18651.6       60㎡\n",
       "2     서울  2015  10  5882.0  19410.6   60㎡~85㎡\n",
       "3     서울  2015  10  5721.0  18879.3  85㎡~102㎡\n",
       "4     서울  2015  10  5879.0  19400.7     102㎡~\n",
       "...   ..   ...  ..     ...      ...       ...\n",
       "4330  제주  2019  12  3882.0  12810.6        전체\n",
       "4331  제주  2019  12     NaN      NaN       60㎡\n",
       "4332  제주  2019  12  3898.0  12863.4   60㎡~85㎡\n",
       "4333  제주  2019  12     NaN      NaN  85㎡~102㎡\n",
       "4334  제주  2019  12  3601.0  11883.3     102㎡~\n",
       "\n",
       "[4335 rows x 6 columns]"
      ]
     },
     "execution_count": 20,
     "metadata": {
      "tags": []
     },
     "output_type": "execute_result"
    }
   ],
   "source": [
    "df_last"
   ]
  },
  {
   "cell_type": "code",
   "execution_count": 21,
   "metadata": {
    "executionInfo": {
     "elapsed": 655,
     "status": "ok",
     "timestamp": 1626333552303,
     "user": {
      "displayName": "박준원",
      "photoUrl": "",
      "userId": "01666978145944503968"
     },
     "user_tz": -540
    },
    "id": "Cb6yvvvlCCKX"
   },
   "outputs": [],
   "source": [
    "import pandas as pd\n",
    "import seaborn as sns"
   ]
  },
  {
   "cell_type": "code",
   "execution_count": 24,
   "metadata": {
    "executionInfo": {
     "elapsed": 259,
     "status": "ok",
     "timestamp": 1626333618834,
     "user": {
      "displayName": "박준원",
      "photoUrl": "",
      "userId": "01666978145944503968"
     },
     "user_tz": -540
    },
    "id": "K9ob54XxCJqj"
   },
   "outputs": [],
   "source": [
    "titanic = sns.load_dataset('titanic')\n",
    "df = titanic[['age', 'sex', 'class', 'fare', 'survived']]"
   ]
  },
  {
   "cell_type": "code",
   "execution_count": 25,
   "metadata": {
    "colab": {
     "base_uri": "https://localhost:8080/",
     "height": 204
    },
    "executionInfo": {
     "elapsed": 351,
     "status": "ok",
     "timestamp": 1626333624017,
     "user": {
      "displayName": "박준원",
      "photoUrl": "",
      "userId": "01666978145944503968"
     },
     "user_tz": -540
    },
    "id": "Kgk9SQr-CVls",
    "outputId": "a86275c5-d771-4564-e58d-7e7c516317f0"
   },
   "outputs": [
    {
     "data": {
      "text/html": [
       "<div>\n",
       "<style scoped>\n",
       "    .dataframe tbody tr th:only-of-type {\n",
       "        vertical-align: middle;\n",
       "    }\n",
       "\n",
       "    .dataframe tbody tr th {\n",
       "        vertical-align: top;\n",
       "    }\n",
       "\n",
       "    .dataframe thead th {\n",
       "        text-align: right;\n",
       "    }\n",
       "</style>\n",
       "<table border=\"1\" class=\"dataframe\">\n",
       "  <thead>\n",
       "    <tr style=\"text-align: right;\">\n",
       "      <th></th>\n",
       "      <th>age</th>\n",
       "      <th>sex</th>\n",
       "      <th>class</th>\n",
       "      <th>fare</th>\n",
       "      <th>survived</th>\n",
       "    </tr>\n",
       "  </thead>\n",
       "  <tbody>\n",
       "    <tr>\n",
       "      <th>0</th>\n",
       "      <td>22.0</td>\n",
       "      <td>male</td>\n",
       "      <td>Third</td>\n",
       "      <td>7.2500</td>\n",
       "      <td>0</td>\n",
       "    </tr>\n",
       "    <tr>\n",
       "      <th>1</th>\n",
       "      <td>38.0</td>\n",
       "      <td>female</td>\n",
       "      <td>First</td>\n",
       "      <td>71.2833</td>\n",
       "      <td>1</td>\n",
       "    </tr>\n",
       "    <tr>\n",
       "      <th>2</th>\n",
       "      <td>26.0</td>\n",
       "      <td>female</td>\n",
       "      <td>Third</td>\n",
       "      <td>7.9250</td>\n",
       "      <td>1</td>\n",
       "    </tr>\n",
       "    <tr>\n",
       "      <th>3</th>\n",
       "      <td>35.0</td>\n",
       "      <td>female</td>\n",
       "      <td>First</td>\n",
       "      <td>53.1000</td>\n",
       "      <td>1</td>\n",
       "    </tr>\n",
       "    <tr>\n",
       "      <th>4</th>\n",
       "      <td>35.0</td>\n",
       "      <td>male</td>\n",
       "      <td>Third</td>\n",
       "      <td>8.0500</td>\n",
       "      <td>0</td>\n",
       "    </tr>\n",
       "  </tbody>\n",
       "</table>\n",
       "</div>"
      ],
      "text/plain": [
       "    age     sex  class     fare  survived\n",
       "0  22.0    male  Third   7.2500         0\n",
       "1  38.0  female  First  71.2833         1\n",
       "2  26.0  female  Third   7.9250         1\n",
       "3  35.0  female  First  53.1000         1\n",
       "4  35.0    male  Third   8.0500         0"
      ]
     },
     "execution_count": 25,
     "metadata": {
      "tags": []
     },
     "output_type": "execute_result"
    }
   ],
   "source": [
    "df.head()"
   ]
  },
  {
   "cell_type": "code",
   "execution_count": 26,
   "metadata": {
    "executionInfo": {
     "elapsed": 288,
     "status": "ok",
     "timestamp": 1626333643285,
     "user": {
      "displayName": "박준원",
      "photoUrl": "",
      "userId": "01666978145944503968"
     },
     "user_tz": -540
    },
    "id": "1twCdHs7CbPj"
   },
   "outputs": [],
   "source": [
    "grouped = df.groupby('class')"
   ]
  },
  {
   "cell_type": "code",
   "execution_count": 27,
   "metadata": {
    "colab": {
     "base_uri": "https://localhost:8080/"
    },
    "executionInfo": {
     "elapsed": 294,
     "status": "ok",
     "timestamp": 1626333669417,
     "user": {
      "displayName": "박준원",
      "photoUrl": "",
      "userId": "01666978145944503968"
     },
     "user_tz": -540
    },
    "id": "Ch36Ph07Cf92",
    "outputId": "80cfc90e-2b10-46b7-f310-ef8408f12cec"
   },
   "outputs": [
    {
     "name": "stdout",
     "output_type": "stream",
     "text": [
      "First\n",
      "      age     sex  class     fare  survived\n",
      "1    38.0  female  First  71.2833         1\n",
      "3    35.0  female  First  53.1000         1\n",
      "6    54.0    male  First  51.8625         0\n",
      "11   58.0  female  First  26.5500         1\n",
      "23   28.0    male  First  35.5000         1\n",
      "..    ...     ...    ...      ...       ...\n",
      "871  47.0  female  First  52.5542         1\n",
      "872  33.0    male  First   5.0000         0\n",
      "879  56.0  female  First  83.1583         1\n",
      "887  19.0  female  First  30.0000         1\n",
      "889  26.0    male  First  30.0000         1\n",
      "\n",
      "[216 rows x 5 columns]\n",
      "Second\n",
      "      age     sex   class     fare  survived\n",
      "9    14.0  female  Second  30.0708         1\n",
      "15   55.0  female  Second  16.0000         1\n",
      "17    NaN    male  Second  13.0000         1\n",
      "20   35.0    male  Second  26.0000         0\n",
      "21   34.0    male  Second  13.0000         1\n",
      "..    ...     ...     ...      ...       ...\n",
      "866  27.0  female  Second  13.8583         1\n",
      "874  28.0  female  Second  24.0000         1\n",
      "880  25.0  female  Second  26.0000         1\n",
      "883  28.0    male  Second  10.5000         0\n",
      "886  27.0    male  Second  13.0000         0\n",
      "\n",
      "[184 rows x 5 columns]\n",
      "Third\n",
      "      age     sex  class     fare  survived\n",
      "0    22.0    male  Third   7.2500         0\n",
      "2    26.0  female  Third   7.9250         1\n",
      "4    35.0    male  Third   8.0500         0\n",
      "5     NaN    male  Third   8.4583         0\n",
      "7     2.0    male  Third  21.0750         0\n",
      "..    ...     ...    ...      ...       ...\n",
      "882  22.0  female  Third  10.5167         0\n",
      "884  25.0    male  Third   7.0500         0\n",
      "885  39.0  female  Third  29.1250         0\n",
      "888   NaN  female  Third  23.4500         0\n",
      "890  32.0    male  Third   7.7500         0\n",
      "\n",
      "[491 rows x 5 columns]\n"
     ]
    }
   ],
   "source": [
    "for key, group in grouped:\n",
    "    print(key)\n",
    "    print(group)"
   ]
  },
  {
   "cell_type": "code",
   "execution_count": 29,
   "metadata": {
    "colab": {
     "base_uri": "https://localhost:8080/",
     "height": 172
    },
    "executionInfo": {
     "elapsed": 289,
     "status": "ok",
     "timestamp": 1626333690365,
     "user": {
      "displayName": "박준원",
      "photoUrl": "",
      "userId": "01666978145944503968"
     },
     "user_tz": -540
    },
    "id": "B2OftvnwCmPD",
    "outputId": "2e7861fe-44ee-43e9-f389-94ce69b06460"
   },
   "outputs": [
    {
     "data": {
      "text/html": [
       "<div>\n",
       "<style scoped>\n",
       "    .dataframe tbody tr th:only-of-type {\n",
       "        vertical-align: middle;\n",
       "    }\n",
       "\n",
       "    .dataframe tbody tr th {\n",
       "        vertical-align: top;\n",
       "    }\n",
       "\n",
       "    .dataframe thead th {\n",
       "        text-align: right;\n",
       "    }\n",
       "</style>\n",
       "<table border=\"1\" class=\"dataframe\">\n",
       "  <thead>\n",
       "    <tr style=\"text-align: right;\">\n",
       "      <th></th>\n",
       "      <th>age</th>\n",
       "      <th>fare</th>\n",
       "      <th>survived</th>\n",
       "    </tr>\n",
       "    <tr>\n",
       "      <th>class</th>\n",
       "      <th></th>\n",
       "      <th></th>\n",
       "      <th></th>\n",
       "    </tr>\n",
       "  </thead>\n",
       "  <tbody>\n",
       "    <tr>\n",
       "      <th>First</th>\n",
       "      <td>38.233441</td>\n",
       "      <td>84.154687</td>\n",
       "      <td>0.629630</td>\n",
       "    </tr>\n",
       "    <tr>\n",
       "      <th>Second</th>\n",
       "      <td>29.877630</td>\n",
       "      <td>20.662183</td>\n",
       "      <td>0.472826</td>\n",
       "    </tr>\n",
       "    <tr>\n",
       "      <th>Third</th>\n",
       "      <td>25.140620</td>\n",
       "      <td>13.675550</td>\n",
       "      <td>0.242363</td>\n",
       "    </tr>\n",
       "  </tbody>\n",
       "</table>\n",
       "</div>"
      ],
      "text/plain": [
       "              age       fare  survived\n",
       "class                                 \n",
       "First   38.233441  84.154687  0.629630\n",
       "Second  29.877630  20.662183  0.472826\n",
       "Third   25.140620  13.675550  0.242363"
      ]
     },
     "execution_count": 29,
     "metadata": {
      "tags": []
     },
     "output_type": "execute_result"
    }
   ],
   "source": [
    "grouped.mean()"
   ]
  },
  {
   "cell_type": "code",
   "execution_count": 30,
   "metadata": {
    "executionInfo": {
     "elapsed": 262,
     "status": "ok",
     "timestamp": 1626333714626,
     "user": {
      "displayName": "박준원",
      "photoUrl": "",
      "userId": "01666978145944503968"
     },
     "user_tz": -540
    },
    "id": "5Sny5NWjCp8k"
   },
   "outputs": [],
   "source": [
    "group3 = grouped.get_group('Third')"
   ]
  },
  {
   "cell_type": "code",
   "execution_count": 31,
   "metadata": {
    "colab": {
     "base_uri": "https://localhost:8080/",
     "height": 204
    },
    "executionInfo": {
     "elapsed": 283,
     "status": "ok",
     "timestamp": 1626333721156,
     "user": {
      "displayName": "박준원",
      "photoUrl": "",
      "userId": "01666978145944503968"
     },
     "user_tz": -540
    },
    "id": "OXv3Zs3yCxY5",
    "outputId": "5435856a-b39e-4749-e606-9869b75697f2"
   },
   "outputs": [
    {
     "data": {
      "text/html": [
       "<div>\n",
       "<style scoped>\n",
       "    .dataframe tbody tr th:only-of-type {\n",
       "        vertical-align: middle;\n",
       "    }\n",
       "\n",
       "    .dataframe tbody tr th {\n",
       "        vertical-align: top;\n",
       "    }\n",
       "\n",
       "    .dataframe thead th {\n",
       "        text-align: right;\n",
       "    }\n",
       "</style>\n",
       "<table border=\"1\" class=\"dataframe\">\n",
       "  <thead>\n",
       "    <tr style=\"text-align: right;\">\n",
       "      <th></th>\n",
       "      <th>age</th>\n",
       "      <th>sex</th>\n",
       "      <th>class</th>\n",
       "      <th>fare</th>\n",
       "      <th>survived</th>\n",
       "    </tr>\n",
       "  </thead>\n",
       "  <tbody>\n",
       "    <tr>\n",
       "      <th>0</th>\n",
       "      <td>22.0</td>\n",
       "      <td>male</td>\n",
       "      <td>Third</td>\n",
       "      <td>7.2500</td>\n",
       "      <td>0</td>\n",
       "    </tr>\n",
       "    <tr>\n",
       "      <th>2</th>\n",
       "      <td>26.0</td>\n",
       "      <td>female</td>\n",
       "      <td>Third</td>\n",
       "      <td>7.9250</td>\n",
       "      <td>1</td>\n",
       "    </tr>\n",
       "    <tr>\n",
       "      <th>4</th>\n",
       "      <td>35.0</td>\n",
       "      <td>male</td>\n",
       "      <td>Third</td>\n",
       "      <td>8.0500</td>\n",
       "      <td>0</td>\n",
       "    </tr>\n",
       "    <tr>\n",
       "      <th>5</th>\n",
       "      <td>NaN</td>\n",
       "      <td>male</td>\n",
       "      <td>Third</td>\n",
       "      <td>8.4583</td>\n",
       "      <td>0</td>\n",
       "    </tr>\n",
       "    <tr>\n",
       "      <th>7</th>\n",
       "      <td>2.0</td>\n",
       "      <td>male</td>\n",
       "      <td>Third</td>\n",
       "      <td>21.0750</td>\n",
       "      <td>0</td>\n",
       "    </tr>\n",
       "  </tbody>\n",
       "</table>\n",
       "</div>"
      ],
      "text/plain": [
       "    age     sex  class     fare  survived\n",
       "0  22.0    male  Third   7.2500         0\n",
       "2  26.0  female  Third   7.9250         1\n",
       "4  35.0    male  Third   8.0500         0\n",
       "5   NaN    male  Third   8.4583         0\n",
       "7   2.0    male  Third  21.0750         0"
      ]
     },
     "execution_count": 31,
     "metadata": {
      "tags": []
     },
     "output_type": "execute_result"
    }
   ],
   "source": [
    "group3.head()"
   ]
  },
  {
   "cell_type": "code",
   "execution_count": null,
   "metadata": {
    "id": "wglTF8K_Cy-G"
   },
   "outputs": [],
   "source": []
  }
 ],
 "metadata": {
  "colab": {
   "authorship_tag": "ABX9TyOFp8QXWq0XdbT82wE4MS3E",
   "collapsed_sections": [],
   "mount_file_id": "1cuRmCT78CMZGErNGKLOju8hdXkXSgX0W",
   "name": "실습0715.ipynb",
   "provenance": []
  },
  "kernelspec": {
   "display_name": "Python 3",
   "language": "python",
   "name": "python3"
  },
  "language_info": {
   "codemirror_mode": {
    "name": "ipython",
    "version": 3
   },
   "file_extension": ".py",
   "mimetype": "text/x-python",
   "name": "python",
   "nbconvert_exporter": "python",
   "pygments_lexer": "ipython3",
   "version": "3.6.13"
  }
 },
 "nbformat": 4,
 "nbformat_minor": 4
}
