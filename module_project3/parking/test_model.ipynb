{
 "cells": [
  {
   "cell_type": "code",
   "execution_count": 1,
   "id": "72df9521-d2fc-44fb-a012-3c00ff8ac67e",
   "metadata": {},
   "outputs": [],
   "source": [
    "import pandas as pd\n",
    "import numpy as np\n",
    "from sklearn.model_selection import train_test_split\n",
    "from sklearn.ensemble import RandomForestRegressor"
   ]
  },
  {
   "cell_type": "code",
   "execution_count": 2,
   "id": "92b3b974-d65a-4fb9-b69b-5f142fad7a6e",
   "metadata": {},
   "outputs": [],
   "source": [
    "train = pd.read_csv('./final_eda_train.csv')"
   ]
  },
  {
   "cell_type": "code",
   "execution_count": 3,
   "id": "77a307cc-34b5-421e-9feb-c72e7694fde1",
   "metadata": {},
   "outputs": [],
   "source": [
    "X = train.iloc[:, 1:-1]\n",
    "y = train.iloc[:,-1:]"
   ]
  },
  {
   "cell_type": "code",
   "execution_count": 4,
   "id": "4a5873cc-bc95-4208-9592-dc7927792b31",
   "metadata": {},
   "outputs": [],
   "source": [
    "X_train, X_test, y_train, y_test = train_test_split(X, y, test_size=0.33, random_state=42)"
   ]
  },
  {
   "cell_type": "code",
   "execution_count": 5,
   "id": "fd816520-57e0-4df3-b85e-d9e71ccb63be",
   "metadata": {},
   "outputs": [],
   "source": [
    "model = RandomForestRegressor(n_jobs=-1, random_state=42)"
   ]
  },
  {
   "cell_type": "code",
   "execution_count": 6,
   "id": "618412ee-b858-4071-b19a-c6de236a294e",
   "metadata": {},
   "outputs": [
    {
     "name": "stderr",
     "output_type": "stream",
     "text": [
      "c:\\programdata\\anaconda3\\envs\\python_env\\lib\\site-packages\\ipykernel_launcher.py:1: DataConversionWarning: A column-vector y was passed when a 1d array was expected. Please change the shape of y to (n_samples,), for example using ravel().\n",
      "  \"\"\"Entry point for launching an IPython kernel.\n"
     ]
    },
    {
     "data": {
      "text/plain": [
       "RandomForestRegressor(n_jobs=-1, random_state=42)"
      ]
     },
     "execution_count": 6,
     "metadata": {},
     "output_type": "execute_result"
    }
   ],
   "source": [
    "model.fit(X_train, y_train)"
   ]
  },
  {
   "cell_type": "code",
   "execution_count": 7,
   "id": "a4ee9029-6de6-4dc8-8a60-2120ce7ee766",
   "metadata": {},
   "outputs": [],
   "source": [
    "pred = model.predict(X_test)"
   ]
  },
  {
   "cell_type": "code",
   "execution_count": 8,
   "id": "8bdf4a9f-9870-4826-a05a-83564755c0e3",
   "metadata": {},
   "outputs": [
    {
     "data": {
      "text/plain": [
       "154.9835433070866"
      ]
     },
     "execution_count": 8,
     "metadata": {},
     "output_type": "execute_result"
    }
   ],
   "source": [
    "from sklearn.metrics import mean_absolute_error\n",
    "mean_absolute_error(y_test, pred)"
   ]
  },
  {
   "cell_type": "code",
   "execution_count": 9,
   "id": "4a737b8e-1808-4164-b876-2cc45a9fc49b",
   "metadata": {},
   "outputs": [
    {
     "data": {
      "text/html": [
       "<div>\n",
       "<style scoped>\n",
       "    .dataframe tbody tr th:only-of-type {\n",
       "        vertical-align: middle;\n",
       "    }\n",
       "\n",
       "    .dataframe tbody tr th {\n",
       "        vertical-align: top;\n",
       "    }\n",
       "\n",
       "    .dataframe thead th {\n",
       "        text-align: right;\n",
       "    }\n",
       "</style>\n",
       "<table border=\"1\" class=\"dataframe\">\n",
       "  <thead>\n",
       "    <tr style=\"text-align: right;\">\n",
       "      <th></th>\n",
       "      <th>단지코드</th>\n",
       "      <th>실세대수</th>\n",
       "      <th>예상등록수</th>\n",
       "      <th>세대수/대중교통</th>\n",
       "      <th>단지평균_면적당_임대보증금</th>\n",
       "      <th>단지평균_면적당_임대료</th>\n",
       "      <th>지역_예상보유수</th>\n",
       "      <th>단지내주차면수</th>\n",
       "      <th>등록차량수</th>\n",
       "    </tr>\n",
       "  </thead>\n",
       "  <tbody>\n",
       "    <tr>\n",
       "      <th>0</th>\n",
       "      <td>C2515</td>\n",
       "      <td>528.0</td>\n",
       "      <td>230.966526</td>\n",
       "      <td>5.170484</td>\n",
       "      <td>334865.630634</td>\n",
       "      <td>2871.531739</td>\n",
       "      <td>235.398388</td>\n",
       "      <td>624.0</td>\n",
       "      <td>205.0</td>\n",
       "    </tr>\n",
       "    <tr>\n",
       "      <th>1</th>\n",
       "      <td>C1407</td>\n",
       "      <td>1203.0</td>\n",
       "      <td>578.342118</td>\n",
       "      <td>6.399426</td>\n",
       "      <td>661899.226495</td>\n",
       "      <td>4204.613069</td>\n",
       "      <td>492.186001</td>\n",
       "      <td>1285.0</td>\n",
       "      <td>1064.0</td>\n",
       "    </tr>\n",
       "    <tr>\n",
       "      <th>2</th>\n",
       "      <td>C1945</td>\n",
       "      <td>749.0</td>\n",
       "      <td>399.601579</td>\n",
       "      <td>5.232445</td>\n",
       "      <td>440695.351782</td>\n",
       "      <td>3678.552830</td>\n",
       "      <td>304.048417</td>\n",
       "      <td>734.0</td>\n",
       "      <td>730.0</td>\n",
       "    </tr>\n",
       "    <tr>\n",
       "      <th>3</th>\n",
       "      <td>C1470</td>\n",
       "      <td>682.0</td>\n",
       "      <td>328.956632</td>\n",
       "      <td>5.831882</td>\n",
       "      <td>421573.181435</td>\n",
       "      <td>2794.616107</td>\n",
       "      <td>283.930040</td>\n",
       "      <td>645.0</td>\n",
       "      <td>553.0</td>\n",
       "    </tr>\n",
       "    <tr>\n",
       "      <th>4</th>\n",
       "      <td>C1898</td>\n",
       "      <td>557.0</td>\n",
       "      <td>254.463579</td>\n",
       "      <td>4.530806</td>\n",
       "      <td>401493.726676</td>\n",
       "      <td>2800.158596</td>\n",
       "      <td>231.890077</td>\n",
       "      <td>517.0</td>\n",
       "      <td>415.0</td>\n",
       "    </tr>\n",
       "  </tbody>\n",
       "</table>\n",
       "</div>"
      ],
      "text/plain": [
       "    단지코드    실세대수       예상등록수  세대수/대중교통  단지평균_면적당_임대보증금  단지평균_면적당_임대료  \\\n",
       "0  C2515   528.0  230.966526  5.170484   334865.630634   2871.531739   \n",
       "1  C1407  1203.0  578.342118  6.399426   661899.226495   4204.613069   \n",
       "2  C1945   749.0  399.601579  5.232445   440695.351782   3678.552830   \n",
       "3  C1470   682.0  328.956632  5.831882   421573.181435   2794.616107   \n",
       "4  C1898   557.0  254.463579  4.530806   401493.726676   2800.158596   \n",
       "\n",
       "     지역_예상보유수  단지내주차면수   등록차량수  \n",
       "0  235.398388    624.0   205.0  \n",
       "1  492.186001   1285.0  1064.0  \n",
       "2  304.048417    734.0   730.0  \n",
       "3  283.930040    645.0   553.0  \n",
       "4  231.890077    517.0   415.0  "
      ]
     },
     "execution_count": 9,
     "metadata": {},
     "output_type": "execute_result"
    }
   ],
   "source": [
    "import pandas as pd\n",
    "import numpy as np\n",
    "import seaborn as sns\n",
    "from patsy import dmatrices\n",
    "import statsmodels.api as sm;\n",
    "from statsmodels.stats.outliers_influence import variance_inflation_factor\n",
    "%matplotlib inline\n",
    "\n",
    "train = pd.read_csv('./final_eda_train.csv')\n",
    "train.head()"
   ]
  },
  {
   "cell_type": "code",
   "execution_count": 10,
   "id": "e67c15ee-5cac-43f1-8f3c-1427b3fd8308",
   "metadata": {},
   "outputs": [
    {
     "data": {
      "text/html": [
       "<table class=\"simpletable\">\n",
       "<caption>OLS Regression Results</caption>\n",
       "<tr>\n",
       "  <th>Dep. Variable:</th>          <td>등록차량수</td>      <th>  R-squared (uncentered):</th>      <td>   0.935</td> \n",
       "</tr>\n",
       "<tr>\n",
       "  <th>Model:</th>                   <td>OLS</td>       <th>  Adj. R-squared (uncentered):</th> <td>   0.934</td> \n",
       "</tr>\n",
       "<tr>\n",
       "  <th>Method:</th>             <td>Least Squares</td>  <th>  F-statistic:       </th>          <td>   768.6</td> \n",
       "</tr>\n",
       "<tr>\n",
       "  <th>Date:</th>             <td>Sun, 19 Sep 2021</td> <th>  Prob (F-statistic):</th>          <td>5.27e-218</td>\n",
       "</tr>\n",
       "<tr>\n",
       "  <th>Time:</th>                 <td>00:43:01</td>     <th>  Log-Likelihood:    </th>          <td> -2500.8</td> \n",
       "</tr>\n",
       "<tr>\n",
       "  <th>No. Observations:</th>      <td>   382</td>      <th>  AIC:               </th>          <td>   5016.</td> \n",
       "</tr>\n",
       "<tr>\n",
       "  <th>Df Residuals:</th>          <td>   375</td>      <th>  BIC:               </th>          <td>   5043.</td> \n",
       "</tr>\n",
       "<tr>\n",
       "  <th>Df Model:</th>              <td>     7</td>      <th>                     </th>              <td> </td>    \n",
       "</tr>\n",
       "<tr>\n",
       "  <th>Covariance Type:</th>      <td>nonrobust</td>    <th>                     </th>              <td> </td>    \n",
       "</tr>\n",
       "</table>\n",
       "<table class=\"simpletable\">\n",
       "<tr>\n",
       "         <td></td>           <th>coef</th>     <th>std err</th>      <th>t</th>      <th>P>|t|</th>  <th>[0.025</th>    <th>0.975]</th>  \n",
       "</tr>\n",
       "<tr>\n",
       "  <th>실세대수</th>           <td>   -0.2917</td> <td>    0.067</td> <td>   -4.378</td> <td> 0.000</td> <td>   -0.423</td> <td>   -0.161</td>\n",
       "</tr>\n",
       "<tr>\n",
       "  <th>예상등록수</th>          <td>    1.1444</td> <td>    0.123</td> <td>    9.284</td> <td> 0.000</td> <td>    0.902</td> <td>    1.387</td>\n",
       "</tr>\n",
       "<tr>\n",
       "  <th>세대수/대중교통</th>       <td>   -5.2843</td> <td>    5.503</td> <td>   -0.960</td> <td> 0.338</td> <td>  -16.105</td> <td>    5.536</td>\n",
       "</tr>\n",
       "<tr>\n",
       "  <th>단지평균_면적당_임대보증금</th> <td> 7.285e-06</td> <td> 2.91e-05</td> <td>    0.250</td> <td> 0.802</td> <td>-4.99e-05</td> <td> 6.45e-05</td>\n",
       "</tr>\n",
       "<tr>\n",
       "  <th>단지평균_면적당_임대료</th>   <td>    0.0132</td> <td>    0.006</td> <td>    2.199</td> <td> 0.029</td> <td>    0.001</td> <td>    0.025</td>\n",
       "</tr>\n",
       "<tr>\n",
       "  <th>지역_예상보유수</th>       <td>    0.3429</td> <td>    0.167</td> <td>    2.056</td> <td> 0.040</td> <td>    0.015</td> <td>    0.671</td>\n",
       "</tr>\n",
       "<tr>\n",
       "  <th>단지내주차면수</th>        <td>    0.4510</td> <td>    0.065</td> <td>    6.895</td> <td> 0.000</td> <td>    0.322</td> <td>    0.580</td>\n",
       "</tr>\n",
       "</table>\n",
       "<table class=\"simpletable\">\n",
       "<tr>\n",
       "  <th>Omnibus:</th>       <td>53.622</td> <th>  Durbin-Watson:     </th> <td>   1.485</td> \n",
       "</tr>\n",
       "<tr>\n",
       "  <th>Prob(Omnibus):</th> <td> 0.000</td> <th>  Jarque-Bera (JB):  </th> <td> 460.110</td> \n",
       "</tr>\n",
       "<tr>\n",
       "  <th>Skew:</th>          <td>-0.127</td> <th>  Prob(JB):          </th> <td>1.23e-100</td>\n",
       "</tr>\n",
       "<tr>\n",
       "  <th>Kurtosis:</th>      <td> 8.371</td> <th>  Cond. No.          </th> <td>3.82e+05</td> \n",
       "</tr>\n",
       "</table><br/><br/>Notes:<br/>[1] R² is computed without centering (uncentered) since the model does not contain a constant.<br/>[2] Standard Errors assume that the covariance matrix of the errors is correctly specified.<br/>[3] The condition number is large, 3.82e+05. This might indicate that there are<br/>strong multicollinearity or other numerical problems."
      ],
      "text/plain": [
       "<class 'statsmodels.iolib.summary.Summary'>\n",
       "\"\"\"\n",
       "                                 OLS Regression Results                                \n",
       "=======================================================================================\n",
       "Dep. Variable:                  등록차량수   R-squared (uncentered):                   0.935\n",
       "Model:                            OLS   Adj. R-squared (uncentered):              0.934\n",
       "Method:                 Least Squares   F-statistic:                              768.6\n",
       "Date:                Sun, 19 Sep 2021   Prob (F-statistic):                   5.27e-218\n",
       "Time:                        00:43:01   Log-Likelihood:                         -2500.8\n",
       "No. Observations:                 382   AIC:                                      5016.\n",
       "Df Residuals:                     375   BIC:                                      5043.\n",
       "Df Model:                           7                                                  \n",
       "Covariance Type:            nonrobust                                                  \n",
       "==================================================================================\n",
       "                     coef    std err          t      P>|t|      [0.025      0.975]\n",
       "----------------------------------------------------------------------------------\n",
       "실세대수              -0.2917      0.067     -4.378      0.000      -0.423      -0.161\n",
       "예상등록수              1.1444      0.123      9.284      0.000       0.902       1.387\n",
       "세대수/대중교통          -5.2843      5.503     -0.960      0.338     -16.105       5.536\n",
       "단지평균_면적당_임대보증금  7.285e-06   2.91e-05      0.250      0.802   -4.99e-05    6.45e-05\n",
       "단지평균_면적당_임대료       0.0132      0.006      2.199      0.029       0.001       0.025\n",
       "지역_예상보유수           0.3429      0.167      2.056      0.040       0.015       0.671\n",
       "단지내주차면수            0.4510      0.065      6.895      0.000       0.322       0.580\n",
       "==============================================================================\n",
       "Omnibus:                       53.622   Durbin-Watson:                   1.485\n",
       "Prob(Omnibus):                  0.000   Jarque-Bera (JB):              460.110\n",
       "Skew:                          -0.127   Prob(JB):                    1.23e-100\n",
       "Kurtosis:                       8.371   Cond. No.                     3.82e+05\n",
       "==============================================================================\n",
       "\n",
       "Notes:\n",
       "[1] R² is computed without centering (uncentered) since the model does not contain a constant.\n",
       "[2] Standard Errors assume that the covariance matrix of the errors is correctly specified.\n",
       "[3] The condition number is large, 3.82e+05. This might indicate that there are\n",
       "strong multicollinearity or other numerical problems.\n",
       "\"\"\""
      ]
     },
     "execution_count": 10,
     "metadata": {},
     "output_type": "execute_result"
    }
   ],
   "source": [
    "train['intercept'] = 1\n",
    "lm = sm.OLS(train['등록차량수'], train[['실세대수','예상등록수','세대수/대중교통','단지평균_면적당_임대보증금','단지평균_면적당_임대료','지역_예상보유수','단지내주차면수']])\n",
    "results = lm.fit()\n",
    "results.summary()"
   ]
  },
  {
   "cell_type": "code",
   "execution_count": 11,
   "id": "18cf501e-e337-4728-92ee-8cf180afd695",
   "metadata": {},
   "outputs": [],
   "source": [
    "def data_eda(df):\n",
    "    # 실세대수 변수 생성\n",
    "    df['실세대수'] = df['총세대수'] - df['공가수']\n",
    "    \n",
    "    # 임대건물구분\n",
    "    # 같은 단지내에 임대건물 구분이 2가지인 경우\n",
    "    apt_shop_list = []\n",
    "    apt_only_list = []\n",
    "    for complex_ in df['단지코드'].unique().tolist():\n",
    "        if len(df[df['단지코드'] == complex_]['임대건물구분'].unique()) != 1:\n",
    "            apt_shop_list.append(complex_)\n",
    "        else:\n",
    "            apt_only_list.append(complex_)\n",
    "    \n",
    "    df = df.set_index(['단지코드'])\n",
    "    # 임대건물구분이 아파트만 있는 경우 0\n",
    "    df.loc[apt_only_list,'임대건물구분'] = 0\n",
    "    # 임대건물구분이 아파트와 상가로 되어있는 경우 1\n",
    "    df.loc[apt_shop_list,'임대건물구분'] = 1\n",
    "    df = df.reset_index()\n",
    "    \n",
    "    \n",
    "    # 주차규정\n",
    "    # 구차규정에 따른 지역을 구분\n",
    "    special_city = ['서울특별시']\n",
    "    metropolitan_city = ['세종특별자치시', '광주광역시', '부산광역시', '울산광역시', '대전광역시', '대구광역시']\n",
    "    else_city = ['경상남도', '경기도', '전라북도', '강원도', '충청남도', '제주특별자치도', '충청북도', '전라남도', '경상북도']\n",
    "    \n",
    "    df[['주차장_설치기준']] = df.apply(lambda x: parking_rule(x), axis = 1)\n",
    "    df['전용면적별_주차기준_예상등록수'] = df['전용면적별세대수'] * df['주차장_설치기준']\n",
    "    pred_by_rule = df.groupby(['단지코드'])['전용면적별_주차기준_예상등록수'].sum()\n",
    "    \n",
    "    df = df.set_index(['단지코드'])\n",
    "    for complex_ in pred_by_rule.index:\n",
    "        df.loc[complex_,'예상등록수'] = pred_by_rule[complex_]\n",
    "    df = df.reset_index(['단지코드'])\n",
    "    \n",
    "    \n",
    "    # 임대보증금과 임대료 결측치 제거\n",
    "    df['임대보증금'] = df['임대보증금'].fillna(0)\n",
    "    df['임대료'] = df['임대료'].fillna(0)\n",
    "    df['임대보증금'] = df['임대보증금'].astype('float64')\n",
    "    df['임대료'] = df['임대료'].astype('float64')\n",
    "    \n",
    "    # 임대보증금 / 전용면적, 임대료 / 전용면적 을 통한 면적당 임대보증금과 임대료 산출\n",
    "    df['면적당_임대보증금'] = df['임대보증금'] / df['전용면적']\n",
    "    df['면적당_임대료'] = df['임대료'] / df['전용면적']\n",
    "    \n",
    "    # 단지별 대표 임대보증금과 임대료 가중치 평균을 통해 산출\n",
    "    df = df.set_index(['단지코드'])\n",
    "\n",
    "    for complex_ in df.index.unique():\n",
    "        # 단지별 면적당 임대보증금 평균값\n",
    "        avg_rental_deposit = np.dot(df.loc[complex_]['면적당_임대보증금'], df.loc[complex_]['전용면적별세대수']) / df.loc[complex_]['총세대수']\n",
    "        # 단지별 면적당 임대료 평균값\n",
    "        avg_rental_cost = np.dot(df.loc[complex_]['면적당_임대료'], df.loc[complex_]['전용면적별세대수']) / df.loc[complex_]['총세대수']\n",
    "        df.loc[complex_, '단지평균_면적당_임대보증금'] = avg_rental_deposit\n",
    "        df.loc[complex_, '단지평균_면적당_임대료'] = avg_rental_cost\n",
    "\n",
    "    df = df.reset_index()\n",
    "    \n",
    "    # 대중교통\n",
    "    df['지하철'] = df['도보 10분거리 내 지하철역 수(환승노선 수 반영)']\n",
    "    df.drop(columns = ['도보 10분거리 내 지하철역 수(환승노선 수 반영)'], axis = 1, inplace = True)\n",
    "    df['버스'] = df['도보 10분거리 내 버스정류장 수']\n",
    "    df.drop(columns = ['도보 10분거리 내 버스정류장 수'], axis = 1, inplace = True)\n",
    "    \n",
    "    df['지하철'] = df['지하철'].fillna(0)\n",
    "    df['대중교통'] = df['지하철'] + df['버스']\n",
    "    \n",
    "    df1 = df[['단지코드', '실세대수', '대중교통']].drop_duplicates(subset=None, keep='first', inplace=False, ignore_index=False)\n",
    "    df1['세대수/대중교통'] = np.log(df1['실세대수'] / (df1['대중교통'] + 0.0000001))\n",
    "    \n",
    "    # 단지를 리스트에 담기\n",
    "    apt_complex = df1['단지코드'].tolist()\n",
    "    # 세대수 / 대중교통 값 담기\n",
    "    public_transform_ratio = df1['세대수/대중교통'].tolist()\n",
    "    \n",
    "    df = df.set_index(['단지코드'])\n",
    "    for complex_, ratio_ in zip(apt_complex, public_transform_ratio):\n",
    "        df.loc[complex_, '세대수/대중교통'] = ratio_\n",
    "    df  = df.reset_index()\n",
    "    \n",
    "    df1 = df[['단지코드', '지역', '실세대수']].drop_duplicates(subset=None, keep='first', inplace=False, ignore_index=False)\n",
    "    df1 = pd.merge(df1, prob_area_car, how='inner')\n",
    "    df1['지역_예상보유수'] = df1['실세대수'] * df1['자동차_보유확률']\n",
    "    # 단지를 리스트에 담기\n",
    "    apt_complex = df1['단지코드'].tolist()\n",
    "    # 세대수 / 대중교통 값 담기\n",
    "    pred_car_num = df1['지역_예상보유수'].tolist()\n",
    "    \n",
    "    df = df.set_index(['단지코드'])\n",
    "    for complex_, car_num in zip(apt_complex, pred_car_num):\n",
    "        df.loc[complex_, '지역_예상보유수'] = car_num\n",
    "    df  = df.reset_index()\n",
    "    \n",
    "    df = df[['단지코드','실세대수','예상등록수','세대수/대중교통','단지평균_면적당_임대보증금','단지평균_면적당_임대료','지역_예상보유수','단지내주차면수']].drop_duplicates(subset=None, keep='first', inplace=False, ignore_index=False)\n",
    "    \n",
    "    return df"
   ]
  },
  {
   "cell_type": "code",
   "execution_count": 14,
   "id": "535cf14b-6f63-40cb-8f71-f11e51fcf045",
   "metadata": {},
   "outputs": [],
   "source": [
    "test = pd.read_csv('./data/test.csv')\n",
    "submission = pd.read_csv('./data/sample_submission.csv')"
   ]
  },
  {
   "cell_type": "code",
   "execution_count": 15,
   "id": "36edc012-8d93-4065-aac8-a499b568c79f",
   "metadata": {},
   "outputs": [
    {
     "ename": "NameError",
     "evalue": "name 'parking_rule' is not defined",
     "output_type": "error",
     "traceback": [
      "\u001b[1;31m---------------------------------------------------------------------------\u001b[0m",
      "\u001b[1;31mNameError\u001b[0m                                 Traceback (most recent call last)",
      "\u001b[1;32m<ipython-input-15-843776951d48>\u001b[0m in \u001b[0;36m<module>\u001b[1;34m\u001b[0m\n\u001b[1;32m----> 1\u001b[1;33m \u001b[0mpred\u001b[0m \u001b[1;33m=\u001b[0m \u001b[0mmodel\u001b[0m\u001b[1;33m.\u001b[0m\u001b[0mpredict\u001b[0m\u001b[1;33m(\u001b[0m\u001b[0mdata_eda\u001b[0m\u001b[1;33m(\u001b[0m\u001b[0mtest\u001b[0m\u001b[1;33m)\u001b[0m\u001b[1;33m)\u001b[0m\u001b[1;33m\u001b[0m\u001b[1;33m\u001b[0m\u001b[0m\n\u001b[0m",
      "\u001b[1;32m<ipython-input-11-4c5ddba0ccb9>\u001b[0m in \u001b[0;36mdata_eda\u001b[1;34m(df)\u001b[0m\n\u001b[0;32m     27\u001b[0m     \u001b[0melse_city\u001b[0m \u001b[1;33m=\u001b[0m \u001b[1;33m[\u001b[0m\u001b[1;34m'경상남도'\u001b[0m\u001b[1;33m,\u001b[0m \u001b[1;34m'경기도'\u001b[0m\u001b[1;33m,\u001b[0m \u001b[1;34m'전라북도'\u001b[0m\u001b[1;33m,\u001b[0m \u001b[1;34m'강원도'\u001b[0m\u001b[1;33m,\u001b[0m \u001b[1;34m'충청남도'\u001b[0m\u001b[1;33m,\u001b[0m \u001b[1;34m'제주특별자치도'\u001b[0m\u001b[1;33m,\u001b[0m \u001b[1;34m'충청북도'\u001b[0m\u001b[1;33m,\u001b[0m \u001b[1;34m'전라남도'\u001b[0m\u001b[1;33m,\u001b[0m \u001b[1;34m'경상북도'\u001b[0m\u001b[1;33m]\u001b[0m\u001b[1;33m\u001b[0m\u001b[1;33m\u001b[0m\u001b[0m\n\u001b[0;32m     28\u001b[0m \u001b[1;33m\u001b[0m\u001b[0m\n\u001b[1;32m---> 29\u001b[1;33m     \u001b[0mdf\u001b[0m\u001b[1;33m[\u001b[0m\u001b[1;33m[\u001b[0m\u001b[1;34m'주차장_설치기준'\u001b[0m\u001b[1;33m]\u001b[0m\u001b[1;33m]\u001b[0m \u001b[1;33m=\u001b[0m \u001b[0mdf\u001b[0m\u001b[1;33m.\u001b[0m\u001b[0mapply\u001b[0m\u001b[1;33m(\u001b[0m\u001b[1;32mlambda\u001b[0m \u001b[0mx\u001b[0m\u001b[1;33m:\u001b[0m \u001b[0mparking_rule\u001b[0m\u001b[1;33m(\u001b[0m\u001b[0mx\u001b[0m\u001b[1;33m)\u001b[0m\u001b[1;33m,\u001b[0m \u001b[0maxis\u001b[0m \u001b[1;33m=\u001b[0m \u001b[1;36m1\u001b[0m\u001b[1;33m)\u001b[0m\u001b[1;33m\u001b[0m\u001b[1;33m\u001b[0m\u001b[0m\n\u001b[0m\u001b[0;32m     30\u001b[0m     \u001b[0mdf\u001b[0m\u001b[1;33m[\u001b[0m\u001b[1;34m'전용면적별_주차기준_예상등록수'\u001b[0m\u001b[1;33m]\u001b[0m \u001b[1;33m=\u001b[0m \u001b[0mdf\u001b[0m\u001b[1;33m[\u001b[0m\u001b[1;34m'전용면적별세대수'\u001b[0m\u001b[1;33m]\u001b[0m \u001b[1;33m*\u001b[0m \u001b[0mdf\u001b[0m\u001b[1;33m[\u001b[0m\u001b[1;34m'주차장_설치기준'\u001b[0m\u001b[1;33m]\u001b[0m\u001b[1;33m\u001b[0m\u001b[1;33m\u001b[0m\u001b[0m\n\u001b[0;32m     31\u001b[0m     \u001b[0mpred_by_rule\u001b[0m \u001b[1;33m=\u001b[0m \u001b[0mdf\u001b[0m\u001b[1;33m.\u001b[0m\u001b[0mgroupby\u001b[0m\u001b[1;33m(\u001b[0m\u001b[1;33m[\u001b[0m\u001b[1;34m'단지코드'\u001b[0m\u001b[1;33m]\u001b[0m\u001b[1;33m)\u001b[0m\u001b[1;33m[\u001b[0m\u001b[1;34m'전용면적별_주차기준_예상등록수'\u001b[0m\u001b[1;33m]\u001b[0m\u001b[1;33m.\u001b[0m\u001b[0msum\u001b[0m\u001b[1;33m(\u001b[0m\u001b[1;33m)\u001b[0m\u001b[1;33m\u001b[0m\u001b[1;33m\u001b[0m\u001b[0m\n",
      "\u001b[1;32mc:\\programdata\\anaconda3\\envs\\python_env\\lib\\site-packages\\pandas\\core\\frame.py\u001b[0m in \u001b[0;36mapply\u001b[1;34m(self, func, axis, raw, result_type, args, **kwds)\u001b[0m\n\u001b[0;32m   7550\u001b[0m             \u001b[0mkwds\u001b[0m\u001b[1;33m=\u001b[0m\u001b[0mkwds\u001b[0m\u001b[1;33m,\u001b[0m\u001b[1;33m\u001b[0m\u001b[1;33m\u001b[0m\u001b[0m\n\u001b[0;32m   7551\u001b[0m         )\n\u001b[1;32m-> 7552\u001b[1;33m         \u001b[1;32mreturn\u001b[0m \u001b[0mop\u001b[0m\u001b[1;33m.\u001b[0m\u001b[0mget_result\u001b[0m\u001b[1;33m(\u001b[0m\u001b[1;33m)\u001b[0m\u001b[1;33m\u001b[0m\u001b[1;33m\u001b[0m\u001b[0m\n\u001b[0m\u001b[0;32m   7553\u001b[0m \u001b[1;33m\u001b[0m\u001b[0m\n\u001b[0;32m   7554\u001b[0m     \u001b[1;32mdef\u001b[0m \u001b[0mapplymap\u001b[0m\u001b[1;33m(\u001b[0m\u001b[0mself\u001b[0m\u001b[1;33m,\u001b[0m \u001b[0mfunc\u001b[0m\u001b[1;33m)\u001b[0m \u001b[1;33m->\u001b[0m \u001b[1;34m\"DataFrame\"\u001b[0m\u001b[1;33m:\u001b[0m\u001b[1;33m\u001b[0m\u001b[1;33m\u001b[0m\u001b[0m\n",
      "\u001b[1;32mc:\\programdata\\anaconda3\\envs\\python_env\\lib\\site-packages\\pandas\\core\\apply.py\u001b[0m in \u001b[0;36mget_result\u001b[1;34m(self)\u001b[0m\n\u001b[0;32m    183\u001b[0m             \u001b[1;32mreturn\u001b[0m \u001b[0mself\u001b[0m\u001b[1;33m.\u001b[0m\u001b[0mapply_raw\u001b[0m\u001b[1;33m(\u001b[0m\u001b[1;33m)\u001b[0m\u001b[1;33m\u001b[0m\u001b[1;33m\u001b[0m\u001b[0m\n\u001b[0;32m    184\u001b[0m \u001b[1;33m\u001b[0m\u001b[0m\n\u001b[1;32m--> 185\u001b[1;33m         \u001b[1;32mreturn\u001b[0m \u001b[0mself\u001b[0m\u001b[1;33m.\u001b[0m\u001b[0mapply_standard\u001b[0m\u001b[1;33m(\u001b[0m\u001b[1;33m)\u001b[0m\u001b[1;33m\u001b[0m\u001b[1;33m\u001b[0m\u001b[0m\n\u001b[0m\u001b[0;32m    186\u001b[0m \u001b[1;33m\u001b[0m\u001b[0m\n\u001b[0;32m    187\u001b[0m     \u001b[1;32mdef\u001b[0m \u001b[0mapply_empty_result\u001b[0m\u001b[1;33m(\u001b[0m\u001b[0mself\u001b[0m\u001b[1;33m)\u001b[0m\u001b[1;33m:\u001b[0m\u001b[1;33m\u001b[0m\u001b[1;33m\u001b[0m\u001b[0m\n",
      "\u001b[1;32mc:\\programdata\\anaconda3\\envs\\python_env\\lib\\site-packages\\pandas\\core\\apply.py\u001b[0m in \u001b[0;36mapply_standard\u001b[1;34m(self)\u001b[0m\n\u001b[0;32m    274\u001b[0m \u001b[1;33m\u001b[0m\u001b[0m\n\u001b[0;32m    275\u001b[0m     \u001b[1;32mdef\u001b[0m \u001b[0mapply_standard\u001b[0m\u001b[1;33m(\u001b[0m\u001b[0mself\u001b[0m\u001b[1;33m)\u001b[0m\u001b[1;33m:\u001b[0m\u001b[1;33m\u001b[0m\u001b[1;33m\u001b[0m\u001b[0m\n\u001b[1;32m--> 276\u001b[1;33m         \u001b[0mresults\u001b[0m\u001b[1;33m,\u001b[0m \u001b[0mres_index\u001b[0m \u001b[1;33m=\u001b[0m \u001b[0mself\u001b[0m\u001b[1;33m.\u001b[0m\u001b[0mapply_series_generator\u001b[0m\u001b[1;33m(\u001b[0m\u001b[1;33m)\u001b[0m\u001b[1;33m\u001b[0m\u001b[1;33m\u001b[0m\u001b[0m\n\u001b[0m\u001b[0;32m    277\u001b[0m \u001b[1;33m\u001b[0m\u001b[0m\n\u001b[0;32m    278\u001b[0m         \u001b[1;31m# wrap results\u001b[0m\u001b[1;33m\u001b[0m\u001b[1;33m\u001b[0m\u001b[1;33m\u001b[0m\u001b[0m\n",
      "\u001b[1;32mc:\\programdata\\anaconda3\\envs\\python_env\\lib\\site-packages\\pandas\\core\\apply.py\u001b[0m in \u001b[0;36mapply_series_generator\u001b[1;34m(self)\u001b[0m\n\u001b[0;32m    303\u001b[0m                 \u001b[1;32mfor\u001b[0m \u001b[0mi\u001b[0m\u001b[1;33m,\u001b[0m \u001b[0mv\u001b[0m \u001b[1;32min\u001b[0m \u001b[0menumerate\u001b[0m\u001b[1;33m(\u001b[0m\u001b[0mseries_gen\u001b[0m\u001b[1;33m)\u001b[0m\u001b[1;33m:\u001b[0m\u001b[1;33m\u001b[0m\u001b[1;33m\u001b[0m\u001b[0m\n\u001b[0;32m    304\u001b[0m                     \u001b[1;31m# ignore SettingWithCopy here in case the user mutates\u001b[0m\u001b[1;33m\u001b[0m\u001b[1;33m\u001b[0m\u001b[1;33m\u001b[0m\u001b[0m\n\u001b[1;32m--> 305\u001b[1;33m                     \u001b[0mresults\u001b[0m\u001b[1;33m[\u001b[0m\u001b[0mi\u001b[0m\u001b[1;33m]\u001b[0m \u001b[1;33m=\u001b[0m \u001b[0mself\u001b[0m\u001b[1;33m.\u001b[0m\u001b[0mf\u001b[0m\u001b[1;33m(\u001b[0m\u001b[0mv\u001b[0m\u001b[1;33m)\u001b[0m\u001b[1;33m\u001b[0m\u001b[1;33m\u001b[0m\u001b[0m\n\u001b[0m\u001b[0;32m    306\u001b[0m                     \u001b[1;32mif\u001b[0m \u001b[0misinstance\u001b[0m\u001b[1;33m(\u001b[0m\u001b[0mresults\u001b[0m\u001b[1;33m[\u001b[0m\u001b[0mi\u001b[0m\u001b[1;33m]\u001b[0m\u001b[1;33m,\u001b[0m \u001b[0mABCSeries\u001b[0m\u001b[1;33m)\u001b[0m\u001b[1;33m:\u001b[0m\u001b[1;33m\u001b[0m\u001b[1;33m\u001b[0m\u001b[0m\n\u001b[0;32m    307\u001b[0m                         \u001b[1;31m# If we have a view on v, we need to make a copy because\u001b[0m\u001b[1;33m\u001b[0m\u001b[1;33m\u001b[0m\u001b[1;33m\u001b[0m\u001b[0m\n",
      "\u001b[1;32m<ipython-input-11-4c5ddba0ccb9>\u001b[0m in \u001b[0;36m<lambda>\u001b[1;34m(x)\u001b[0m\n\u001b[0;32m     27\u001b[0m     \u001b[0melse_city\u001b[0m \u001b[1;33m=\u001b[0m \u001b[1;33m[\u001b[0m\u001b[1;34m'경상남도'\u001b[0m\u001b[1;33m,\u001b[0m \u001b[1;34m'경기도'\u001b[0m\u001b[1;33m,\u001b[0m \u001b[1;34m'전라북도'\u001b[0m\u001b[1;33m,\u001b[0m \u001b[1;34m'강원도'\u001b[0m\u001b[1;33m,\u001b[0m \u001b[1;34m'충청남도'\u001b[0m\u001b[1;33m,\u001b[0m \u001b[1;34m'제주특별자치도'\u001b[0m\u001b[1;33m,\u001b[0m \u001b[1;34m'충청북도'\u001b[0m\u001b[1;33m,\u001b[0m \u001b[1;34m'전라남도'\u001b[0m\u001b[1;33m,\u001b[0m \u001b[1;34m'경상북도'\u001b[0m\u001b[1;33m]\u001b[0m\u001b[1;33m\u001b[0m\u001b[1;33m\u001b[0m\u001b[0m\n\u001b[0;32m     28\u001b[0m \u001b[1;33m\u001b[0m\u001b[0m\n\u001b[1;32m---> 29\u001b[1;33m     \u001b[0mdf\u001b[0m\u001b[1;33m[\u001b[0m\u001b[1;33m[\u001b[0m\u001b[1;34m'주차장_설치기준'\u001b[0m\u001b[1;33m]\u001b[0m\u001b[1;33m]\u001b[0m \u001b[1;33m=\u001b[0m \u001b[0mdf\u001b[0m\u001b[1;33m.\u001b[0m\u001b[0mapply\u001b[0m\u001b[1;33m(\u001b[0m\u001b[1;32mlambda\u001b[0m \u001b[0mx\u001b[0m\u001b[1;33m:\u001b[0m \u001b[0mparking_rule\u001b[0m\u001b[1;33m(\u001b[0m\u001b[0mx\u001b[0m\u001b[1;33m)\u001b[0m\u001b[1;33m,\u001b[0m \u001b[0maxis\u001b[0m \u001b[1;33m=\u001b[0m \u001b[1;36m1\u001b[0m\u001b[1;33m)\u001b[0m\u001b[1;33m\u001b[0m\u001b[1;33m\u001b[0m\u001b[0m\n\u001b[0m\u001b[0;32m     30\u001b[0m     \u001b[0mdf\u001b[0m\u001b[1;33m[\u001b[0m\u001b[1;34m'전용면적별_주차기준_예상등록수'\u001b[0m\u001b[1;33m]\u001b[0m \u001b[1;33m=\u001b[0m \u001b[0mdf\u001b[0m\u001b[1;33m[\u001b[0m\u001b[1;34m'전용면적별세대수'\u001b[0m\u001b[1;33m]\u001b[0m \u001b[1;33m*\u001b[0m \u001b[0mdf\u001b[0m\u001b[1;33m[\u001b[0m\u001b[1;34m'주차장_설치기준'\u001b[0m\u001b[1;33m]\u001b[0m\u001b[1;33m\u001b[0m\u001b[1;33m\u001b[0m\u001b[0m\n\u001b[0;32m     31\u001b[0m     \u001b[0mpred_by_rule\u001b[0m \u001b[1;33m=\u001b[0m \u001b[0mdf\u001b[0m\u001b[1;33m.\u001b[0m\u001b[0mgroupby\u001b[0m\u001b[1;33m(\u001b[0m\u001b[1;33m[\u001b[0m\u001b[1;34m'단지코드'\u001b[0m\u001b[1;33m]\u001b[0m\u001b[1;33m)\u001b[0m\u001b[1;33m[\u001b[0m\u001b[1;34m'전용면적별_주차기준_예상등록수'\u001b[0m\u001b[1;33m]\u001b[0m\u001b[1;33m.\u001b[0m\u001b[0msum\u001b[0m\u001b[1;33m(\u001b[0m\u001b[1;33m)\u001b[0m\u001b[1;33m\u001b[0m\u001b[1;33m\u001b[0m\u001b[0m\n",
      "\u001b[1;31mNameError\u001b[0m: name 'parking_rule' is not defined"
     ]
    }
   ],
   "source": [
    "pred = model.predict(data_eda(test))"
   ]
  },
  {
   "cell_type": "code",
   "execution_count": null,
   "id": "dbdd690a-334f-45ce-940f-343c34c54a5a",
   "metadata": {},
   "outputs": [],
   "source": []
  }
 ],
 "metadata": {
  "kernelspec": {
   "display_name": "Python 3",
   "language": "python",
   "name": "python3"
  },
  "language_info": {
   "codemirror_mode": {
    "name": "ipython",
    "version": 3
   },
   "file_extension": ".py",
   "mimetype": "text/x-python",
   "name": "python",
   "nbconvert_exporter": "python",
   "pygments_lexer": "ipython3",
   "version": "3.6.13"
  }
 },
 "nbformat": 4,
 "nbformat_minor": 5
}
